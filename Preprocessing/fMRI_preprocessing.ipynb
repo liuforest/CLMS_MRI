{
 "cells": [
  {
   "cell_type": "markdown",
   "metadata": {},
   "source": [
    "# Functional MRI Preprocessing Pipeline"
   ]
  },
  {
   "cell_type": "code",
   "execution_count": 3,
   "metadata": {},
   "outputs": [],
   "source": [
    "# import required packages\n"
   ]
  },
  {
   "cell_type": "markdown",
   "metadata": {},
   "source": [
    "## Set up Directory Structure"
   ]
  },
  {
   "cell_type": "code",
   "execution_count": 1,
   "metadata": {},
   "outputs": [],
   "source": [
    "# main directory for raw 7 T data\n",
    "raw_data_dir = '/media/forest/wd_1/data_CLMS/0_7T_RAW'\n",
    "\n",
    "# main directory for preprocessing fmri data\n",
    "fmri_dir = '/media/forest/wd_1/data_CLMS/functional'\n",
    "\n",
    "# main directory for preprocessing anatomical\n",
    "anat_dir = '/media/forest/wd_1/data_CLMS/anatomical'"
   ]
  },
  {
   "cell_type": "markdown",
   "metadata": {},
   "source": [
    "create directory to store the raw minc files"
   ]
  },
  {
   "cell_type": "code",
   "execution_count": null,
   "metadata": {},
   "outputs": [],
   "source": [
    "# create directory to store the raw minc files\n"
   ]
  },
  {
   "cell_type": "code",
   "execution_count": null,
   "metadata": {},
   "outputs": [],
   "source": [
    "# create new directory & convert minc to nifti\n"
   ]
  },
  {
   "cell_type": "markdown",
   "metadata": {},
   "source": [
    "## Part 1: Prepare Functional Data"
   ]
  },
  {
   "cell_type": "markdown",
   "metadata": {},
   "source": [
    "via: https://en.wikibooks.org/wiki/Neuroimaging_Data_Processing/Processing/Steps/Slice_Timing\n",
    "\n",
    "- first steps: \n",
    "    - realignment\n",
    "    - motion correction\n",
    "    - slice timing correction via temporal derivatives\n",
    "- notes: \n",
    "    - data characteristics: short TR, interleaved slice order, potentially severe head motion among SPMS group\n",
    "    - slice acquisition order was Siemens interleaved\n",
    "    - slice timing correction method chosen based on above characteristics of our data"
   ]
  },
  {
   "cell_type": "code",
   "execution_count": null,
   "metadata": {},
   "outputs": [],
   "source": [
    "# 1.1 realignment to middle volume (#240)"
   ]
  },
  {
   "cell_type": "code",
   "execution_count": null,
   "metadata": {},
   "outputs": [],
   "source": [
    "# 1.2 motion correction & identifying outliers"
   ]
  },
  {
   "cell_type": "code",
   "execution_count": null,
   "metadata": {},
   "outputs": [],
   "source": [
    "# 1.3 slice timing correction via temporal derivatives"
   ]
  },
  {
   "cell_type": "markdown",
   "metadata": {},
   "source": [
    "## Part 2: Prepare Anatomical Data\n",
    "- part 1: brain extraction via FSL BET\n",
    "- part 2: registration of high-res anatomical data to template\n",
    "- transformation matrix is then used on functional data for final registration step"
   ]
  },
  {
   "cell_type": "code",
   "execution_count": null,
   "metadata": {},
   "outputs": [],
   "source": []
  },
  {
   "cell_type": "code",
   "execution_count": null,
   "metadata": {},
   "outputs": [],
   "source": [
    "# preprocessing step: "
   ]
  },
  {
   "cell_type": "code",
   "execution_count": null,
   "metadata": {},
   "outputs": [],
   "source": [
    "# preprocessing step: "
   ]
  },
  {
   "cell_type": "code",
   "execution_count": null,
   "metadata": {},
   "outputs": [],
   "source": [
    "# preprocessing step: "
   ]
  },
  {
   "cell_type": "markdown",
   "metadata": {},
   "source": [
    "## Part 3: Registration & Normalization\n",
    "- registration of fmri to high resolution t1w mp2rage anatomical data via boundary-based registration\n",
    "- followed by normalization to template (MNI152 2mm)"
   ]
  },
  {
   "cell_type": "code",
   "execution_count": null,
   "metadata": {},
   "outputs": [],
   "source": []
  },
  {
   "cell_type": "code",
   "execution_count": null,
   "metadata": {},
   "outputs": [],
   "source": []
  },
  {
   "cell_type": "code",
   "execution_count": null,
   "metadata": {},
   "outputs": [],
   "source": []
  },
  {
   "cell_type": "markdown",
   "metadata": {},
   "source": [
    "## Part 4: Smoothing"
   ]
  },
  {
   "cell_type": "markdown",
   "metadata": {},
   "source": []
  }
 ],
 "metadata": {
  "interpreter": {
   "hash": "930b200f1af79f20b3a875e38b61a82feb6b2752947827a756d2daf92a053478"
  },
  "kernelspec": {
   "display_name": "Python 3.9.7 ('MRI_env')",
   "language": "python",
   "name": "python3"
  },
  "language_info": {
   "codemirror_mode": {
    "name": "ipython",
    "version": 3
   },
   "file_extension": ".py",
   "mimetype": "text/x-python",
   "name": "python",
   "nbconvert_exporter": "python",
   "pygments_lexer": "ipython3",
   "version": "3.9.7"
  },
  "orig_nbformat": 4
 },
 "nbformat": 4,
 "nbformat_minor": 2
}
