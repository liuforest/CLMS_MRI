{
 "cells": [
  {
   "cell_type": "markdown",
   "metadata": {},
   "source": [
    "# Functional MRI Preprocessing Pipeline"
   ]
  },
  {
   "cell_type": "code",
   "execution_count": 36,
   "metadata": {},
   "outputs": [],
   "source": [
    "# import required packages\n",
    "import os\n",
    "import numpy as np\n",
    "import pandas as pd"
   ]
  },
  {
   "cell_type": "code",
   "execution_count": 37,
   "metadata": {},
   "outputs": [],
   "source": [
    "# function for viewing full dataframes\n",
    "\n",
    "def print_full_df(x):\n",
    "    pd.set_option('display.max_rows', None)\n",
    "    pd.set_option('display.max_columns', None)\n",
    "    pd.set_option('display.width', 2000)\n",
    "    pd.set_option('display.float_format', '{:20,.2f}'.format)\n",
    "    pd.set_option('display.max_colwidth', None)\n",
    "    print(x)\n",
    "    pd.reset_option('display.max_rows')\n",
    "    pd.reset_option('display.max_columns')\n",
    "    pd.reset_option('display.width')\n",
    "    pd.reset_option('display.float_format')\n",
    "    pd.reset_option('display.max_colwidth')\n"
   ]
  },
  {
   "cell_type": "markdown",
   "metadata": {},
   "source": [
    "## Set up Directory Structure"
   ]
  },
  {
   "cell_type": "code",
   "execution_count": 10,
   "metadata": {},
   "outputs": [],
   "source": [
    "# main directory for raw 7 T data (READ ONLY)\n",
    "raw_data_dir = '/media/forest/wd_1/data_CLMS/0_7T_RAW'\n",
    "\n",
    "# main directory for preprocessing fmri data\n",
    "fmri_dir = '/media/forest/wd_1/data_CLMS/functional'\n",
    "\n",
    "# main directory for preprocessing anatomical\n",
    "anat_dir = '/media/forest/wd_1/data_CLMS/anatomical'"
   ]
  },
  {
   "cell_type": "markdown",
   "metadata": {},
   "source": [
    "Create directory to store the raw minc files. "
   ]
  },
  {
   "cell_type": "code",
   "execution_count": 45,
   "metadata": {},
   "outputs": [
    {
     "name": "stdout",
     "output_type": "stream",
     "text": [
      "     subject_id                                                                                                mnc filepath orig\n",
      "0   bbb_052_m00           /media/forest/wd_1/data_CLMS/0_7T_RAW/bbb_052/m00/CLMS-LONDON-7_002-LON-7_bbb_052_m00_fmri-FA40.mnc.gz\n",
      "1   aab_026_m00           /media/forest/wd_1/data_CLMS/0_7T_RAW/aab_026/m00/CLMS-LONDON-7_002-LON-7_aab_026_m00_fmri-FA40.mnc.gz\n",
      "2   aac_027_m00           /media/forest/wd_1/data_CLMS/0_7T_RAW/aac_027/m00/CLMS-LONDON-7_002-LON-7_aac_027_m00_fmri-FA40.mnc.gz\n",
      "3   aac_027_m24           /media/forest/wd_1/data_CLMS/0_7T_RAW/aac_027/m24/CLMS-LONDON-7_002-LON-7_aac_027_m24_fmri-FA40.mnc.gz\n",
      "4   aad_028_m00           /media/forest/wd_1/data_CLMS/0_7T_RAW/aad_028/m00/CLMS-LONDON-7_002-LON-7_aad_028_m00_fmri-FA40.mnc.gz\n",
      "5   aad_028_m24           /media/forest/wd_1/data_CLMS/0_7T_RAW/aad_028/m24/CLMS-LONDON-7_002-LON-7_aad_028_m24_fmri-FA40.mnc.gz\n",
      "6   aae_029_m00           /media/forest/wd_1/data_CLMS/0_7T_RAW/aae_029/m00/CLMS-LONDON-7_002-LON-7_aae_029_m00_fmri-FA40.mnc.gz\n",
      "7   aaf_030_m00           /media/forest/wd_1/data_CLMS/0_7T_RAW/aaf_030/m00/CLMS-LONDON-7_002-LON-7_aaf_030_m00_fmri-FA40.mnc.gz\n",
      "8   aaf_030_m24           /media/forest/wd_1/data_CLMS/0_7T_RAW/aaf_030/m24/CLMS-LONDON-7_002-LON-7_aaf_030_m24_fmri-FA40.mnc.gz\n",
      "9   aah_032_m00           /media/forest/wd_1/data_CLMS/0_7T_RAW/aah_032/m00/CLMS-LONDON-7_002-LON-7_aah_032_m00_fmri-FA40.mnc.gz\n",
      "10  aah_032_m24           /media/forest/wd_1/data_CLMS/0_7T_RAW/aah_032/m24/CLMS-LONDON-7_002-LON-7_aah_032_m24_fmri-FA40.mnc.gz\n",
      "11  aai_033_m00           /media/forest/wd_1/data_CLMS/0_7T_RAW/aai_033/m00/CLMS-LONDON-7_002-LON-7_aai_033_m00_fmri-FA40.mnc.gz\n",
      "12  aai_033_m24           /media/forest/wd_1/data_CLMS/0_7T_RAW/aai_033/m24/CLMS-LONDON-7_002-LON-7_aai_033_m24_fmri-FA40.mnc.gz\n",
      "13  aaj_034_m00           /media/forest/wd_1/data_CLMS/0_7T_RAW/aaj_034/m00/CLMS-LONDON-7_002-LON-7_aaj_034_m00_fmri-FA40.mnc.gz\n",
      "14  aaj_034_m24           /media/forest/wd_1/data_CLMS/0_7T_RAW/aaj_034/m24/CLMS-LONDON-7_002-LON-7_aaj_034_m24_fmri-FA40.mnc.gz\n",
      "15  aal_036_m00           /media/forest/wd_1/data_CLMS/0_7T_RAW/aal_036/m00/CLMS-LONDON-7_002-LON-7_aal_036_m00_fmri-FA40.mnc.gz\n",
      "16  aal_036_m24           /media/forest/wd_1/data_CLMS/0_7T_RAW/aal_036/m24/CLMS-LONDON-7_002-LON-7_aal_036_m24_fmri-FA40.mnc.gz\n",
      "17  aam_037_m00           /media/forest/wd_1/data_CLMS/0_7T_RAW/aam_037/m00/CLMS-LONDON-7_002-LON-7_aam_037_m00_fmri-FA40.mnc.gz\n",
      "18  aao_039_m00           /media/forest/wd_1/data_CLMS/0_7T_RAW/aao_039/m00/CLMS-LONDON-7_002-LON-7_aao_039_m00_fmri-FA40.mnc.gz\n",
      "19  aao_039_m24           /media/forest/wd_1/data_CLMS/0_7T_RAW/aao_039/m24/CLMS-LONDON-7_002-LON-7_aao_039_m24_fmri-FA40.mnc.gz\n",
      "20  aar_042_m00           /media/forest/wd_1/data_CLMS/0_7T_RAW/aar_042/m00/CLMS-LONDON-7_002-LON-7_aar_042_m00_fmri-FA40.mnc.gz\n",
      "21  aas_043_m00           /media/forest/wd_1/data_CLMS/0_7T_RAW/aas_043/m00/CLMS-LONDON-7_002-LON-7_aas_043_m00_fmri-FA40.mnc.gz\n",
      "22  aaw_047_m00           /media/forest/wd_1/data_CLMS/0_7T_RAW/aaw_047/m00/CLMS-LONDON-7_002-LON-7_aaw_047_m00_fmri-FA40.mnc.gz\n",
      "23  aay_049_m00           /media/forest/wd_1/data_CLMS/0_7T_RAW/aay_049/m00/CLMS-LONDON-7_002-LON-7_aay_049_m00_fmri-FA40.mnc.gz\n",
      "24  abc_001_m24           /media/forest/wd_1/data_CLMS/0_7T_RAW/abc_001/m24/CLMS-LONDON-7_002-LON-7_abc_001_m24_fmri-FA40.mnc.gz\n",
      "25  abc_001_m24    /media/forest/wd_1/data_CLMS/0_7T_RAW/abc_001/m24_delete/CLMS-LONDON-7_002-LON-7_abc_001_m24_fmri-FA40.mnc.gz\n",
      "26  bbc_053_m00           /media/forest/wd_1/data_CLMS/0_7T_RAW/bbc_053/m00/CLMS-LONDON-7_002-LON-7_bbc_053_m00_fmri-FA40.mnc.gz\n",
      "27  bbd_054_m00           /media/forest/wd_1/data_CLMS/0_7T_RAW/bbd_054/m00/CLMS-LONDON-7_002-LON-7_bbd_054_m00_fmri-FA40.mnc.gz\n",
      "28  bbe_055_m00           /media/forest/wd_1/data_CLMS/0_7T_RAW/bbe_055/m00/CLMS-LONDON-7_002-LON-7_bbe_055_m00_fmri-FA40.mnc.gz\n",
      "29  bbf_056_m00           /media/forest/wd_1/data_CLMS/0_7T_RAW/bbf_056/m00/CLMS-LONDON-7_002-LON-7_bbf_056_m00_fmri-FA40.mnc.gz\n",
      "30  bbi_059_m00           /media/forest/wd_1/data_CLMS/0_7T_RAW/bbi_059/m00/CLMS-LONDON-7_002-LON-7_bbi_059_m00_fmri-FA40.mnc.gz\n",
      "31  bbk_061_m00           /media/forest/wd_1/data_CLMS/0_7T_RAW/bbk_061/m00/CLMS-LONDON-7_002-LON-7_bbk_061_m00_fmri-FA40.mnc.gz\n",
      "32  bbl_062_m00           /media/forest/wd_1/data_CLMS/0_7T_RAW/bbl_062/m00/CLMS-LONDON-7_002-LON-7_bbl_062_m00_fmri-FA40.mnc.gz\n",
      "33  bcd_002_m24           /media/forest/wd_1/data_CLMS/0_7T_RAW/bcd_002/m24/CLMS-LONDON-7_002-LON-7_bcd_002_m24_fmri-FA40.mnc.gz\n",
      "34  cde_003_m24           /media/forest/wd_1/data_CLMS/0_7T_RAW/cde_003/m24/CLMS-LONDON-7_002-LON-7_cde_003_m24_fmri-FA40.mnc.gz\n",
      "35  def_004_m00           /media/forest/wd_1/data_CLMS/0_7T_RAW/def_004/m00/CLMS-LONDON-7_002-LON-7_def_004_m00_fmri-FA40.mnc.gz\n",
      "36  def_004_m24           /media/forest/wd_1/data_CLMS/0_7T_RAW/def_004/m24/CLMS-LONDON-7_002-LON-7_def_004_m24_fmri-FA40.mnc.gz\n",
      "37  efg_005_m00           /media/forest/wd_1/data_CLMS/0_7T_RAW/efg_005/m00/CLMS-LONDON-7_002-LON-7_efg_005_m00_fmri-FA40.mnc.gz\n",
      "38  efg_005_m24           /media/forest/wd_1/data_CLMS/0_7T_RAW/efg_005/m24/CLMS-LONDON-7_002-LON-7_efg_005_m24_fmri-FA40.mnc.gz\n",
      "39  fgh_006_m00           /media/forest/wd_1/data_CLMS/0_7T_RAW/fgh_006/m00/CLMS-LONDON-7_002-LON-7_fgh_006_m00_fmri-FA40.mnc.gz\n",
      "40  ghi_007_m00           /media/forest/wd_1/data_CLMS/0_7T_RAW/ghi_007/m00/CLMS-LONDON-7_002-LON-7_ghi_007_m00_fmri-FA40.mnc.gz\n",
      "41  ghi_007_m24           /media/forest/wd_1/data_CLMS/0_7T_RAW/ghi_007/m24/CLMS-LONDON-7_002-LON-7_ghi_007_m24_fmri-FA40.mnc.gz\n",
      "42  hij_008_m00           /media/forest/wd_1/data_CLMS/0_7T_RAW/hij_008/m00/CLMS-LONDON-7_002-LON-7_hij_008_m00_fmri-FA40.mnc.gz\n",
      "43  ijk_009_m24           /media/forest/wd_1/data_CLMS/0_7T_RAW/ijk_009/m24/CLMS-LONDON-7_002-LON-7_ijk_009_m24_fmri-FA40.mnc.gz\n",
      "44  klm_011_m24  /media/forest/wd_1/data_CLMS/0_7T_RAW/klm_011/m24/CLMS-LONDON-7_002-LON-7_klm_011_m24_fmri-FA40-repeat-1.mnc.gz\n",
      "45  klm_011_m24           /media/forest/wd_1/data_CLMS/0_7T_RAW/klm_011/m24/CLMS-LONDON-7_002-LON-7_klm_011_m24_fmri-FA40.mnc.gz\n",
      "46  lmn_012_m00           /media/forest/wd_1/data_CLMS/0_7T_RAW/lmn_012/m00/CLMS-LONDON-7_002-LON-7_lmn_012_m00_fmri-FA40.mnc.gz\n",
      "47  lmn_012_m24           /media/forest/wd_1/data_CLMS/0_7T_RAW/lmn_012/m24/CLMS-LONDON-7_002-LON-7_lmn_012_m24_fmri-FA40.mnc.gz\n",
      "48  mno_013_m00           /media/forest/wd_1/data_CLMS/0_7T_RAW/mno_013/m00/CLMS-LONDON-7_002-LON-7_mno_013_m00_fmri-FA40.mnc.gz\n",
      "49  opq_015_m00           /media/forest/wd_1/data_CLMS/0_7T_RAW/opq_015/m00/CLMS-LONDON-7_002-LON-7_opq_015_m00_fmri-FA40.mnc.gz\n",
      "50  opq_015_m24           /media/forest/wd_1/data_CLMS/0_7T_RAW/opq_015/m24/CLMS-LONDON-7_002-LON-7_opq_015_m24_fmri-FA40.mnc.gz\n",
      "51  pqr_016_m00           /media/forest/wd_1/data_CLMS/0_7T_RAW/pqr_016/m00/CLMS-LONDON-7_002-LON-7_pqr_016_m00_fmri-FA40.mnc.gz\n",
      "52  pqr_016_m24           /media/forest/wd_1/data_CLMS/0_7T_RAW/pqr_016/m24/CLMS-LONDON-7_002-LON-7_pqr_016_m24_fmri-FA40.mnc.gz\n",
      "53  rst_018_m00           /media/forest/wd_1/data_CLMS/0_7T_RAW/rst_018/m00/CLMS-LONDON-7_002-LON-7_rst_018_m00_fmri-FA40.mnc.gz\n",
      "54  rst_018_m24           /media/forest/wd_1/data_CLMS/0_7T_RAW/rst_018/m24/CLMS-LONDON-7_002-LON-7_rst_018_m24_fmri-FA40.mnc.gz\n",
      "55  stu_019_m00           /media/forest/wd_1/data_CLMS/0_7T_RAW/stu_019/m00/CLMS-LONDON-7_002-LON-7_stu_019_m00_fmri-FA40.mnc.gz\n",
      "56  stu_019_m24           /media/forest/wd_1/data_CLMS/0_7T_RAW/stu_019/m24/CLMS-LONDON-7_002-LON-7_stu_019_m24_fmri-FA40.mnc.gz\n",
      "57  tuv_020_m00           /media/forest/wd_1/data_CLMS/0_7T_RAW/tuv_020/m00/CLMS-LONDON-7_002-LON-7_tuv_020_m00_fmri-FA40.mnc.gz\n",
      "58  tuv_020_m24           /media/forest/wd_1/data_CLMS/0_7T_RAW/tuv_020/m24/CLMS-LONDON-7_002-LON-7_tuv_020_m24_fmri-FA40.mnc.gz\n",
      "59  uvw_021_m00           /media/forest/wd_1/data_CLMS/0_7T_RAW/uvw_021/m00/CLMS-LONDON-7_002-LON-7_uvw_021_m00_fmri-FA40.mnc.gz\n",
      "60  uvw_021_m24           /media/forest/wd_1/data_CLMS/0_7T_RAW/uvw_021/m24/CLMS-LONDON-7_002-LON-7_uvw_021_m24_fmri-FA40.mnc.gz\n",
      "61  vwx_022_m00           /media/forest/wd_1/data_CLMS/0_7T_RAW/vwx_022/m00/CLMS-LONDON-7_002-LON-7_vwx_022_m00_fmri-FA40.mnc.gz\n",
      "62  wxy_023_m00           /media/forest/wd_1/data_CLMS/0_7T_RAW/wxy_023/m00/CLMS-LONDON-7_002-LON-7_wxy_023_m00_fmri-FA40.mnc.gz\n",
      "63  xyz_024_m00           /media/forest/wd_1/data_CLMS/0_7T_RAW/xyz_024/m00/CLMS-LONDON-7_002-LON-7_xyz_024_m00_fmri-FA40.mnc.gz\n",
      "64  xyz_024_m24           /media/forest/wd_1/data_CLMS/0_7T_RAW/xyz_024/m24/CLMS-LONDON-7_002-LON-7_xyz_024_m24_fmri-FA40.mnc.gz\n"
     ]
    }
   ],
   "source": [
    "# create directory to copy over raw minc files\n",
    "\n",
    "# find all files in raw_data_dir containing string \"fmri-FA40\"\n",
    "fp_fmri_minc = !find {raw_data_dir} ~+ -type f -name \"*fmri-FA40*\"\n",
    "\n",
    "# create dataframe to store the list of file paths\n",
    "df_preproc_filepaths = pd.DataFrame({'subject_id':\"\", 'mnc filepath orig':fp_fmri_minc})\n",
    "\n",
    "# fill in subject ids from mnc filepaths, where ids are formatted w/regex\n",
    "df_preproc_filepaths['subject_id'] = df_preproc_filepaths['mnc filepath orig'].str.extract(r'(\\w{3}_\\d{3}_m\\d{2})')\n",
    "\n",
    "print_full_df(df_preproc_filepaths)"
   ]
  },
  {
   "cell_type": "code",
   "execution_count": 46,
   "metadata": {},
   "outputs": [
    {
     "name": "stdout",
     "output_type": "stream",
     "text": [
      "    index   subject_id                                                                                                mnc filepath orig\n",
      "0       0  bbb_052_m00           /media/forest/wd_1/data_CLMS/0_7T_RAW/bbb_052/m00/CLMS-LONDON-7_002-LON-7_bbb_052_m00_fmri-FA40.mnc.gz\n",
      "1       1  aab_026_m00           /media/forest/wd_1/data_CLMS/0_7T_RAW/aab_026/m00/CLMS-LONDON-7_002-LON-7_aab_026_m00_fmri-FA40.mnc.gz\n",
      "2       2  aac_027_m00           /media/forest/wd_1/data_CLMS/0_7T_RAW/aac_027/m00/CLMS-LONDON-7_002-LON-7_aac_027_m00_fmri-FA40.mnc.gz\n",
      "3       3  aac_027_m24           /media/forest/wd_1/data_CLMS/0_7T_RAW/aac_027/m24/CLMS-LONDON-7_002-LON-7_aac_027_m24_fmri-FA40.mnc.gz\n",
      "4       4  aad_028_m00           /media/forest/wd_1/data_CLMS/0_7T_RAW/aad_028/m00/CLMS-LONDON-7_002-LON-7_aad_028_m00_fmri-FA40.mnc.gz\n",
      "5       5  aad_028_m24           /media/forest/wd_1/data_CLMS/0_7T_RAW/aad_028/m24/CLMS-LONDON-7_002-LON-7_aad_028_m24_fmri-FA40.mnc.gz\n",
      "6       6  aae_029_m00           /media/forest/wd_1/data_CLMS/0_7T_RAW/aae_029/m00/CLMS-LONDON-7_002-LON-7_aae_029_m00_fmri-FA40.mnc.gz\n",
      "7       7  aaf_030_m00           /media/forest/wd_1/data_CLMS/0_7T_RAW/aaf_030/m00/CLMS-LONDON-7_002-LON-7_aaf_030_m00_fmri-FA40.mnc.gz\n",
      "8       8  aaf_030_m24           /media/forest/wd_1/data_CLMS/0_7T_RAW/aaf_030/m24/CLMS-LONDON-7_002-LON-7_aaf_030_m24_fmri-FA40.mnc.gz\n",
      "9       9  aah_032_m00           /media/forest/wd_1/data_CLMS/0_7T_RAW/aah_032/m00/CLMS-LONDON-7_002-LON-7_aah_032_m00_fmri-FA40.mnc.gz\n",
      "10     10  aah_032_m24           /media/forest/wd_1/data_CLMS/0_7T_RAW/aah_032/m24/CLMS-LONDON-7_002-LON-7_aah_032_m24_fmri-FA40.mnc.gz\n",
      "11     11  aai_033_m00           /media/forest/wd_1/data_CLMS/0_7T_RAW/aai_033/m00/CLMS-LONDON-7_002-LON-7_aai_033_m00_fmri-FA40.mnc.gz\n",
      "12     12  aai_033_m24           /media/forest/wd_1/data_CLMS/0_7T_RAW/aai_033/m24/CLMS-LONDON-7_002-LON-7_aai_033_m24_fmri-FA40.mnc.gz\n",
      "13     13  aaj_034_m00           /media/forest/wd_1/data_CLMS/0_7T_RAW/aaj_034/m00/CLMS-LONDON-7_002-LON-7_aaj_034_m00_fmri-FA40.mnc.gz\n",
      "14     14  aaj_034_m24           /media/forest/wd_1/data_CLMS/0_7T_RAW/aaj_034/m24/CLMS-LONDON-7_002-LON-7_aaj_034_m24_fmri-FA40.mnc.gz\n",
      "15     15  aal_036_m00           /media/forest/wd_1/data_CLMS/0_7T_RAW/aal_036/m00/CLMS-LONDON-7_002-LON-7_aal_036_m00_fmri-FA40.mnc.gz\n",
      "16     16  aal_036_m24           /media/forest/wd_1/data_CLMS/0_7T_RAW/aal_036/m24/CLMS-LONDON-7_002-LON-7_aal_036_m24_fmri-FA40.mnc.gz\n",
      "17     17  aam_037_m00           /media/forest/wd_1/data_CLMS/0_7T_RAW/aam_037/m00/CLMS-LONDON-7_002-LON-7_aam_037_m00_fmri-FA40.mnc.gz\n",
      "18     18  aao_039_m00           /media/forest/wd_1/data_CLMS/0_7T_RAW/aao_039/m00/CLMS-LONDON-7_002-LON-7_aao_039_m00_fmri-FA40.mnc.gz\n",
      "19     19  aao_039_m24           /media/forest/wd_1/data_CLMS/0_7T_RAW/aao_039/m24/CLMS-LONDON-7_002-LON-7_aao_039_m24_fmri-FA40.mnc.gz\n",
      "20     20  aar_042_m00           /media/forest/wd_1/data_CLMS/0_7T_RAW/aar_042/m00/CLMS-LONDON-7_002-LON-7_aar_042_m00_fmri-FA40.mnc.gz\n",
      "21     21  aas_043_m00           /media/forest/wd_1/data_CLMS/0_7T_RAW/aas_043/m00/CLMS-LONDON-7_002-LON-7_aas_043_m00_fmri-FA40.mnc.gz\n",
      "22     22  aaw_047_m00           /media/forest/wd_1/data_CLMS/0_7T_RAW/aaw_047/m00/CLMS-LONDON-7_002-LON-7_aaw_047_m00_fmri-FA40.mnc.gz\n",
      "23     23  aay_049_m00           /media/forest/wd_1/data_CLMS/0_7T_RAW/aay_049/m00/CLMS-LONDON-7_002-LON-7_aay_049_m00_fmri-FA40.mnc.gz\n",
      "24     24  abc_001_m24           /media/forest/wd_1/data_CLMS/0_7T_RAW/abc_001/m24/CLMS-LONDON-7_002-LON-7_abc_001_m24_fmri-FA40.mnc.gz\n",
      "25     26  bbc_053_m00           /media/forest/wd_1/data_CLMS/0_7T_RAW/bbc_053/m00/CLMS-LONDON-7_002-LON-7_bbc_053_m00_fmri-FA40.mnc.gz\n",
      "26     27  bbd_054_m00           /media/forest/wd_1/data_CLMS/0_7T_RAW/bbd_054/m00/CLMS-LONDON-7_002-LON-7_bbd_054_m00_fmri-FA40.mnc.gz\n",
      "27     28  bbe_055_m00           /media/forest/wd_1/data_CLMS/0_7T_RAW/bbe_055/m00/CLMS-LONDON-7_002-LON-7_bbe_055_m00_fmri-FA40.mnc.gz\n",
      "28     29  bbf_056_m00           /media/forest/wd_1/data_CLMS/0_7T_RAW/bbf_056/m00/CLMS-LONDON-7_002-LON-7_bbf_056_m00_fmri-FA40.mnc.gz\n",
      "29     30  bbi_059_m00           /media/forest/wd_1/data_CLMS/0_7T_RAW/bbi_059/m00/CLMS-LONDON-7_002-LON-7_bbi_059_m00_fmri-FA40.mnc.gz\n",
      "30     31  bbk_061_m00           /media/forest/wd_1/data_CLMS/0_7T_RAW/bbk_061/m00/CLMS-LONDON-7_002-LON-7_bbk_061_m00_fmri-FA40.mnc.gz\n",
      "31     32  bbl_062_m00           /media/forest/wd_1/data_CLMS/0_7T_RAW/bbl_062/m00/CLMS-LONDON-7_002-LON-7_bbl_062_m00_fmri-FA40.mnc.gz\n",
      "32     33  bcd_002_m24           /media/forest/wd_1/data_CLMS/0_7T_RAW/bcd_002/m24/CLMS-LONDON-7_002-LON-7_bcd_002_m24_fmri-FA40.mnc.gz\n",
      "33     34  cde_003_m24           /media/forest/wd_1/data_CLMS/0_7T_RAW/cde_003/m24/CLMS-LONDON-7_002-LON-7_cde_003_m24_fmri-FA40.mnc.gz\n",
      "34     35  def_004_m00           /media/forest/wd_1/data_CLMS/0_7T_RAW/def_004/m00/CLMS-LONDON-7_002-LON-7_def_004_m00_fmri-FA40.mnc.gz\n",
      "35     36  def_004_m24           /media/forest/wd_1/data_CLMS/0_7T_RAW/def_004/m24/CLMS-LONDON-7_002-LON-7_def_004_m24_fmri-FA40.mnc.gz\n",
      "36     37  efg_005_m00           /media/forest/wd_1/data_CLMS/0_7T_RAW/efg_005/m00/CLMS-LONDON-7_002-LON-7_efg_005_m00_fmri-FA40.mnc.gz\n",
      "37     38  efg_005_m24           /media/forest/wd_1/data_CLMS/0_7T_RAW/efg_005/m24/CLMS-LONDON-7_002-LON-7_efg_005_m24_fmri-FA40.mnc.gz\n",
      "38     39  fgh_006_m00           /media/forest/wd_1/data_CLMS/0_7T_RAW/fgh_006/m00/CLMS-LONDON-7_002-LON-7_fgh_006_m00_fmri-FA40.mnc.gz\n",
      "39     40  ghi_007_m00           /media/forest/wd_1/data_CLMS/0_7T_RAW/ghi_007/m00/CLMS-LONDON-7_002-LON-7_ghi_007_m00_fmri-FA40.mnc.gz\n",
      "40     41  ghi_007_m24           /media/forest/wd_1/data_CLMS/0_7T_RAW/ghi_007/m24/CLMS-LONDON-7_002-LON-7_ghi_007_m24_fmri-FA40.mnc.gz\n",
      "41     42  hij_008_m00           /media/forest/wd_1/data_CLMS/0_7T_RAW/hij_008/m00/CLMS-LONDON-7_002-LON-7_hij_008_m00_fmri-FA40.mnc.gz\n",
      "42     43  ijk_009_m24           /media/forest/wd_1/data_CLMS/0_7T_RAW/ijk_009/m24/CLMS-LONDON-7_002-LON-7_ijk_009_m24_fmri-FA40.mnc.gz\n",
      "43     44  klm_011_m24  /media/forest/wd_1/data_CLMS/0_7T_RAW/klm_011/m24/CLMS-LONDON-7_002-LON-7_klm_011_m24_fmri-FA40-repeat-1.mnc.gz\n",
      "44     46  lmn_012_m00           /media/forest/wd_1/data_CLMS/0_7T_RAW/lmn_012/m00/CLMS-LONDON-7_002-LON-7_lmn_012_m00_fmri-FA40.mnc.gz\n",
      "45     47  lmn_012_m24           /media/forest/wd_1/data_CLMS/0_7T_RAW/lmn_012/m24/CLMS-LONDON-7_002-LON-7_lmn_012_m24_fmri-FA40.mnc.gz\n",
      "46     48  mno_013_m00           /media/forest/wd_1/data_CLMS/0_7T_RAW/mno_013/m00/CLMS-LONDON-7_002-LON-7_mno_013_m00_fmri-FA40.mnc.gz\n",
      "47     49  opq_015_m00           /media/forest/wd_1/data_CLMS/0_7T_RAW/opq_015/m00/CLMS-LONDON-7_002-LON-7_opq_015_m00_fmri-FA40.mnc.gz\n",
      "48     50  opq_015_m24           /media/forest/wd_1/data_CLMS/0_7T_RAW/opq_015/m24/CLMS-LONDON-7_002-LON-7_opq_015_m24_fmri-FA40.mnc.gz\n",
      "49     51  pqr_016_m00           /media/forest/wd_1/data_CLMS/0_7T_RAW/pqr_016/m00/CLMS-LONDON-7_002-LON-7_pqr_016_m00_fmri-FA40.mnc.gz\n",
      "50     52  pqr_016_m24           /media/forest/wd_1/data_CLMS/0_7T_RAW/pqr_016/m24/CLMS-LONDON-7_002-LON-7_pqr_016_m24_fmri-FA40.mnc.gz\n",
      "51     53  rst_018_m00           /media/forest/wd_1/data_CLMS/0_7T_RAW/rst_018/m00/CLMS-LONDON-7_002-LON-7_rst_018_m00_fmri-FA40.mnc.gz\n",
      "52     54  rst_018_m24           /media/forest/wd_1/data_CLMS/0_7T_RAW/rst_018/m24/CLMS-LONDON-7_002-LON-7_rst_018_m24_fmri-FA40.mnc.gz\n",
      "53     55  stu_019_m00           /media/forest/wd_1/data_CLMS/0_7T_RAW/stu_019/m00/CLMS-LONDON-7_002-LON-7_stu_019_m00_fmri-FA40.mnc.gz\n",
      "54     56  stu_019_m24           /media/forest/wd_1/data_CLMS/0_7T_RAW/stu_019/m24/CLMS-LONDON-7_002-LON-7_stu_019_m24_fmri-FA40.mnc.gz\n",
      "55     57  tuv_020_m00           /media/forest/wd_1/data_CLMS/0_7T_RAW/tuv_020/m00/CLMS-LONDON-7_002-LON-7_tuv_020_m00_fmri-FA40.mnc.gz\n",
      "56     58  tuv_020_m24           /media/forest/wd_1/data_CLMS/0_7T_RAW/tuv_020/m24/CLMS-LONDON-7_002-LON-7_tuv_020_m24_fmri-FA40.mnc.gz\n",
      "57     59  uvw_021_m00           /media/forest/wd_1/data_CLMS/0_7T_RAW/uvw_021/m00/CLMS-LONDON-7_002-LON-7_uvw_021_m00_fmri-FA40.mnc.gz\n",
      "58     60  uvw_021_m24           /media/forest/wd_1/data_CLMS/0_7T_RAW/uvw_021/m24/CLMS-LONDON-7_002-LON-7_uvw_021_m24_fmri-FA40.mnc.gz\n",
      "59     61  vwx_022_m00           /media/forest/wd_1/data_CLMS/0_7T_RAW/vwx_022/m00/CLMS-LONDON-7_002-LON-7_vwx_022_m00_fmri-FA40.mnc.gz\n",
      "60     62  wxy_023_m00           /media/forest/wd_1/data_CLMS/0_7T_RAW/wxy_023/m00/CLMS-LONDON-7_002-LON-7_wxy_023_m00_fmri-FA40.mnc.gz\n",
      "61     63  xyz_024_m00           /media/forest/wd_1/data_CLMS/0_7T_RAW/xyz_024/m00/CLMS-LONDON-7_002-LON-7_xyz_024_m00_fmri-FA40.mnc.gz\n",
      "62     64  xyz_024_m24           /media/forest/wd_1/data_CLMS/0_7T_RAW/xyz_024/m24/CLMS-LONDON-7_002-LON-7_xyz_024_m24_fmri-FA40.mnc.gz\n"
     ]
    }
   ],
   "source": [
    "# manual cleanup: from previous cell output, delete rows 25 and 45 & reset indices\n",
    "df_preproc_filepaths = df_preproc_filepaths.drop([25, 45])\n",
    "df_preproc_filepaths = df_preproc_filepaths.reset_index()\n",
    "\n",
    "print_full_df(df_preproc_filepaths)"
   ]
  },
  {
   "cell_type": "code",
   "execution_count": null,
   "metadata": {},
   "outputs": [],
   "source": [
    "# create working directory if applicable\n",
    "working_dir_name = '0.1_raw_minc'\n",
    "\n",
    "fmri_dir  =  \n"
   ]
  },
  {
   "cell_type": "code",
   "execution_count": 47,
   "metadata": {},
   "outputs": [
    {
     "name": "stdout",
     "output_type": "stream",
     "text": [
      "bbb_052_m00\n",
      "aab_026_m00\n",
      "aac_027_m00\n",
      "aac_027_m24\n",
      "aad_028_m00\n",
      "aad_028_m24\n",
      "aae_029_m00\n",
      "aaf_030_m00\n",
      "aaf_030_m24\n",
      "aah_032_m00\n",
      "aah_032_m24\n",
      "aai_033_m00\n",
      "aai_033_m24\n",
      "aaj_034_m00\n",
      "aaj_034_m24\n",
      "aal_036_m00\n",
      "aal_036_m24\n",
      "aam_037_m00\n",
      "aao_039_m00\n",
      "aao_039_m24\n",
      "aar_042_m00\n",
      "aas_043_m00\n",
      "aaw_047_m00\n",
      "aay_049_m00\n",
      "abc_001_m24\n",
      "bbc_053_m00\n",
      "bbd_054_m00\n",
      "bbe_055_m00\n",
      "bbf_056_m00\n",
      "bbi_059_m00\n",
      "bbk_061_m00\n",
      "bbl_062_m00\n",
      "bcd_002_m24\n",
      "cde_003_m24\n",
      "def_004_m00\n",
      "def_004_m24\n",
      "efg_005_m00\n",
      "efg_005_m24\n",
      "fgh_006_m00\n",
      "ghi_007_m00\n",
      "ghi_007_m24\n",
      "hij_008_m00\n",
      "ijk_009_m24\n",
      "klm_011_m24\n",
      "lmn_012_m00\n",
      "lmn_012_m24\n",
      "mno_013_m00\n",
      "opq_015_m00\n",
      "opq_015_m24\n",
      "pqr_016_m00\n",
      "pqr_016_m24\n",
      "rst_018_m00\n",
      "rst_018_m24\n",
      "stu_019_m00\n",
      "stu_019_m24\n",
      "tuv_020_m00\n",
      "tuv_020_m24\n",
      "uvw_021_m00\n",
      "uvw_021_m24\n",
      "vwx_022_m00\n",
      "wxy_023_m00\n",
      "xyz_024_m00\n",
      "xyz_024_m24\n"
     ]
    }
   ],
   "source": [
    "# copy the selected minc files to working directory\n",
    "for subject, filepath in zip(df_preproc_filepaths['subject_id'], df_preproc_filepaths['mnc filepath orig']):\n",
    "\n",
    "    !echo \"Subject: {subject} \n",
    "    # if "
   ]
  },
  {
   "cell_type": "markdown",
   "metadata": {},
   "source": [
    "Convert minc files to nifti for preprocessing. "
   ]
  },
  {
   "cell_type": "code",
   "execution_count": null,
   "metadata": {},
   "outputs": [],
   "source": [
    "# create new directory for nifti files\n",
    "newdir_name = '0.2_raw_nifti'"
   ]
  },
  {
   "cell_type": "markdown",
   "metadata": {},
   "source": [
    "## Part 1: Prepare Functional Data"
   ]
  },
  {
   "cell_type": "markdown",
   "metadata": {},
   "source": [
    "via: https://en.wikibooks.org/wiki/Neuroimaging_Data_Processing/Processing/Steps/Slice_Timing\n",
    "\n",
    "- first steps: \n",
    "    - realignment\n",
    "    - motion correction\n",
    "    - slice timing correction via temporal derivatives\n",
    "- notes: \n",
    "    - data characteristics: short TR, interleaved slice order, potentially severe head motion among SPMS group\n",
    "    - slice acquisition order was Siemens interleaved\n",
    "    - slice timing correction method chosen based on above characteristics of our data"
   ]
  },
  {
   "cell_type": "code",
   "execution_count": null,
   "metadata": {},
   "outputs": [],
   "source": [
    "# 1.1 realignment to middle volume (#239)\n",
    "\n"
   ]
  },
  {
   "cell_type": "code",
   "execution_count": null,
   "metadata": {},
   "outputs": [],
   "source": [
    "# 1.2 motion correction & identifying outliers\n",
    "\n"
   ]
  },
  {
   "cell_type": "code",
   "execution_count": null,
   "metadata": {},
   "outputs": [],
   "source": [
    "# 1.3 slice timing correction via temporal derivatives\n",
    " "
   ]
  },
  {
   "cell_type": "markdown",
   "metadata": {},
   "source": [
    "## Part 2: Prepare Anatomical Data\n",
    "- part 1: brain extraction via FSL BET\n",
    "- part 2: registration of high-res anatomical data to template\n",
    "- transformation matrix is then used on functional data for final registration step"
   ]
  },
  {
   "cell_type": "code",
   "execution_count": null,
   "metadata": {},
   "outputs": [],
   "source": []
  },
  {
   "cell_type": "code",
   "execution_count": null,
   "metadata": {},
   "outputs": [],
   "source": [
    "# preprocessing step: "
   ]
  },
  {
   "cell_type": "code",
   "execution_count": null,
   "metadata": {},
   "outputs": [],
   "source": [
    "# preprocessing step: "
   ]
  },
  {
   "cell_type": "code",
   "execution_count": null,
   "metadata": {},
   "outputs": [],
   "source": [
    "# preprocessing step: "
   ]
  },
  {
   "cell_type": "markdown",
   "metadata": {},
   "source": [
    "## Part 3: Registration & Normalization\n",
    "- registration of fmri to high resolution t1w mp2rage anatomical data via boundary-based registration\n",
    "- followed by normalization to template (MNI152 2mm)"
   ]
  },
  {
   "cell_type": "code",
   "execution_count": null,
   "metadata": {},
   "outputs": [],
   "source": []
  },
  {
   "cell_type": "code",
   "execution_count": null,
   "metadata": {},
   "outputs": [],
   "source": []
  },
  {
   "cell_type": "code",
   "execution_count": null,
   "metadata": {},
   "outputs": [],
   "source": []
  },
  {
   "cell_type": "markdown",
   "metadata": {},
   "source": [
    "## Part 4: Smoothing"
   ]
  },
  {
   "cell_type": "markdown",
   "metadata": {},
   "source": []
  }
 ],
 "metadata": {
  "interpreter": {
   "hash": "930b200f1af79f20b3a875e38b61a82feb6b2752947827a756d2daf92a053478"
  },
  "kernelspec": {
   "display_name": "Python 3.9.7 ('MRI_env')",
   "language": "python",
   "name": "python3"
  },
  "language_info": {
   "codemirror_mode": {
    "name": "ipython",
    "version": 3
   },
   "file_extension": ".py",
   "mimetype": "text/x-python",
   "name": "python",
   "nbconvert_exporter": "python",
   "pygments_lexer": "ipython3",
   "version": "3.9.7"
  },
  "orig_nbformat": 4
 },
 "nbformat": 4,
 "nbformat_minor": 2
}
