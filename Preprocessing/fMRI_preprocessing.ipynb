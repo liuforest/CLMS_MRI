{
 "cells": [
  {
   "cell_type": "markdown",
   "metadata": {},
   "source": [
    "# Functional MRI Preprocessing Steps"
   ]
  },
  {
   "cell_type": "code",
   "execution_count": 16,
   "metadata": {},
   "outputs": [],
   "source": [
    "# import required packages\n",
    "import os\n",
    "import numpy as np\n",
    "import pandas as pd"
   ]
  },
  {
   "cell_type": "code",
   "execution_count": 17,
   "metadata": {},
   "outputs": [],
   "source": [
    "# function for viewing full dataframes\n",
    "\n",
    "def print_full_df(x):\n",
    "    pd.set_option('display.max_rows', None)\n",
    "    pd.set_option('display.max_columns', None)\n",
    "    pd.set_option('display.width', 2000)\n",
    "    pd.set_option('display.float_format', '{:20,.2f}'.format)\n",
    "    pd.set_option('display.max_colwidth', None)\n",
    "    print(x)\n",
    "    pd.reset_option('display.max_rows')\n",
    "    pd.reset_option('display.max_columns')\n",
    "    pd.reset_option('display.width')\n",
    "    pd.reset_option('display.float_format')\n",
    "    pd.reset_option('display.max_colwidth')\n"
   ]
  },
  {
   "cell_type": "code",
   "execution_count": 18,
   "metadata": {},
   "outputs": [],
   "source": [
    "def append_column(df, dir, column_name, search_phrase='.nii'):\n",
    "    '''\n",
    "    This function appends column of filepaths to a dataframe matching by subject_id. \n",
    "\n",
    "    Files within folders must contain the subject id string pattern. \n",
    "\n",
    "    INPUTS:\n",
    "        1. main_df          - the dataframe to append columns to\n",
    "        2. folder_name      - folder containing files/paths to append\n",
    "        3. column_name      - name of the column to append\n",
    "        4. search_phrase    - text pattern to look for inside specified folder (default '.nii')\n",
    "\n",
    "    '''\n",
    "    # search directory for phrase and store as a list\n",
    "    filelist = !find \"{fmri_dir}/{dir}\" ~+ -type f -name \"*{search_phrase}*\"\n",
    "\n",
    "    # convert list to a dataframe and create a column matching subject_id\n",
    "    tmp_df = pd.DataFrame({'subject_id':\"\", column_name:filelist})\n",
    "    tmp_df['subject_id'] = tmp_df[column_name].str.extract(r'(\\w{3}_\\d{3}_m\\d{2})')\n",
    "\n",
    "    # append the new filepaths by matching subject_id \n",
    "    df = pd.merge(df, tmp_df, on='subject_id')\n",
    "\n",
    "    return df"
   ]
  },
  {
   "cell_type": "code",
   "execution_count": 19,
   "metadata": {},
   "outputs": [],
   "source": [
    "def append_anat_column(df, dir, column_name, search_phrase='.nii'):\n",
    "    '''\n",
    "    This function appends column of filepaths to a dataframe matching by subject_id. \n",
    "\n",
    "    Files within folders must contain the subject id string pattern. \n",
    "\n",
    "    INPUTS:\n",
    "        1. main_df          - the dataframe to append columns to\n",
    "        2. folder_name      - folder containing files/paths to append\n",
    "        3. column_name      - name of the column to append\n",
    "        4. search_phrase    - text pattern to look for inside specified folder (default '.nii')\n",
    "\n",
    "    '''\n",
    "    # search directory for phrase and store as a list\n",
    "    filelist = !find \"{anat_dir}/{dir}\" ~+ -type f -name \"*{search_phrase}*\"\n",
    "\n",
    "    # convert list to a dataframe and create a column matching subject_id\n",
    "    tmp_df = pd.DataFrame({'subject_id':\"\", column_name:filelist})\n",
    "    tmp_df['subject_id'] = tmp_df[column_name].str.extract(r'(\\w{3}_\\d{3}_m\\d{2})')\n",
    "\n",
    "    # append the new filepaths by matching subject_id \n",
    "    df = pd.merge(df, tmp_df, on='subject_id')\n",
    "\n",
    "    return df"
   ]
  },
  {
   "cell_type": "code",
   "execution_count": 20,
   "metadata": {},
   "outputs": [],
   "source": [
    "# define parent directories for func and struct data\n",
    "anat_dir = '/media/forest/wd_1/data_CLMS/anatomical/7T_T1_MPR_uniden'\n",
    "fmri_dir = '/media/forest/wd_1/data_CLMS/functional/7T_func'"
   ]
  },
  {
   "cell_type": "code",
   "execution_count": 21,
   "metadata": {},
   "outputs": [],
   "source": [
    "# create the initial dataframe with subject_id and raw data filepaths\n",
    "raw_filelist = !find \"{fmri_dir}/0_raw\" ~+ -type f -name \"*.nii*\"\n",
    "df_pp_fmri = pd.DataFrame({'subject_id':\"\", 'fp_raw':raw_filelist})\n",
    "df_pp_fmri['subject_id'] = df_pp_fmri['fp_raw'].str.extract(r'(\\w{3}_\\d{3}_m\\d{2})')"
   ]
  },
  {
   "cell_type": "code",
   "execution_count": 22,
   "metadata": {},
   "outputs": [
    {
     "name": "stdout",
     "output_type": "stream",
     "text": [
      "fslroi /media/forest/wd_1/data_CLMS/functional/7T_func/0_raw/aab_026_m00_7T_FMRI_raw.nii /media/forest/wd_1/data_CLMS/functional/7T_func/3_mid_volume/aab_026_m00_func_middle_volume 240 1 &&\n",
      "fslroi /media/forest/wd_1/data_CLMS/functional/7T_func/0_raw/aac_027_m00_7T_FMRI_raw.nii /media/forest/wd_1/data_CLMS/functional/7T_func/3_mid_volume/aac_027_m00_func_middle_volume 240 1 &&\n",
      "fslroi /media/forest/wd_1/data_CLMS/functional/7T_func/0_raw/aac_027_m24_7T_FMRI_raw.nii /media/forest/wd_1/data_CLMS/functional/7T_func/3_mid_volume/aac_027_m24_func_middle_volume 240 1 &&\n",
      "fslroi /media/forest/wd_1/data_CLMS/functional/7T_func/0_raw/aad_028_m00_7T_FMRI_raw.nii /media/forest/wd_1/data_CLMS/functional/7T_func/3_mid_volume/aad_028_m00_func_middle_volume 240 1 &&\n",
      "fslroi /media/forest/wd_1/data_CLMS/functional/7T_func/0_raw/aad_028_m24_7T_FMRI_raw.nii /media/forest/wd_1/data_CLMS/functional/7T_func/3_mid_volume/aad_028_m24_func_middle_volume 240 1 &&\n",
      "fslroi /media/forest/wd_1/data_CLMS/functional/7T_func/0_raw/aae_029_m00_7T_FMRI_raw.nii /media/forest/wd_1/data_CLMS/functional/7T_func/3_mid_volume/aae_029_m00_func_middle_volume 240 1 &&\n",
      "fslroi /media/forest/wd_1/data_CLMS/functional/7T_func/0_raw/aaf_030_m00_7T_FMRI_raw.nii /media/forest/wd_1/data_CLMS/functional/7T_func/3_mid_volume/aaf_030_m00_func_middle_volume 240 1 &&\n",
      "fslroi /media/forest/wd_1/data_CLMS/functional/7T_func/0_raw/aaf_030_m24_7T_FMRI_raw.nii /media/forest/wd_1/data_CLMS/functional/7T_func/3_mid_volume/aaf_030_m24_func_middle_volume 240 1 &&\n",
      "fslroi /media/forest/wd_1/data_CLMS/functional/7T_func/0_raw/aah_032_m00_7T_FMRI_raw.nii /media/forest/wd_1/data_CLMS/functional/7T_func/3_mid_volume/aah_032_m00_func_middle_volume 240 1 &&\n",
      "fslroi /media/forest/wd_1/data_CLMS/functional/7T_func/0_raw/aah_032_m24_7T_FMRI_raw.nii /media/forest/wd_1/data_CLMS/functional/7T_func/3_mid_volume/aah_032_m24_func_middle_volume 240 1 &&\n",
      "fslroi /media/forest/wd_1/data_CLMS/functional/7T_func/0_raw/aai_033_m00_7T_FMRI_raw.nii /media/forest/wd_1/data_CLMS/functional/7T_func/3_mid_volume/aai_033_m00_func_middle_volume 240 1 &&\n",
      "fslroi /media/forest/wd_1/data_CLMS/functional/7T_func/0_raw/aai_033_m24_7T_FMRI_raw.nii /media/forest/wd_1/data_CLMS/functional/7T_func/3_mid_volume/aai_033_m24_func_middle_volume 240 1 &&\n",
      "fslroi /media/forest/wd_1/data_CLMS/functional/7T_func/0_raw/aaj_034_m00_7T_FMRI_raw.nii /media/forest/wd_1/data_CLMS/functional/7T_func/3_mid_volume/aaj_034_m00_func_middle_volume 240 1 &&\n",
      "fslroi /media/forest/wd_1/data_CLMS/functional/7T_func/0_raw/aaj_034_m24_7T_FMRI_raw.nii /media/forest/wd_1/data_CLMS/functional/7T_func/3_mid_volume/aaj_034_m24_func_middle_volume 240 1 &&\n",
      "fslroi /media/forest/wd_1/data_CLMS/functional/7T_func/0_raw/aal_036_m24_7T_FMRI_raw.nii /media/forest/wd_1/data_CLMS/functional/7T_func/3_mid_volume/aal_036_m24_func_middle_volume 240 1 &&\n",
      "fslroi /media/forest/wd_1/data_CLMS/functional/7T_func/0_raw/aam_037_m00_7T_FMRI_raw.nii /media/forest/wd_1/data_CLMS/functional/7T_func/3_mid_volume/aam_037_m00_func_middle_volume 240 1 &&\n",
      "fslroi /media/forest/wd_1/data_CLMS/functional/7T_func/0_raw/aan_038_m24_7T_FMRI_raw.nii /media/forest/wd_1/data_CLMS/functional/7T_func/3_mid_volume/aan_038_m24_func_middle_volume 240 1 &&\n",
      "fslroi /media/forest/wd_1/data_CLMS/functional/7T_func/0_raw/aao_039_m00_7T_FMRI_raw.nii /media/forest/wd_1/data_CLMS/functional/7T_func/3_mid_volume/aao_039_m00_func_middle_volume 240 1 &&\n",
      "fslroi /media/forest/wd_1/data_CLMS/functional/7T_func/0_raw/aao_039_m24_7T_FMRI_raw.nii /media/forest/wd_1/data_CLMS/functional/7T_func/3_mid_volume/aao_039_m24_func_middle_volume 240 1 &&\n",
      "fslroi /media/forest/wd_1/data_CLMS/functional/7T_func/0_raw/aar_042_m00_7T_FMRI_raw.nii /media/forest/wd_1/data_CLMS/functional/7T_func/3_mid_volume/aar_042_m00_func_middle_volume 240 1 &&\n",
      "fslroi /media/forest/wd_1/data_CLMS/functional/7T_func/0_raw/aas_043_m00_7T_FMRI_raw.nii /media/forest/wd_1/data_CLMS/functional/7T_func/3_mid_volume/aas_043_m00_func_middle_volume 240 1 &&\n",
      "fslroi /media/forest/wd_1/data_CLMS/functional/7T_func/0_raw/aat_044_m24_7T_FMRI_raw.nii /media/forest/wd_1/data_CLMS/functional/7T_func/3_mid_volume/aat_044_m24_func_middle_volume 240 1 &&\n",
      "fslroi /media/forest/wd_1/data_CLMS/functional/7T_func/0_raw/aaw_047_m00_7T_FMRI_raw.nii /media/forest/wd_1/data_CLMS/functional/7T_func/3_mid_volume/aaw_047_m00_func_middle_volume 240 1 &&\n",
      "fslroi /media/forest/wd_1/data_CLMS/functional/7T_func/0_raw/aay_049_m00_7T_FMRI_raw.nii /media/forest/wd_1/data_CLMS/functional/7T_func/3_mid_volume/aay_049_m00_func_middle_volume 240 1 &&\n",
      "fslroi /media/forest/wd_1/data_CLMS/functional/7T_func/0_raw/abc_001_m24_7T_FMRI_raw.nii /media/forest/wd_1/data_CLMS/functional/7T_func/3_mid_volume/abc_001_m24_func_middle_volume 240 1 &&\n",
      "fslroi /media/forest/wd_1/data_CLMS/functional/7T_func/0_raw/bbb_052_m00_7T_FMRI_raw.nii /media/forest/wd_1/data_CLMS/functional/7T_func/3_mid_volume/bbb_052_m00_func_middle_volume 240 1 &&\n",
      "fslroi /media/forest/wd_1/data_CLMS/functional/7T_func/0_raw/bbc_053_m00_7T_FMRI_raw.nii /media/forest/wd_1/data_CLMS/functional/7T_func/3_mid_volume/bbc_053_m00_func_middle_volume 240 1 &&\n",
      "fslroi /media/forest/wd_1/data_CLMS/functional/7T_func/0_raw/bbd_054_m00_7T_FMRI_raw.nii /media/forest/wd_1/data_CLMS/functional/7T_func/3_mid_volume/bbd_054_m00_func_middle_volume 240 1 &&\n",
      "fslroi /media/forest/wd_1/data_CLMS/functional/7T_func/0_raw/bbe_055_m00_7T_FMRI_raw.nii /media/forest/wd_1/data_CLMS/functional/7T_func/3_mid_volume/bbe_055_m00_func_middle_volume 240 1 &&\n",
      "fslroi /media/forest/wd_1/data_CLMS/functional/7T_func/0_raw/bbf_056_m00_7T_FMRI_raw.nii /media/forest/wd_1/data_CLMS/functional/7T_func/3_mid_volume/bbf_056_m00_func_middle_volume 240 1 &&\n",
      "fslroi /media/forest/wd_1/data_CLMS/functional/7T_func/0_raw/bbk_061_m00_7T_FMRI_raw.nii /media/forest/wd_1/data_CLMS/functional/7T_func/3_mid_volume/bbk_061_m00_func_middle_volume 240 1 &&\n",
      "fslroi /media/forest/wd_1/data_CLMS/functional/7T_func/0_raw/bbl_062_m00_7T_FMRI_raw.nii /media/forest/wd_1/data_CLMS/functional/7T_func/3_mid_volume/bbl_062_m00_func_middle_volume 240 1 &&\n",
      "fslroi /media/forest/wd_1/data_CLMS/functional/7T_func/0_raw/bcd_002_m24_7T_FMRI_raw.nii /media/forest/wd_1/data_CLMS/functional/7T_func/3_mid_volume/bcd_002_m24_func_middle_volume 240 1 &&\n",
      "fslroi /media/forest/wd_1/data_CLMS/functional/7T_func/0_raw/cde_003_m24_7T_FMRI_raw.nii /media/forest/wd_1/data_CLMS/functional/7T_func/3_mid_volume/cde_003_m24_func_middle_volume 240 1 &&\n",
      "fslroi /media/forest/wd_1/data_CLMS/functional/7T_func/0_raw/def_004_m00_7T_FMRI_raw.nii /media/forest/wd_1/data_CLMS/functional/7T_func/3_mid_volume/def_004_m00_func_middle_volume 240 1 &&\n",
      "fslroi /media/forest/wd_1/data_CLMS/functional/7T_func/0_raw/def_004_m24_7T_FMRI_raw.nii /media/forest/wd_1/data_CLMS/functional/7T_func/3_mid_volume/def_004_m24_func_middle_volume 240 1 &&\n",
      "fslroi /media/forest/wd_1/data_CLMS/functional/7T_func/0_raw/efg_005_m00_7T_FMRI_raw.nii /media/forest/wd_1/data_CLMS/functional/7T_func/3_mid_volume/efg_005_m00_func_middle_volume 240 1 &&\n",
      "fslroi /media/forest/wd_1/data_CLMS/functional/7T_func/0_raw/efg_005_m24_7T_FMRI_raw.nii /media/forest/wd_1/data_CLMS/functional/7T_func/3_mid_volume/efg_005_m24_func_middle_volume 240 1 &&\n",
      "fslroi /media/forest/wd_1/data_CLMS/functional/7T_func/0_raw/fgh_006_m00_7T_FMRI_raw.nii /media/forest/wd_1/data_CLMS/functional/7T_func/3_mid_volume/fgh_006_m00_func_middle_volume 240 1 &&\n",
      "fslroi /media/forest/wd_1/data_CLMS/functional/7T_func/0_raw/ghi_007_m00_7T_FMRI_raw.nii /media/forest/wd_1/data_CLMS/functional/7T_func/3_mid_volume/ghi_007_m00_func_middle_volume 240 1 &&\n",
      "fslroi /media/forest/wd_1/data_CLMS/functional/7T_func/0_raw/ghi_007_m24_7T_FMRI_raw.nii /media/forest/wd_1/data_CLMS/functional/7T_func/3_mid_volume/ghi_007_m24_func_middle_volume 240 1 &&\n",
      "fslroi /media/forest/wd_1/data_CLMS/functional/7T_func/0_raw/ijk_009_m24_7T_FMRI_raw.nii /media/forest/wd_1/data_CLMS/functional/7T_func/3_mid_volume/ijk_009_m24_func_middle_volume 240 1 &&\n",
      "fslroi /media/forest/wd_1/data_CLMS/functional/7T_func/0_raw/klm_011_m24_7T_FMRI_raw.nii /media/forest/wd_1/data_CLMS/functional/7T_func/3_mid_volume/klm_011_m24_func_middle_volume 240 1 &&\n",
      "fslroi /media/forest/wd_1/data_CLMS/functional/7T_func/0_raw/lmn_012_m00_7T_FMRI_raw.nii /media/forest/wd_1/data_CLMS/functional/7T_func/3_mid_volume/lmn_012_m00_func_middle_volume 240 1 &&\n",
      "fslroi /media/forest/wd_1/data_CLMS/functional/7T_func/0_raw/mno_013_m00_7T_FMRI_raw.nii /media/forest/wd_1/data_CLMS/functional/7T_func/3_mid_volume/mno_013_m00_func_middle_volume 240 1 &&\n",
      "fslroi /media/forest/wd_1/data_CLMS/functional/7T_func/0_raw/opq_015_m00_7T_FMRI_raw.nii /media/forest/wd_1/data_CLMS/functional/7T_func/3_mid_volume/opq_015_m00_func_middle_volume 240 1 &&\n",
      "fslroi /media/forest/wd_1/data_CLMS/functional/7T_func/0_raw/opq_015_m24_7T_FMRI_raw.nii /media/forest/wd_1/data_CLMS/functional/7T_func/3_mid_volume/opq_015_m24_func_middle_volume 240 1 &&\n",
      "fslroi /media/forest/wd_1/data_CLMS/functional/7T_func/0_raw/pqr_016_m00_7T_FMRI_raw.nii /media/forest/wd_1/data_CLMS/functional/7T_func/3_mid_volume/pqr_016_m00_func_middle_volume 240 1 &&\n",
      "fslroi /media/forest/wd_1/data_CLMS/functional/7T_func/0_raw/pqr_016_m24_7T_FMRI_raw.nii /media/forest/wd_1/data_CLMS/functional/7T_func/3_mid_volume/pqr_016_m24_func_middle_volume 240 1 &&\n",
      "fslroi /media/forest/wd_1/data_CLMS/functional/7T_func/0_raw/rst_018_m00_7T_FMRI_raw.nii /media/forest/wd_1/data_CLMS/functional/7T_func/3_mid_volume/rst_018_m00_func_middle_volume 240 1 &&\n",
      "fslroi /media/forest/wd_1/data_CLMS/functional/7T_func/0_raw/rst_018_m24_7T_FMRI_raw.nii /media/forest/wd_1/data_CLMS/functional/7T_func/3_mid_volume/rst_018_m24_func_middle_volume 240 1 &&\n",
      "fslroi /media/forest/wd_1/data_CLMS/functional/7T_func/0_raw/stu_019_m00_7T_FMRI_raw.nii /media/forest/wd_1/data_CLMS/functional/7T_func/3_mid_volume/stu_019_m00_func_middle_volume 240 1 &&\n",
      "fslroi /media/forest/wd_1/data_CLMS/functional/7T_func/0_raw/stu_019_m24_7T_FMRI_raw.nii /media/forest/wd_1/data_CLMS/functional/7T_func/3_mid_volume/stu_019_m24_func_middle_volume 240 1 &&\n",
      "fslroi /media/forest/wd_1/data_CLMS/functional/7T_func/0_raw/tuv_020_m00_7T_FMRI_raw.nii /media/forest/wd_1/data_CLMS/functional/7T_func/3_mid_volume/tuv_020_m00_func_middle_volume 240 1 &&\n",
      "fslroi /media/forest/wd_1/data_CLMS/functional/7T_func/0_raw/tuv_020_m24_7T_FMRI_raw.nii /media/forest/wd_1/data_CLMS/functional/7T_func/3_mid_volume/tuv_020_m24_func_middle_volume 240 1 &&\n",
      "fslroi /media/forest/wd_1/data_CLMS/functional/7T_func/0_raw/uvw_021_m00_7T_FMRI_raw.nii /media/forest/wd_1/data_CLMS/functional/7T_func/3_mid_volume/uvw_021_m00_func_middle_volume 240 1 &&\n",
      "fslroi /media/forest/wd_1/data_CLMS/functional/7T_func/0_raw/uvw_021_m24_7T_FMRI_raw.nii /media/forest/wd_1/data_CLMS/functional/7T_func/3_mid_volume/uvw_021_m24_func_middle_volume 240 1 &&\n",
      "fslroi /media/forest/wd_1/data_CLMS/functional/7T_func/0_raw/vwx_022_m00_7T_FMRI_raw.nii /media/forest/wd_1/data_CLMS/functional/7T_func/3_mid_volume/vwx_022_m00_func_middle_volume 240 1 &&\n",
      "fslroi /media/forest/wd_1/data_CLMS/functional/7T_func/0_raw/wxy_023_m00_7T_FMRI_raw.nii /media/forest/wd_1/data_CLMS/functional/7T_func/3_mid_volume/wxy_023_m00_func_middle_volume 240 1 &&\n",
      "fslroi /media/forest/wd_1/data_CLMS/functional/7T_func/0_raw/xyz_024_m00_7T_FMRI_raw.nii /media/forest/wd_1/data_CLMS/functional/7T_func/3_mid_volume/xyz_024_m00_func_middle_volume 240 1 &&\n",
      "fslroi /media/forest/wd_1/data_CLMS/functional/7T_func/0_raw/xyz_024_m24_7T_FMRI_raw.nii /media/forest/wd_1/data_CLMS/functional/7T_func/3_mid_volume/xyz_024_m24_func_middle_volume 240 1 &&\n",
      "fslroi /media/forest/wd_1/data_CLMS/functional/7T_func/0_raw/aal_036_m00_7T_FMRI_raw.nii /media/forest/wd_1/data_CLMS/functional/7T_func/3_mid_volume/aal_036_m00_func_middle_volume 240 1 &&\n",
      "fslroi /media/forest/wd_1/data_CLMS/functional/7T_func/0_raw/bbi_059_m00_7T_FMRI_raw.nii /media/forest/wd_1/data_CLMS/functional/7T_func/3_mid_volume/bbi_059_m00_func_middle_volume 240 1 &&\n",
      "fslroi /media/forest/wd_1/data_CLMS/functional/7T_func/0_raw/lmn_012_m24_7T_FMRI_raw.nii /media/forest/wd_1/data_CLMS/functional/7T_func/3_mid_volume/lmn_012_m24_func_middle_volume 240 1 &&\n"
     ]
    }
   ],
   "source": [
    "## Create code to extract volume #240 from each subject's raw fmri data\n",
    "for subject, file in zip(df_pp_fmri['subject_id'], df_pp_fmri['fp_raw']):\n",
    "    print(f'fslroi {file} {fmri_dir}/3_mid_volume/{subject}_func_middle_volume 240 1 &&')"
   ]
  },
  {
   "cell_type": "code",
   "execution_count": 23,
   "metadata": {},
   "outputs": [],
   "source": [
    "## Append to df, check shape which should be 64x3\n",
    "df_pp_fmri = append_column(df_pp_fmri, '3_mid_volume', 'fp_middle_volume', '.nii')"
   ]
  },
  {
   "cell_type": "code",
   "execution_count": 24,
   "metadata": {},
   "outputs": [
    {
     "name": "stdout",
     "output_type": "stream",
     "text": [
      "bet2 /media/forest/wd_1/data_CLMS/functional/7T_func/3_mid_volume/aab_026_m00_func_middle_volume.nii.gz /media/forest/wd_1/data_CLMS/functional/7T_func/5_mid_volume_SS/aab_026_m00_func_middle_volume_skullstripped -f 0.3 &&\n",
      "bet2 /media/forest/wd_1/data_CLMS/functional/7T_func/3_mid_volume/aac_027_m00_func_middle_volume.nii.gz /media/forest/wd_1/data_CLMS/functional/7T_func/5_mid_volume_SS/aac_027_m00_func_middle_volume_skullstripped -f 0.3 &&\n",
      "bet2 /media/forest/wd_1/data_CLMS/functional/7T_func/3_mid_volume/aac_027_m24_func_middle_volume.nii.gz /media/forest/wd_1/data_CLMS/functional/7T_func/5_mid_volume_SS/aac_027_m24_func_middle_volume_skullstripped -f 0.3 &&\n",
      "bet2 /media/forest/wd_1/data_CLMS/functional/7T_func/3_mid_volume/aad_028_m00_func_middle_volume.nii.gz /media/forest/wd_1/data_CLMS/functional/7T_func/5_mid_volume_SS/aad_028_m00_func_middle_volume_skullstripped -f 0.3 &&\n",
      "bet2 /media/forest/wd_1/data_CLMS/functional/7T_func/3_mid_volume/aad_028_m24_func_middle_volume.nii.gz /media/forest/wd_1/data_CLMS/functional/7T_func/5_mid_volume_SS/aad_028_m24_func_middle_volume_skullstripped -f 0.3 &&\n",
      "bet2 /media/forest/wd_1/data_CLMS/functional/7T_func/3_mid_volume/aae_029_m00_func_middle_volume.nii.gz /media/forest/wd_1/data_CLMS/functional/7T_func/5_mid_volume_SS/aae_029_m00_func_middle_volume_skullstripped -f 0.3 &&\n",
      "bet2 /media/forest/wd_1/data_CLMS/functional/7T_func/3_mid_volume/aaf_030_m00_func_middle_volume.nii.gz /media/forest/wd_1/data_CLMS/functional/7T_func/5_mid_volume_SS/aaf_030_m00_func_middle_volume_skullstripped -f 0.3 &&\n",
      "bet2 /media/forest/wd_1/data_CLMS/functional/7T_func/3_mid_volume/aaf_030_m24_func_middle_volume.nii.gz /media/forest/wd_1/data_CLMS/functional/7T_func/5_mid_volume_SS/aaf_030_m24_func_middle_volume_skullstripped -f 0.3 &&\n",
      "bet2 /media/forest/wd_1/data_CLMS/functional/7T_func/3_mid_volume/aah_032_m00_func_middle_volume.nii.gz /media/forest/wd_1/data_CLMS/functional/7T_func/5_mid_volume_SS/aah_032_m00_func_middle_volume_skullstripped -f 0.3 &&\n",
      "bet2 /media/forest/wd_1/data_CLMS/functional/7T_func/3_mid_volume/aah_032_m24_func_middle_volume.nii.gz /media/forest/wd_1/data_CLMS/functional/7T_func/5_mid_volume_SS/aah_032_m24_func_middle_volume_skullstripped -f 0.3 &&\n",
      "bet2 /media/forest/wd_1/data_CLMS/functional/7T_func/3_mid_volume/aai_033_m00_func_middle_volume.nii.gz /media/forest/wd_1/data_CLMS/functional/7T_func/5_mid_volume_SS/aai_033_m00_func_middle_volume_skullstripped -f 0.3 &&\n",
      "bet2 /media/forest/wd_1/data_CLMS/functional/7T_func/3_mid_volume/aai_033_m24_func_middle_volume.nii.gz /media/forest/wd_1/data_CLMS/functional/7T_func/5_mid_volume_SS/aai_033_m24_func_middle_volume_skullstripped -f 0.3 &&\n",
      "bet2 /media/forest/wd_1/data_CLMS/functional/7T_func/3_mid_volume/aaj_034_m00_func_middle_volume.nii.gz /media/forest/wd_1/data_CLMS/functional/7T_func/5_mid_volume_SS/aaj_034_m00_func_middle_volume_skullstripped -f 0.3 &&\n",
      "bet2 /media/forest/wd_1/data_CLMS/functional/7T_func/3_mid_volume/aaj_034_m24_func_middle_volume.nii.gz /media/forest/wd_1/data_CLMS/functional/7T_func/5_mid_volume_SS/aaj_034_m24_func_middle_volume_skullstripped -f 0.3 &&\n",
      "bet2 /media/forest/wd_1/data_CLMS/functional/7T_func/3_mid_volume/aal_036_m24_func_middle_volume.nii.gz /media/forest/wd_1/data_CLMS/functional/7T_func/5_mid_volume_SS/aal_036_m24_func_middle_volume_skullstripped -f 0.3 &&\n",
      "bet2 /media/forest/wd_1/data_CLMS/functional/7T_func/3_mid_volume/aam_037_m00_func_middle_volume.nii.gz /media/forest/wd_1/data_CLMS/functional/7T_func/5_mid_volume_SS/aam_037_m00_func_middle_volume_skullstripped -f 0.3 &&\n",
      "bet2 /media/forest/wd_1/data_CLMS/functional/7T_func/3_mid_volume/aan_038_m24_func_middle_volume.nii.gz /media/forest/wd_1/data_CLMS/functional/7T_func/5_mid_volume_SS/aan_038_m24_func_middle_volume_skullstripped -f 0.3 &&\n",
      "bet2 /media/forest/wd_1/data_CLMS/functional/7T_func/3_mid_volume/aao_039_m00_func_middle_volume.nii.gz /media/forest/wd_1/data_CLMS/functional/7T_func/5_mid_volume_SS/aao_039_m00_func_middle_volume_skullstripped -f 0.3 &&\n",
      "bet2 /media/forest/wd_1/data_CLMS/functional/7T_func/3_mid_volume/aao_039_m24_func_middle_volume.nii.gz /media/forest/wd_1/data_CLMS/functional/7T_func/5_mid_volume_SS/aao_039_m24_func_middle_volume_skullstripped -f 0.3 &&\n",
      "bet2 /media/forest/wd_1/data_CLMS/functional/7T_func/3_mid_volume/aar_042_m00_func_middle_volume.nii.gz /media/forest/wd_1/data_CLMS/functional/7T_func/5_mid_volume_SS/aar_042_m00_func_middle_volume_skullstripped -f 0.3 &&\n",
      "bet2 /media/forest/wd_1/data_CLMS/functional/7T_func/3_mid_volume/aas_043_m00_func_middle_volume.nii.gz /media/forest/wd_1/data_CLMS/functional/7T_func/5_mid_volume_SS/aas_043_m00_func_middle_volume_skullstripped -f 0.3 &&\n",
      "bet2 /media/forest/wd_1/data_CLMS/functional/7T_func/3_mid_volume/aat_044_m24_func_middle_volume.nii.gz /media/forest/wd_1/data_CLMS/functional/7T_func/5_mid_volume_SS/aat_044_m24_func_middle_volume_skullstripped -f 0.3 &&\n",
      "bet2 /media/forest/wd_1/data_CLMS/functional/7T_func/3_mid_volume/aaw_047_m00_func_middle_volume.nii.gz /media/forest/wd_1/data_CLMS/functional/7T_func/5_mid_volume_SS/aaw_047_m00_func_middle_volume_skullstripped -f 0.3 &&\n",
      "bet2 /media/forest/wd_1/data_CLMS/functional/7T_func/3_mid_volume/aay_049_m00_func_middle_volume.nii.gz /media/forest/wd_1/data_CLMS/functional/7T_func/5_mid_volume_SS/aay_049_m00_func_middle_volume_skullstripped -f 0.3 &&\n",
      "bet2 /media/forest/wd_1/data_CLMS/functional/7T_func/3_mid_volume/abc_001_m24_func_middle_volume.nii.gz /media/forest/wd_1/data_CLMS/functional/7T_func/5_mid_volume_SS/abc_001_m24_func_middle_volume_skullstripped -f 0.3 &&\n",
      "bet2 /media/forest/wd_1/data_CLMS/functional/7T_func/3_mid_volume/bbb_052_m00_func_middle_volume.nii.gz /media/forest/wd_1/data_CLMS/functional/7T_func/5_mid_volume_SS/bbb_052_m00_func_middle_volume_skullstripped -f 0.3 &&\n",
      "bet2 /media/forest/wd_1/data_CLMS/functional/7T_func/3_mid_volume/bbc_053_m00_func_middle_volume.nii.gz /media/forest/wd_1/data_CLMS/functional/7T_func/5_mid_volume_SS/bbc_053_m00_func_middle_volume_skullstripped -f 0.3 &&\n",
      "bet2 /media/forest/wd_1/data_CLMS/functional/7T_func/3_mid_volume/bbd_054_m00_func_middle_volume.nii.gz /media/forest/wd_1/data_CLMS/functional/7T_func/5_mid_volume_SS/bbd_054_m00_func_middle_volume_skullstripped -f 0.3 &&\n",
      "bet2 /media/forest/wd_1/data_CLMS/functional/7T_func/3_mid_volume/bbe_055_m00_func_middle_volume.nii.gz /media/forest/wd_1/data_CLMS/functional/7T_func/5_mid_volume_SS/bbe_055_m00_func_middle_volume_skullstripped -f 0.3 &&\n",
      "bet2 /media/forest/wd_1/data_CLMS/functional/7T_func/3_mid_volume/bbf_056_m00_func_middle_volume.nii.gz /media/forest/wd_1/data_CLMS/functional/7T_func/5_mid_volume_SS/bbf_056_m00_func_middle_volume_skullstripped -f 0.3 &&\n",
      "bet2 /media/forest/wd_1/data_CLMS/functional/7T_func/3_mid_volume/bbk_061_m00_func_middle_volume.nii.gz /media/forest/wd_1/data_CLMS/functional/7T_func/5_mid_volume_SS/bbk_061_m00_func_middle_volume_skullstripped -f 0.3 &&\n",
      "bet2 /media/forest/wd_1/data_CLMS/functional/7T_func/3_mid_volume/bbl_062_m00_func_middle_volume.nii.gz /media/forest/wd_1/data_CLMS/functional/7T_func/5_mid_volume_SS/bbl_062_m00_func_middle_volume_skullstripped -f 0.3 &&\n",
      "bet2 /media/forest/wd_1/data_CLMS/functional/7T_func/3_mid_volume/bcd_002_m24_func_middle_volume.nii.gz /media/forest/wd_1/data_CLMS/functional/7T_func/5_mid_volume_SS/bcd_002_m24_func_middle_volume_skullstripped -f 0.3 &&\n",
      "bet2 /media/forest/wd_1/data_CLMS/functional/7T_func/3_mid_volume/cde_003_m24_func_middle_volume.nii.gz /media/forest/wd_1/data_CLMS/functional/7T_func/5_mid_volume_SS/cde_003_m24_func_middle_volume_skullstripped -f 0.3 &&\n",
      "bet2 /media/forest/wd_1/data_CLMS/functional/7T_func/3_mid_volume/def_004_m00_func_middle_volume.nii.gz /media/forest/wd_1/data_CLMS/functional/7T_func/5_mid_volume_SS/def_004_m00_func_middle_volume_skullstripped -f 0.3 &&\n",
      "bet2 /media/forest/wd_1/data_CLMS/functional/7T_func/3_mid_volume/def_004_m24_func_middle_volume.nii.gz /media/forest/wd_1/data_CLMS/functional/7T_func/5_mid_volume_SS/def_004_m24_func_middle_volume_skullstripped -f 0.3 &&\n",
      "bet2 /media/forest/wd_1/data_CLMS/functional/7T_func/3_mid_volume/efg_005_m00_func_middle_volume.nii.gz /media/forest/wd_1/data_CLMS/functional/7T_func/5_mid_volume_SS/efg_005_m00_func_middle_volume_skullstripped -f 0.3 &&\n",
      "bet2 /media/forest/wd_1/data_CLMS/functional/7T_func/3_mid_volume/efg_005_m24_func_middle_volume.nii.gz /media/forest/wd_1/data_CLMS/functional/7T_func/5_mid_volume_SS/efg_005_m24_func_middle_volume_skullstripped -f 0.3 &&\n",
      "bet2 /media/forest/wd_1/data_CLMS/functional/7T_func/3_mid_volume/fgh_006_m00_func_middle_volume.nii.gz /media/forest/wd_1/data_CLMS/functional/7T_func/5_mid_volume_SS/fgh_006_m00_func_middle_volume_skullstripped -f 0.3 &&\n",
      "bet2 /media/forest/wd_1/data_CLMS/functional/7T_func/3_mid_volume/ghi_007_m00_func_middle_volume.nii.gz /media/forest/wd_1/data_CLMS/functional/7T_func/5_mid_volume_SS/ghi_007_m00_func_middle_volume_skullstripped -f 0.3 &&\n",
      "bet2 /media/forest/wd_1/data_CLMS/functional/7T_func/3_mid_volume/ghi_007_m24_func_middle_volume.nii.gz /media/forest/wd_1/data_CLMS/functional/7T_func/5_mid_volume_SS/ghi_007_m24_func_middle_volume_skullstripped -f 0.3 &&\n",
      "bet2 /media/forest/wd_1/data_CLMS/functional/7T_func/3_mid_volume/ijk_009_m24_func_middle_volume.nii.gz /media/forest/wd_1/data_CLMS/functional/7T_func/5_mid_volume_SS/ijk_009_m24_func_middle_volume_skullstripped -f 0.3 &&\n",
      "bet2 /media/forest/wd_1/data_CLMS/functional/7T_func/3_mid_volume/klm_011_m24_func_middle_volume.nii.gz /media/forest/wd_1/data_CLMS/functional/7T_func/5_mid_volume_SS/klm_011_m24_func_middle_volume_skullstripped -f 0.3 &&\n",
      "bet2 /media/forest/wd_1/data_CLMS/functional/7T_func/3_mid_volume/lmn_012_m00_func_middle_volume.nii.gz /media/forest/wd_1/data_CLMS/functional/7T_func/5_mid_volume_SS/lmn_012_m00_func_middle_volume_skullstripped -f 0.3 &&\n",
      "bet2 /media/forest/wd_1/data_CLMS/functional/7T_func/3_mid_volume/mno_013_m00_func_middle_volume.nii.gz /media/forest/wd_1/data_CLMS/functional/7T_func/5_mid_volume_SS/mno_013_m00_func_middle_volume_skullstripped -f 0.3 &&\n",
      "bet2 /media/forest/wd_1/data_CLMS/functional/7T_func/3_mid_volume/opq_015_m00_func_middle_volume.nii.gz /media/forest/wd_1/data_CLMS/functional/7T_func/5_mid_volume_SS/opq_015_m00_func_middle_volume_skullstripped -f 0.3 &&\n",
      "bet2 /media/forest/wd_1/data_CLMS/functional/7T_func/3_mid_volume/opq_015_m24_func_middle_volume.nii.gz /media/forest/wd_1/data_CLMS/functional/7T_func/5_mid_volume_SS/opq_015_m24_func_middle_volume_skullstripped -f 0.3 &&\n",
      "bet2 /media/forest/wd_1/data_CLMS/functional/7T_func/3_mid_volume/pqr_016_m00_func_middle_volume.nii.gz /media/forest/wd_1/data_CLMS/functional/7T_func/5_mid_volume_SS/pqr_016_m00_func_middle_volume_skullstripped -f 0.3 &&\n",
      "bet2 /media/forest/wd_1/data_CLMS/functional/7T_func/3_mid_volume/pqr_016_m24_func_middle_volume.nii.gz /media/forest/wd_1/data_CLMS/functional/7T_func/5_mid_volume_SS/pqr_016_m24_func_middle_volume_skullstripped -f 0.3 &&\n",
      "bet2 /media/forest/wd_1/data_CLMS/functional/7T_func/3_mid_volume/rst_018_m00_func_middle_volume.nii.gz /media/forest/wd_1/data_CLMS/functional/7T_func/5_mid_volume_SS/rst_018_m00_func_middle_volume_skullstripped -f 0.3 &&\n",
      "bet2 /media/forest/wd_1/data_CLMS/functional/7T_func/3_mid_volume/rst_018_m24_func_middle_volume.nii.gz /media/forest/wd_1/data_CLMS/functional/7T_func/5_mid_volume_SS/rst_018_m24_func_middle_volume_skullstripped -f 0.3 &&\n",
      "bet2 /media/forest/wd_1/data_CLMS/functional/7T_func/3_mid_volume/stu_019_m00_func_middle_volume.nii.gz /media/forest/wd_1/data_CLMS/functional/7T_func/5_mid_volume_SS/stu_019_m00_func_middle_volume_skullstripped -f 0.3 &&\n",
      "bet2 /media/forest/wd_1/data_CLMS/functional/7T_func/3_mid_volume/stu_019_m24_func_middle_volume.nii.gz /media/forest/wd_1/data_CLMS/functional/7T_func/5_mid_volume_SS/stu_019_m24_func_middle_volume_skullstripped -f 0.3 &&\n",
      "bet2 /media/forest/wd_1/data_CLMS/functional/7T_func/3_mid_volume/tuv_020_m00_func_middle_volume.nii.gz /media/forest/wd_1/data_CLMS/functional/7T_func/5_mid_volume_SS/tuv_020_m00_func_middle_volume_skullstripped -f 0.3 &&\n",
      "bet2 /media/forest/wd_1/data_CLMS/functional/7T_func/3_mid_volume/tuv_020_m24_func_middle_volume.nii.gz /media/forest/wd_1/data_CLMS/functional/7T_func/5_mid_volume_SS/tuv_020_m24_func_middle_volume_skullstripped -f 0.3 &&\n",
      "bet2 /media/forest/wd_1/data_CLMS/functional/7T_func/3_mid_volume/uvw_021_m00_func_middle_volume.nii.gz /media/forest/wd_1/data_CLMS/functional/7T_func/5_mid_volume_SS/uvw_021_m00_func_middle_volume_skullstripped -f 0.3 &&\n",
      "bet2 /media/forest/wd_1/data_CLMS/functional/7T_func/3_mid_volume/uvw_021_m24_func_middle_volume.nii.gz /media/forest/wd_1/data_CLMS/functional/7T_func/5_mid_volume_SS/uvw_021_m24_func_middle_volume_skullstripped -f 0.3 &&\n",
      "bet2 /media/forest/wd_1/data_CLMS/functional/7T_func/3_mid_volume/vwx_022_m00_func_middle_volume.nii.gz /media/forest/wd_1/data_CLMS/functional/7T_func/5_mid_volume_SS/vwx_022_m00_func_middle_volume_skullstripped -f 0.3 &&\n",
      "bet2 /media/forest/wd_1/data_CLMS/functional/7T_func/3_mid_volume/wxy_023_m00_func_middle_volume.nii.gz /media/forest/wd_1/data_CLMS/functional/7T_func/5_mid_volume_SS/wxy_023_m00_func_middle_volume_skullstripped -f 0.3 &&\n",
      "bet2 /media/forest/wd_1/data_CLMS/functional/7T_func/3_mid_volume/xyz_024_m00_func_middle_volume.nii.gz /media/forest/wd_1/data_CLMS/functional/7T_func/5_mid_volume_SS/xyz_024_m00_func_middle_volume_skullstripped -f 0.3 &&\n",
      "bet2 /media/forest/wd_1/data_CLMS/functional/7T_func/3_mid_volume/xyz_024_m24_func_middle_volume.nii.gz /media/forest/wd_1/data_CLMS/functional/7T_func/5_mid_volume_SS/xyz_024_m24_func_middle_volume_skullstripped -f 0.3 &&\n",
      "bet2 /media/forest/wd_1/data_CLMS/functional/7T_func/3_mid_volume/aal_036_m00_func_middle_volume.nii.gz /media/forest/wd_1/data_CLMS/functional/7T_func/5_mid_volume_SS/aal_036_m00_func_middle_volume_skullstripped -f 0.3 &&\n",
      "bet2 /media/forest/wd_1/data_CLMS/functional/7T_func/3_mid_volume/bbi_059_m00_func_middle_volume.nii.gz /media/forest/wd_1/data_CLMS/functional/7T_func/5_mid_volume_SS/bbi_059_m00_func_middle_volume_skullstripped -f 0.3 &&\n",
      "bet2 /media/forest/wd_1/data_CLMS/functional/7T_func/3_mid_volume/lmn_012_m24_func_middle_volume.nii.gz /media/forest/wd_1/data_CLMS/functional/7T_func/5_mid_volume_SS/lmn_012_m24_func_middle_volume_skullstripped -f 0.3 &&\n"
     ]
    }
   ],
   "source": [
    "## Create code to skullstrip the middle volume data--use conservative settings in BET (same as FEAT pipeline) and visually inspect results\n",
    "for subject, file in zip(df_pp_fmri['subject_id'], df_pp_fmri['fp_middle_volume']):\n",
    "    print(f'bet2 {file} {fmri_dir}/5_mid_volume_SS/{subject}_func_middle_volume_skullstripped -f 0.3 &&')"
   ]
  },
  {
   "cell_type": "code",
   "execution_count": 25,
   "metadata": {},
   "outputs": [],
   "source": [
    "## append to df, check shape which should be 64x4\n",
    "df_pp_fmri = append_column(df_pp_fmri, '5_mid_volume_SS', 'fp_middle_volume_SS', '.nii')"
   ]
  },
  {
   "cell_type": "code",
   "execution_count": 26,
   "metadata": {},
   "outputs": [
    {
     "data": {
      "text/html": [
       "<div>\n",
       "<style scoped>\n",
       "    .dataframe tbody tr th:only-of-type {\n",
       "        vertical-align: middle;\n",
       "    }\n",
       "\n",
       "    .dataframe tbody tr th {\n",
       "        vertical-align: top;\n",
       "    }\n",
       "\n",
       "    .dataframe thead th {\n",
       "        text-align: right;\n",
       "    }\n",
       "</style>\n",
       "<table border=\"1\" class=\"dataframe\">\n",
       "  <thead>\n",
       "    <tr style=\"text-align: right;\">\n",
       "      <th></th>\n",
       "      <th>subject_id</th>\n",
       "      <th>fp_raw</th>\n",
       "      <th>fp_middle_volume</th>\n",
       "      <th>fp_middle_volume_SS</th>\n",
       "    </tr>\n",
       "  </thead>\n",
       "  <tbody>\n",
       "    <tr>\n",
       "      <th>0</th>\n",
       "      <td>aab_026_m00</td>\n",
       "      <td>/media/forest/wd_1/data_CLMS/functional/7T_fun...</td>\n",
       "      <td>/media/forest/wd_1/data_CLMS/functional/7T_fun...</td>\n",
       "      <td>/media/forest/wd_1/data_CLMS/functional/7T_fun...</td>\n",
       "    </tr>\n",
       "    <tr>\n",
       "      <th>1</th>\n",
       "      <td>aac_027_m00</td>\n",
       "      <td>/media/forest/wd_1/data_CLMS/functional/7T_fun...</td>\n",
       "      <td>/media/forest/wd_1/data_CLMS/functional/7T_fun...</td>\n",
       "      <td>/media/forest/wd_1/data_CLMS/functional/7T_fun...</td>\n",
       "    </tr>\n",
       "    <tr>\n",
       "      <th>2</th>\n",
       "      <td>aac_027_m24</td>\n",
       "      <td>/media/forest/wd_1/data_CLMS/functional/7T_fun...</td>\n",
       "      <td>/media/forest/wd_1/data_CLMS/functional/7T_fun...</td>\n",
       "      <td>/media/forest/wd_1/data_CLMS/functional/7T_fun...</td>\n",
       "    </tr>\n",
       "    <tr>\n",
       "      <th>3</th>\n",
       "      <td>aad_028_m00</td>\n",
       "      <td>/media/forest/wd_1/data_CLMS/functional/7T_fun...</td>\n",
       "      <td>/media/forest/wd_1/data_CLMS/functional/7T_fun...</td>\n",
       "      <td>/media/forest/wd_1/data_CLMS/functional/7T_fun...</td>\n",
       "    </tr>\n",
       "    <tr>\n",
       "      <th>4</th>\n",
       "      <td>aad_028_m24</td>\n",
       "      <td>/media/forest/wd_1/data_CLMS/functional/7T_fun...</td>\n",
       "      <td>/media/forest/wd_1/data_CLMS/functional/7T_fun...</td>\n",
       "      <td>/media/forest/wd_1/data_CLMS/functional/7T_fun...</td>\n",
       "    </tr>\n",
       "    <tr>\n",
       "      <th>...</th>\n",
       "      <td>...</td>\n",
       "      <td>...</td>\n",
       "      <td>...</td>\n",
       "      <td>...</td>\n",
       "    </tr>\n",
       "    <tr>\n",
       "      <th>59</th>\n",
       "      <td>xyz_024_m00</td>\n",
       "      <td>/media/forest/wd_1/data_CLMS/functional/7T_fun...</td>\n",
       "      <td>/media/forest/wd_1/data_CLMS/functional/7T_fun...</td>\n",
       "      <td>/media/forest/wd_1/data_CLMS/functional/7T_fun...</td>\n",
       "    </tr>\n",
       "    <tr>\n",
       "      <th>60</th>\n",
       "      <td>xyz_024_m24</td>\n",
       "      <td>/media/forest/wd_1/data_CLMS/functional/7T_fun...</td>\n",
       "      <td>/media/forest/wd_1/data_CLMS/functional/7T_fun...</td>\n",
       "      <td>/media/forest/wd_1/data_CLMS/functional/7T_fun...</td>\n",
       "    </tr>\n",
       "    <tr>\n",
       "      <th>61</th>\n",
       "      <td>aal_036_m00</td>\n",
       "      <td>/media/forest/wd_1/data_CLMS/functional/7T_fun...</td>\n",
       "      <td>/media/forest/wd_1/data_CLMS/functional/7T_fun...</td>\n",
       "      <td>/media/forest/wd_1/data_CLMS/functional/7T_fun...</td>\n",
       "    </tr>\n",
       "    <tr>\n",
       "      <th>62</th>\n",
       "      <td>bbi_059_m00</td>\n",
       "      <td>/media/forest/wd_1/data_CLMS/functional/7T_fun...</td>\n",
       "      <td>/media/forest/wd_1/data_CLMS/functional/7T_fun...</td>\n",
       "      <td>/media/forest/wd_1/data_CLMS/functional/7T_fun...</td>\n",
       "    </tr>\n",
       "    <tr>\n",
       "      <th>63</th>\n",
       "      <td>lmn_012_m24</td>\n",
       "      <td>/media/forest/wd_1/data_CLMS/functional/7T_fun...</td>\n",
       "      <td>/media/forest/wd_1/data_CLMS/functional/7T_fun...</td>\n",
       "      <td>/media/forest/wd_1/data_CLMS/functional/7T_fun...</td>\n",
       "    </tr>\n",
       "  </tbody>\n",
       "</table>\n",
       "<p>64 rows × 4 columns</p>\n",
       "</div>"
      ],
      "text/plain": [
       "     subject_id                                             fp_raw  \\\n",
       "0   aab_026_m00  /media/forest/wd_1/data_CLMS/functional/7T_fun...   \n",
       "1   aac_027_m00  /media/forest/wd_1/data_CLMS/functional/7T_fun...   \n",
       "2   aac_027_m24  /media/forest/wd_1/data_CLMS/functional/7T_fun...   \n",
       "3   aad_028_m00  /media/forest/wd_1/data_CLMS/functional/7T_fun...   \n",
       "4   aad_028_m24  /media/forest/wd_1/data_CLMS/functional/7T_fun...   \n",
       "..          ...                                                ...   \n",
       "59  xyz_024_m00  /media/forest/wd_1/data_CLMS/functional/7T_fun...   \n",
       "60  xyz_024_m24  /media/forest/wd_1/data_CLMS/functional/7T_fun...   \n",
       "61  aal_036_m00  /media/forest/wd_1/data_CLMS/functional/7T_fun...   \n",
       "62  bbi_059_m00  /media/forest/wd_1/data_CLMS/functional/7T_fun...   \n",
       "63  lmn_012_m24  /media/forest/wd_1/data_CLMS/functional/7T_fun...   \n",
       "\n",
       "                                     fp_middle_volume  \\\n",
       "0   /media/forest/wd_1/data_CLMS/functional/7T_fun...   \n",
       "1   /media/forest/wd_1/data_CLMS/functional/7T_fun...   \n",
       "2   /media/forest/wd_1/data_CLMS/functional/7T_fun...   \n",
       "3   /media/forest/wd_1/data_CLMS/functional/7T_fun...   \n",
       "4   /media/forest/wd_1/data_CLMS/functional/7T_fun...   \n",
       "..                                                ...   \n",
       "59  /media/forest/wd_1/data_CLMS/functional/7T_fun...   \n",
       "60  /media/forest/wd_1/data_CLMS/functional/7T_fun...   \n",
       "61  /media/forest/wd_1/data_CLMS/functional/7T_fun...   \n",
       "62  /media/forest/wd_1/data_CLMS/functional/7T_fun...   \n",
       "63  /media/forest/wd_1/data_CLMS/functional/7T_fun...   \n",
       "\n",
       "                                  fp_middle_volume_SS  \n",
       "0   /media/forest/wd_1/data_CLMS/functional/7T_fun...  \n",
       "1   /media/forest/wd_1/data_CLMS/functional/7T_fun...  \n",
       "2   /media/forest/wd_1/data_CLMS/functional/7T_fun...  \n",
       "3   /media/forest/wd_1/data_CLMS/functional/7T_fun...  \n",
       "4   /media/forest/wd_1/data_CLMS/functional/7T_fun...  \n",
       "..                                                ...  \n",
       "59  /media/forest/wd_1/data_CLMS/functional/7T_fun...  \n",
       "60  /media/forest/wd_1/data_CLMS/functional/7T_fun...  \n",
       "61  /media/forest/wd_1/data_CLMS/functional/7T_fun...  \n",
       "62  /media/forest/wd_1/data_CLMS/functional/7T_fun...  \n",
       "63  /media/forest/wd_1/data_CLMS/functional/7T_fun...  \n",
       "\n",
       "[64 rows x 4 columns]"
      ]
     },
     "execution_count": 26,
     "metadata": {},
     "output_type": "execute_result"
    }
   ],
   "source": [
    "df_pp_fmri"
   ]
  },
  {
   "cell_type": "code",
   "execution_count": null,
   "metadata": {},
   "outputs": [],
   "source": [
    "# Create "
   ]
  },
  {
   "cell_type": "code",
   "execution_count": null,
   "metadata": {},
   "outputs": [],
   "source": []
  },
  {
   "cell_type": "markdown",
   "metadata": {},
   "source": [
    "# Slice Timing Correction"
   ]
  },
  {
   "cell_type": "markdown",
   "metadata": {},
   "source": [
    "- order is Siemens interleaved, which is ascending and slice order depends on number of slices:\n",
    "    - if slices is even, even-first (i.e. 2, 4, 6, ... followed by 1, 3, 5...)\n",
    "    - all fmri images are 56 slices in Z, so order is interleaved ascending, with even-first slice order\n",
    "    - can simply use the \"odd\" option in slicertimer command, which will adjust based on odd/even slices\n",
    "- each file takes a few minutes, but 20-30 subjects can be run in parallel\n",
    "    - main bottleneck is probably disk read/write speed here"
   ]
  },
  {
   "cell_type": "code",
   "execution_count": 79,
   "metadata": {},
   "outputs": [
    {
     "name": "stdout",
     "output_type": "stream",
     "text": [
      "slicetimer -i /media/forest/wd_1/data_CLMS/functional/7T_func/0_raw/aab_026_m00_7T_FMRI_raw.nii -o /media/forest/wd_1/data_CLMS/functional/7T_func/1_STC/aab_026_m00_fmri_stc -r 1.25 --odd &\n",
      "slicetimer -i /media/forest/wd_1/data_CLMS/functional/7T_func/0_raw/aac_027_m00_7T_FMRI_raw.nii -o /media/forest/wd_1/data_CLMS/functional/7T_func/1_STC/aac_027_m00_fmri_stc -r 1.25 --odd &\n",
      "slicetimer -i /media/forest/wd_1/data_CLMS/functional/7T_func/0_raw/aac_027_m24_7T_FMRI_raw.nii -o /media/forest/wd_1/data_CLMS/functional/7T_func/1_STC/aac_027_m24_fmri_stc -r 1.25 --odd &\n",
      "slicetimer -i /media/forest/wd_1/data_CLMS/functional/7T_func/0_raw/aad_028_m00_7T_FMRI_raw.nii -o /media/forest/wd_1/data_CLMS/functional/7T_func/1_STC/aad_028_m00_fmri_stc -r 1.25 --odd &\n",
      "slicetimer -i /media/forest/wd_1/data_CLMS/functional/7T_func/0_raw/aad_028_m24_7T_FMRI_raw.nii -o /media/forest/wd_1/data_CLMS/functional/7T_func/1_STC/aad_028_m24_fmri_stc -r 1.25 --odd &\n",
      "slicetimer -i /media/forest/wd_1/data_CLMS/functional/7T_func/0_raw/aae_029_m00_7T_FMRI_raw.nii -o /media/forest/wd_1/data_CLMS/functional/7T_func/1_STC/aae_029_m00_fmri_stc -r 1.25 --odd &\n",
      "slicetimer -i /media/forest/wd_1/data_CLMS/functional/7T_func/0_raw/aaf_030_m00_7T_FMRI_raw.nii -o /media/forest/wd_1/data_CLMS/functional/7T_func/1_STC/aaf_030_m00_fmri_stc -r 1.25 --odd &\n",
      "slicetimer -i /media/forest/wd_1/data_CLMS/functional/7T_func/0_raw/aaf_030_m24_7T_FMRI_raw.nii -o /media/forest/wd_1/data_CLMS/functional/7T_func/1_STC/aaf_030_m24_fmri_stc -r 1.25 --odd &\n",
      "slicetimer -i /media/forest/wd_1/data_CLMS/functional/7T_func/0_raw/aah_032_m00_7T_FMRI_raw.nii -o /media/forest/wd_1/data_CLMS/functional/7T_func/1_STC/aah_032_m00_fmri_stc -r 1.25 --odd &\n",
      "slicetimer -i /media/forest/wd_1/data_CLMS/functional/7T_func/0_raw/aah_032_m24_7T_FMRI_raw.nii -o /media/forest/wd_1/data_CLMS/functional/7T_func/1_STC/aah_032_m24_fmri_stc -r 1.25 --odd &\n",
      "slicetimer -i /media/forest/wd_1/data_CLMS/functional/7T_func/0_raw/aai_033_m00_7T_FMRI_raw.nii -o /media/forest/wd_1/data_CLMS/functional/7T_func/1_STC/aai_033_m00_fmri_stc -r 1.25 --odd &\n",
      "slicetimer -i /media/forest/wd_1/data_CLMS/functional/7T_func/0_raw/aai_033_m24_7T_FMRI_raw.nii -o /media/forest/wd_1/data_CLMS/functional/7T_func/1_STC/aai_033_m24_fmri_stc -r 1.25 --odd &\n",
      "slicetimer -i /media/forest/wd_1/data_CLMS/functional/7T_func/0_raw/aaj_034_m00_7T_FMRI_raw.nii -o /media/forest/wd_1/data_CLMS/functional/7T_func/1_STC/aaj_034_m00_fmri_stc -r 1.25 --odd &\n",
      "slicetimer -i /media/forest/wd_1/data_CLMS/functional/7T_func/0_raw/aaj_034_m24_7T_FMRI_raw.nii -o /media/forest/wd_1/data_CLMS/functional/7T_func/1_STC/aaj_034_m24_fmri_stc -r 1.25 --odd &\n",
      "slicetimer -i /media/forest/wd_1/data_CLMS/functional/7T_func/0_raw/aal_036_m24_7T_FMRI_raw.nii -o /media/forest/wd_1/data_CLMS/functional/7T_func/1_STC/aal_036_m24_fmri_stc -r 1.25 --odd &\n",
      "slicetimer -i /media/forest/wd_1/data_CLMS/functional/7T_func/0_raw/aam_037_m00_7T_FMRI_raw.nii -o /media/forest/wd_1/data_CLMS/functional/7T_func/1_STC/aam_037_m00_fmri_stc -r 1.25 --odd &\n",
      "slicetimer -i /media/forest/wd_1/data_CLMS/functional/7T_func/0_raw/aan_038_m24_7T_FMRI_raw.nii -o /media/forest/wd_1/data_CLMS/functional/7T_func/1_STC/aan_038_m24_fmri_stc -r 1.25 --odd &\n",
      "slicetimer -i /media/forest/wd_1/data_CLMS/functional/7T_func/0_raw/aao_039_m00_7T_FMRI_raw.nii -o /media/forest/wd_1/data_CLMS/functional/7T_func/1_STC/aao_039_m00_fmri_stc -r 1.25 --odd &\n",
      "slicetimer -i /media/forest/wd_1/data_CLMS/functional/7T_func/0_raw/aao_039_m24_7T_FMRI_raw.nii -o /media/forest/wd_1/data_CLMS/functional/7T_func/1_STC/aao_039_m24_fmri_stc -r 1.25 --odd &\n",
      "slicetimer -i /media/forest/wd_1/data_CLMS/functional/7T_func/0_raw/aar_042_m00_7T_FMRI_raw.nii -o /media/forest/wd_1/data_CLMS/functional/7T_func/1_STC/aar_042_m00_fmri_stc -r 1.25 --odd &\n",
      "slicetimer -i /media/forest/wd_1/data_CLMS/functional/7T_func/0_raw/aas_043_m00_7T_FMRI_raw.nii -o /media/forest/wd_1/data_CLMS/functional/7T_func/1_STC/aas_043_m00_fmri_stc -r 1.25 --odd &\n",
      "slicetimer -i /media/forest/wd_1/data_CLMS/functional/7T_func/0_raw/aat_044_m24_7T_FMRI_raw.nii -o /media/forest/wd_1/data_CLMS/functional/7T_func/1_STC/aat_044_m24_fmri_stc -r 1.25 --odd &\n",
      "slicetimer -i /media/forest/wd_1/data_CLMS/functional/7T_func/0_raw/aaw_047_m00_7T_FMRI_raw.nii -o /media/forest/wd_1/data_CLMS/functional/7T_func/1_STC/aaw_047_m00_fmri_stc -r 1.25 --odd &\n",
      "slicetimer -i /media/forest/wd_1/data_CLMS/functional/7T_func/0_raw/aay_049_m00_7T_FMRI_raw.nii -o /media/forest/wd_1/data_CLMS/functional/7T_func/1_STC/aay_049_m00_fmri_stc -r 1.25 --odd &\n",
      "slicetimer -i /media/forest/wd_1/data_CLMS/functional/7T_func/0_raw/abc_001_m24_7T_FMRI_raw.nii -o /media/forest/wd_1/data_CLMS/functional/7T_func/1_STC/abc_001_m24_fmri_stc -r 1.25 --odd &\n",
      "slicetimer -i /media/forest/wd_1/data_CLMS/functional/7T_func/0_raw/bbb_052_m00_7T_FMRI_raw.nii -o /media/forest/wd_1/data_CLMS/functional/7T_func/1_STC/bbb_052_m00_fmri_stc -r 1.25 --odd &\n",
      "slicetimer -i /media/forest/wd_1/data_CLMS/functional/7T_func/0_raw/bbc_053_m00_7T_FMRI_raw.nii -o /media/forest/wd_1/data_CLMS/functional/7T_func/1_STC/bbc_053_m00_fmri_stc -r 1.25 --odd &\n",
      "slicetimer -i /media/forest/wd_1/data_CLMS/functional/7T_func/0_raw/bbd_054_m00_7T_FMRI_raw.nii -o /media/forest/wd_1/data_CLMS/functional/7T_func/1_STC/bbd_054_m00_fmri_stc -r 1.25 --odd &\n",
      "slicetimer -i /media/forest/wd_1/data_CLMS/functional/7T_func/0_raw/bbe_055_m00_7T_FMRI_raw.nii -o /media/forest/wd_1/data_CLMS/functional/7T_func/1_STC/bbe_055_m00_fmri_stc -r 1.25 --odd &\n",
      "slicetimer -i /media/forest/wd_1/data_CLMS/functional/7T_func/0_raw/bbf_056_m00_7T_FMRI_raw.nii -o /media/forest/wd_1/data_CLMS/functional/7T_func/1_STC/bbf_056_m00_fmri_stc -r 1.25 --odd &\n",
      "slicetimer -i /media/forest/wd_1/data_CLMS/functional/7T_func/0_raw/bbk_061_m00_7T_FMRI_raw.nii -o /media/forest/wd_1/data_CLMS/functional/7T_func/1_STC/bbk_061_m00_fmri_stc -r 1.25 --odd &\n",
      "slicetimer -i /media/forest/wd_1/data_CLMS/functional/7T_func/0_raw/bbl_062_m00_7T_FMRI_raw.nii -o /media/forest/wd_1/data_CLMS/functional/7T_func/1_STC/bbl_062_m00_fmri_stc -r 1.25 --odd &\n",
      "slicetimer -i /media/forest/wd_1/data_CLMS/functional/7T_func/0_raw/bcd_002_m24_7T_FMRI_raw.nii -o /media/forest/wd_1/data_CLMS/functional/7T_func/1_STC/bcd_002_m24_fmri_stc -r 1.25 --odd &\n",
      "slicetimer -i /media/forest/wd_1/data_CLMS/functional/7T_func/0_raw/cde_003_m24_7T_FMRI_raw.nii -o /media/forest/wd_1/data_CLMS/functional/7T_func/1_STC/cde_003_m24_fmri_stc -r 1.25 --odd &\n",
      "slicetimer -i /media/forest/wd_1/data_CLMS/functional/7T_func/0_raw/def_004_m00_7T_FMRI_raw.nii -o /media/forest/wd_1/data_CLMS/functional/7T_func/1_STC/def_004_m00_fmri_stc -r 1.25 --odd &\n",
      "slicetimer -i /media/forest/wd_1/data_CLMS/functional/7T_func/0_raw/def_004_m24_7T_FMRI_raw.nii -o /media/forest/wd_1/data_CLMS/functional/7T_func/1_STC/def_004_m24_fmri_stc -r 1.25 --odd &\n",
      "slicetimer -i /media/forest/wd_1/data_CLMS/functional/7T_func/0_raw/efg_005_m00_7T_FMRI_raw.nii -o /media/forest/wd_1/data_CLMS/functional/7T_func/1_STC/efg_005_m00_fmri_stc -r 1.25 --odd &\n",
      "slicetimer -i /media/forest/wd_1/data_CLMS/functional/7T_func/0_raw/efg_005_m24_7T_FMRI_raw.nii -o /media/forest/wd_1/data_CLMS/functional/7T_func/1_STC/efg_005_m24_fmri_stc -r 1.25 --odd &\n",
      "slicetimer -i /media/forest/wd_1/data_CLMS/functional/7T_func/0_raw/fgh_006_m00_7T_FMRI_raw.nii -o /media/forest/wd_1/data_CLMS/functional/7T_func/1_STC/fgh_006_m00_fmri_stc -r 1.25 --odd &\n",
      "slicetimer -i /media/forest/wd_1/data_CLMS/functional/7T_func/0_raw/ghi_007_m00_7T_FMRI_raw.nii -o /media/forest/wd_1/data_CLMS/functional/7T_func/1_STC/ghi_007_m00_fmri_stc -r 1.25 --odd &\n",
      "slicetimer -i /media/forest/wd_1/data_CLMS/functional/7T_func/0_raw/ghi_007_m24_7T_FMRI_raw.nii -o /media/forest/wd_1/data_CLMS/functional/7T_func/1_STC/ghi_007_m24_fmri_stc -r 1.25 --odd &\n",
      "slicetimer -i /media/forest/wd_1/data_CLMS/functional/7T_func/0_raw/ijk_009_m24_7T_FMRI_raw.nii -o /media/forest/wd_1/data_CLMS/functional/7T_func/1_STC/ijk_009_m24_fmri_stc -r 1.25 --odd &\n",
      "slicetimer -i /media/forest/wd_1/data_CLMS/functional/7T_func/0_raw/klm_011_m24_7T_FMRI_raw.nii -o /media/forest/wd_1/data_CLMS/functional/7T_func/1_STC/klm_011_m24_fmri_stc -r 1.25 --odd &\n",
      "slicetimer -i /media/forest/wd_1/data_CLMS/functional/7T_func/0_raw/lmn_012_m00_7T_FMRI_raw.nii -o /media/forest/wd_1/data_CLMS/functional/7T_func/1_STC/lmn_012_m00_fmri_stc -r 1.25 --odd &\n",
      "slicetimer -i /media/forest/wd_1/data_CLMS/functional/7T_func/0_raw/mno_013_m00_7T_FMRI_raw.nii -o /media/forest/wd_1/data_CLMS/functional/7T_func/1_STC/mno_013_m00_fmri_stc -r 1.25 --odd &\n",
      "slicetimer -i /media/forest/wd_1/data_CLMS/functional/7T_func/0_raw/opq_015_m00_7T_FMRI_raw.nii -o /media/forest/wd_1/data_CLMS/functional/7T_func/1_STC/opq_015_m00_fmri_stc -r 1.25 --odd &\n",
      "slicetimer -i /media/forest/wd_1/data_CLMS/functional/7T_func/0_raw/opq_015_m24_7T_FMRI_raw.nii -o /media/forest/wd_1/data_CLMS/functional/7T_func/1_STC/opq_015_m24_fmri_stc -r 1.25 --odd &\n",
      "slicetimer -i /media/forest/wd_1/data_CLMS/functional/7T_func/0_raw/pqr_016_m00_7T_FMRI_raw.nii -o /media/forest/wd_1/data_CLMS/functional/7T_func/1_STC/pqr_016_m00_fmri_stc -r 1.25 --odd &\n",
      "slicetimer -i /media/forest/wd_1/data_CLMS/functional/7T_func/0_raw/pqr_016_m24_7T_FMRI_raw.nii -o /media/forest/wd_1/data_CLMS/functional/7T_func/1_STC/pqr_016_m24_fmri_stc -r 1.25 --odd &\n",
      "slicetimer -i /media/forest/wd_1/data_CLMS/functional/7T_func/0_raw/rst_018_m00_7T_FMRI_raw.nii -o /media/forest/wd_1/data_CLMS/functional/7T_func/1_STC/rst_018_m00_fmri_stc -r 1.25 --odd &\n",
      "slicetimer -i /media/forest/wd_1/data_CLMS/functional/7T_func/0_raw/rst_018_m24_7T_FMRI_raw.nii -o /media/forest/wd_1/data_CLMS/functional/7T_func/1_STC/rst_018_m24_fmri_stc -r 1.25 --odd &\n",
      "slicetimer -i /media/forest/wd_1/data_CLMS/functional/7T_func/0_raw/stu_019_m00_7T_FMRI_raw.nii -o /media/forest/wd_1/data_CLMS/functional/7T_func/1_STC/stu_019_m00_fmri_stc -r 1.25 --odd &\n",
      "slicetimer -i /media/forest/wd_1/data_CLMS/functional/7T_func/0_raw/stu_019_m24_7T_FMRI_raw.nii -o /media/forest/wd_1/data_CLMS/functional/7T_func/1_STC/stu_019_m24_fmri_stc -r 1.25 --odd &\n",
      "slicetimer -i /media/forest/wd_1/data_CLMS/functional/7T_func/0_raw/tuv_020_m00_7T_FMRI_raw.nii -o /media/forest/wd_1/data_CLMS/functional/7T_func/1_STC/tuv_020_m00_fmri_stc -r 1.25 --odd &\n",
      "slicetimer -i /media/forest/wd_1/data_CLMS/functional/7T_func/0_raw/tuv_020_m24_7T_FMRI_raw.nii -o /media/forest/wd_1/data_CLMS/functional/7T_func/1_STC/tuv_020_m24_fmri_stc -r 1.25 --odd &\n",
      "slicetimer -i /media/forest/wd_1/data_CLMS/functional/7T_func/0_raw/uvw_021_m00_7T_FMRI_raw.nii -o /media/forest/wd_1/data_CLMS/functional/7T_func/1_STC/uvw_021_m00_fmri_stc -r 1.25 --odd &\n",
      "slicetimer -i /media/forest/wd_1/data_CLMS/functional/7T_func/0_raw/uvw_021_m24_7T_FMRI_raw.nii -o /media/forest/wd_1/data_CLMS/functional/7T_func/1_STC/uvw_021_m24_fmri_stc -r 1.25 --odd &\n",
      "slicetimer -i /media/forest/wd_1/data_CLMS/functional/7T_func/0_raw/vwx_022_m00_7T_FMRI_raw.nii -o /media/forest/wd_1/data_CLMS/functional/7T_func/1_STC/vwx_022_m00_fmri_stc -r 1.25 --odd &\n",
      "slicetimer -i /media/forest/wd_1/data_CLMS/functional/7T_func/0_raw/wxy_023_m00_7T_FMRI_raw.nii -o /media/forest/wd_1/data_CLMS/functional/7T_func/1_STC/wxy_023_m00_fmri_stc -r 1.25 --odd &\n",
      "slicetimer -i /media/forest/wd_1/data_CLMS/functional/7T_func/0_raw/xyz_024_m00_7T_FMRI_raw.nii -o /media/forest/wd_1/data_CLMS/functional/7T_func/1_STC/xyz_024_m00_fmri_stc -r 1.25 --odd &\n",
      "slicetimer -i /media/forest/wd_1/data_CLMS/functional/7T_func/0_raw/xyz_024_m24_7T_FMRI_raw.nii -o /media/forest/wd_1/data_CLMS/functional/7T_func/1_STC/xyz_024_m24_fmri_stc -r 1.25 --odd &\n",
      "slicetimer -i /media/forest/wd_1/data_CLMS/functional/7T_func/0_raw/aal_036_m00_7T_FMRI_raw.nii -o /media/forest/wd_1/data_CLMS/functional/7T_func/1_STC/aal_036_m00_fmri_stc -r 1.25 --odd &\n",
      "slicetimer -i /media/forest/wd_1/data_CLMS/functional/7T_func/0_raw/bbi_059_m00_7T_FMRI_raw.nii -o /media/forest/wd_1/data_CLMS/functional/7T_func/1_STC/bbi_059_m00_fmri_stc -r 1.25 --odd &\n",
      "slicetimer -i /media/forest/wd_1/data_CLMS/functional/7T_func/0_raw/lmn_012_m24_7T_FMRI_raw.nii -o /media/forest/wd_1/data_CLMS/functional/7T_func/1_STC/lmn_012_m24_fmri_stc -r 1.25 --odd &\n"
     ]
    }
   ],
   "source": [
    "## generate code to apply slice timing correction and output files to 1_STC\n",
    "for subject, file in zip(df_pp_fmri['subject_id'], df_pp_fmri['fp_raw']):\n",
    "    print(f'slicetimer -i {file} -o {fmri_dir}/1_STC/{subject}_fmri_stc -r 1.25 --odd &')"
   ]
  },
  {
   "cell_type": "code",
   "execution_count": 89,
   "metadata": {},
   "outputs": [],
   "source": [
    "# append slicetiming corrected files to dataframe\n",
    "df_pp_fmri = append_column(df_pp_fmri, '1_STC', 'fp_raw_STC', '.nii')"
   ]
  },
  {
   "cell_type": "markdown",
   "metadata": {},
   "source": [
    "# Motion Correction and Outlier Identification"
   ]
  },
  {
   "cell_type": "markdown",
   "metadata": {},
   "source": [
    "## Motion Correction with MCFLIRT"
   ]
  },
  {
   "cell_type": "code",
   "execution_count": 93,
   "metadata": {},
   "outputs": [
    {
     "name": "stdout",
     "output_type": "stream",
     "text": [
      "mcflirt -in /media/forest/wd_1/data_CLMS/functional/7T_func/1_STC/aab_026_m00_fmri_stc.nii.gz -o /media/forest/wd_1/data_CLMS/functional/7T_func/4_MC/aab_026_m00_STC_MC &\n",
      "mcflirt -in /media/forest/wd_1/data_CLMS/functional/7T_func/1_STC/aac_027_m00_fmri_stc.nii.gz -o /media/forest/wd_1/data_CLMS/functional/7T_func/4_MC/aac_027_m00_STC_MC &\n",
      "mcflirt -in /media/forest/wd_1/data_CLMS/functional/7T_func/1_STC/aac_027_m24_fmri_stc.nii.gz -o /media/forest/wd_1/data_CLMS/functional/7T_func/4_MC/aac_027_m24_STC_MC &\n",
      "mcflirt -in /media/forest/wd_1/data_CLMS/functional/7T_func/1_STC/aad_028_m00_fmri_stc.nii.gz -o /media/forest/wd_1/data_CLMS/functional/7T_func/4_MC/aad_028_m00_STC_MC &\n",
      "mcflirt -in /media/forest/wd_1/data_CLMS/functional/7T_func/1_STC/aad_028_m24_fmri_stc.nii.gz -o /media/forest/wd_1/data_CLMS/functional/7T_func/4_MC/aad_028_m24_STC_MC &\n",
      "mcflirt -in /media/forest/wd_1/data_CLMS/functional/7T_func/1_STC/aae_029_m00_fmri_stc.nii.gz -o /media/forest/wd_1/data_CLMS/functional/7T_func/4_MC/aae_029_m00_STC_MC &\n",
      "mcflirt -in /media/forest/wd_1/data_CLMS/functional/7T_func/1_STC/aaf_030_m00_fmri_stc.nii.gz -o /media/forest/wd_1/data_CLMS/functional/7T_func/4_MC/aaf_030_m00_STC_MC &\n",
      "mcflirt -in /media/forest/wd_1/data_CLMS/functional/7T_func/1_STC/aaf_030_m24_fmri_stc.nii.gz -o /media/forest/wd_1/data_CLMS/functional/7T_func/4_MC/aaf_030_m24_STC_MC &\n",
      "mcflirt -in /media/forest/wd_1/data_CLMS/functional/7T_func/1_STC/aah_032_m00_fmri_stc.nii.gz -o /media/forest/wd_1/data_CLMS/functional/7T_func/4_MC/aah_032_m00_STC_MC &\n",
      "mcflirt -in /media/forest/wd_1/data_CLMS/functional/7T_func/1_STC/aah_032_m24_fmri_stc.nii.gz -o /media/forest/wd_1/data_CLMS/functional/7T_func/4_MC/aah_032_m24_STC_MC &\n",
      "mcflirt -in /media/forest/wd_1/data_CLMS/functional/7T_func/1_STC/aai_033_m00_fmri_stc.nii.gz -o /media/forest/wd_1/data_CLMS/functional/7T_func/4_MC/aai_033_m00_STC_MC &\n",
      "mcflirt -in /media/forest/wd_1/data_CLMS/functional/7T_func/1_STC/aai_033_m24_fmri_stc.nii.gz -o /media/forest/wd_1/data_CLMS/functional/7T_func/4_MC/aai_033_m24_STC_MC &\n",
      "mcflirt -in /media/forest/wd_1/data_CLMS/functional/7T_func/1_STC/aaj_034_m00_fmri_stc.nii.gz -o /media/forest/wd_1/data_CLMS/functional/7T_func/4_MC/aaj_034_m00_STC_MC &\n",
      "mcflirt -in /media/forest/wd_1/data_CLMS/functional/7T_func/1_STC/aaj_034_m24_fmri_stc.nii.gz -o /media/forest/wd_1/data_CLMS/functional/7T_func/4_MC/aaj_034_m24_STC_MC &\n",
      "mcflirt -in /media/forest/wd_1/data_CLMS/functional/7T_func/1_STC/aal_036_m24_fmri_stc.nii.gz -o /media/forest/wd_1/data_CLMS/functional/7T_func/4_MC/aal_036_m24_STC_MC &\n",
      "mcflirt -in /media/forest/wd_1/data_CLMS/functional/7T_func/1_STC/aam_037_m00_fmri_stc.nii.gz -o /media/forest/wd_1/data_CLMS/functional/7T_func/4_MC/aam_037_m00_STC_MC &\n",
      "mcflirt -in /media/forest/wd_1/data_CLMS/functional/7T_func/1_STC/aan_038_m24_fmri_stc.nii.gz -o /media/forest/wd_1/data_CLMS/functional/7T_func/4_MC/aan_038_m24_STC_MC &\n",
      "mcflirt -in /media/forest/wd_1/data_CLMS/functional/7T_func/1_STC/aao_039_m00_fmri_stc.nii.gz -o /media/forest/wd_1/data_CLMS/functional/7T_func/4_MC/aao_039_m00_STC_MC &\n",
      "mcflirt -in /media/forest/wd_1/data_CLMS/functional/7T_func/1_STC/aao_039_m24_fmri_stc.nii.gz -o /media/forest/wd_1/data_CLMS/functional/7T_func/4_MC/aao_039_m24_STC_MC &\n",
      "mcflirt -in /media/forest/wd_1/data_CLMS/functional/7T_func/1_STC/aar_042_m00_fmri_stc.nii.gz -o /media/forest/wd_1/data_CLMS/functional/7T_func/4_MC/aar_042_m00_STC_MC &\n",
      "mcflirt -in /media/forest/wd_1/data_CLMS/functional/7T_func/1_STC/aas_043_m00_fmri_stc.nii.gz -o /media/forest/wd_1/data_CLMS/functional/7T_func/4_MC/aas_043_m00_STC_MC &\n",
      "mcflirt -in /media/forest/wd_1/data_CLMS/functional/7T_func/1_STC/aat_044_m24_fmri_stc.nii.gz -o /media/forest/wd_1/data_CLMS/functional/7T_func/4_MC/aat_044_m24_STC_MC &\n",
      "mcflirt -in /media/forest/wd_1/data_CLMS/functional/7T_func/1_STC/aaw_047_m00_fmri_stc.nii.gz -o /media/forest/wd_1/data_CLMS/functional/7T_func/4_MC/aaw_047_m00_STC_MC &\n",
      "mcflirt -in /media/forest/wd_1/data_CLMS/functional/7T_func/1_STC/aay_049_m00_fmri_stc.nii.gz -o /media/forest/wd_1/data_CLMS/functional/7T_func/4_MC/aay_049_m00_STC_MC &\n",
      "mcflirt -in /media/forest/wd_1/data_CLMS/functional/7T_func/1_STC/abc_001_m24_fmri_stc.nii.gz -o /media/forest/wd_1/data_CLMS/functional/7T_func/4_MC/abc_001_m24_STC_MC &\n",
      "mcflirt -in /media/forest/wd_1/data_CLMS/functional/7T_func/1_STC/bbb_052_m00_fmri_stc.nii.gz -o /media/forest/wd_1/data_CLMS/functional/7T_func/4_MC/bbb_052_m00_STC_MC &\n",
      "mcflirt -in /media/forest/wd_1/data_CLMS/functional/7T_func/1_STC/bbc_053_m00_fmri_stc.nii.gz -o /media/forest/wd_1/data_CLMS/functional/7T_func/4_MC/bbc_053_m00_STC_MC &\n",
      "mcflirt -in /media/forest/wd_1/data_CLMS/functional/7T_func/1_STC/bbd_054_m00_fmri_stc.nii.gz -o /media/forest/wd_1/data_CLMS/functional/7T_func/4_MC/bbd_054_m00_STC_MC &\n",
      "mcflirt -in /media/forest/wd_1/data_CLMS/functional/7T_func/1_STC/bbe_055_m00_fmri_stc.nii.gz -o /media/forest/wd_1/data_CLMS/functional/7T_func/4_MC/bbe_055_m00_STC_MC &\n",
      "mcflirt -in /media/forest/wd_1/data_CLMS/functional/7T_func/1_STC/bbf_056_m00_fmri_stc.nii.gz -o /media/forest/wd_1/data_CLMS/functional/7T_func/4_MC/bbf_056_m00_STC_MC &\n",
      "mcflirt -in /media/forest/wd_1/data_CLMS/functional/7T_func/1_STC/bbk_061_m00_fmri_stc.nii.gz -o /media/forest/wd_1/data_CLMS/functional/7T_func/4_MC/bbk_061_m00_STC_MC &\n",
      "mcflirt -in /media/forest/wd_1/data_CLMS/functional/7T_func/1_STC/bbl_062_m00_fmri_stc.nii.gz -o /media/forest/wd_1/data_CLMS/functional/7T_func/4_MC/bbl_062_m00_STC_MC &\n",
      "mcflirt -in /media/forest/wd_1/data_CLMS/functional/7T_func/1_STC/bcd_002_m24_fmri_stc.nii.gz -o /media/forest/wd_1/data_CLMS/functional/7T_func/4_MC/bcd_002_m24_STC_MC &\n",
      "mcflirt -in /media/forest/wd_1/data_CLMS/functional/7T_func/1_STC/cde_003_m24_fmri_stc.nii.gz -o /media/forest/wd_1/data_CLMS/functional/7T_func/4_MC/cde_003_m24_STC_MC &\n",
      "mcflirt -in /media/forest/wd_1/data_CLMS/functional/7T_func/1_STC/def_004_m00_fmri_stc.nii.gz -o /media/forest/wd_1/data_CLMS/functional/7T_func/4_MC/def_004_m00_STC_MC &\n",
      "mcflirt -in /media/forest/wd_1/data_CLMS/functional/7T_func/1_STC/def_004_m24_fmri_stc.nii.gz -o /media/forest/wd_1/data_CLMS/functional/7T_func/4_MC/def_004_m24_STC_MC &\n",
      "mcflirt -in /media/forest/wd_1/data_CLMS/functional/7T_func/1_STC/efg_005_m00_fmri_stc.nii.gz -o /media/forest/wd_1/data_CLMS/functional/7T_func/4_MC/efg_005_m00_STC_MC &\n",
      "mcflirt -in /media/forest/wd_1/data_CLMS/functional/7T_func/1_STC/efg_005_m24_fmri_stc.nii.gz -o /media/forest/wd_1/data_CLMS/functional/7T_func/4_MC/efg_005_m24_STC_MC &\n",
      "mcflirt -in /media/forest/wd_1/data_CLMS/functional/7T_func/1_STC/fgh_006_m00_fmri_stc.nii.gz -o /media/forest/wd_1/data_CLMS/functional/7T_func/4_MC/fgh_006_m00_STC_MC &\n",
      "mcflirt -in /media/forest/wd_1/data_CLMS/functional/7T_func/1_STC/ghi_007_m00_fmri_stc.nii.gz -o /media/forest/wd_1/data_CLMS/functional/7T_func/4_MC/ghi_007_m00_STC_MC &\n",
      "mcflirt -in /media/forest/wd_1/data_CLMS/functional/7T_func/1_STC/ghi_007_m24_fmri_stc.nii.gz -o /media/forest/wd_1/data_CLMS/functional/7T_func/4_MC/ghi_007_m24_STC_MC &\n",
      "mcflirt -in /media/forest/wd_1/data_CLMS/functional/7T_func/1_STC/ijk_009_m24_fmri_stc.nii.gz -o /media/forest/wd_1/data_CLMS/functional/7T_func/4_MC/ijk_009_m24_STC_MC &\n",
      "mcflirt -in /media/forest/wd_1/data_CLMS/functional/7T_func/1_STC/klm_011_m24_fmri_stc.nii.gz -o /media/forest/wd_1/data_CLMS/functional/7T_func/4_MC/klm_011_m24_STC_MC &\n",
      "mcflirt -in /media/forest/wd_1/data_CLMS/functional/7T_func/1_STC/lmn_012_m00_fmri_stc.nii.gz -o /media/forest/wd_1/data_CLMS/functional/7T_func/4_MC/lmn_012_m00_STC_MC &\n",
      "mcflirt -in /media/forest/wd_1/data_CLMS/functional/7T_func/1_STC/mno_013_m00_fmri_stc.nii.gz -o /media/forest/wd_1/data_CLMS/functional/7T_func/4_MC/mno_013_m00_STC_MC &\n",
      "mcflirt -in /media/forest/wd_1/data_CLMS/functional/7T_func/1_STC/opq_015_m00_fmri_stc.nii.gz -o /media/forest/wd_1/data_CLMS/functional/7T_func/4_MC/opq_015_m00_STC_MC &\n",
      "mcflirt -in /media/forest/wd_1/data_CLMS/functional/7T_func/1_STC/opq_015_m24_fmri_stc.nii.gz -o /media/forest/wd_1/data_CLMS/functional/7T_func/4_MC/opq_015_m24_STC_MC &\n",
      "mcflirt -in /media/forest/wd_1/data_CLMS/functional/7T_func/1_STC/pqr_016_m00_fmri_stc.nii.gz -o /media/forest/wd_1/data_CLMS/functional/7T_func/4_MC/pqr_016_m00_STC_MC &\n",
      "mcflirt -in /media/forest/wd_1/data_CLMS/functional/7T_func/1_STC/pqr_016_m24_fmri_stc.nii.gz -o /media/forest/wd_1/data_CLMS/functional/7T_func/4_MC/pqr_016_m24_STC_MC &\n",
      "mcflirt -in /media/forest/wd_1/data_CLMS/functional/7T_func/1_STC/rst_018_m00_fmri_stc.nii.gz -o /media/forest/wd_1/data_CLMS/functional/7T_func/4_MC/rst_018_m00_STC_MC &\n",
      "mcflirt -in /media/forest/wd_1/data_CLMS/functional/7T_func/1_STC/rst_018_m24_fmri_stc.nii.gz -o /media/forest/wd_1/data_CLMS/functional/7T_func/4_MC/rst_018_m24_STC_MC &\n",
      "mcflirt -in /media/forest/wd_1/data_CLMS/functional/7T_func/1_STC/stu_019_m00_fmri_stc.nii.gz -o /media/forest/wd_1/data_CLMS/functional/7T_func/4_MC/stu_019_m00_STC_MC &\n",
      "mcflirt -in /media/forest/wd_1/data_CLMS/functional/7T_func/1_STC/stu_019_m24_fmri_stc.nii.gz -o /media/forest/wd_1/data_CLMS/functional/7T_func/4_MC/stu_019_m24_STC_MC &\n",
      "mcflirt -in /media/forest/wd_1/data_CLMS/functional/7T_func/1_STC/tuv_020_m00_fmri_stc.nii.gz -o /media/forest/wd_1/data_CLMS/functional/7T_func/4_MC/tuv_020_m00_STC_MC &\n",
      "mcflirt -in /media/forest/wd_1/data_CLMS/functional/7T_func/1_STC/tuv_020_m24_fmri_stc.nii.gz -o /media/forest/wd_1/data_CLMS/functional/7T_func/4_MC/tuv_020_m24_STC_MC &\n",
      "mcflirt -in /media/forest/wd_1/data_CLMS/functional/7T_func/1_STC/uvw_021_m00_fmri_stc.nii.gz -o /media/forest/wd_1/data_CLMS/functional/7T_func/4_MC/uvw_021_m00_STC_MC &\n",
      "mcflirt -in /media/forest/wd_1/data_CLMS/functional/7T_func/1_STC/uvw_021_m24_fmri_stc.nii.gz -o /media/forest/wd_1/data_CLMS/functional/7T_func/4_MC/uvw_021_m24_STC_MC &\n",
      "mcflirt -in /media/forest/wd_1/data_CLMS/functional/7T_func/1_STC/vwx_022_m00_fmri_stc.nii.gz -o /media/forest/wd_1/data_CLMS/functional/7T_func/4_MC/vwx_022_m00_STC_MC &\n",
      "mcflirt -in /media/forest/wd_1/data_CLMS/functional/7T_func/1_STC/wxy_023_m00_fmri_stc.nii.gz -o /media/forest/wd_1/data_CLMS/functional/7T_func/4_MC/wxy_023_m00_STC_MC &\n",
      "mcflirt -in /media/forest/wd_1/data_CLMS/functional/7T_func/1_STC/xyz_024_m00_fmri_stc.nii.gz -o /media/forest/wd_1/data_CLMS/functional/7T_func/4_MC/xyz_024_m00_STC_MC &\n",
      "mcflirt -in /media/forest/wd_1/data_CLMS/functional/7T_func/1_STC/xyz_024_m24_fmri_stc.nii.gz -o /media/forest/wd_1/data_CLMS/functional/7T_func/4_MC/xyz_024_m24_STC_MC &\n",
      "mcflirt -in /media/forest/wd_1/data_CLMS/functional/7T_func/1_STC/aal_036_m00_fmri_stc.nii.gz -o /media/forest/wd_1/data_CLMS/functional/7T_func/4_MC/aal_036_m00_STC_MC &\n",
      "mcflirt -in /media/forest/wd_1/data_CLMS/functional/7T_func/1_STC/bbi_059_m00_fmri_stc.nii.gz -o /media/forest/wd_1/data_CLMS/functional/7T_func/4_MC/bbi_059_m00_STC_MC &\n",
      "mcflirt -in /media/forest/wd_1/data_CLMS/functional/7T_func/1_STC/lmn_012_m24_fmri_stc.nii.gz -o /media/forest/wd_1/data_CLMS/functional/7T_func/4_MC/lmn_012_m24_STC_MC &\n"
     ]
    }
   ],
   "source": [
    "# generate code to apply motion correction to slicetiming corrected file\n",
    "for subject, slicetiming_corrected_file in zip(df_pp_fmri['subject_id'], df_pp_fmri['fp_raw_STC']):\n",
    "    print(f'mcflirt -in {slicetiming_corrected_file} -o {fmri_dir}/4_MC/{subject}_STC_MC &')"
   ]
  },
  {
   "cell_type": "markdown",
   "metadata": {},
   "source": [
    "## Motion Outlier Identification using FSL_motion_outliers"
   ]
  },
  {
   "cell_type": "code",
   "execution_count": 85,
   "metadata": {},
   "outputs": [
    {
     "name": "stdout",
     "output_type": "stream",
     "text": [
      "fsl_motion_outliers -i /media/forest/wd_1/data_CLMS/functional/7T_func/0_raw/aab_026_m00_7T_FMRI_raw.nii -o /media/forest/wd_1/data_CLMS/functional/7T_func/2_MC_outliers/aab_026_m00_motion_outliers -s -p --nomoco &&\n",
      "fsl_motion_outliers -i /media/forest/wd_1/data_CLMS/functional/7T_func/0_raw/aac_027_m00_7T_FMRI_raw.nii -o /media/forest/wd_1/data_CLMS/functional/7T_func/2_MC_outliers/aac_027_m00_motion_outliers -s -p --nomoco &&\n",
      "fsl_motion_outliers -i /media/forest/wd_1/data_CLMS/functional/7T_func/0_raw/aac_027_m24_7T_FMRI_raw.nii -o /media/forest/wd_1/data_CLMS/functional/7T_func/2_MC_outliers/aac_027_m24_motion_outliers -s -p --nomoco &&\n",
      "fsl_motion_outliers -i /media/forest/wd_1/data_CLMS/functional/7T_func/0_raw/aad_028_m00_7T_FMRI_raw.nii -o /media/forest/wd_1/data_CLMS/functional/7T_func/2_MC_outliers/aad_028_m00_motion_outliers -s -p --nomoco &&\n",
      "fsl_motion_outliers -i /media/forest/wd_1/data_CLMS/functional/7T_func/0_raw/aad_028_m24_7T_FMRI_raw.nii -o /media/forest/wd_1/data_CLMS/functional/7T_func/2_MC_outliers/aad_028_m24_motion_outliers -s -p --nomoco &&\n",
      "fsl_motion_outliers -i /media/forest/wd_1/data_CLMS/functional/7T_func/0_raw/aae_029_m00_7T_FMRI_raw.nii -o /media/forest/wd_1/data_CLMS/functional/7T_func/2_MC_outliers/aae_029_m00_motion_outliers -s -p --nomoco &&\n",
      "fsl_motion_outliers -i /media/forest/wd_1/data_CLMS/functional/7T_func/0_raw/aaf_030_m00_7T_FMRI_raw.nii -o /media/forest/wd_1/data_CLMS/functional/7T_func/2_MC_outliers/aaf_030_m00_motion_outliers -s -p --nomoco &&\n",
      "fsl_motion_outliers -i /media/forest/wd_1/data_CLMS/functional/7T_func/0_raw/aaf_030_m24_7T_FMRI_raw.nii -o /media/forest/wd_1/data_CLMS/functional/7T_func/2_MC_outliers/aaf_030_m24_motion_outliers -s -p --nomoco &&\n",
      "fsl_motion_outliers -i /media/forest/wd_1/data_CLMS/functional/7T_func/0_raw/aah_032_m00_7T_FMRI_raw.nii -o /media/forest/wd_1/data_CLMS/functional/7T_func/2_MC_outliers/aah_032_m00_motion_outliers -s -p --nomoco &&\n",
      "fsl_motion_outliers -i /media/forest/wd_1/data_CLMS/functional/7T_func/0_raw/aah_032_m24_7T_FMRI_raw.nii -o /media/forest/wd_1/data_CLMS/functional/7T_func/2_MC_outliers/aah_032_m24_motion_outliers -s -p --nomoco &&\n",
      "fsl_motion_outliers -i /media/forest/wd_1/data_CLMS/functional/7T_func/0_raw/aai_033_m00_7T_FMRI_raw.nii -o /media/forest/wd_1/data_CLMS/functional/7T_func/2_MC_outliers/aai_033_m00_motion_outliers -s -p --nomoco &&\n",
      "fsl_motion_outliers -i /media/forest/wd_1/data_CLMS/functional/7T_func/0_raw/aai_033_m24_7T_FMRI_raw.nii -o /media/forest/wd_1/data_CLMS/functional/7T_func/2_MC_outliers/aai_033_m24_motion_outliers -s -p --nomoco &&\n",
      "fsl_motion_outliers -i /media/forest/wd_1/data_CLMS/functional/7T_func/0_raw/aaj_034_m00_7T_FMRI_raw.nii -o /media/forest/wd_1/data_CLMS/functional/7T_func/2_MC_outliers/aaj_034_m00_motion_outliers -s -p --nomoco &&\n",
      "fsl_motion_outliers -i /media/forest/wd_1/data_CLMS/functional/7T_func/0_raw/aaj_034_m24_7T_FMRI_raw.nii -o /media/forest/wd_1/data_CLMS/functional/7T_func/2_MC_outliers/aaj_034_m24_motion_outliers -s -p --nomoco &&\n",
      "fsl_motion_outliers -i /media/forest/wd_1/data_CLMS/functional/7T_func/0_raw/aal_036_m24_7T_FMRI_raw.nii -o /media/forest/wd_1/data_CLMS/functional/7T_func/2_MC_outliers/aal_036_m24_motion_outliers -s -p --nomoco &&\n",
      "fsl_motion_outliers -i /media/forest/wd_1/data_CLMS/functional/7T_func/0_raw/aam_037_m00_7T_FMRI_raw.nii -o /media/forest/wd_1/data_CLMS/functional/7T_func/2_MC_outliers/aam_037_m00_motion_outliers -s -p --nomoco &&\n",
      "fsl_motion_outliers -i /media/forest/wd_1/data_CLMS/functional/7T_func/0_raw/aan_038_m24_7T_FMRI_raw.nii -o /media/forest/wd_1/data_CLMS/functional/7T_func/2_MC_outliers/aan_038_m24_motion_outliers -s -p --nomoco &&\n",
      "fsl_motion_outliers -i /media/forest/wd_1/data_CLMS/functional/7T_func/0_raw/aao_039_m00_7T_FMRI_raw.nii -o /media/forest/wd_1/data_CLMS/functional/7T_func/2_MC_outliers/aao_039_m00_motion_outliers -s -p --nomoco &&\n",
      "fsl_motion_outliers -i /media/forest/wd_1/data_CLMS/functional/7T_func/0_raw/aao_039_m24_7T_FMRI_raw.nii -o /media/forest/wd_1/data_CLMS/functional/7T_func/2_MC_outliers/aao_039_m24_motion_outliers -s -p --nomoco &&\n",
      "fsl_motion_outliers -i /media/forest/wd_1/data_CLMS/functional/7T_func/0_raw/aar_042_m00_7T_FMRI_raw.nii -o /media/forest/wd_1/data_CLMS/functional/7T_func/2_MC_outliers/aar_042_m00_motion_outliers -s -p --nomoco &&\n",
      "fsl_motion_outliers -i /media/forest/wd_1/data_CLMS/functional/7T_func/0_raw/aas_043_m00_7T_FMRI_raw.nii -o /media/forest/wd_1/data_CLMS/functional/7T_func/2_MC_outliers/aas_043_m00_motion_outliers -s -p --nomoco &&\n",
      "fsl_motion_outliers -i /media/forest/wd_1/data_CLMS/functional/7T_func/0_raw/aat_044_m24_7T_FMRI_raw.nii -o /media/forest/wd_1/data_CLMS/functional/7T_func/2_MC_outliers/aat_044_m24_motion_outliers -s -p --nomoco &&\n",
      "fsl_motion_outliers -i /media/forest/wd_1/data_CLMS/functional/7T_func/0_raw/aaw_047_m00_7T_FMRI_raw.nii -o /media/forest/wd_1/data_CLMS/functional/7T_func/2_MC_outliers/aaw_047_m00_motion_outliers -s -p --nomoco &&\n",
      "fsl_motion_outliers -i /media/forest/wd_1/data_CLMS/functional/7T_func/0_raw/aay_049_m00_7T_FMRI_raw.nii -o /media/forest/wd_1/data_CLMS/functional/7T_func/2_MC_outliers/aay_049_m00_motion_outliers -s -p --nomoco &&\n",
      "fsl_motion_outliers -i /media/forest/wd_1/data_CLMS/functional/7T_func/0_raw/abc_001_m24_7T_FMRI_raw.nii -o /media/forest/wd_1/data_CLMS/functional/7T_func/2_MC_outliers/abc_001_m24_motion_outliers -s -p --nomoco &&\n",
      "fsl_motion_outliers -i /media/forest/wd_1/data_CLMS/functional/7T_func/0_raw/bbb_052_m00_7T_FMRI_raw.nii -o /media/forest/wd_1/data_CLMS/functional/7T_func/2_MC_outliers/bbb_052_m00_motion_outliers -s -p --nomoco &&\n",
      "fsl_motion_outliers -i /media/forest/wd_1/data_CLMS/functional/7T_func/0_raw/bbc_053_m00_7T_FMRI_raw.nii -o /media/forest/wd_1/data_CLMS/functional/7T_func/2_MC_outliers/bbc_053_m00_motion_outliers -s -p --nomoco &&\n",
      "fsl_motion_outliers -i /media/forest/wd_1/data_CLMS/functional/7T_func/0_raw/bbd_054_m00_7T_FMRI_raw.nii -o /media/forest/wd_1/data_CLMS/functional/7T_func/2_MC_outliers/bbd_054_m00_motion_outliers -s -p --nomoco &&\n",
      "fsl_motion_outliers -i /media/forest/wd_1/data_CLMS/functional/7T_func/0_raw/bbe_055_m00_7T_FMRI_raw.nii -o /media/forest/wd_1/data_CLMS/functional/7T_func/2_MC_outliers/bbe_055_m00_motion_outliers -s -p --nomoco &&\n",
      "fsl_motion_outliers -i /media/forest/wd_1/data_CLMS/functional/7T_func/0_raw/bbf_056_m00_7T_FMRI_raw.nii -o /media/forest/wd_1/data_CLMS/functional/7T_func/2_MC_outliers/bbf_056_m00_motion_outliers -s -p --nomoco &&\n",
      "fsl_motion_outliers -i /media/forest/wd_1/data_CLMS/functional/7T_func/0_raw/bbk_061_m00_7T_FMRI_raw.nii -o /media/forest/wd_1/data_CLMS/functional/7T_func/2_MC_outliers/bbk_061_m00_motion_outliers -s -p --nomoco &&\n",
      "fsl_motion_outliers -i /media/forest/wd_1/data_CLMS/functional/7T_func/0_raw/bbl_062_m00_7T_FMRI_raw.nii -o /media/forest/wd_1/data_CLMS/functional/7T_func/2_MC_outliers/bbl_062_m00_motion_outliers -s -p --nomoco &&\n",
      "fsl_motion_outliers -i /media/forest/wd_1/data_CLMS/functional/7T_func/0_raw/bcd_002_m24_7T_FMRI_raw.nii -o /media/forest/wd_1/data_CLMS/functional/7T_func/2_MC_outliers/bcd_002_m24_motion_outliers -s -p --nomoco &&\n",
      "fsl_motion_outliers -i /media/forest/wd_1/data_CLMS/functional/7T_func/0_raw/cde_003_m24_7T_FMRI_raw.nii -o /media/forest/wd_1/data_CLMS/functional/7T_func/2_MC_outliers/cde_003_m24_motion_outliers -s -p --nomoco &&\n",
      "fsl_motion_outliers -i /media/forest/wd_1/data_CLMS/functional/7T_func/0_raw/def_004_m00_7T_FMRI_raw.nii -o /media/forest/wd_1/data_CLMS/functional/7T_func/2_MC_outliers/def_004_m00_motion_outliers -s -p --nomoco &&\n",
      "fsl_motion_outliers -i /media/forest/wd_1/data_CLMS/functional/7T_func/0_raw/def_004_m24_7T_FMRI_raw.nii -o /media/forest/wd_1/data_CLMS/functional/7T_func/2_MC_outliers/def_004_m24_motion_outliers -s -p --nomoco &&\n",
      "fsl_motion_outliers -i /media/forest/wd_1/data_CLMS/functional/7T_func/0_raw/efg_005_m00_7T_FMRI_raw.nii -o /media/forest/wd_1/data_CLMS/functional/7T_func/2_MC_outliers/efg_005_m00_motion_outliers -s -p --nomoco &&\n",
      "fsl_motion_outliers -i /media/forest/wd_1/data_CLMS/functional/7T_func/0_raw/efg_005_m24_7T_FMRI_raw.nii -o /media/forest/wd_1/data_CLMS/functional/7T_func/2_MC_outliers/efg_005_m24_motion_outliers -s -p --nomoco &&\n",
      "fsl_motion_outliers -i /media/forest/wd_1/data_CLMS/functional/7T_func/0_raw/fgh_006_m00_7T_FMRI_raw.nii -o /media/forest/wd_1/data_CLMS/functional/7T_func/2_MC_outliers/fgh_006_m00_motion_outliers -s -p --nomoco &&\n",
      "fsl_motion_outliers -i /media/forest/wd_1/data_CLMS/functional/7T_func/0_raw/ghi_007_m00_7T_FMRI_raw.nii -o /media/forest/wd_1/data_CLMS/functional/7T_func/2_MC_outliers/ghi_007_m00_motion_outliers -s -p --nomoco &&\n",
      "fsl_motion_outliers -i /media/forest/wd_1/data_CLMS/functional/7T_func/0_raw/ghi_007_m24_7T_FMRI_raw.nii -o /media/forest/wd_1/data_CLMS/functional/7T_func/2_MC_outliers/ghi_007_m24_motion_outliers -s -p --nomoco &&\n",
      "fsl_motion_outliers -i /media/forest/wd_1/data_CLMS/functional/7T_func/0_raw/ijk_009_m24_7T_FMRI_raw.nii -o /media/forest/wd_1/data_CLMS/functional/7T_func/2_MC_outliers/ijk_009_m24_motion_outliers -s -p --nomoco &&\n",
      "fsl_motion_outliers -i /media/forest/wd_1/data_CLMS/functional/7T_func/0_raw/klm_011_m24_7T_FMRI_raw.nii -o /media/forest/wd_1/data_CLMS/functional/7T_func/2_MC_outliers/klm_011_m24_motion_outliers -s -p --nomoco &&\n",
      "fsl_motion_outliers -i /media/forest/wd_1/data_CLMS/functional/7T_func/0_raw/lmn_012_m00_7T_FMRI_raw.nii -o /media/forest/wd_1/data_CLMS/functional/7T_func/2_MC_outliers/lmn_012_m00_motion_outliers -s -p --nomoco &&\n",
      "fsl_motion_outliers -i /media/forest/wd_1/data_CLMS/functional/7T_func/0_raw/mno_013_m00_7T_FMRI_raw.nii -o /media/forest/wd_1/data_CLMS/functional/7T_func/2_MC_outliers/mno_013_m00_motion_outliers -s -p --nomoco &&\n",
      "fsl_motion_outliers -i /media/forest/wd_1/data_CLMS/functional/7T_func/0_raw/opq_015_m00_7T_FMRI_raw.nii -o /media/forest/wd_1/data_CLMS/functional/7T_func/2_MC_outliers/opq_015_m00_motion_outliers -s -p --nomoco &&\n",
      "fsl_motion_outliers -i /media/forest/wd_1/data_CLMS/functional/7T_func/0_raw/opq_015_m24_7T_FMRI_raw.nii -o /media/forest/wd_1/data_CLMS/functional/7T_func/2_MC_outliers/opq_015_m24_motion_outliers -s -p --nomoco &&\n",
      "fsl_motion_outliers -i /media/forest/wd_1/data_CLMS/functional/7T_func/0_raw/pqr_016_m00_7T_FMRI_raw.nii -o /media/forest/wd_1/data_CLMS/functional/7T_func/2_MC_outliers/pqr_016_m00_motion_outliers -s -p --nomoco &&\n",
      "fsl_motion_outliers -i /media/forest/wd_1/data_CLMS/functional/7T_func/0_raw/pqr_016_m24_7T_FMRI_raw.nii -o /media/forest/wd_1/data_CLMS/functional/7T_func/2_MC_outliers/pqr_016_m24_motion_outliers -s -p --nomoco &&\n",
      "fsl_motion_outliers -i /media/forest/wd_1/data_CLMS/functional/7T_func/0_raw/rst_018_m00_7T_FMRI_raw.nii -o /media/forest/wd_1/data_CLMS/functional/7T_func/2_MC_outliers/rst_018_m00_motion_outliers -s -p --nomoco &&\n",
      "fsl_motion_outliers -i /media/forest/wd_1/data_CLMS/functional/7T_func/0_raw/rst_018_m24_7T_FMRI_raw.nii -o /media/forest/wd_1/data_CLMS/functional/7T_func/2_MC_outliers/rst_018_m24_motion_outliers -s -p --nomoco &&\n",
      "fsl_motion_outliers -i /media/forest/wd_1/data_CLMS/functional/7T_func/0_raw/stu_019_m00_7T_FMRI_raw.nii -o /media/forest/wd_1/data_CLMS/functional/7T_func/2_MC_outliers/stu_019_m00_motion_outliers -s -p --nomoco &&\n",
      "fsl_motion_outliers -i /media/forest/wd_1/data_CLMS/functional/7T_func/0_raw/stu_019_m24_7T_FMRI_raw.nii -o /media/forest/wd_1/data_CLMS/functional/7T_func/2_MC_outliers/stu_019_m24_motion_outliers -s -p --nomoco &&\n",
      "fsl_motion_outliers -i /media/forest/wd_1/data_CLMS/functional/7T_func/0_raw/tuv_020_m00_7T_FMRI_raw.nii -o /media/forest/wd_1/data_CLMS/functional/7T_func/2_MC_outliers/tuv_020_m00_motion_outliers -s -p --nomoco &&\n",
      "fsl_motion_outliers -i /media/forest/wd_1/data_CLMS/functional/7T_func/0_raw/tuv_020_m24_7T_FMRI_raw.nii -o /media/forest/wd_1/data_CLMS/functional/7T_func/2_MC_outliers/tuv_020_m24_motion_outliers -s -p --nomoco &&\n",
      "fsl_motion_outliers -i /media/forest/wd_1/data_CLMS/functional/7T_func/0_raw/uvw_021_m00_7T_FMRI_raw.nii -o /media/forest/wd_1/data_CLMS/functional/7T_func/2_MC_outliers/uvw_021_m00_motion_outliers -s -p --nomoco &&\n",
      "fsl_motion_outliers -i /media/forest/wd_1/data_CLMS/functional/7T_func/0_raw/uvw_021_m24_7T_FMRI_raw.nii -o /media/forest/wd_1/data_CLMS/functional/7T_func/2_MC_outliers/uvw_021_m24_motion_outliers -s -p --nomoco &&\n",
      "fsl_motion_outliers -i /media/forest/wd_1/data_CLMS/functional/7T_func/0_raw/vwx_022_m00_7T_FMRI_raw.nii -o /media/forest/wd_1/data_CLMS/functional/7T_func/2_MC_outliers/vwx_022_m00_motion_outliers -s -p --nomoco &&\n",
      "fsl_motion_outliers -i /media/forest/wd_1/data_CLMS/functional/7T_func/0_raw/wxy_023_m00_7T_FMRI_raw.nii -o /media/forest/wd_1/data_CLMS/functional/7T_func/2_MC_outliers/wxy_023_m00_motion_outliers -s -p --nomoco &&\n",
      "fsl_motion_outliers -i /media/forest/wd_1/data_CLMS/functional/7T_func/0_raw/xyz_024_m00_7T_FMRI_raw.nii -o /media/forest/wd_1/data_CLMS/functional/7T_func/2_MC_outliers/xyz_024_m00_motion_outliers -s -p --nomoco &&\n",
      "fsl_motion_outliers -i /media/forest/wd_1/data_CLMS/functional/7T_func/0_raw/xyz_024_m24_7T_FMRI_raw.nii -o /media/forest/wd_1/data_CLMS/functional/7T_func/2_MC_outliers/xyz_024_m24_motion_outliers -s -p --nomoco &&\n",
      "fsl_motion_outliers -i /media/forest/wd_1/data_CLMS/functional/7T_func/0_raw/aal_036_m00_7T_FMRI_raw.nii -o /media/forest/wd_1/data_CLMS/functional/7T_func/2_MC_outliers/aal_036_m00_motion_outliers -s -p --nomoco &&\n",
      "fsl_motion_outliers -i /media/forest/wd_1/data_CLMS/functional/7T_func/0_raw/bbi_059_m00_7T_FMRI_raw.nii -o /media/forest/wd_1/data_CLMS/functional/7T_func/2_MC_outliers/bbi_059_m00_motion_outliers -s -p --nomoco &&\n",
      "fsl_motion_outliers -i /media/forest/wd_1/data_CLMS/functional/7T_func/0_raw/lmn_012_m24_7T_FMRI_raw.nii -o /media/forest/wd_1/data_CLMS/functional/7T_func/2_MC_outliers/lmn_012_m24_motion_outliers -s -p --nomoco &&\n"
     ]
    }
   ],
   "source": [
    "# generate code and use the original raw image for this\n",
    "for subject, file in zip(df_pp_fmri['subject_id'], df_pp_fmri['fp_raw']):\n",
    "    print(f'fsl_motion_outliers -i {file} -o {fmri_dir}/4_MC/{subject}_func_STC_MC &&')"
   ]
  },
  {
   "cell_type": "code",
   "execution_count": 104,
   "metadata": {},
   "outputs": [],
   "source": [
    "# append motion-corrected images to df\n",
    "df_pp_fmri = append_column(df_pp_fmri, '4_MC', 'func_STC_MC', 'STC_MC.nii')"
   ]
  },
  {
   "cell_type": "code",
   "execution_count": 105,
   "metadata": {},
   "outputs": [],
   "source": [
    "df_pp_fmri = append_column(df_pp_fmri, '2_MC_outliers', 'motion_outliers', 'motion_outliers')"
   ]
  },
  {
   "cell_type": "markdown",
   "metadata": {},
   "source": [
    "# Boundary Based Registration (fmri to anatomical transformation)"
   ]
  },
  {
   "cell_type": "markdown",
   "metadata": {},
   "source": [
    "Required inputs: \n",
    "- functional image--use single-volume (volume # 240) from functional scan\n",
    "    - middle volume in `func/3_mid_volume`\n",
    "    - skullstripped in `func/5_mid_volume_SS`\n",
    "- t1 wholehead image--use `anat/1_robustfov`\n",
    "- t1 brain only--use `anat/2_skullstripped` \n",
    "- output path--use `func/7_fmri2anat_xfm`"
   ]
  },
  {
   "cell_type": "code",
   "execution_count": 27,
   "metadata": {},
   "outputs": [],
   "source": [
    "# get filepaths for the T1 images and append these to the column\n",
    "df_pp_fmri = append_anat_column(df_pp_fmri, '1_robustfov_fslreorient2std', 'fp_t1_wholebrain', '.nii')"
   ]
  },
  {
   "cell_type": "code",
   "execution_count": 29,
   "metadata": {},
   "outputs": [],
   "source": [
    "df_pp_fmri = append_anat_column(df_pp_fmri, '2_skullstripped', 'fp_t1_skullstripped', 'BrainExtractionBrain.nii')"
   ]
  },
  {
   "cell_type": "code",
   "execution_count": 36,
   "metadata": {},
   "outputs": [
    {
     "data": {
      "text/plain": [
       "(64, 6)"
      ]
     },
     "execution_count": 36,
     "metadata": {},
     "output_type": "execute_result"
    }
   ],
   "source": [
    "df_pp_fmri.shape"
   ]
  },
  {
   "cell_type": "code",
   "execution_count": 34,
   "metadata": {},
   "outputs": [
    {
     "name": "stdout",
     "output_type": "stream",
     "text": [
      "epi_reg --epi=/media/forest/wd_1/data_CLMS/functional/7T_func/5_mid_volume_SS/aab_026_m00_func_middle_volume_skullstripped.nii.gz --t1=/media/forest/wd_1/data_CLMS/anatomical/7T_T1_MPR_uniden/1_robustfov_fslreorient2std/aab_026_m00_7T_mprage_uniden_robustfov.nii.gz --t1brain=/media/forest/wd_1/data_CLMS/anatomical/7T_T1_MPR_uniden/2_skullstripped/aab_026_m00_T1_mprage_uniden_skullstripped_after_robustfov_BrainExtractionBrain.nii.gz --out=/media/forest/wd_1/data_CLMS/functional/7T_func/7_fmri2anat_xfm/aab_026_m00_fmri2anat &\n",
      "epi_reg --epi=/media/forest/wd_1/data_CLMS/functional/7T_func/5_mid_volume_SS/aac_027_m00_func_middle_volume_skullstripped.nii.gz --t1=/media/forest/wd_1/data_CLMS/anatomical/7T_T1_MPR_uniden/1_robustfov_fslreorient2std/aac_027_m00_7T_mprage_uniden_robustfov.nii.gz --t1brain=/media/forest/wd_1/data_CLMS/anatomical/7T_T1_MPR_uniden/2_skullstripped/aac_027_m00_T1_mprage_uniden_skullstripped_after_robustfov_BrainExtractionBrain.nii.gz --out=/media/forest/wd_1/data_CLMS/functional/7T_func/7_fmri2anat_xfm/aac_027_m00_fmri2anat &\n",
      "epi_reg --epi=/media/forest/wd_1/data_CLMS/functional/7T_func/5_mid_volume_SS/aac_027_m24_func_middle_volume_skullstripped.nii.gz --t1=/media/forest/wd_1/data_CLMS/anatomical/7T_T1_MPR_uniden/1_robustfov_fslreorient2std/aac_027_m24_7T_mprage_uniden_robustfov.nii.gz --t1brain=/media/forest/wd_1/data_CLMS/anatomical/7T_T1_MPR_uniden/2_skullstripped/aac_027_m24_T1_mprage_uniden_skullstripped_after_robustfov_BrainExtractionBrain.nii.gz --out=/media/forest/wd_1/data_CLMS/functional/7T_func/7_fmri2anat_xfm/aac_027_m24_fmri2anat &\n",
      "epi_reg --epi=/media/forest/wd_1/data_CLMS/functional/7T_func/5_mid_volume_SS/aad_028_m00_func_middle_volume_skullstripped.nii.gz --t1=/media/forest/wd_1/data_CLMS/anatomical/7T_T1_MPR_uniden/1_robustfov_fslreorient2std/aad_028_m00_7T_mprage_uniden_robustfov.nii.gz --t1brain=/media/forest/wd_1/data_CLMS/anatomical/7T_T1_MPR_uniden/2_skullstripped/aad_028_m00_T1_mprage_uniden_skullstripped_NKI_BrainExtractionBrain.nii.gz --out=/media/forest/wd_1/data_CLMS/functional/7T_func/7_fmri2anat_xfm/aad_028_m00_fmri2anat &\n",
      "epi_reg --epi=/media/forest/wd_1/data_CLMS/functional/7T_func/5_mid_volume_SS/aad_028_m24_func_middle_volume_skullstripped.nii.gz --t1=/media/forest/wd_1/data_CLMS/anatomical/7T_T1_MPR_uniden/1_robustfov_fslreorient2std/aad_028_m24_7T_mprage_uniden_robustfov.nii.gz --t1brain=/media/forest/wd_1/data_CLMS/anatomical/7T_T1_MPR_uniden/2_skullstripped/aad_028_m24_T1_mprage_uniden_skullstripped_kirby_5_BrainExtractionBrain.nii.gz --out=/media/forest/wd_1/data_CLMS/functional/7T_func/7_fmri2anat_xfm/aad_028_m24_fmri2anat &\n",
      "epi_reg --epi=/media/forest/wd_1/data_CLMS/functional/7T_func/5_mid_volume_SS/aae_029_m00_func_middle_volume_skullstripped.nii.gz --t1=/media/forest/wd_1/data_CLMS/anatomical/7T_T1_MPR_uniden/1_robustfov_fslreorient2std/aae_029_m00_7T_mprage_uniden_robustfov.nii.gz --t1brain=/media/forest/wd_1/data_CLMS/anatomical/7T_T1_MPR_uniden/2_skullstripped/aae_029_m00_T1_mprage_uniden_skullstripped_IXI_1_BrainExtractionBrain.nii.gz --out=/media/forest/wd_1/data_CLMS/functional/7T_func/7_fmri2anat_xfm/aae_029_m00_fmri2anat &\n",
      "epi_reg --epi=/media/forest/wd_1/data_CLMS/functional/7T_func/5_mid_volume_SS/aaf_030_m00_func_middle_volume_skullstripped.nii.gz --t1=/media/forest/wd_1/data_CLMS/anatomical/7T_T1_MPR_uniden/1_robustfov_fslreorient2std/aaf_030_m00_7T_mprage_uniden_robustfov.nii.gz --t1brain=/media/forest/wd_1/data_CLMS/anatomical/7T_T1_MPR_uniden/2_skullstripped/aaf_030_m00_T1_mprage_uniden_skullstripped_after_robustfov_BrainExtractionBrain.nii.gz --out=/media/forest/wd_1/data_CLMS/functional/7T_func/7_fmri2anat_xfm/aaf_030_m00_fmri2anat &\n",
      "epi_reg --epi=/media/forest/wd_1/data_CLMS/functional/7T_func/5_mid_volume_SS/aaf_030_m24_func_middle_volume_skullstripped.nii.gz --t1=/media/forest/wd_1/data_CLMS/anatomical/7T_T1_MPR_uniden/1_robustfov_fslreorient2std/aaf_030_m24_7T_mprage_uniden_robustfov.nii.gz --t1brain=/media/forest/wd_1/data_CLMS/anatomical/7T_T1_MPR_uniden/2_skullstripped/aaf_030_m24_T1_mprage_uniden_skullstripped_after_robustfov_BrainExtractionBrain.nii.gz --out=/media/forest/wd_1/data_CLMS/functional/7T_func/7_fmri2anat_xfm/aaf_030_m24_fmri2anat &\n",
      "epi_reg --epi=/media/forest/wd_1/data_CLMS/functional/7T_func/5_mid_volume_SS/aah_032_m00_func_middle_volume_skullstripped.nii.gz --t1=/media/forest/wd_1/data_CLMS/anatomical/7T_T1_MPR_uniden/1_robustfov_fslreorient2std/aah_032_m00_7T_mprage_uniden_robustfov.nii.gz --t1brain=/media/forest/wd_1/data_CLMS/anatomical/7T_T1_MPR_uniden/2_skullstripped/aah_032_m00_T1_mprage_uniden_skullstripped_after_robustfov_BrainExtractionBrain.nii.gz --out=/media/forest/wd_1/data_CLMS/functional/7T_func/7_fmri2anat_xfm/aah_032_m00_fmri2anat &\n",
      "epi_reg --epi=/media/forest/wd_1/data_CLMS/functional/7T_func/5_mid_volume_SS/aah_032_m24_func_middle_volume_skullstripped.nii.gz --t1=/media/forest/wd_1/data_CLMS/anatomical/7T_T1_MPR_uniden/1_robustfov_fslreorient2std/aah_032_m24_7T_mprage_uniden_robustfov.nii.gz --t1brain=/media/forest/wd_1/data_CLMS/anatomical/7T_T1_MPR_uniden/2_skullstripped/aah_032_m24_T1_mprage_uniden_skullstripped_after_robustfov_reorient2stdBrainExtractionBrain.nii.gz --out=/media/forest/wd_1/data_CLMS/functional/7T_func/7_fmri2anat_xfm/aah_032_m24_fmri2anat &\n",
      "epi_reg --epi=/media/forest/wd_1/data_CLMS/functional/7T_func/5_mid_volume_SS/aai_033_m00_func_middle_volume_skullstripped.nii.gz --t1=/media/forest/wd_1/data_CLMS/anatomical/7T_T1_MPR_uniden/1_robustfov_fslreorient2std/aai_033_m00_7T_mprage_uniden_robustfov.nii.gz --t1brain=/media/forest/wd_1/data_CLMS/anatomical/7T_T1_MPR_uniden/2_skullstripped/aai_033_m00_T1_mprage_uniden_skullstripped_kirby_3_BrainExtractionBrain.nii.gz --out=/media/forest/wd_1/data_CLMS/functional/7T_func/7_fmri2anat_xfm/aai_033_m00_fmri2anat &\n",
      "epi_reg --epi=/media/forest/wd_1/data_CLMS/functional/7T_func/5_mid_volume_SS/aai_033_m24_func_middle_volume_skullstripped.nii.gz --t1=/media/forest/wd_1/data_CLMS/anatomical/7T_T1_MPR_uniden/1_robustfov_fslreorient2std/aai_033_m24_7T_mprage_uniden_robustfov.nii.gz --t1brain=/media/forest/wd_1/data_CLMS/anatomical/7T_T1_MPR_uniden/2_skullstripped/aai_033_m24_T1_mprage_uniden_skullstripped_IXI_2_BrainExtractionBrain.nii.gz --out=/media/forest/wd_1/data_CLMS/functional/7T_func/7_fmri2anat_xfm/aai_033_m24_fmri2anat &\n",
      "epi_reg --epi=/media/forest/wd_1/data_CLMS/functional/7T_func/5_mid_volume_SS/aaj_034_m00_func_middle_volume_skullstripped.nii.gz --t1=/media/forest/wd_1/data_CLMS/anatomical/7T_T1_MPR_uniden/1_robustfov_fslreorient2std/aaj_034_m00_7T_mprage_uniden_robustfov.nii.gz --t1brain=/media/forest/wd_1/data_CLMS/anatomical/7T_T1_MPR_uniden/2_skullstripped/aaj_034_m00_T1_mprage_uniden_skullstripped_after_robustfov_reorient2stdBrainExtractionBrain.nii.gz --out=/media/forest/wd_1/data_CLMS/functional/7T_func/7_fmri2anat_xfm/aaj_034_m00_fmri2anat &\n",
      "epi_reg --epi=/media/forest/wd_1/data_CLMS/functional/7T_func/5_mid_volume_SS/aaj_034_m24_func_middle_volume_skullstripped.nii.gz --t1=/media/forest/wd_1/data_CLMS/anatomical/7T_T1_MPR_uniden/1_robustfov_fslreorient2std/aaj_034_m24_7T_mprage_uniden_robustfov.nii.gz --t1brain=/media/forest/wd_1/data_CLMS/anatomical/7T_T1_MPR_uniden/2_skullstripped/aaj_034_m24_T1_mprage_uniden_skullstripped_after_robustfov_reorient2stdBrainExtractionBrain.nii.gz --out=/media/forest/wd_1/data_CLMS/functional/7T_func/7_fmri2anat_xfm/aaj_034_m24_fmri2anat &\n",
      "epi_reg --epi=/media/forest/wd_1/data_CLMS/functional/7T_func/5_mid_volume_SS/aal_036_m24_func_middle_volume_skullstripped.nii.gz --t1=/media/forest/wd_1/data_CLMS/anatomical/7T_T1_MPR_uniden/1_robustfov_fslreorient2std/aal_036_m24_7T_mprage_uniden_robustfov.nii.gz --t1brain=/media/forest/wd_1/data_CLMS/anatomical/7T_T1_MPR_uniden/2_skullstripped/aal_036_m24_T1_mprage_uniden_skullstripped_after_robustfov_BrainExtractionBrain.nii.gz --out=/media/forest/wd_1/data_CLMS/functional/7T_func/7_fmri2anat_xfm/aal_036_m24_fmri2anat &\n",
      "epi_reg --epi=/media/forest/wd_1/data_CLMS/functional/7T_func/5_mid_volume_SS/aam_037_m00_func_middle_volume_skullstripped.nii.gz --t1=/media/forest/wd_1/data_CLMS/anatomical/7T_T1_MPR_uniden/1_robustfov_fslreorient2std/aam_037_m00_7T_mprage_uniden_robustfov.nii.gz --t1brain=/media/forest/wd_1/data_CLMS/anatomical/7T_T1_MPR_uniden/2_skullstripped/aam_037_m00_T1_mprage_uniden_skullstripped_NKI_BrainExtractionBrain.nii.gz --out=/media/forest/wd_1/data_CLMS/functional/7T_func/7_fmri2anat_xfm/aam_037_m00_fmri2anat &\n",
      "epi_reg --epi=/media/forest/wd_1/data_CLMS/functional/7T_func/5_mid_volume_SS/aan_038_m24_func_middle_volume_skullstripped.nii.gz --t1=/media/forest/wd_1/data_CLMS/anatomical/7T_T1_MPR_uniden/1_robustfov_fslreorient2std/aan_038_m24_7T_mprage_uniden_robustfov.nii.gz --t1brain=/media/forest/wd_1/data_CLMS/anatomical/7T_T1_MPR_uniden/2_skullstripped/aan_038_m24_T1_mprage_uniden_skullstripped_NKI_BrainExtractionBrain.nii.gz --out=/media/forest/wd_1/data_CLMS/functional/7T_func/7_fmri2anat_xfm/aan_038_m24_fmri2anat &\n",
      "epi_reg --epi=/media/forest/wd_1/data_CLMS/functional/7T_func/5_mid_volume_SS/aao_039_m00_func_middle_volume_skullstripped.nii.gz --t1=/media/forest/wd_1/data_CLMS/anatomical/7T_T1_MPR_uniden/1_robustfov_fslreorient2std/aao_039_m00_7T_mprage_uniden_robustfov.nii.gz --t1brain=/media/forest/wd_1/data_CLMS/anatomical/7T_T1_MPR_uniden/2_skullstripped/aao_039_m00_T1_mprage_uniden_skullstripped_after_robustfov_BrainExtractionBrain.nii.gz --out=/media/forest/wd_1/data_CLMS/functional/7T_func/7_fmri2anat_xfm/aao_039_m00_fmri2anat &\n",
      "epi_reg --epi=/media/forest/wd_1/data_CLMS/functional/7T_func/5_mid_volume_SS/aao_039_m24_func_middle_volume_skullstripped.nii.gz --t1=/media/forest/wd_1/data_CLMS/anatomical/7T_T1_MPR_uniden/1_robustfov_fslreorient2std/aao_039_m24_7T_mprage_uniden_robustfov.nii.gz --t1brain=/media/forest/wd_1/data_CLMS/anatomical/7T_T1_MPR_uniden/2_skullstripped/aao_039_m24_T1_mprage_uniden_skullstripped_after_robustfov_BrainExtractionBrain.nii.gz --out=/media/forest/wd_1/data_CLMS/functional/7T_func/7_fmri2anat_xfm/aao_039_m24_fmri2anat &\n",
      "epi_reg --epi=/media/forest/wd_1/data_CLMS/functional/7T_func/5_mid_volume_SS/aar_042_m00_func_middle_volume_skullstripped.nii.gz --t1=/media/forest/wd_1/data_CLMS/anatomical/7T_T1_MPR_uniden/1_robustfov_fslreorient2std/aar_042_m00_7T_mprage_uniden_robustfov.nii.gz --t1brain=/media/forest/wd_1/data_CLMS/anatomical/7T_T1_MPR_uniden/2_skullstripped/aar_042_m00_T1_mprage_uniden_skullstripped_after_robustfov_BrainExtractionBrain.nii.gz --out=/media/forest/wd_1/data_CLMS/functional/7T_func/7_fmri2anat_xfm/aar_042_m00_fmri2anat &\n",
      "epi_reg --epi=/media/forest/wd_1/data_CLMS/functional/7T_func/5_mid_volume_SS/aas_043_m00_func_middle_volume_skullstripped.nii.gz --t1=/media/forest/wd_1/data_CLMS/anatomical/7T_T1_MPR_uniden/1_robustfov_fslreorient2std/aas_043_m00_7T_mprage_uniden_robustfov.nii.gz --t1brain=/media/forest/wd_1/data_CLMS/anatomical/7T_T1_MPR_uniden/2_skullstripped/aas_043_m00_T1_mprage_uniden_skullstripped_NKI_BrainExtractionBrain.nii.gz --out=/media/forest/wd_1/data_CLMS/functional/7T_func/7_fmri2anat_xfm/aas_043_m00_fmri2anat &\n",
      "epi_reg --epi=/media/forest/wd_1/data_CLMS/functional/7T_func/5_mid_volume_SS/aat_044_m24_func_middle_volume_skullstripped.nii.gz --t1=/media/forest/wd_1/data_CLMS/anatomical/7T_T1_MPR_uniden/1_robustfov_fslreorient2std/aat_044_m24_7T_mprage_uniden_robustfov.nii.gz --t1brain=/media/forest/wd_1/data_CLMS/anatomical/7T_T1_MPR_uniden/2_skullstripped/aat_044_m24_T1_mprage_uniden_skullstripped_after_robustfov_reorient2stdBrainExtractionBrain.nii.gz --out=/media/forest/wd_1/data_CLMS/functional/7T_func/7_fmri2anat_xfm/aat_044_m24_fmri2anat &\n",
      "epi_reg --epi=/media/forest/wd_1/data_CLMS/functional/7T_func/5_mid_volume_SS/aaw_047_m00_func_middle_volume_skullstripped.nii.gz --t1=/media/forest/wd_1/data_CLMS/anatomical/7T_T1_MPR_uniden/1_robustfov_fslreorient2std/aaw_047_m00_7T_mprage_uniden_robustfov.nii.gz --t1brain=/media/forest/wd_1/data_CLMS/anatomical/7T_T1_MPR_uniden/2_skullstripped/aaw_047_m00_T1_mprage_uniden_skullstripped_after_robustfov_reorient2stdBrainExtractionBrain.nii.gz --out=/media/forest/wd_1/data_CLMS/functional/7T_func/7_fmri2anat_xfm/aaw_047_m00_fmri2anat &\n",
      "epi_reg --epi=/media/forest/wd_1/data_CLMS/functional/7T_func/5_mid_volume_SS/aay_049_m00_func_middle_volume_skullstripped.nii.gz --t1=/media/forest/wd_1/data_CLMS/anatomical/7T_T1_MPR_uniden/1_robustfov_fslreorient2std/aay_049_m00_7T_mprage_uniden_robustfov.nii.gz --t1brain=/media/forest/wd_1/data_CLMS/anatomical/7T_T1_MPR_uniden/2_skullstripped/aay_049_m00_T1_mprage_uniden_skullstripped_after_robustfov_reorient2stdBrainExtractionBrain.nii.gz --out=/media/forest/wd_1/data_CLMS/functional/7T_func/7_fmri2anat_xfm/aay_049_m00_fmri2anat &\n",
      "epi_reg --epi=/media/forest/wd_1/data_CLMS/functional/7T_func/5_mid_volume_SS/abc_001_m24_func_middle_volume_skullstripped.nii.gz --t1=/media/forest/wd_1/data_CLMS/anatomical/7T_T1_MPR_uniden/1_robustfov_fslreorient2std/abc_001_m24_7T_mprage_uniden_robustfov.nii.gz --t1brain=/media/forest/wd_1/data_CLMS/anatomical/7T_T1_MPR_uniden/2_skullstripped/abc_001_m24_T1_mprage_uniden_skullstripped_after_robustfov_BrainExtractionBrain.nii.gz --out=/media/forest/wd_1/data_CLMS/functional/7T_func/7_fmri2anat_xfm/abc_001_m24_fmri2anat &\n",
      "epi_reg --epi=/media/forest/wd_1/data_CLMS/functional/7T_func/5_mid_volume_SS/bbb_052_m00_func_middle_volume_skullstripped.nii.gz --t1=/media/forest/wd_1/data_CLMS/anatomical/7T_T1_MPR_uniden/1_robustfov_fslreorient2std/bbb_052_m00_7T_mprage_uniden_robustfov.nii.gz --t1brain=/media/forest/wd_1/data_CLMS/anatomical/7T_T1_MPR_uniden/2_skullstripped/bbb_052_m00_T1_mprage_uniden_skullstripped_kirby_3_BrainExtractionBrain.nii.gz --out=/media/forest/wd_1/data_CLMS/functional/7T_func/7_fmri2anat_xfm/bbb_052_m00_fmri2anat &\n",
      "epi_reg --epi=/media/forest/wd_1/data_CLMS/functional/7T_func/5_mid_volume_SS/bbc_053_m00_func_middle_volume_skullstripped.nii.gz --t1=/media/forest/wd_1/data_CLMS/anatomical/7T_T1_MPR_uniden/1_robustfov_fslreorient2std/bbc_053_m00_7T_mprage_uniden_robustfov.nii.gz --t1brain=/media/forest/wd_1/data_CLMS/anatomical/7T_T1_MPR_uniden/2_skullstripped/bbc_053_m00_T1_mprage_uniden_skullstripped_NKI_BrainExtractionBrain.nii.gz --out=/media/forest/wd_1/data_CLMS/functional/7T_func/7_fmri2anat_xfm/bbc_053_m00_fmri2anat &\n",
      "epi_reg --epi=/media/forest/wd_1/data_CLMS/functional/7T_func/5_mid_volume_SS/bbd_054_m00_func_middle_volume_skullstripped.nii.gz --t1=/media/forest/wd_1/data_CLMS/anatomical/7T_T1_MPR_uniden/1_robustfov_fslreorient2std/bbd_054_m00_7T_mprage_uniden_robustfov.nii.gz --t1brain=/media/forest/wd_1/data_CLMS/anatomical/7T_T1_MPR_uniden/2_skullstripped/bbd_054_m00_T1_mprage_uniden_skullstripped_after_robustfov_reorient2stdBrainExtractionBrain.nii.gz --out=/media/forest/wd_1/data_CLMS/functional/7T_func/7_fmri2anat_xfm/bbd_054_m00_fmri2anat &\n",
      "epi_reg --epi=/media/forest/wd_1/data_CLMS/functional/7T_func/5_mid_volume_SS/bbe_055_m00_func_middle_volume_skullstripped.nii.gz --t1=/media/forest/wd_1/data_CLMS/anatomical/7T_T1_MPR_uniden/1_robustfov_fslreorient2std/bbe_055_m00_7T_mprage_uniden_robustfov.nii.gz --t1brain=/media/forest/wd_1/data_CLMS/anatomical/7T_T1_MPR_uniden/2_skullstripped/bbe_055_m00_T1_mprage_uniden_skullstripped_after_robustfov_reorient2stdBrainExtractionBrain.nii.gz --out=/media/forest/wd_1/data_CLMS/functional/7T_func/7_fmri2anat_xfm/bbe_055_m00_fmri2anat &\n",
      "epi_reg --epi=/media/forest/wd_1/data_CLMS/functional/7T_func/5_mid_volume_SS/bbf_056_m00_func_middle_volume_skullstripped.nii.gz --t1=/media/forest/wd_1/data_CLMS/anatomical/7T_T1_MPR_uniden/1_robustfov_fslreorient2std/bbf_056_m00_7T_mprage_uniden_robustfov.nii.gz --t1brain=/media/forest/wd_1/data_CLMS/anatomical/7T_T1_MPR_uniden/2_skullstripped/bbf_056_m00_T1_mprage_uniden_skullstripped_after_robustfov_BrainExtractionBrain.nii.gz --out=/media/forest/wd_1/data_CLMS/functional/7T_func/7_fmri2anat_xfm/bbf_056_m00_fmri2anat &\n",
      "epi_reg --epi=/media/forest/wd_1/data_CLMS/functional/7T_func/5_mid_volume_SS/bbk_061_m00_func_middle_volume_skullstripped.nii.gz --t1=/media/forest/wd_1/data_CLMS/anatomical/7T_T1_MPR_uniden/1_robustfov_fslreorient2std/bbk_061_m00_7T_mprage_uniden_robustfov.nii.gz --t1brain=/media/forest/wd_1/data_CLMS/anatomical/7T_T1_MPR_uniden/2_skullstripped/bbk_061_m00_T1_mprage_uniden_skullstripped_after_robustfov_reorient2stdBrainExtractionBrain.nii.gz --out=/media/forest/wd_1/data_CLMS/functional/7T_func/7_fmri2anat_xfm/bbk_061_m00_fmri2anat &\n",
      "epi_reg --epi=/media/forest/wd_1/data_CLMS/functional/7T_func/5_mid_volume_SS/bbl_062_m00_func_middle_volume_skullstripped.nii.gz --t1=/media/forest/wd_1/data_CLMS/anatomical/7T_T1_MPR_uniden/1_robustfov_fslreorient2std/bbl_062_m00_7T_mprage_uniden_robustfov.nii.gz --t1brain=/media/forest/wd_1/data_CLMS/anatomical/7T_T1_MPR_uniden/2_skullstripped/bbl_062_m00_T1_mprage_uniden_skullstripped_after_robustfov_reorient2stdBrainExtractionBrain.nii.gz --out=/media/forest/wd_1/data_CLMS/functional/7T_func/7_fmri2anat_xfm/bbl_062_m00_fmri2anat &\n",
      "epi_reg --epi=/media/forest/wd_1/data_CLMS/functional/7T_func/5_mid_volume_SS/bcd_002_m24_func_middle_volume_skullstripped.nii.gz --t1=/media/forest/wd_1/data_CLMS/anatomical/7T_T1_MPR_uniden/1_robustfov_fslreorient2std/bcd_002_m24_7T_mprage_uniden_robustfov.nii.gz --t1brain=/media/forest/wd_1/data_CLMS/anatomical/7T_T1_MPR_uniden/2_skullstripped/bcd_002_m24_T1_mprage_uniden_skullstripped_NKI_BrainExtractionBrain.nii.gz --out=/media/forest/wd_1/data_CLMS/functional/7T_func/7_fmri2anat_xfm/bcd_002_m24_fmri2anat &\n",
      "epi_reg --epi=/media/forest/wd_1/data_CLMS/functional/7T_func/5_mid_volume_SS/cde_003_m24_func_middle_volume_skullstripped.nii.gz --t1=/media/forest/wd_1/data_CLMS/anatomical/7T_T1_MPR_uniden/1_robustfov_fslreorient2std/cde_003_m24_7T_mprage_uniden_robustfov.nii.gz --t1brain=/media/forest/wd_1/data_CLMS/anatomical/7T_T1_MPR_uniden/2_skullstripped/cde_003_m24_T1_mprage_uniden_skullstripped_after_robustfov_reorient2stdBrainExtractionBrain.nii.gz --out=/media/forest/wd_1/data_CLMS/functional/7T_func/7_fmri2anat_xfm/cde_003_m24_fmri2anat &\n",
      "epi_reg --epi=/media/forest/wd_1/data_CLMS/functional/7T_func/5_mid_volume_SS/def_004_m00_func_middle_volume_skullstripped.nii.gz --t1=/media/forest/wd_1/data_CLMS/anatomical/7T_T1_MPR_uniden/1_robustfov_fslreorient2std/def_004_m00_7T_mprage_uniden_robustfov.nii.gz --t1brain=/media/forest/wd_1/data_CLMS/anatomical/7T_T1_MPR_uniden/2_skullstripped/def_004_m00_T1_mprage_uniden_skullstripped_after_robustfov_reorient2stdBrainExtractionBrain.nii.gz --out=/media/forest/wd_1/data_CLMS/functional/7T_func/7_fmri2anat_xfm/def_004_m00_fmri2anat &\n",
      "epi_reg --epi=/media/forest/wd_1/data_CLMS/functional/7T_func/5_mid_volume_SS/def_004_m24_func_middle_volume_skullstripped.nii.gz --t1=/media/forest/wd_1/data_CLMS/anatomical/7T_T1_MPR_uniden/1_robustfov_fslreorient2std/def_004_m24_7T_mprage_uniden_robustfov.nii.gz --t1brain=/media/forest/wd_1/data_CLMS/anatomical/7T_T1_MPR_uniden/2_skullstripped/def_004_m24_T1_mprage_uniden_skullstripped_after_robustfov_reorient2stdBrainExtractionBrain.nii.gz --out=/media/forest/wd_1/data_CLMS/functional/7T_func/7_fmri2anat_xfm/def_004_m24_fmri2anat &\n",
      "epi_reg --epi=/media/forest/wd_1/data_CLMS/functional/7T_func/5_mid_volume_SS/efg_005_m00_func_middle_volume_skullstripped.nii.gz --t1=/media/forest/wd_1/data_CLMS/anatomical/7T_T1_MPR_uniden/1_robustfov_fslreorient2std/efg_005_m00_7T_mprage_uniden_robustfov.nii.gz --t1brain=/media/forest/wd_1/data_CLMS/anatomical/7T_T1_MPR_uniden/2_skullstripped/efg_005_m00_T1_mprage_uniden_skullstripped_after_robustfov_reorient2stdBrainExtractionBrain.nii.gz --out=/media/forest/wd_1/data_CLMS/functional/7T_func/7_fmri2anat_xfm/efg_005_m00_fmri2anat &\n",
      "epi_reg --epi=/media/forest/wd_1/data_CLMS/functional/7T_func/5_mid_volume_SS/efg_005_m24_func_middle_volume_skullstripped.nii.gz --t1=/media/forest/wd_1/data_CLMS/anatomical/7T_T1_MPR_uniden/1_robustfov_fslreorient2std/efg_005_m24_7T_mprage_uniden_robustfov.nii.gz --t1brain=/media/forest/wd_1/data_CLMS/anatomical/7T_T1_MPR_uniden/2_skullstripped/efg_005_m24_T1_mprage_uniden_skullstripped_after_robustfov_reorient2stdBrainExtractionBrain.nii.gz --out=/media/forest/wd_1/data_CLMS/functional/7T_func/7_fmri2anat_xfm/efg_005_m24_fmri2anat &\n",
      "epi_reg --epi=/media/forest/wd_1/data_CLMS/functional/7T_func/5_mid_volume_SS/fgh_006_m00_func_middle_volume_skullstripped.nii.gz --t1=/media/forest/wd_1/data_CLMS/anatomical/7T_T1_MPR_uniden/1_robustfov_fslreorient2std/fgh_006_m00_7T_mprage_uniden_robustfov.nii.gz --t1brain=/media/forest/wd_1/data_CLMS/anatomical/7T_T1_MPR_uniden/2_skullstripped/fgh_006_m00_T1_mprage_uniden_skullstripped_after_robustfov_reorient2stdBrainExtractionBrain.nii.gz --out=/media/forest/wd_1/data_CLMS/functional/7T_func/7_fmri2anat_xfm/fgh_006_m00_fmri2anat &\n",
      "epi_reg --epi=/media/forest/wd_1/data_CLMS/functional/7T_func/5_mid_volume_SS/ghi_007_m00_func_middle_volume_skullstripped.nii.gz --t1=/media/forest/wd_1/data_CLMS/anatomical/7T_T1_MPR_uniden/1_robustfov_fslreorient2std/ghi_007_m00_7T_mprage_uniden_robustfov.nii.gz --t1brain=/media/forest/wd_1/data_CLMS/anatomical/7T_T1_MPR_uniden/2_skullstripped/ghi_007_m00_T1_mprage_uniden_skullstripped_after_robustfov_reorient2stdBrainExtractionBrain.nii.gz --out=/media/forest/wd_1/data_CLMS/functional/7T_func/7_fmri2anat_xfm/ghi_007_m00_fmri2anat &\n",
      "epi_reg --epi=/media/forest/wd_1/data_CLMS/functional/7T_func/5_mid_volume_SS/ghi_007_m24_func_middle_volume_skullstripped.nii.gz --t1=/media/forest/wd_1/data_CLMS/anatomical/7T_T1_MPR_uniden/1_robustfov_fslreorient2std/ghi_007_m24_7T_mprage_uniden_robustfov.nii.gz --t1brain=/media/forest/wd_1/data_CLMS/anatomical/7T_T1_MPR_uniden/2_skullstripped/ghi_007_m24_T1_mprage_uniden_skullstripped_after_robustfov_reorient2stdBrainExtractionBrain.nii.gz --out=/media/forest/wd_1/data_CLMS/functional/7T_func/7_fmri2anat_xfm/ghi_007_m24_fmri2anat &\n",
      "epi_reg --epi=/media/forest/wd_1/data_CLMS/functional/7T_func/5_mid_volume_SS/ijk_009_m24_func_middle_volume_skullstripped.nii.gz --t1=/media/forest/wd_1/data_CLMS/anatomical/7T_T1_MPR_uniden/1_robustfov_fslreorient2std/ijk_009_m24_7T_mprage_uniden_robustfov.nii.gz --t1brain=/media/forest/wd_1/data_CLMS/anatomical/7T_T1_MPR_uniden/2_skullstripped/ijk_009_m24_T1_mprage_uniden_skullstripped_kirby_2_BrainExtractionBrain.nii.gz --out=/media/forest/wd_1/data_CLMS/functional/7T_func/7_fmri2anat_xfm/ijk_009_m24_fmri2anat &\n",
      "epi_reg --epi=/media/forest/wd_1/data_CLMS/functional/7T_func/5_mid_volume_SS/klm_011_m24_func_middle_volume_skullstripped.nii.gz --t1=/media/forest/wd_1/data_CLMS/anatomical/7T_T1_MPR_uniden/1_robustfov_fslreorient2std/klm_011_m24_7T_mprage_uniden_robustfov.nii.gz --t1brain=/media/forest/wd_1/data_CLMS/anatomical/7T_T1_MPR_uniden/2_skullstripped/klm_011_m24_T1_mprage_uniden_skullstripped_kirby_5_BrainExtractionBrain.nii.gz --out=/media/forest/wd_1/data_CLMS/functional/7T_func/7_fmri2anat_xfm/klm_011_m24_fmri2anat &\n",
      "epi_reg --epi=/media/forest/wd_1/data_CLMS/functional/7T_func/5_mid_volume_SS/lmn_012_m00_func_middle_volume_skullstripped.nii.gz --t1=/media/forest/wd_1/data_CLMS/anatomical/7T_T1_MPR_uniden/1_robustfov_fslreorient2std/lmn_012_m00_7T_mprage_uniden_robustfov.nii.gz --t1brain=/media/forest/wd_1/data_CLMS/anatomical/7T_T1_MPR_uniden/2_skullstripped/lmn_012_m00_T1_mprage_uniden_skullstripped_after_robustfov_reorient2stdBrainExtractionBrain.nii.gz --out=/media/forest/wd_1/data_CLMS/functional/7T_func/7_fmri2anat_xfm/lmn_012_m00_fmri2anat &\n",
      "epi_reg --epi=/media/forest/wd_1/data_CLMS/functional/7T_func/5_mid_volume_SS/mno_013_m00_func_middle_volume_skullstripped.nii.gz --t1=/media/forest/wd_1/data_CLMS/anatomical/7T_T1_MPR_uniden/1_robustfov_fslreorient2std/mno_013_m00_7T_mprage_uniden_robustfov.nii.gz --t1brain=/media/forest/wd_1/data_CLMS/anatomical/7T_T1_MPR_uniden/2_skullstripped/mno_013_m00_T1_mprage_uniden_skullstripped_after_robustfov_reorient2stdBrainExtractionBrain.nii.gz --out=/media/forest/wd_1/data_CLMS/functional/7T_func/7_fmri2anat_xfm/mno_013_m00_fmri2anat &\n",
      "epi_reg --epi=/media/forest/wd_1/data_CLMS/functional/7T_func/5_mid_volume_SS/opq_015_m00_func_middle_volume_skullstripped.nii.gz --t1=/media/forest/wd_1/data_CLMS/anatomical/7T_T1_MPR_uniden/1_robustfov_fslreorient2std/opq_015_m00_7T_mprage_uniden_robustfov.nii.gz --t1brain=/media/forest/wd_1/data_CLMS/anatomical/7T_T1_MPR_uniden/2_skullstripped/opq_015_m00_T1_mprage_uniden_skullstripped_after_robustfov_reorient2stdBrainExtractionBrain.nii.gz --out=/media/forest/wd_1/data_CLMS/functional/7T_func/7_fmri2anat_xfm/opq_015_m00_fmri2anat &\n",
      "epi_reg --epi=/media/forest/wd_1/data_CLMS/functional/7T_func/5_mid_volume_SS/opq_015_m24_func_middle_volume_skullstripped.nii.gz --t1=/media/forest/wd_1/data_CLMS/anatomical/7T_T1_MPR_uniden/1_robustfov_fslreorient2std/opq_015_m24_7T_mprage_uniden_robustfov.nii.gz --t1brain=/media/forest/wd_1/data_CLMS/anatomical/7T_T1_MPR_uniden/2_skullstripped/opq_015_m24_T1_mprage_uniden_skullstripped_after_robustfov_reorient2stdBrainExtractionBrain.nii.gz --out=/media/forest/wd_1/data_CLMS/functional/7T_func/7_fmri2anat_xfm/opq_015_m24_fmri2anat &\n",
      "epi_reg --epi=/media/forest/wd_1/data_CLMS/functional/7T_func/5_mid_volume_SS/pqr_016_m00_func_middle_volume_skullstripped.nii.gz --t1=/media/forest/wd_1/data_CLMS/anatomical/7T_T1_MPR_uniden/1_robustfov_fslreorient2std/pqr_016_m00_7T_mprage_uniden_robustfov.nii.gz --t1brain=/media/forest/wd_1/data_CLMS/anatomical/7T_T1_MPR_uniden/2_skullstripped/pqr_016_m00_T1_mprage_uniden_skullstripped_after_robustfov_reorient2stdBrainExtractionBrain.nii.gz --out=/media/forest/wd_1/data_CLMS/functional/7T_func/7_fmri2anat_xfm/pqr_016_m00_fmri2anat &\n",
      "epi_reg --epi=/media/forest/wd_1/data_CLMS/functional/7T_func/5_mid_volume_SS/pqr_016_m24_func_middle_volume_skullstripped.nii.gz --t1=/media/forest/wd_1/data_CLMS/anatomical/7T_T1_MPR_uniden/1_robustfov_fslreorient2std/pqr_016_m24_7T_mprage_uniden_robustfov.nii.gz --t1brain=/media/forest/wd_1/data_CLMS/anatomical/7T_T1_MPR_uniden/2_skullstripped/pqr_016_m24_T1_mprage_uniden_skullstripped_after_robustfov_reorient2stdBrainExtractionBrain.nii.gz --out=/media/forest/wd_1/data_CLMS/functional/7T_func/7_fmri2anat_xfm/pqr_016_m24_fmri2anat &\n",
      "epi_reg --epi=/media/forest/wd_1/data_CLMS/functional/7T_func/5_mid_volume_SS/rst_018_m00_func_middle_volume_skullstripped.nii.gz --t1=/media/forest/wd_1/data_CLMS/anatomical/7T_T1_MPR_uniden/1_robustfov_fslreorient2std/rst_018_m00_7T_mprage_uniden_robustfov.nii.gz --t1brain=/media/forest/wd_1/data_CLMS/anatomical/7T_T1_MPR_uniden/2_skullstripped/rst_018_m00_T1_mprage_uniden_skullstripped_IXI_2_BrainExtractionBrain.nii.gz --out=/media/forest/wd_1/data_CLMS/functional/7T_func/7_fmri2anat_xfm/rst_018_m00_fmri2anat &\n",
      "epi_reg --epi=/media/forest/wd_1/data_CLMS/functional/7T_func/5_mid_volume_SS/rst_018_m24_func_middle_volume_skullstripped.nii.gz --t1=/media/forest/wd_1/data_CLMS/anatomical/7T_T1_MPR_uniden/1_robustfov_fslreorient2std/rst_018_m24_7T_mprage_uniden_robustfov.nii.gz --t1brain=/media/forest/wd_1/data_CLMS/anatomical/7T_T1_MPR_uniden/2_skullstripped/rst_018_m24_T1_mprage_uniden_skullstripped_after_robustfov_reorient2stdBrainExtractionBrain.nii.gz --out=/media/forest/wd_1/data_CLMS/functional/7T_func/7_fmri2anat_xfm/rst_018_m24_fmri2anat &\n",
      "epi_reg --epi=/media/forest/wd_1/data_CLMS/functional/7T_func/5_mid_volume_SS/stu_019_m00_func_middle_volume_skullstripped.nii.gz --t1=/media/forest/wd_1/data_CLMS/anatomical/7T_T1_MPR_uniden/1_robustfov_fslreorient2std/stu_019_m00_7T_mprage_uniden_robustfov.nii.gz --t1brain=/media/forest/wd_1/data_CLMS/anatomical/7T_T1_MPR_uniden/2_skullstripped/stu_019_m00_T1_mprage_uniden_skullstripped_after_robustfov_reorient2stdBrainExtractionBrain.nii.gz --out=/media/forest/wd_1/data_CLMS/functional/7T_func/7_fmri2anat_xfm/stu_019_m00_fmri2anat &\n",
      "epi_reg --epi=/media/forest/wd_1/data_CLMS/functional/7T_func/5_mid_volume_SS/stu_019_m24_func_middle_volume_skullstripped.nii.gz --t1=/media/forest/wd_1/data_CLMS/anatomical/7T_T1_MPR_uniden/1_robustfov_fslreorient2std/stu_019_m24_7T_mprage_uniden_robustfov.nii.gz --t1brain=/media/forest/wd_1/data_CLMS/anatomical/7T_T1_MPR_uniden/2_skullstripped/stu_019_m24_T1_mprage_uniden_skullstripped_after_robustfov_BrainExtractionBrain.nii.gz --out=/media/forest/wd_1/data_CLMS/functional/7T_func/7_fmri2anat_xfm/stu_019_m24_fmri2anat &\n",
      "epi_reg --epi=/media/forest/wd_1/data_CLMS/functional/7T_func/5_mid_volume_SS/tuv_020_m00_func_middle_volume_skullstripped.nii.gz --t1=/media/forest/wd_1/data_CLMS/anatomical/7T_T1_MPR_uniden/1_robustfov_fslreorient2std/tuv_020_m00_7T_mprage_uniden_robustfov.nii.gz --t1brain=/media/forest/wd_1/data_CLMS/anatomical/7T_T1_MPR_uniden/2_skullstripped/tuv_020_m00_T1_mprage_uniden_skullstripped_after_robustfov_reorient2stdBrainExtractionBrain.nii.gz --out=/media/forest/wd_1/data_CLMS/functional/7T_func/7_fmri2anat_xfm/tuv_020_m00_fmri2anat &\n",
      "epi_reg --epi=/media/forest/wd_1/data_CLMS/functional/7T_func/5_mid_volume_SS/tuv_020_m24_func_middle_volume_skullstripped.nii.gz --t1=/media/forest/wd_1/data_CLMS/anatomical/7T_T1_MPR_uniden/1_robustfov_fslreorient2std/tuv_020_m24_7T_mprage_uniden_robustfov.nii.gz --t1brain=/media/forest/wd_1/data_CLMS/anatomical/7T_T1_MPR_uniden/2_skullstripped/tuv_020_m24_T1_mprage_uniden_skullstripped_after_robustfov_reorient2stdBrainExtractionBrain.nii.gz --out=/media/forest/wd_1/data_CLMS/functional/7T_func/7_fmri2anat_xfm/tuv_020_m24_fmri2anat &\n",
      "epi_reg --epi=/media/forest/wd_1/data_CLMS/functional/7T_func/5_mid_volume_SS/uvw_021_m00_func_middle_volume_skullstripped.nii.gz --t1=/media/forest/wd_1/data_CLMS/anatomical/7T_T1_MPR_uniden/1_robustfov_fslreorient2std/uvw_021_m00_7T_mprage_uniden_robustfov.nii.gz --t1brain=/media/forest/wd_1/data_CLMS/anatomical/7T_T1_MPR_uniden/2_skullstripped/uvw_021_m00_T1_mprage_uniden_skullstripped_after_robustfov_reorient2stdBrainExtractionBrain.nii.gz --out=/media/forest/wd_1/data_CLMS/functional/7T_func/7_fmri2anat_xfm/uvw_021_m00_fmri2anat &\n",
      "epi_reg --epi=/media/forest/wd_1/data_CLMS/functional/7T_func/5_mid_volume_SS/uvw_021_m24_func_middle_volume_skullstripped.nii.gz --t1=/media/forest/wd_1/data_CLMS/anatomical/7T_T1_MPR_uniden/1_robustfov_fslreorient2std/uvw_021_m24_7T_mprage_uniden_robustfov.nii.gz --t1brain=/media/forest/wd_1/data_CLMS/anatomical/7T_T1_MPR_uniden/2_skullstripped/uvw_021_m24_T1_mprage_uniden_skullstripped_after_robustfov_reorient2stdBrainExtractionBrain.nii.gz --out=/media/forest/wd_1/data_CLMS/functional/7T_func/7_fmri2anat_xfm/uvw_021_m24_fmri2anat &\n",
      "epi_reg --epi=/media/forest/wd_1/data_CLMS/functional/7T_func/5_mid_volume_SS/vwx_022_m00_func_middle_volume_skullstripped.nii.gz --t1=/media/forest/wd_1/data_CLMS/anatomical/7T_T1_MPR_uniden/1_robustfov_fslreorient2std/vwx_022_m00_7T_mprage_uniden_robustfov.nii.gz --t1brain=/media/forest/wd_1/data_CLMS/anatomical/7T_T1_MPR_uniden/2_skullstripped/vwx_022_m00_T1_mprage_uniden_skullstripped_after_robustfov_reorient2stdBrainExtractionBrain.nii.gz --out=/media/forest/wd_1/data_CLMS/functional/7T_func/7_fmri2anat_xfm/vwx_022_m00_fmri2anat &\n",
      "epi_reg --epi=/media/forest/wd_1/data_CLMS/functional/7T_func/5_mid_volume_SS/wxy_023_m00_func_middle_volume_skullstripped.nii.gz --t1=/media/forest/wd_1/data_CLMS/anatomical/7T_T1_MPR_uniden/1_robustfov_fslreorient2std/wxy_023_m00_7T_mprage_uniden_robustfov.nii.gz --t1brain=/media/forest/wd_1/data_CLMS/anatomical/7T_T1_MPR_uniden/2_skullstripped/wxy_023_m00_T1_mprage_uniden_skullstripped_after_robustfov_reorient2stdBrainExtractionBrain.nii.gz --out=/media/forest/wd_1/data_CLMS/functional/7T_func/7_fmri2anat_xfm/wxy_023_m00_fmri2anat &\n",
      "epi_reg --epi=/media/forest/wd_1/data_CLMS/functional/7T_func/5_mid_volume_SS/xyz_024_m00_func_middle_volume_skullstripped.nii.gz --t1=/media/forest/wd_1/data_CLMS/anatomical/7T_T1_MPR_uniden/1_robustfov_fslreorient2std/xyz_024_m00_7T_mprage_uniden_robustfov.nii.gz --t1brain=/media/forest/wd_1/data_CLMS/anatomical/7T_T1_MPR_uniden/2_skullstripped/xyz_024_m00_T1_mprage_uniden_skullstripped_after_robustfov_reorient2stdBrainExtractionBrain.nii.gz --out=/media/forest/wd_1/data_CLMS/functional/7T_func/7_fmri2anat_xfm/xyz_024_m00_fmri2anat &\n",
      "epi_reg --epi=/media/forest/wd_1/data_CLMS/functional/7T_func/5_mid_volume_SS/xyz_024_m24_func_middle_volume_skullstripped.nii.gz --t1=/media/forest/wd_1/data_CLMS/anatomical/7T_T1_MPR_uniden/1_robustfov_fslreorient2std/xyz_024_m24_7T_mprage_uniden_robustfov.nii.gz --t1brain=/media/forest/wd_1/data_CLMS/anatomical/7T_T1_MPR_uniden/2_skullstripped/xyz_024_m24_T1_mprage_uniden_skullstripped_after_robustfov_reorient2stdBrainExtractionBrain.nii.gz --out=/media/forest/wd_1/data_CLMS/functional/7T_func/7_fmri2anat_xfm/xyz_024_m24_fmri2anat &\n",
      "epi_reg --epi=/media/forest/wd_1/data_CLMS/functional/7T_func/5_mid_volume_SS/aal_036_m00_func_middle_volume_skullstripped.nii.gz --t1=/media/forest/wd_1/data_CLMS/anatomical/7T_T1_MPR_uniden/1_robustfov_fslreorient2std/aal_036_m00_7T_mprage_uniden_robustfov.nii.gz --t1brain=/media/forest/wd_1/data_CLMS/anatomical/7T_T1_MPR_uniden/2_skullstripped/aal_036_m00_T1_mprage_uniden_skullstripped_after_robustfov_BrainExtractionBrain.nii.gz --out=/media/forest/wd_1/data_CLMS/functional/7T_func/7_fmri2anat_xfm/aal_036_m00_fmri2anat &\n",
      "epi_reg --epi=/media/forest/wd_1/data_CLMS/functional/7T_func/5_mid_volume_SS/bbi_059_m00_func_middle_volume_skullstripped.nii.gz --t1=/media/forest/wd_1/data_CLMS/anatomical/7T_T1_MPR_uniden/1_robustfov_fslreorient2std/bbi_059_m00_7T_mprage_uniden_robustfov.nii.gz --t1brain=/media/forest/wd_1/data_CLMS/anatomical/7T_T1_MPR_uniden/2_skullstripped/bbi_059_m00_T1_mprage_uniden_skullstripped_after_robustfov_reorient2stdBrainExtractionBrain.nii.gz --out=/media/forest/wd_1/data_CLMS/functional/7T_func/7_fmri2anat_xfm/bbi_059_m00_fmri2anat &\n",
      "epi_reg --epi=/media/forest/wd_1/data_CLMS/functional/7T_func/5_mid_volume_SS/lmn_012_m24_func_middle_volume_skullstripped.nii.gz --t1=/media/forest/wd_1/data_CLMS/anatomical/7T_T1_MPR_uniden/1_robustfov_fslreorient2std/lmn_012_m24_7T_mprage_uniden_robustfov.nii.gz --t1brain=/media/forest/wd_1/data_CLMS/anatomical/7T_T1_MPR_uniden/2_skullstripped/lmn_012_m24_T1_mprage_uniden_skullstripped_after_robustfov_reorient2stdBrainExtractionBrain.nii.gz --out=/media/forest/wd_1/data_CLMS/functional/7T_func/7_fmri2anat_xfm/lmn_012_m24_fmri2anat &\n"
     ]
    }
   ],
   "source": [
    "for subject, fmri_file, t1_wholebrain, t1_skullstripped in zip(df_pp_fmri['subject_id'], df_pp_fmri['fp_middle_volume_SS'], df_pp_fmri['fp_t1_wholebrain'], df_pp_fmri['fp_t1_skullstripped']):\n",
    "    print(f'epi_reg --epi={fmri_file} --t1={t1_wholebrain} --t1brain={t1_skullstripped} --out={fmri_dir}/7_fmri2anat_xfm/{subject}_fmri2anat &')"
   ]
  },
  {
   "cell_type": "markdown",
   "metadata": {},
   "source": [
    "- Spot check, then copy/paste code to terminal\n",
    "- Can run 15 in parallel with ~25 GB memory usage \n",
    "- spot check by overlaying resulting transformed nifti image onto the anatomical image\n",
    "- generated code for fslview in below cell: "
   ]
  },
  {
   "cell_type": "code",
   "execution_count": 38,
   "metadata": {},
   "outputs": [],
   "source": [
    "# append outputs to dataframe\n",
    "df_pp_fmri = append_column(df_pp_fmri, '7_fmri2anat_xfm', 'fp_fmri2anat_nifti', 'fmri2anat.nii')"
   ]
  },
  {
   "cell_type": "code",
   "execution_count": 52,
   "metadata": {},
   "outputs": [
    {
     "data": {
      "text/plain": [
       "(64, 7)"
      ]
     },
     "execution_count": 52,
     "metadata": {},
     "output_type": "execute_result"
    }
   ],
   "source": [
    "df_pp_fmri.shape"
   ]
  },
  {
   "cell_type": "code",
   "execution_count": 53,
   "metadata": {},
   "outputs": [
    {
     "name": "stdout",
     "output_type": "stream",
     "text": [
      "FSLeyes scene for subject: aab_026_m00:\n",
      "fsleyes --scene custom1 /media/forest/wd_1/data_CLMS/anatomical/7T_T1_MPR_uniden/2_skullstripped/aab_026_m00_T1_mprage_uniden_skullstripped_after_robustfov_BrainExtractionBrain.nii.gz --name aab_026_m00_anatomical_SS /media/forest/wd_1/data_CLMS/functional/7T_func/7_fmri2anat_xfm/aab_026_m00_fmri2anat.nii.gz --name aab_026_m00_fmri2anat --alpha 50 --cmap red-yellow\n",
      "\n",
      "FSLeyes scene for subject: aac_027_m00:\n",
      "fsleyes --scene custom1 /media/forest/wd_1/data_CLMS/anatomical/7T_T1_MPR_uniden/2_skullstripped/aac_027_m00_T1_mprage_uniden_skullstripped_after_robustfov_BrainExtractionBrain.nii.gz --name aac_027_m00_anatomical_SS /media/forest/wd_1/data_CLMS/functional/7T_func/7_fmri2anat_xfm/aac_027_m00_fmri2anat.nii.gz --name aac_027_m00_fmri2anat --alpha 50 --cmap red-yellow\n",
      "\n",
      "FSLeyes scene for subject: aac_027_m24:\n",
      "fsleyes --scene custom1 /media/forest/wd_1/data_CLMS/anatomical/7T_T1_MPR_uniden/2_skullstripped/aac_027_m24_T1_mprage_uniden_skullstripped_after_robustfov_BrainExtractionBrain.nii.gz --name aac_027_m24_anatomical_SS /media/forest/wd_1/data_CLMS/functional/7T_func/7_fmri2anat_xfm/aac_027_m24_fmri2anat.nii.gz --name aac_027_m24_fmri2anat --alpha 50 --cmap red-yellow\n",
      "\n",
      "FSLeyes scene for subject: aad_028_m00:\n",
      "fsleyes --scene custom1 /media/forest/wd_1/data_CLMS/anatomical/7T_T1_MPR_uniden/2_skullstripped/aad_028_m00_T1_mprage_uniden_skullstripped_NKI_BrainExtractionBrain.nii.gz --name aad_028_m00_anatomical_SS /media/forest/wd_1/data_CLMS/functional/7T_func/7_fmri2anat_xfm/aad_028_m00_fmri2anat.nii.gz --name aad_028_m00_fmri2anat --alpha 50 --cmap red-yellow\n",
      "\n",
      "FSLeyes scene for subject: aad_028_m24:\n",
      "fsleyes --scene custom1 /media/forest/wd_1/data_CLMS/anatomical/7T_T1_MPR_uniden/2_skullstripped/aad_028_m24_T1_mprage_uniden_skullstripped_kirby_5_BrainExtractionBrain.nii.gz --name aad_028_m24_anatomical_SS /media/forest/wd_1/data_CLMS/functional/7T_func/7_fmri2anat_xfm/aad_028_m24_fmri2anat.nii.gz --name aad_028_m24_fmri2anat --alpha 50 --cmap red-yellow\n",
      "\n",
      "FSLeyes scene for subject: aae_029_m00:\n",
      "fsleyes --scene custom1 /media/forest/wd_1/data_CLMS/anatomical/7T_T1_MPR_uniden/2_skullstripped/aae_029_m00_T1_mprage_uniden_skullstripped_IXI_1_BrainExtractionBrain.nii.gz --name aae_029_m00_anatomical_SS /media/forest/wd_1/data_CLMS/functional/7T_func/7_fmri2anat_xfm/aae_029_m00_fmri2anat.nii.gz --name aae_029_m00_fmri2anat --alpha 50 --cmap red-yellow\n",
      "\n",
      "FSLeyes scene for subject: aaf_030_m00:\n",
      "fsleyes --scene custom1 /media/forest/wd_1/data_CLMS/anatomical/7T_T1_MPR_uniden/2_skullstripped/aaf_030_m00_T1_mprage_uniden_skullstripped_after_robustfov_BrainExtractionBrain.nii.gz --name aaf_030_m00_anatomical_SS /media/forest/wd_1/data_CLMS/functional/7T_func/7_fmri2anat_xfm/aaf_030_m00_fmri2anat.nii.gz --name aaf_030_m00_fmri2anat --alpha 50 --cmap red-yellow\n",
      "\n",
      "FSLeyes scene for subject: aaf_030_m24:\n",
      "fsleyes --scene custom1 /media/forest/wd_1/data_CLMS/anatomical/7T_T1_MPR_uniden/2_skullstripped/aaf_030_m24_T1_mprage_uniden_skullstripped_after_robustfov_BrainExtractionBrain.nii.gz --name aaf_030_m24_anatomical_SS /media/forest/wd_1/data_CLMS/functional/7T_func/7_fmri2anat_xfm/aaf_030_m24_fmri2anat.nii.gz --name aaf_030_m24_fmri2anat --alpha 50 --cmap red-yellow\n",
      "\n",
      "FSLeyes scene for subject: aah_032_m00:\n",
      "fsleyes --scene custom1 /media/forest/wd_1/data_CLMS/anatomical/7T_T1_MPR_uniden/2_skullstripped/aah_032_m00_T1_mprage_uniden_skullstripped_after_robustfov_BrainExtractionBrain.nii.gz --name aah_032_m00_anatomical_SS /media/forest/wd_1/data_CLMS/functional/7T_func/7_fmri2anat_xfm/aah_032_m00_fmri2anat.nii.gz --name aah_032_m00_fmri2anat --alpha 50 --cmap red-yellow\n",
      "\n",
      "FSLeyes scene for subject: aah_032_m24:\n",
      "fsleyes --scene custom1 /media/forest/wd_1/data_CLMS/anatomical/7T_T1_MPR_uniden/2_skullstripped/aah_032_m24_T1_mprage_uniden_skullstripped_after_robustfov_reorient2stdBrainExtractionBrain.nii.gz --name aah_032_m24_anatomical_SS /media/forest/wd_1/data_CLMS/functional/7T_func/7_fmri2anat_xfm/aah_032_m24_fmri2anat.nii.gz --name aah_032_m24_fmri2anat --alpha 50 --cmap red-yellow\n",
      "\n",
      "FSLeyes scene for subject: aai_033_m00:\n",
      "fsleyes --scene custom1 /media/forest/wd_1/data_CLMS/anatomical/7T_T1_MPR_uniden/2_skullstripped/aai_033_m00_T1_mprage_uniden_skullstripped_kirby_3_BrainExtractionBrain.nii.gz --name aai_033_m00_anatomical_SS /media/forest/wd_1/data_CLMS/functional/7T_func/7_fmri2anat_xfm/aai_033_m00_fmri2anat.nii.gz --name aai_033_m00_fmri2anat --alpha 50 --cmap red-yellow\n",
      "\n",
      "FSLeyes scene for subject: aai_033_m24:\n",
      "fsleyes --scene custom1 /media/forest/wd_1/data_CLMS/anatomical/7T_T1_MPR_uniden/2_skullstripped/aai_033_m24_T1_mprage_uniden_skullstripped_IXI_2_BrainExtractionBrain.nii.gz --name aai_033_m24_anatomical_SS /media/forest/wd_1/data_CLMS/functional/7T_func/7_fmri2anat_xfm/aai_033_m24_fmri2anat.nii.gz --name aai_033_m24_fmri2anat --alpha 50 --cmap red-yellow\n",
      "\n",
      "FSLeyes scene for subject: aaj_034_m00:\n",
      "fsleyes --scene custom1 /media/forest/wd_1/data_CLMS/anatomical/7T_T1_MPR_uniden/2_skullstripped/aaj_034_m00_T1_mprage_uniden_skullstripped_after_robustfov_reorient2stdBrainExtractionBrain.nii.gz --name aaj_034_m00_anatomical_SS /media/forest/wd_1/data_CLMS/functional/7T_func/7_fmri2anat_xfm/aaj_034_m00_fmri2anat.nii.gz --name aaj_034_m00_fmri2anat --alpha 50 --cmap red-yellow\n",
      "\n",
      "FSLeyes scene for subject: aaj_034_m24:\n",
      "fsleyes --scene custom1 /media/forest/wd_1/data_CLMS/anatomical/7T_T1_MPR_uniden/2_skullstripped/aaj_034_m24_T1_mprage_uniden_skullstripped_after_robustfov_reorient2stdBrainExtractionBrain.nii.gz --name aaj_034_m24_anatomical_SS /media/forest/wd_1/data_CLMS/functional/7T_func/7_fmri2anat_xfm/aaj_034_m24_fmri2anat.nii.gz --name aaj_034_m24_fmri2anat --alpha 50 --cmap red-yellow\n",
      "\n",
      "FSLeyes scene for subject: aal_036_m24:\n",
      "fsleyes --scene custom1 /media/forest/wd_1/data_CLMS/anatomical/7T_T1_MPR_uniden/2_skullstripped/aal_036_m24_T1_mprage_uniden_skullstripped_after_robustfov_BrainExtractionBrain.nii.gz --name aal_036_m24_anatomical_SS /media/forest/wd_1/data_CLMS/functional/7T_func/7_fmri2anat_xfm/aal_036_m24_fmri2anat.nii.gz --name aal_036_m24_fmri2anat --alpha 50 --cmap red-yellow\n",
      "\n",
      "FSLeyes scene for subject: aam_037_m00:\n",
      "fsleyes --scene custom1 /media/forest/wd_1/data_CLMS/anatomical/7T_T1_MPR_uniden/2_skullstripped/aam_037_m00_T1_mprage_uniden_skullstripped_NKI_BrainExtractionBrain.nii.gz --name aam_037_m00_anatomical_SS /media/forest/wd_1/data_CLMS/functional/7T_func/7_fmri2anat_xfm/aam_037_m00_fmri2anat.nii.gz --name aam_037_m00_fmri2anat --alpha 50 --cmap red-yellow\n",
      "\n",
      "FSLeyes scene for subject: aan_038_m24:\n",
      "fsleyes --scene custom1 /media/forest/wd_1/data_CLMS/anatomical/7T_T1_MPR_uniden/2_skullstripped/aan_038_m24_T1_mprage_uniden_skullstripped_NKI_BrainExtractionBrain.nii.gz --name aan_038_m24_anatomical_SS /media/forest/wd_1/data_CLMS/functional/7T_func/7_fmri2anat_xfm/aan_038_m24_fmri2anat.nii.gz --name aan_038_m24_fmri2anat --alpha 50 --cmap red-yellow\n",
      "\n",
      "FSLeyes scene for subject: aao_039_m00:\n",
      "fsleyes --scene custom1 /media/forest/wd_1/data_CLMS/anatomical/7T_T1_MPR_uniden/2_skullstripped/aao_039_m00_T1_mprage_uniden_skullstripped_after_robustfov_BrainExtractionBrain.nii.gz --name aao_039_m00_anatomical_SS /media/forest/wd_1/data_CLMS/functional/7T_func/7_fmri2anat_xfm/aao_039_m00_fmri2anat.nii.gz --name aao_039_m00_fmri2anat --alpha 50 --cmap red-yellow\n",
      "\n",
      "FSLeyes scene for subject: aao_039_m24:\n",
      "fsleyes --scene custom1 /media/forest/wd_1/data_CLMS/anatomical/7T_T1_MPR_uniden/2_skullstripped/aao_039_m24_T1_mprage_uniden_skullstripped_after_robustfov_BrainExtractionBrain.nii.gz --name aao_039_m24_anatomical_SS /media/forest/wd_1/data_CLMS/functional/7T_func/7_fmri2anat_xfm/aao_039_m24_fmri2anat.nii.gz --name aao_039_m24_fmri2anat --alpha 50 --cmap red-yellow\n",
      "\n",
      "FSLeyes scene for subject: aar_042_m00:\n",
      "fsleyes --scene custom1 /media/forest/wd_1/data_CLMS/anatomical/7T_T1_MPR_uniden/2_skullstripped/aar_042_m00_T1_mprage_uniden_skullstripped_after_robustfov_BrainExtractionBrain.nii.gz --name aar_042_m00_anatomical_SS /media/forest/wd_1/data_CLMS/functional/7T_func/7_fmri2anat_xfm/aar_042_m00_fmri2anat.nii.gz --name aar_042_m00_fmri2anat --alpha 50 --cmap red-yellow\n",
      "\n",
      "FSLeyes scene for subject: aas_043_m00:\n",
      "fsleyes --scene custom1 /media/forest/wd_1/data_CLMS/anatomical/7T_T1_MPR_uniden/2_skullstripped/aas_043_m00_T1_mprage_uniden_skullstripped_NKI_BrainExtractionBrain.nii.gz --name aas_043_m00_anatomical_SS /media/forest/wd_1/data_CLMS/functional/7T_func/7_fmri2anat_xfm/aas_043_m00_fmri2anat.nii.gz --name aas_043_m00_fmri2anat --alpha 50 --cmap red-yellow\n",
      "\n",
      "FSLeyes scene for subject: aat_044_m24:\n",
      "fsleyes --scene custom1 /media/forest/wd_1/data_CLMS/anatomical/7T_T1_MPR_uniden/2_skullstripped/aat_044_m24_T1_mprage_uniden_skullstripped_after_robustfov_reorient2stdBrainExtractionBrain.nii.gz --name aat_044_m24_anatomical_SS /media/forest/wd_1/data_CLMS/functional/7T_func/7_fmri2anat_xfm/aat_044_m24_fmri2anat.nii.gz --name aat_044_m24_fmri2anat --alpha 50 --cmap red-yellow\n",
      "\n",
      "FSLeyes scene for subject: aaw_047_m00:\n",
      "fsleyes --scene custom1 /media/forest/wd_1/data_CLMS/anatomical/7T_T1_MPR_uniden/2_skullstripped/aaw_047_m00_T1_mprage_uniden_skullstripped_after_robustfov_reorient2stdBrainExtractionBrain.nii.gz --name aaw_047_m00_anatomical_SS /media/forest/wd_1/data_CLMS/functional/7T_func/7_fmri2anat_xfm/aaw_047_m00_fmri2anat.nii.gz --name aaw_047_m00_fmri2anat --alpha 50 --cmap red-yellow\n",
      "\n",
      "FSLeyes scene for subject: aay_049_m00:\n",
      "fsleyes --scene custom1 /media/forest/wd_1/data_CLMS/anatomical/7T_T1_MPR_uniden/2_skullstripped/aay_049_m00_T1_mprage_uniden_skullstripped_after_robustfov_reorient2stdBrainExtractionBrain.nii.gz --name aay_049_m00_anatomical_SS /media/forest/wd_1/data_CLMS/functional/7T_func/7_fmri2anat_xfm/aay_049_m00_fmri2anat.nii.gz --name aay_049_m00_fmri2anat --alpha 50 --cmap red-yellow\n",
      "\n",
      "FSLeyes scene for subject: abc_001_m24:\n",
      "fsleyes --scene custom1 /media/forest/wd_1/data_CLMS/anatomical/7T_T1_MPR_uniden/2_skullstripped/abc_001_m24_T1_mprage_uniden_skullstripped_after_robustfov_BrainExtractionBrain.nii.gz --name abc_001_m24_anatomical_SS /media/forest/wd_1/data_CLMS/functional/7T_func/7_fmri2anat_xfm/abc_001_m24_fmri2anat.nii.gz --name abc_001_m24_fmri2anat --alpha 50 --cmap red-yellow\n",
      "\n",
      "FSLeyes scene for subject: bbb_052_m00:\n",
      "fsleyes --scene custom1 /media/forest/wd_1/data_CLMS/anatomical/7T_T1_MPR_uniden/2_skullstripped/bbb_052_m00_T1_mprage_uniden_skullstripped_kirby_3_BrainExtractionBrain.nii.gz --name bbb_052_m00_anatomical_SS /media/forest/wd_1/data_CLMS/functional/7T_func/7_fmri2anat_xfm/bbb_052_m00_fmri2anat.nii.gz --name bbb_052_m00_fmri2anat --alpha 50 --cmap red-yellow\n",
      "\n",
      "FSLeyes scene for subject: bbc_053_m00:\n",
      "fsleyes --scene custom1 /media/forest/wd_1/data_CLMS/anatomical/7T_T1_MPR_uniden/2_skullstripped/bbc_053_m00_T1_mprage_uniden_skullstripped_NKI_BrainExtractionBrain.nii.gz --name bbc_053_m00_anatomical_SS /media/forest/wd_1/data_CLMS/functional/7T_func/7_fmri2anat_xfm/bbc_053_m00_fmri2anat.nii.gz --name bbc_053_m00_fmri2anat --alpha 50 --cmap red-yellow\n",
      "\n",
      "FSLeyes scene for subject: bbd_054_m00:\n",
      "fsleyes --scene custom1 /media/forest/wd_1/data_CLMS/anatomical/7T_T1_MPR_uniden/2_skullstripped/bbd_054_m00_T1_mprage_uniden_skullstripped_after_robustfov_reorient2stdBrainExtractionBrain.nii.gz --name bbd_054_m00_anatomical_SS /media/forest/wd_1/data_CLMS/functional/7T_func/7_fmri2anat_xfm/bbd_054_m00_fmri2anat.nii.gz --name bbd_054_m00_fmri2anat --alpha 50 --cmap red-yellow\n",
      "\n",
      "FSLeyes scene for subject: bbe_055_m00:\n",
      "fsleyes --scene custom1 /media/forest/wd_1/data_CLMS/anatomical/7T_T1_MPR_uniden/2_skullstripped/bbe_055_m00_T1_mprage_uniden_skullstripped_after_robustfov_reorient2stdBrainExtractionBrain.nii.gz --name bbe_055_m00_anatomical_SS /media/forest/wd_1/data_CLMS/functional/7T_func/7_fmri2anat_xfm/bbe_055_m00_fmri2anat.nii.gz --name bbe_055_m00_fmri2anat --alpha 50 --cmap red-yellow\n",
      "\n",
      "FSLeyes scene for subject: bbf_056_m00:\n",
      "fsleyes --scene custom1 /media/forest/wd_1/data_CLMS/anatomical/7T_T1_MPR_uniden/2_skullstripped/bbf_056_m00_T1_mprage_uniden_skullstripped_after_robustfov_BrainExtractionBrain.nii.gz --name bbf_056_m00_anatomical_SS /media/forest/wd_1/data_CLMS/functional/7T_func/7_fmri2anat_xfm/bbf_056_m00_fmri2anat.nii.gz --name bbf_056_m00_fmri2anat --alpha 50 --cmap red-yellow\n",
      "\n",
      "FSLeyes scene for subject: bbk_061_m00:\n",
      "fsleyes --scene custom1 /media/forest/wd_1/data_CLMS/anatomical/7T_T1_MPR_uniden/2_skullstripped/bbk_061_m00_T1_mprage_uniden_skullstripped_after_robustfov_reorient2stdBrainExtractionBrain.nii.gz --name bbk_061_m00_anatomical_SS /media/forest/wd_1/data_CLMS/functional/7T_func/7_fmri2anat_xfm/bbk_061_m00_fmri2anat.nii.gz --name bbk_061_m00_fmri2anat --alpha 50 --cmap red-yellow\n",
      "\n",
      "FSLeyes scene for subject: bbl_062_m00:\n",
      "fsleyes --scene custom1 /media/forest/wd_1/data_CLMS/anatomical/7T_T1_MPR_uniden/2_skullstripped/bbl_062_m00_T1_mprage_uniden_skullstripped_after_robustfov_reorient2stdBrainExtractionBrain.nii.gz --name bbl_062_m00_anatomical_SS /media/forest/wd_1/data_CLMS/functional/7T_func/7_fmri2anat_xfm/bbl_062_m00_fmri2anat.nii.gz --name bbl_062_m00_fmri2anat --alpha 50 --cmap red-yellow\n",
      "\n",
      "FSLeyes scene for subject: bcd_002_m24:\n",
      "fsleyes --scene custom1 /media/forest/wd_1/data_CLMS/anatomical/7T_T1_MPR_uniden/2_skullstripped/bcd_002_m24_T1_mprage_uniden_skullstripped_NKI_BrainExtractionBrain.nii.gz --name bcd_002_m24_anatomical_SS /media/forest/wd_1/data_CLMS/functional/7T_func/7_fmri2anat_xfm/bcd_002_m24_fmri2anat.nii.gz --name bcd_002_m24_fmri2anat --alpha 50 --cmap red-yellow\n",
      "\n",
      "FSLeyes scene for subject: cde_003_m24:\n",
      "fsleyes --scene custom1 /media/forest/wd_1/data_CLMS/anatomical/7T_T1_MPR_uniden/2_skullstripped/cde_003_m24_T1_mprage_uniden_skullstripped_after_robustfov_reorient2stdBrainExtractionBrain.nii.gz --name cde_003_m24_anatomical_SS /media/forest/wd_1/data_CLMS/functional/7T_func/7_fmri2anat_xfm/cde_003_m24_fmri2anat.nii.gz --name cde_003_m24_fmri2anat --alpha 50 --cmap red-yellow\n",
      "\n",
      "FSLeyes scene for subject: def_004_m00:\n",
      "fsleyes --scene custom1 /media/forest/wd_1/data_CLMS/anatomical/7T_T1_MPR_uniden/2_skullstripped/def_004_m00_T1_mprage_uniden_skullstripped_after_robustfov_reorient2stdBrainExtractionBrain.nii.gz --name def_004_m00_anatomical_SS /media/forest/wd_1/data_CLMS/functional/7T_func/7_fmri2anat_xfm/def_004_m00_fmri2anat.nii.gz --name def_004_m00_fmri2anat --alpha 50 --cmap red-yellow\n",
      "\n",
      "FSLeyes scene for subject: def_004_m24:\n",
      "fsleyes --scene custom1 /media/forest/wd_1/data_CLMS/anatomical/7T_T1_MPR_uniden/2_skullstripped/def_004_m24_T1_mprage_uniden_skullstripped_after_robustfov_reorient2stdBrainExtractionBrain.nii.gz --name def_004_m24_anatomical_SS /media/forest/wd_1/data_CLMS/functional/7T_func/7_fmri2anat_xfm/def_004_m24_fmri2anat.nii.gz --name def_004_m24_fmri2anat --alpha 50 --cmap red-yellow\n",
      "\n",
      "FSLeyes scene for subject: efg_005_m00:\n",
      "fsleyes --scene custom1 /media/forest/wd_1/data_CLMS/anatomical/7T_T1_MPR_uniden/2_skullstripped/efg_005_m00_T1_mprage_uniden_skullstripped_after_robustfov_reorient2stdBrainExtractionBrain.nii.gz --name efg_005_m00_anatomical_SS /media/forest/wd_1/data_CLMS/functional/7T_func/7_fmri2anat_xfm/efg_005_m00_fmri2anat.nii.gz --name efg_005_m00_fmri2anat --alpha 50 --cmap red-yellow\n",
      "\n",
      "FSLeyes scene for subject: efg_005_m24:\n",
      "fsleyes --scene custom1 /media/forest/wd_1/data_CLMS/anatomical/7T_T1_MPR_uniden/2_skullstripped/efg_005_m24_T1_mprage_uniden_skullstripped_after_robustfov_reorient2stdBrainExtractionBrain.nii.gz --name efg_005_m24_anatomical_SS /media/forest/wd_1/data_CLMS/functional/7T_func/7_fmri2anat_xfm/efg_005_m24_fmri2anat.nii.gz --name efg_005_m24_fmri2anat --alpha 50 --cmap red-yellow\n",
      "\n",
      "FSLeyes scene for subject: fgh_006_m00:\n",
      "fsleyes --scene custom1 /media/forest/wd_1/data_CLMS/anatomical/7T_T1_MPR_uniden/2_skullstripped/fgh_006_m00_T1_mprage_uniden_skullstripped_after_robustfov_reorient2stdBrainExtractionBrain.nii.gz --name fgh_006_m00_anatomical_SS /media/forest/wd_1/data_CLMS/functional/7T_func/7_fmri2anat_xfm/fgh_006_m00_fmri2anat.nii.gz --name fgh_006_m00_fmri2anat --alpha 50 --cmap red-yellow\n",
      "\n",
      "FSLeyes scene for subject: ghi_007_m00:\n",
      "fsleyes --scene custom1 /media/forest/wd_1/data_CLMS/anatomical/7T_T1_MPR_uniden/2_skullstripped/ghi_007_m00_T1_mprage_uniden_skullstripped_after_robustfov_reorient2stdBrainExtractionBrain.nii.gz --name ghi_007_m00_anatomical_SS /media/forest/wd_1/data_CLMS/functional/7T_func/7_fmri2anat_xfm/ghi_007_m00_fmri2anat.nii.gz --name ghi_007_m00_fmri2anat --alpha 50 --cmap red-yellow\n",
      "\n",
      "FSLeyes scene for subject: ghi_007_m24:\n",
      "fsleyes --scene custom1 /media/forest/wd_1/data_CLMS/anatomical/7T_T1_MPR_uniden/2_skullstripped/ghi_007_m24_T1_mprage_uniden_skullstripped_after_robustfov_reorient2stdBrainExtractionBrain.nii.gz --name ghi_007_m24_anatomical_SS /media/forest/wd_1/data_CLMS/functional/7T_func/7_fmri2anat_xfm/ghi_007_m24_fmri2anat.nii.gz --name ghi_007_m24_fmri2anat --alpha 50 --cmap red-yellow\n",
      "\n",
      "FSLeyes scene for subject: ijk_009_m24:\n",
      "fsleyes --scene custom1 /media/forest/wd_1/data_CLMS/anatomical/7T_T1_MPR_uniden/2_skullstripped/ijk_009_m24_T1_mprage_uniden_skullstripped_kirby_2_BrainExtractionBrain.nii.gz --name ijk_009_m24_anatomical_SS /media/forest/wd_1/data_CLMS/functional/7T_func/7_fmri2anat_xfm/ijk_009_m24_fmri2anat.nii.gz --name ijk_009_m24_fmri2anat --alpha 50 --cmap red-yellow\n",
      "\n",
      "FSLeyes scene for subject: klm_011_m24:\n",
      "fsleyes --scene custom1 /media/forest/wd_1/data_CLMS/anatomical/7T_T1_MPR_uniden/2_skullstripped/klm_011_m24_T1_mprage_uniden_skullstripped_kirby_5_BrainExtractionBrain.nii.gz --name klm_011_m24_anatomical_SS /media/forest/wd_1/data_CLMS/functional/7T_func/7_fmri2anat_xfm/klm_011_m24_fmri2anat.nii.gz --name klm_011_m24_fmri2anat --alpha 50 --cmap red-yellow\n",
      "\n",
      "FSLeyes scene for subject: lmn_012_m00:\n",
      "fsleyes --scene custom1 /media/forest/wd_1/data_CLMS/anatomical/7T_T1_MPR_uniden/2_skullstripped/lmn_012_m00_T1_mprage_uniden_skullstripped_after_robustfov_reorient2stdBrainExtractionBrain.nii.gz --name lmn_012_m00_anatomical_SS /media/forest/wd_1/data_CLMS/functional/7T_func/7_fmri2anat_xfm/lmn_012_m00_fmri2anat.nii.gz --name lmn_012_m00_fmri2anat --alpha 50 --cmap red-yellow\n",
      "\n",
      "FSLeyes scene for subject: mno_013_m00:\n",
      "fsleyes --scene custom1 /media/forest/wd_1/data_CLMS/anatomical/7T_T1_MPR_uniden/2_skullstripped/mno_013_m00_T1_mprage_uniden_skullstripped_after_robustfov_reorient2stdBrainExtractionBrain.nii.gz --name mno_013_m00_anatomical_SS /media/forest/wd_1/data_CLMS/functional/7T_func/7_fmri2anat_xfm/mno_013_m00_fmri2anat.nii.gz --name mno_013_m00_fmri2anat --alpha 50 --cmap red-yellow\n",
      "\n",
      "FSLeyes scene for subject: opq_015_m00:\n",
      "fsleyes --scene custom1 /media/forest/wd_1/data_CLMS/anatomical/7T_T1_MPR_uniden/2_skullstripped/opq_015_m00_T1_mprage_uniden_skullstripped_after_robustfov_reorient2stdBrainExtractionBrain.nii.gz --name opq_015_m00_anatomical_SS /media/forest/wd_1/data_CLMS/functional/7T_func/7_fmri2anat_xfm/opq_015_m00_fmri2anat.nii.gz --name opq_015_m00_fmri2anat --alpha 50 --cmap red-yellow\n",
      "\n",
      "FSLeyes scene for subject: opq_015_m24:\n",
      "fsleyes --scene custom1 /media/forest/wd_1/data_CLMS/anatomical/7T_T1_MPR_uniden/2_skullstripped/opq_015_m24_T1_mprage_uniden_skullstripped_after_robustfov_reorient2stdBrainExtractionBrain.nii.gz --name opq_015_m24_anatomical_SS /media/forest/wd_1/data_CLMS/functional/7T_func/7_fmri2anat_xfm/opq_015_m24_fmri2anat.nii.gz --name opq_015_m24_fmri2anat --alpha 50 --cmap red-yellow\n",
      "\n",
      "FSLeyes scene for subject: pqr_016_m00:\n",
      "fsleyes --scene custom1 /media/forest/wd_1/data_CLMS/anatomical/7T_T1_MPR_uniden/2_skullstripped/pqr_016_m00_T1_mprage_uniden_skullstripped_after_robustfov_reorient2stdBrainExtractionBrain.nii.gz --name pqr_016_m00_anatomical_SS /media/forest/wd_1/data_CLMS/functional/7T_func/7_fmri2anat_xfm/pqr_016_m00_fmri2anat.nii.gz --name pqr_016_m00_fmri2anat --alpha 50 --cmap red-yellow\n",
      "\n",
      "FSLeyes scene for subject: pqr_016_m24:\n",
      "fsleyes --scene custom1 /media/forest/wd_1/data_CLMS/anatomical/7T_T1_MPR_uniden/2_skullstripped/pqr_016_m24_T1_mprage_uniden_skullstripped_after_robustfov_reorient2stdBrainExtractionBrain.nii.gz --name pqr_016_m24_anatomical_SS /media/forest/wd_1/data_CLMS/functional/7T_func/7_fmri2anat_xfm/pqr_016_m24_fmri2anat.nii.gz --name pqr_016_m24_fmri2anat --alpha 50 --cmap red-yellow\n",
      "\n",
      "FSLeyes scene for subject: rst_018_m00:\n",
      "fsleyes --scene custom1 /media/forest/wd_1/data_CLMS/anatomical/7T_T1_MPR_uniden/2_skullstripped/rst_018_m00_T1_mprage_uniden_skullstripped_IXI_2_BrainExtractionBrain.nii.gz --name rst_018_m00_anatomical_SS /media/forest/wd_1/data_CLMS/functional/7T_func/7_fmri2anat_xfm/rst_018_m00_fmri2anat.nii.gz --name rst_018_m00_fmri2anat --alpha 50 --cmap red-yellow\n",
      "\n",
      "FSLeyes scene for subject: rst_018_m24:\n",
      "fsleyes --scene custom1 /media/forest/wd_1/data_CLMS/anatomical/7T_T1_MPR_uniden/2_skullstripped/rst_018_m24_T1_mprage_uniden_skullstripped_after_robustfov_reorient2stdBrainExtractionBrain.nii.gz --name rst_018_m24_anatomical_SS /media/forest/wd_1/data_CLMS/functional/7T_func/7_fmri2anat_xfm/rst_018_m24_fmri2anat.nii.gz --name rst_018_m24_fmri2anat --alpha 50 --cmap red-yellow\n",
      "\n",
      "FSLeyes scene for subject: stu_019_m00:\n",
      "fsleyes --scene custom1 /media/forest/wd_1/data_CLMS/anatomical/7T_T1_MPR_uniden/2_skullstripped/stu_019_m00_T1_mprage_uniden_skullstripped_after_robustfov_reorient2stdBrainExtractionBrain.nii.gz --name stu_019_m00_anatomical_SS /media/forest/wd_1/data_CLMS/functional/7T_func/7_fmri2anat_xfm/stu_019_m00_fmri2anat.nii.gz --name stu_019_m00_fmri2anat --alpha 50 --cmap red-yellow\n",
      "\n",
      "FSLeyes scene for subject: stu_019_m24:\n",
      "fsleyes --scene custom1 /media/forest/wd_1/data_CLMS/anatomical/7T_T1_MPR_uniden/2_skullstripped/stu_019_m24_T1_mprage_uniden_skullstripped_after_robustfov_BrainExtractionBrain.nii.gz --name stu_019_m24_anatomical_SS /media/forest/wd_1/data_CLMS/functional/7T_func/7_fmri2anat_xfm/stu_019_m24_fmri2anat.nii.gz --name stu_019_m24_fmri2anat --alpha 50 --cmap red-yellow\n",
      "\n",
      "FSLeyes scene for subject: tuv_020_m00:\n",
      "fsleyes --scene custom1 /media/forest/wd_1/data_CLMS/anatomical/7T_T1_MPR_uniden/2_skullstripped/tuv_020_m00_T1_mprage_uniden_skullstripped_after_robustfov_reorient2stdBrainExtractionBrain.nii.gz --name tuv_020_m00_anatomical_SS /media/forest/wd_1/data_CLMS/functional/7T_func/7_fmri2anat_xfm/tuv_020_m00_fmri2anat.nii.gz --name tuv_020_m00_fmri2anat --alpha 50 --cmap red-yellow\n",
      "\n",
      "FSLeyes scene for subject: tuv_020_m24:\n",
      "fsleyes --scene custom1 /media/forest/wd_1/data_CLMS/anatomical/7T_T1_MPR_uniden/2_skullstripped/tuv_020_m24_T1_mprage_uniden_skullstripped_after_robustfov_reorient2stdBrainExtractionBrain.nii.gz --name tuv_020_m24_anatomical_SS /media/forest/wd_1/data_CLMS/functional/7T_func/7_fmri2anat_xfm/tuv_020_m24_fmri2anat.nii.gz --name tuv_020_m24_fmri2anat --alpha 50 --cmap red-yellow\n",
      "\n",
      "FSLeyes scene for subject: uvw_021_m00:\n",
      "fsleyes --scene custom1 /media/forest/wd_1/data_CLMS/anatomical/7T_T1_MPR_uniden/2_skullstripped/uvw_021_m00_T1_mprage_uniden_skullstripped_after_robustfov_reorient2stdBrainExtractionBrain.nii.gz --name uvw_021_m00_anatomical_SS /media/forest/wd_1/data_CLMS/functional/7T_func/7_fmri2anat_xfm/uvw_021_m00_fmri2anat.nii.gz --name uvw_021_m00_fmri2anat --alpha 50 --cmap red-yellow\n",
      "\n",
      "FSLeyes scene for subject: uvw_021_m24:\n",
      "fsleyes --scene custom1 /media/forest/wd_1/data_CLMS/anatomical/7T_T1_MPR_uniden/2_skullstripped/uvw_021_m24_T1_mprage_uniden_skullstripped_after_robustfov_reorient2stdBrainExtractionBrain.nii.gz --name uvw_021_m24_anatomical_SS /media/forest/wd_1/data_CLMS/functional/7T_func/7_fmri2anat_xfm/uvw_021_m24_fmri2anat.nii.gz --name uvw_021_m24_fmri2anat --alpha 50 --cmap red-yellow\n",
      "\n",
      "FSLeyes scene for subject: vwx_022_m00:\n",
      "fsleyes --scene custom1 /media/forest/wd_1/data_CLMS/anatomical/7T_T1_MPR_uniden/2_skullstripped/vwx_022_m00_T1_mprage_uniden_skullstripped_after_robustfov_reorient2stdBrainExtractionBrain.nii.gz --name vwx_022_m00_anatomical_SS /media/forest/wd_1/data_CLMS/functional/7T_func/7_fmri2anat_xfm/vwx_022_m00_fmri2anat.nii.gz --name vwx_022_m00_fmri2anat --alpha 50 --cmap red-yellow\n",
      "\n",
      "FSLeyes scene for subject: wxy_023_m00:\n",
      "fsleyes --scene custom1 /media/forest/wd_1/data_CLMS/anatomical/7T_T1_MPR_uniden/2_skullstripped/wxy_023_m00_T1_mprage_uniden_skullstripped_after_robustfov_reorient2stdBrainExtractionBrain.nii.gz --name wxy_023_m00_anatomical_SS /media/forest/wd_1/data_CLMS/functional/7T_func/7_fmri2anat_xfm/wxy_023_m00_fmri2anat.nii.gz --name wxy_023_m00_fmri2anat --alpha 50 --cmap red-yellow\n",
      "\n",
      "FSLeyes scene for subject: xyz_024_m00:\n",
      "fsleyes --scene custom1 /media/forest/wd_1/data_CLMS/anatomical/7T_T1_MPR_uniden/2_skullstripped/xyz_024_m00_T1_mprage_uniden_skullstripped_after_robustfov_reorient2stdBrainExtractionBrain.nii.gz --name xyz_024_m00_anatomical_SS /media/forest/wd_1/data_CLMS/functional/7T_func/7_fmri2anat_xfm/xyz_024_m00_fmri2anat.nii.gz --name xyz_024_m00_fmri2anat --alpha 50 --cmap red-yellow\n",
      "\n",
      "FSLeyes scene for subject: xyz_024_m24:\n",
      "fsleyes --scene custom1 /media/forest/wd_1/data_CLMS/anatomical/7T_T1_MPR_uniden/2_skullstripped/xyz_024_m24_T1_mprage_uniden_skullstripped_after_robustfov_reorient2stdBrainExtractionBrain.nii.gz --name xyz_024_m24_anatomical_SS /media/forest/wd_1/data_CLMS/functional/7T_func/7_fmri2anat_xfm/xyz_024_m24_fmri2anat.nii.gz --name xyz_024_m24_fmri2anat --alpha 50 --cmap red-yellow\n",
      "\n",
      "FSLeyes scene for subject: aal_036_m00:\n",
      "fsleyes --scene custom1 /media/forest/wd_1/data_CLMS/anatomical/7T_T1_MPR_uniden/2_skullstripped/aal_036_m00_T1_mprage_uniden_skullstripped_after_robustfov_BrainExtractionBrain.nii.gz --name aal_036_m00_anatomical_SS /media/forest/wd_1/data_CLMS/functional/7T_func/7_fmri2anat_xfm/aal_036_m00_fmri2anat.nii.gz --name aal_036_m00_fmri2anat --alpha 50 --cmap red-yellow\n",
      "\n",
      "FSLeyes scene for subject: bbi_059_m00:\n",
      "fsleyes --scene custom1 /media/forest/wd_1/data_CLMS/anatomical/7T_T1_MPR_uniden/2_skullstripped/bbi_059_m00_T1_mprage_uniden_skullstripped_after_robustfov_reorient2stdBrainExtractionBrain.nii.gz --name bbi_059_m00_anatomical_SS /media/forest/wd_1/data_CLMS/functional/7T_func/7_fmri2anat_xfm/bbi_059_m00_fmri2anat.nii.gz --name bbi_059_m00_fmri2anat --alpha 50 --cmap red-yellow\n",
      "\n",
      "FSLeyes scene for subject: lmn_012_m24:\n",
      "fsleyes --scene custom1 /media/forest/wd_1/data_CLMS/anatomical/7T_T1_MPR_uniden/2_skullstripped/lmn_012_m24_T1_mprage_uniden_skullstripped_after_robustfov_reorient2stdBrainExtractionBrain.nii.gz --name lmn_012_m24_anatomical_SS /media/forest/wd_1/data_CLMS/functional/7T_func/7_fmri2anat_xfm/lmn_012_m24_fmri2anat.nii.gz --name lmn_012_m24_fmri2anat --alpha 50 --cmap red-yellow\n",
      "\n"
     ]
    }
   ],
   "source": [
    "# for each subject, generate code to overlay the registered fmri image onto the robustfov anatomical image in fsleyes\n",
    "#   - set robustfov anatomical in the background\n",
    "#   - set registered fmri to red-yellow with 50% transparency\n",
    "\n",
    "for subject, fmri_to_anat_nifti, robustfov_anat in zip(df_pp_fmri['subject_id'], df_pp_fmri['fp_fmri2anat_nifti'], df_pp_fmri['fp_t1_skullstripped']):\n",
    "    print(f'FSLeyes scene for subject: {subject}:')\n",
    "    print(f'''\\\n",
    "fsleyes --scene custom1 \\\n",
    "{robustfov_anat} --name {subject}_anatomical_SS \\\n",
    "{fmri_to_anat_nifti} --name {subject}_fmri2anat --alpha 50 --cmap red-yellow''')\n",
    "    print()"
   ]
  },
  {
   "cell_type": "markdown",
   "metadata": {},
   "source": [
    "- After visually inspecting each fmri-to-anatomical registration, findings are listed as follows:\n",
    "    - Some subjects have excess skull in the anatomical images, as mentioned in the structural preprocessing notebook. Despite this, there was a good registration from fmri with the BBR, with the excess skull ignored. \n",
    "    - klm_011_m24 did not register properly\n",
    "    - All other subjects had good registrations. "
   ]
  },
  {
   "cell_type": "markdown",
   "metadata": {},
   "source": [
    "## Manual Intervention: fmri to anatomical registration for klm_011_m24\n",
    "- Only subject with manual intervention required. \n",
    "    - problem seems to be that a large chunk of brain around the cerebellum has no signal in the fmri image\n",
    "    - using 3mm smoothing on the fmri prior to BBR gives a much more accurate registration--NOTE: used robustfov for the t1, and antsbrainextraction_kirby_5 for skullstrip\n",
    "    - outputs from BBR:\n",
    "        - subj_xfm.mat\n",
    "        - subj_xfm.nii.gz\n",
    "        - subj_xfm_fast_wmedge.nii.gz\n",
    "        - subj_xfm_wmseg.nii.gz\n",
    "        - subj_xfm_init.mat\n",
    "    - the .mat file can be used with flirt to generate the fmri2atlas"
   ]
  },
  {
   "cell_type": "code",
   "execution_count": 54,
   "metadata": {},
   "outputs": [
    {
     "data": {
      "text/plain": [
       "Index(['subject_id', 'fp_raw', 'fp_middle_volume', 'fp_middle_volume_SS',\n",
       "       'fp_t1_wholebrain', 'fp_t1_skullstripped', 'fp_fmri2anat_nifti'],\n",
       "      dtype='object')"
      ]
     },
     "execution_count": 54,
     "metadata": {},
     "output_type": "execute_result"
    }
   ],
   "source": [
    "df_pp_fmri.columns"
   ]
  },
  {
   "cell_type": "code",
   "execution_count": 69,
   "metadata": {},
   "outputs": [
    {
     "name": "stdout",
     "output_type": "stream",
     "text": [
      "fslmaths /media/forest/wd_1/data_CLMS/functional/7T_func/5_mid_volume_SS/klm_011_m24_func_middle_volume_skullstripped.nii.gz -kernel gauss 1.73 -fmean /media/forest/wd_1/data_CLMS/functional/7T_func/5_mid_volume_SS/klm_011_m24_func_middle_volume_skullstripped_3mm_smoothed\n"
     ]
    }
   ],
   "source": [
    "# in the subdirectory 5_mid_volume_SS, smooth the klm_011_m24 file\n",
    "# run the output of the following in terminal:\n",
    "for subject, file in zip(df_pp_fmri['subject_id'], df_pp_fmri['fp_middle_volume_SS']):\n",
    "    if subject == 'klm_011_m24':\n",
    "        klm_011_m24_epi = f'{fmri_dir}/5_mid_volume_SS/{subject}_func_middle_volume_skullstripped_3mm_smoothed'\n",
    "        print(f'fslmaths {file} -kernel gauss 1.73 -fmean {klm_011_m24_epi}')\n"
   ]
  },
  {
   "cell_type": "code",
   "execution_count": 72,
   "metadata": {},
   "outputs": [
    {
     "name": "stdout",
     "output_type": "stream",
     "text": [
      "epi_reg --epi=/media/forest/wd_1/data_CLMS/functional/7T_func/5_mid_volume_SS/klm_011_m24_func_middle_volume_skullstripped_3mm_smoothed --t1=/media/forest/wd_1/data_CLMS/anatomical/7T_T1_MPR_uniden/1_robustfov_fslreorient2std/klm_011_m24_7T_mprage_uniden_robustfov.nii.gz --t1brain=/media/forest/wd_1/data_CLMS/anatomical/7T_T1_MPR_uniden/2_skullstripped/klm_011_m24_T1_mprage_uniden_skullstripped_kirby_5_BrainExtractionBrain.nii.gz --out=/media/forest/wd_1/data_CLMS/functional/7T_func/7_fmri2anat_xfm/klm_011_m24_fmri2anat\n"
     ]
    }
   ],
   "source": [
    "# rerun the epi_reg with the 3mm_smoothed file for klm_011_m24\n",
    "for subject, fmri_file, t1_wholebrain, t1_skullstripped in zip(df_pp_fmri['subject_id'], df_pp_fmri['fp_middle_volume_SS'], df_pp_fmri['fp_t1_wholebrain'], df_pp_fmri['fp_t1_skullstripped']):\n",
    "    if subject == 'klm_011_m24':\n",
    "        print(f'epi_reg --epi={klm_011_m24_epi} --t1={t1_wholebrain} --t1brain={t1_skullstripped} --out={fmri_dir}/7_fmri2anat_xfm/{subject}_fmri2anat')"
   ]
  },
  {
   "cell_type": "markdown",
   "metadata": {},
   "source": [
    "Visual inspection of output (with previously generated FSLeyes code):\n",
    "- result = much better\n",
    "- now all subjects are usable for analysis"
   ]
  },
  {
   "cell_type": "code",
   "execution_count": 95,
   "metadata": {},
   "outputs": [
    {
     "data": {
      "text/plain": [
       "Index(['subject_id', 'fp_raw', 'fp_middle_volume', 'fp_middle_volume_SS',\n",
       "       'fp_t1_wholebrain', 'fp_t1_skullstripped', 'fp_fmri2anat_nifti',\n",
       "       'fp_raw_STC'],\n",
       "      dtype='object')"
      ]
     },
     "execution_count": 95,
     "metadata": {},
     "output_type": "execute_result"
    }
   ],
   "source": [
    "df_pp_fmri.columns"
   ]
  },
  {
   "cell_type": "code",
   "execution_count": 98,
   "metadata": {},
   "outputs": [
    {
     "name": "stdout",
     "output_type": "stream",
     "text": [
      "fslmaths /media/forest/wd_1/data_CLMS/functional/7T_func/5_mid_volume_SS/aab_026_m00_func_middle_volume_skullstripped.nii.gz -bin /media/forest/wd_1/data_CLMS/functional/7T_func/5_mid_volume_SS/aab_026_m00_func_middle_volume_skullstripped_mask &&\n",
      "fslmaths /media/forest/wd_1/data_CLMS/functional/7T_func/5_mid_volume_SS/aac_027_m00_func_middle_volume_skullstripped.nii.gz -bin /media/forest/wd_1/data_CLMS/functional/7T_func/5_mid_volume_SS/aac_027_m00_func_middle_volume_skullstripped_mask &&\n",
      "fslmaths /media/forest/wd_1/data_CLMS/functional/7T_func/5_mid_volume_SS/aac_027_m24_func_middle_volume_skullstripped.nii.gz -bin /media/forest/wd_1/data_CLMS/functional/7T_func/5_mid_volume_SS/aac_027_m24_func_middle_volume_skullstripped_mask &&\n",
      "fslmaths /media/forest/wd_1/data_CLMS/functional/7T_func/5_mid_volume_SS/aad_028_m00_func_middle_volume_skullstripped.nii.gz -bin /media/forest/wd_1/data_CLMS/functional/7T_func/5_mid_volume_SS/aad_028_m00_func_middle_volume_skullstripped_mask &&\n",
      "fslmaths /media/forest/wd_1/data_CLMS/functional/7T_func/5_mid_volume_SS/aad_028_m24_func_middle_volume_skullstripped.nii.gz -bin /media/forest/wd_1/data_CLMS/functional/7T_func/5_mid_volume_SS/aad_028_m24_func_middle_volume_skullstripped_mask &&\n",
      "fslmaths /media/forest/wd_1/data_CLMS/functional/7T_func/5_mid_volume_SS/aae_029_m00_func_middle_volume_skullstripped.nii.gz -bin /media/forest/wd_1/data_CLMS/functional/7T_func/5_mid_volume_SS/aae_029_m00_func_middle_volume_skullstripped_mask &&\n",
      "fslmaths /media/forest/wd_1/data_CLMS/functional/7T_func/5_mid_volume_SS/aaf_030_m00_func_middle_volume_skullstripped.nii.gz -bin /media/forest/wd_1/data_CLMS/functional/7T_func/5_mid_volume_SS/aaf_030_m00_func_middle_volume_skullstripped_mask &&\n",
      "fslmaths /media/forest/wd_1/data_CLMS/functional/7T_func/5_mid_volume_SS/aaf_030_m24_func_middle_volume_skullstripped.nii.gz -bin /media/forest/wd_1/data_CLMS/functional/7T_func/5_mid_volume_SS/aaf_030_m24_func_middle_volume_skullstripped_mask &&\n",
      "fslmaths /media/forest/wd_1/data_CLMS/functional/7T_func/5_mid_volume_SS/aah_032_m00_func_middle_volume_skullstripped.nii.gz -bin /media/forest/wd_1/data_CLMS/functional/7T_func/5_mid_volume_SS/aah_032_m00_func_middle_volume_skullstripped_mask &&\n",
      "fslmaths /media/forest/wd_1/data_CLMS/functional/7T_func/5_mid_volume_SS/aah_032_m24_func_middle_volume_skullstripped.nii.gz -bin /media/forest/wd_1/data_CLMS/functional/7T_func/5_mid_volume_SS/aah_032_m24_func_middle_volume_skullstripped_mask &&\n",
      "fslmaths /media/forest/wd_1/data_CLMS/functional/7T_func/5_mid_volume_SS/aai_033_m00_func_middle_volume_skullstripped.nii.gz -bin /media/forest/wd_1/data_CLMS/functional/7T_func/5_mid_volume_SS/aai_033_m00_func_middle_volume_skullstripped_mask &&\n",
      "fslmaths /media/forest/wd_1/data_CLMS/functional/7T_func/5_mid_volume_SS/aai_033_m24_func_middle_volume_skullstripped.nii.gz -bin /media/forest/wd_1/data_CLMS/functional/7T_func/5_mid_volume_SS/aai_033_m24_func_middle_volume_skullstripped_mask &&\n",
      "fslmaths /media/forest/wd_1/data_CLMS/functional/7T_func/5_mid_volume_SS/aaj_034_m00_func_middle_volume_skullstripped.nii.gz -bin /media/forest/wd_1/data_CLMS/functional/7T_func/5_mid_volume_SS/aaj_034_m00_func_middle_volume_skullstripped_mask &&\n",
      "fslmaths /media/forest/wd_1/data_CLMS/functional/7T_func/5_mid_volume_SS/aaj_034_m24_func_middle_volume_skullstripped.nii.gz -bin /media/forest/wd_1/data_CLMS/functional/7T_func/5_mid_volume_SS/aaj_034_m24_func_middle_volume_skullstripped_mask &&\n",
      "fslmaths /media/forest/wd_1/data_CLMS/functional/7T_func/5_mid_volume_SS/aal_036_m24_func_middle_volume_skullstripped.nii.gz -bin /media/forest/wd_1/data_CLMS/functional/7T_func/5_mid_volume_SS/aal_036_m24_func_middle_volume_skullstripped_mask &&\n",
      "fslmaths /media/forest/wd_1/data_CLMS/functional/7T_func/5_mid_volume_SS/aam_037_m00_func_middle_volume_skullstripped.nii.gz -bin /media/forest/wd_1/data_CLMS/functional/7T_func/5_mid_volume_SS/aam_037_m00_func_middle_volume_skullstripped_mask &&\n",
      "fslmaths /media/forest/wd_1/data_CLMS/functional/7T_func/5_mid_volume_SS/aan_038_m24_func_middle_volume_skullstripped.nii.gz -bin /media/forest/wd_1/data_CLMS/functional/7T_func/5_mid_volume_SS/aan_038_m24_func_middle_volume_skullstripped_mask &&\n",
      "fslmaths /media/forest/wd_1/data_CLMS/functional/7T_func/5_mid_volume_SS/aao_039_m00_func_middle_volume_skullstripped.nii.gz -bin /media/forest/wd_1/data_CLMS/functional/7T_func/5_mid_volume_SS/aao_039_m00_func_middle_volume_skullstripped_mask &&\n",
      "fslmaths /media/forest/wd_1/data_CLMS/functional/7T_func/5_mid_volume_SS/aao_039_m24_func_middle_volume_skullstripped.nii.gz -bin /media/forest/wd_1/data_CLMS/functional/7T_func/5_mid_volume_SS/aao_039_m24_func_middle_volume_skullstripped_mask &&\n",
      "fslmaths /media/forest/wd_1/data_CLMS/functional/7T_func/5_mid_volume_SS/aar_042_m00_func_middle_volume_skullstripped.nii.gz -bin /media/forest/wd_1/data_CLMS/functional/7T_func/5_mid_volume_SS/aar_042_m00_func_middle_volume_skullstripped_mask &&\n",
      "fslmaths /media/forest/wd_1/data_CLMS/functional/7T_func/5_mid_volume_SS/aas_043_m00_func_middle_volume_skullstripped.nii.gz -bin /media/forest/wd_1/data_CLMS/functional/7T_func/5_mid_volume_SS/aas_043_m00_func_middle_volume_skullstripped_mask &&\n",
      "fslmaths /media/forest/wd_1/data_CLMS/functional/7T_func/5_mid_volume_SS/aat_044_m24_func_middle_volume_skullstripped.nii.gz -bin /media/forest/wd_1/data_CLMS/functional/7T_func/5_mid_volume_SS/aat_044_m24_func_middle_volume_skullstripped_mask &&\n",
      "fslmaths /media/forest/wd_1/data_CLMS/functional/7T_func/5_mid_volume_SS/aaw_047_m00_func_middle_volume_skullstripped.nii.gz -bin /media/forest/wd_1/data_CLMS/functional/7T_func/5_mid_volume_SS/aaw_047_m00_func_middle_volume_skullstripped_mask &&\n",
      "fslmaths /media/forest/wd_1/data_CLMS/functional/7T_func/5_mid_volume_SS/aay_049_m00_func_middle_volume_skullstripped.nii.gz -bin /media/forest/wd_1/data_CLMS/functional/7T_func/5_mid_volume_SS/aay_049_m00_func_middle_volume_skullstripped_mask &&\n",
      "fslmaths /media/forest/wd_1/data_CLMS/functional/7T_func/5_mid_volume_SS/abc_001_m24_func_middle_volume_skullstripped.nii.gz -bin /media/forest/wd_1/data_CLMS/functional/7T_func/5_mid_volume_SS/abc_001_m24_func_middle_volume_skullstripped_mask &&\n",
      "fslmaths /media/forest/wd_1/data_CLMS/functional/7T_func/5_mid_volume_SS/bbb_052_m00_func_middle_volume_skullstripped.nii.gz -bin /media/forest/wd_1/data_CLMS/functional/7T_func/5_mid_volume_SS/bbb_052_m00_func_middle_volume_skullstripped_mask &&\n",
      "fslmaths /media/forest/wd_1/data_CLMS/functional/7T_func/5_mid_volume_SS/bbc_053_m00_func_middle_volume_skullstripped.nii.gz -bin /media/forest/wd_1/data_CLMS/functional/7T_func/5_mid_volume_SS/bbc_053_m00_func_middle_volume_skullstripped_mask &&\n",
      "fslmaths /media/forest/wd_1/data_CLMS/functional/7T_func/5_mid_volume_SS/bbd_054_m00_func_middle_volume_skullstripped.nii.gz -bin /media/forest/wd_1/data_CLMS/functional/7T_func/5_mid_volume_SS/bbd_054_m00_func_middle_volume_skullstripped_mask &&\n",
      "fslmaths /media/forest/wd_1/data_CLMS/functional/7T_func/5_mid_volume_SS/bbe_055_m00_func_middle_volume_skullstripped.nii.gz -bin /media/forest/wd_1/data_CLMS/functional/7T_func/5_mid_volume_SS/bbe_055_m00_func_middle_volume_skullstripped_mask &&\n",
      "fslmaths /media/forest/wd_1/data_CLMS/functional/7T_func/5_mid_volume_SS/bbf_056_m00_func_middle_volume_skullstripped.nii.gz -bin /media/forest/wd_1/data_CLMS/functional/7T_func/5_mid_volume_SS/bbf_056_m00_func_middle_volume_skullstripped_mask &&\n",
      "fslmaths /media/forest/wd_1/data_CLMS/functional/7T_func/5_mid_volume_SS/bbk_061_m00_func_middle_volume_skullstripped.nii.gz -bin /media/forest/wd_1/data_CLMS/functional/7T_func/5_mid_volume_SS/bbk_061_m00_func_middle_volume_skullstripped_mask &&\n",
      "fslmaths /media/forest/wd_1/data_CLMS/functional/7T_func/5_mid_volume_SS/bbl_062_m00_func_middle_volume_skullstripped.nii.gz -bin /media/forest/wd_1/data_CLMS/functional/7T_func/5_mid_volume_SS/bbl_062_m00_func_middle_volume_skullstripped_mask &&\n",
      "fslmaths /media/forest/wd_1/data_CLMS/functional/7T_func/5_mid_volume_SS/bcd_002_m24_func_middle_volume_skullstripped.nii.gz -bin /media/forest/wd_1/data_CLMS/functional/7T_func/5_mid_volume_SS/bcd_002_m24_func_middle_volume_skullstripped_mask &&\n",
      "fslmaths /media/forest/wd_1/data_CLMS/functional/7T_func/5_mid_volume_SS/cde_003_m24_func_middle_volume_skullstripped.nii.gz -bin /media/forest/wd_1/data_CLMS/functional/7T_func/5_mid_volume_SS/cde_003_m24_func_middle_volume_skullstripped_mask &&\n",
      "fslmaths /media/forest/wd_1/data_CLMS/functional/7T_func/5_mid_volume_SS/def_004_m00_func_middle_volume_skullstripped.nii.gz -bin /media/forest/wd_1/data_CLMS/functional/7T_func/5_mid_volume_SS/def_004_m00_func_middle_volume_skullstripped_mask &&\n",
      "fslmaths /media/forest/wd_1/data_CLMS/functional/7T_func/5_mid_volume_SS/def_004_m24_func_middle_volume_skullstripped.nii.gz -bin /media/forest/wd_1/data_CLMS/functional/7T_func/5_mid_volume_SS/def_004_m24_func_middle_volume_skullstripped_mask &&\n",
      "fslmaths /media/forest/wd_1/data_CLMS/functional/7T_func/5_mid_volume_SS/efg_005_m00_func_middle_volume_skullstripped.nii.gz -bin /media/forest/wd_1/data_CLMS/functional/7T_func/5_mid_volume_SS/efg_005_m00_func_middle_volume_skullstripped_mask &&\n",
      "fslmaths /media/forest/wd_1/data_CLMS/functional/7T_func/5_mid_volume_SS/efg_005_m24_func_middle_volume_skullstripped.nii.gz -bin /media/forest/wd_1/data_CLMS/functional/7T_func/5_mid_volume_SS/efg_005_m24_func_middle_volume_skullstripped_mask &&\n",
      "fslmaths /media/forest/wd_1/data_CLMS/functional/7T_func/5_mid_volume_SS/fgh_006_m00_func_middle_volume_skullstripped.nii.gz -bin /media/forest/wd_1/data_CLMS/functional/7T_func/5_mid_volume_SS/fgh_006_m00_func_middle_volume_skullstripped_mask &&\n",
      "fslmaths /media/forest/wd_1/data_CLMS/functional/7T_func/5_mid_volume_SS/ghi_007_m00_func_middle_volume_skullstripped.nii.gz -bin /media/forest/wd_1/data_CLMS/functional/7T_func/5_mid_volume_SS/ghi_007_m00_func_middle_volume_skullstripped_mask &&\n",
      "fslmaths /media/forest/wd_1/data_CLMS/functional/7T_func/5_mid_volume_SS/ghi_007_m24_func_middle_volume_skullstripped.nii.gz -bin /media/forest/wd_1/data_CLMS/functional/7T_func/5_mid_volume_SS/ghi_007_m24_func_middle_volume_skullstripped_mask &&\n",
      "fslmaths /media/forest/wd_1/data_CLMS/functional/7T_func/5_mid_volume_SS/ijk_009_m24_func_middle_volume_skullstripped.nii.gz -bin /media/forest/wd_1/data_CLMS/functional/7T_func/5_mid_volume_SS/ijk_009_m24_func_middle_volume_skullstripped_mask &&\n",
      "fslmaths /media/forest/wd_1/data_CLMS/functional/7T_func/5_mid_volume_SS/klm_011_m24_func_middle_volume_skullstripped.nii.gz -bin /media/forest/wd_1/data_CLMS/functional/7T_func/5_mid_volume_SS/klm_011_m24_func_middle_volume_skullstripped_mask &&\n",
      "fslmaths /media/forest/wd_1/data_CLMS/functional/7T_func/5_mid_volume_SS/lmn_012_m00_func_middle_volume_skullstripped.nii.gz -bin /media/forest/wd_1/data_CLMS/functional/7T_func/5_mid_volume_SS/lmn_012_m00_func_middle_volume_skullstripped_mask &&\n",
      "fslmaths /media/forest/wd_1/data_CLMS/functional/7T_func/5_mid_volume_SS/mno_013_m00_func_middle_volume_skullstripped.nii.gz -bin /media/forest/wd_1/data_CLMS/functional/7T_func/5_mid_volume_SS/mno_013_m00_func_middle_volume_skullstripped_mask &&\n",
      "fslmaths /media/forest/wd_1/data_CLMS/functional/7T_func/5_mid_volume_SS/opq_015_m00_func_middle_volume_skullstripped.nii.gz -bin /media/forest/wd_1/data_CLMS/functional/7T_func/5_mid_volume_SS/opq_015_m00_func_middle_volume_skullstripped_mask &&\n",
      "fslmaths /media/forest/wd_1/data_CLMS/functional/7T_func/5_mid_volume_SS/opq_015_m24_func_middle_volume_skullstripped.nii.gz -bin /media/forest/wd_1/data_CLMS/functional/7T_func/5_mid_volume_SS/opq_015_m24_func_middle_volume_skullstripped_mask &&\n",
      "fslmaths /media/forest/wd_1/data_CLMS/functional/7T_func/5_mid_volume_SS/pqr_016_m00_func_middle_volume_skullstripped.nii.gz -bin /media/forest/wd_1/data_CLMS/functional/7T_func/5_mid_volume_SS/pqr_016_m00_func_middle_volume_skullstripped_mask &&\n",
      "fslmaths /media/forest/wd_1/data_CLMS/functional/7T_func/5_mid_volume_SS/pqr_016_m24_func_middle_volume_skullstripped.nii.gz -bin /media/forest/wd_1/data_CLMS/functional/7T_func/5_mid_volume_SS/pqr_016_m24_func_middle_volume_skullstripped_mask &&\n",
      "fslmaths /media/forest/wd_1/data_CLMS/functional/7T_func/5_mid_volume_SS/rst_018_m00_func_middle_volume_skullstripped.nii.gz -bin /media/forest/wd_1/data_CLMS/functional/7T_func/5_mid_volume_SS/rst_018_m00_func_middle_volume_skullstripped_mask &&\n",
      "fslmaths /media/forest/wd_1/data_CLMS/functional/7T_func/5_mid_volume_SS/rst_018_m24_func_middle_volume_skullstripped.nii.gz -bin /media/forest/wd_1/data_CLMS/functional/7T_func/5_mid_volume_SS/rst_018_m24_func_middle_volume_skullstripped_mask &&\n",
      "fslmaths /media/forest/wd_1/data_CLMS/functional/7T_func/5_mid_volume_SS/stu_019_m00_func_middle_volume_skullstripped.nii.gz -bin /media/forest/wd_1/data_CLMS/functional/7T_func/5_mid_volume_SS/stu_019_m00_func_middle_volume_skullstripped_mask &&\n",
      "fslmaths /media/forest/wd_1/data_CLMS/functional/7T_func/5_mid_volume_SS/stu_019_m24_func_middle_volume_skullstripped.nii.gz -bin /media/forest/wd_1/data_CLMS/functional/7T_func/5_mid_volume_SS/stu_019_m24_func_middle_volume_skullstripped_mask &&\n",
      "fslmaths /media/forest/wd_1/data_CLMS/functional/7T_func/5_mid_volume_SS/tuv_020_m00_func_middle_volume_skullstripped.nii.gz -bin /media/forest/wd_1/data_CLMS/functional/7T_func/5_mid_volume_SS/tuv_020_m00_func_middle_volume_skullstripped_mask &&\n",
      "fslmaths /media/forest/wd_1/data_CLMS/functional/7T_func/5_mid_volume_SS/tuv_020_m24_func_middle_volume_skullstripped.nii.gz -bin /media/forest/wd_1/data_CLMS/functional/7T_func/5_mid_volume_SS/tuv_020_m24_func_middle_volume_skullstripped_mask &&\n",
      "fslmaths /media/forest/wd_1/data_CLMS/functional/7T_func/5_mid_volume_SS/uvw_021_m00_func_middle_volume_skullstripped.nii.gz -bin /media/forest/wd_1/data_CLMS/functional/7T_func/5_mid_volume_SS/uvw_021_m00_func_middle_volume_skullstripped_mask &&\n",
      "fslmaths /media/forest/wd_1/data_CLMS/functional/7T_func/5_mid_volume_SS/uvw_021_m24_func_middle_volume_skullstripped.nii.gz -bin /media/forest/wd_1/data_CLMS/functional/7T_func/5_mid_volume_SS/uvw_021_m24_func_middle_volume_skullstripped_mask &&\n",
      "fslmaths /media/forest/wd_1/data_CLMS/functional/7T_func/5_mid_volume_SS/vwx_022_m00_func_middle_volume_skullstripped.nii.gz -bin /media/forest/wd_1/data_CLMS/functional/7T_func/5_mid_volume_SS/vwx_022_m00_func_middle_volume_skullstripped_mask &&\n",
      "fslmaths /media/forest/wd_1/data_CLMS/functional/7T_func/5_mid_volume_SS/wxy_023_m00_func_middle_volume_skullstripped.nii.gz -bin /media/forest/wd_1/data_CLMS/functional/7T_func/5_mid_volume_SS/wxy_023_m00_func_middle_volume_skullstripped_mask &&\n",
      "fslmaths /media/forest/wd_1/data_CLMS/functional/7T_func/5_mid_volume_SS/xyz_024_m00_func_middle_volume_skullstripped.nii.gz -bin /media/forest/wd_1/data_CLMS/functional/7T_func/5_mid_volume_SS/xyz_024_m00_func_middle_volume_skullstripped_mask &&\n",
      "fslmaths /media/forest/wd_1/data_CLMS/functional/7T_func/5_mid_volume_SS/xyz_024_m24_func_middle_volume_skullstripped.nii.gz -bin /media/forest/wd_1/data_CLMS/functional/7T_func/5_mid_volume_SS/xyz_024_m24_func_middle_volume_skullstripped_mask &&\n",
      "fslmaths /media/forest/wd_1/data_CLMS/functional/7T_func/5_mid_volume_SS/aal_036_m00_func_middle_volume_skullstripped.nii.gz -bin /media/forest/wd_1/data_CLMS/functional/7T_func/5_mid_volume_SS/aal_036_m00_func_middle_volume_skullstripped_mask &&\n",
      "fslmaths /media/forest/wd_1/data_CLMS/functional/7T_func/5_mid_volume_SS/bbi_059_m00_func_middle_volume_skullstripped.nii.gz -bin /media/forest/wd_1/data_CLMS/functional/7T_func/5_mid_volume_SS/bbi_059_m00_func_middle_volume_skullstripped_mask &&\n",
      "fslmaths /media/forest/wd_1/data_CLMS/functional/7T_func/5_mid_volume_SS/lmn_012_m24_func_middle_volume_skullstripped.nii.gz -bin /media/forest/wd_1/data_CLMS/functional/7T_func/5_mid_volume_SS/lmn_012_m24_func_middle_volume_skullstripped_mask &&\n"
     ]
    }
   ],
   "source": [
    "# Create binary mask from skullstripped functional image and apply on original raw image (NOTE: MANUALLY CHANGE KLM_011_M24)\n",
    "for subject, file in zip(df_pp_fmri['subject_id'], df_pp_fmri['fp_middle_volume_SS']):\n",
    "    print(f'fslmaths {file} -bin {fmri_dir}/5_mid_volume_SS/{subject}_func_middle_volume_skullstripped_mask &&')"
   ]
  },
  {
   "cell_type": "code",
   "execution_count": 100,
   "metadata": {},
   "outputs": [],
   "source": [
    "df_pp_fmri = append_column(df_pp_fmri, '5_mid_volume_SS', 'func_SS_mask', 'skullstripped_mask.nii')"
   ]
  },
  {
   "cell_type": "markdown",
   "metadata": {},
   "source": [
    "# Apply Skullstrip Mask to STC+MC'ed 4D Image"
   ]
  },
  {
   "cell_type": "code",
   "execution_count": 109,
   "metadata": {},
   "outputs": [
    {
     "name": "stdout",
     "output_type": "stream",
     "text": [
      "fslmaths /media/forest/wd_1/data_CLMS/functional/7T_func/4_MC/aab_026_m00_STC_MC.nii.gz -mul /media/forest/wd_1/data_CLMS/functional/7T_func/5_mid_volume_SS/aab_026_m00_func_middle_volume_skullstripped_mask.nii.gz /media/forest/wd_1/data_CLMS/functional/7T_func/6_SS/aab_026_m00_func_skullstripped &&\n",
      "fslmaths /media/forest/wd_1/data_CLMS/functional/7T_func/4_MC/aac_027_m00_STC_MC.nii.gz -mul /media/forest/wd_1/data_CLMS/functional/7T_func/5_mid_volume_SS/aac_027_m00_func_middle_volume_skullstripped_mask.nii.gz /media/forest/wd_1/data_CLMS/functional/7T_func/6_SS/aac_027_m00_func_skullstripped &&\n",
      "fslmaths /media/forest/wd_1/data_CLMS/functional/7T_func/4_MC/aac_027_m24_STC_MC.nii.gz -mul /media/forest/wd_1/data_CLMS/functional/7T_func/5_mid_volume_SS/aac_027_m24_func_middle_volume_skullstripped_mask.nii.gz /media/forest/wd_1/data_CLMS/functional/7T_func/6_SS/aac_027_m24_func_skullstripped &&\n",
      "fslmaths /media/forest/wd_1/data_CLMS/functional/7T_func/4_MC/aad_028_m00_STC_MC.nii.gz -mul /media/forest/wd_1/data_CLMS/functional/7T_func/5_mid_volume_SS/aad_028_m00_func_middle_volume_skullstripped_mask.nii.gz /media/forest/wd_1/data_CLMS/functional/7T_func/6_SS/aad_028_m00_func_skullstripped &&\n",
      "fslmaths /media/forest/wd_1/data_CLMS/functional/7T_func/4_MC/aad_028_m24_STC_MC.nii.gz -mul /media/forest/wd_1/data_CLMS/functional/7T_func/5_mid_volume_SS/aad_028_m24_func_middle_volume_skullstripped_mask.nii.gz /media/forest/wd_1/data_CLMS/functional/7T_func/6_SS/aad_028_m24_func_skullstripped &&\n",
      "fslmaths /media/forest/wd_1/data_CLMS/functional/7T_func/4_MC/aae_029_m00_STC_MC.nii.gz -mul /media/forest/wd_1/data_CLMS/functional/7T_func/5_mid_volume_SS/aae_029_m00_func_middle_volume_skullstripped_mask.nii.gz /media/forest/wd_1/data_CLMS/functional/7T_func/6_SS/aae_029_m00_func_skullstripped &&\n",
      "fslmaths /media/forest/wd_1/data_CLMS/functional/7T_func/4_MC/aaf_030_m00_STC_MC.nii.gz -mul /media/forest/wd_1/data_CLMS/functional/7T_func/5_mid_volume_SS/aaf_030_m00_func_middle_volume_skullstripped_mask.nii.gz /media/forest/wd_1/data_CLMS/functional/7T_func/6_SS/aaf_030_m00_func_skullstripped &&\n",
      "fslmaths /media/forest/wd_1/data_CLMS/functional/7T_func/4_MC/aaf_030_m24_STC_MC.nii.gz -mul /media/forest/wd_1/data_CLMS/functional/7T_func/5_mid_volume_SS/aaf_030_m24_func_middle_volume_skullstripped_mask.nii.gz /media/forest/wd_1/data_CLMS/functional/7T_func/6_SS/aaf_030_m24_func_skullstripped &&\n",
      "fslmaths /media/forest/wd_1/data_CLMS/functional/7T_func/4_MC/aah_032_m00_STC_MC.nii.gz -mul /media/forest/wd_1/data_CLMS/functional/7T_func/5_mid_volume_SS/aah_032_m00_func_middle_volume_skullstripped_mask.nii.gz /media/forest/wd_1/data_CLMS/functional/7T_func/6_SS/aah_032_m00_func_skullstripped &&\n",
      "fslmaths /media/forest/wd_1/data_CLMS/functional/7T_func/4_MC/aah_032_m24_STC_MC.nii.gz -mul /media/forest/wd_1/data_CLMS/functional/7T_func/5_mid_volume_SS/aah_032_m24_func_middle_volume_skullstripped_mask.nii.gz /media/forest/wd_1/data_CLMS/functional/7T_func/6_SS/aah_032_m24_func_skullstripped &&\n",
      "fslmaths /media/forest/wd_1/data_CLMS/functional/7T_func/4_MC/aai_033_m00_STC_MC.nii.gz -mul /media/forest/wd_1/data_CLMS/functional/7T_func/5_mid_volume_SS/aai_033_m00_func_middle_volume_skullstripped_mask.nii.gz /media/forest/wd_1/data_CLMS/functional/7T_func/6_SS/aai_033_m00_func_skullstripped &&\n",
      "fslmaths /media/forest/wd_1/data_CLMS/functional/7T_func/4_MC/aai_033_m24_STC_MC.nii.gz -mul /media/forest/wd_1/data_CLMS/functional/7T_func/5_mid_volume_SS/aai_033_m24_func_middle_volume_skullstripped_mask.nii.gz /media/forest/wd_1/data_CLMS/functional/7T_func/6_SS/aai_033_m24_func_skullstripped &&\n",
      "fslmaths /media/forest/wd_1/data_CLMS/functional/7T_func/4_MC/aaj_034_m00_STC_MC.nii.gz -mul /media/forest/wd_1/data_CLMS/functional/7T_func/5_mid_volume_SS/aaj_034_m00_func_middle_volume_skullstripped_mask.nii.gz /media/forest/wd_1/data_CLMS/functional/7T_func/6_SS/aaj_034_m00_func_skullstripped &&\n",
      "fslmaths /media/forest/wd_1/data_CLMS/functional/7T_func/4_MC/aaj_034_m24_STC_MC.nii.gz -mul /media/forest/wd_1/data_CLMS/functional/7T_func/5_mid_volume_SS/aaj_034_m24_func_middle_volume_skullstripped_mask.nii.gz /media/forest/wd_1/data_CLMS/functional/7T_func/6_SS/aaj_034_m24_func_skullstripped &&\n",
      "fslmaths /media/forest/wd_1/data_CLMS/functional/7T_func/4_MC/aal_036_m24_STC_MC.nii.gz -mul /media/forest/wd_1/data_CLMS/functional/7T_func/5_mid_volume_SS/aal_036_m24_func_middle_volume_skullstripped_mask.nii.gz /media/forest/wd_1/data_CLMS/functional/7T_func/6_SS/aal_036_m24_func_skullstripped &&\n",
      "fslmaths /media/forest/wd_1/data_CLMS/functional/7T_func/4_MC/aam_037_m00_STC_MC.nii.gz -mul /media/forest/wd_1/data_CLMS/functional/7T_func/5_mid_volume_SS/aam_037_m00_func_middle_volume_skullstripped_mask.nii.gz /media/forest/wd_1/data_CLMS/functional/7T_func/6_SS/aam_037_m00_func_skullstripped &&\n",
      "fslmaths /media/forest/wd_1/data_CLMS/functional/7T_func/4_MC/aan_038_m24_STC_MC.nii.gz -mul /media/forest/wd_1/data_CLMS/functional/7T_func/5_mid_volume_SS/aan_038_m24_func_middle_volume_skullstripped_mask.nii.gz /media/forest/wd_1/data_CLMS/functional/7T_func/6_SS/aan_038_m24_func_skullstripped &&\n",
      "fslmaths /media/forest/wd_1/data_CLMS/functional/7T_func/4_MC/aao_039_m00_STC_MC.nii.gz -mul /media/forest/wd_1/data_CLMS/functional/7T_func/5_mid_volume_SS/aao_039_m00_func_middle_volume_skullstripped_mask.nii.gz /media/forest/wd_1/data_CLMS/functional/7T_func/6_SS/aao_039_m00_func_skullstripped &&\n",
      "fslmaths /media/forest/wd_1/data_CLMS/functional/7T_func/4_MC/aao_039_m24_STC_MC.nii.gz -mul /media/forest/wd_1/data_CLMS/functional/7T_func/5_mid_volume_SS/aao_039_m24_func_middle_volume_skullstripped_mask.nii.gz /media/forest/wd_1/data_CLMS/functional/7T_func/6_SS/aao_039_m24_func_skullstripped &&\n",
      "fslmaths /media/forest/wd_1/data_CLMS/functional/7T_func/4_MC/aar_042_m00_STC_MC.nii.gz -mul /media/forest/wd_1/data_CLMS/functional/7T_func/5_mid_volume_SS/aar_042_m00_func_middle_volume_skullstripped_mask.nii.gz /media/forest/wd_1/data_CLMS/functional/7T_func/6_SS/aar_042_m00_func_skullstripped &&\n",
      "fslmaths /media/forest/wd_1/data_CLMS/functional/7T_func/4_MC/aas_043_m00_STC_MC.nii.gz -mul /media/forest/wd_1/data_CLMS/functional/7T_func/5_mid_volume_SS/aas_043_m00_func_middle_volume_skullstripped_mask.nii.gz /media/forest/wd_1/data_CLMS/functional/7T_func/6_SS/aas_043_m00_func_skullstripped &&\n",
      "fslmaths /media/forest/wd_1/data_CLMS/functional/7T_func/4_MC/aat_044_m24_STC_MC.nii.gz -mul /media/forest/wd_1/data_CLMS/functional/7T_func/5_mid_volume_SS/aat_044_m24_func_middle_volume_skullstripped_mask.nii.gz /media/forest/wd_1/data_CLMS/functional/7T_func/6_SS/aat_044_m24_func_skullstripped &&\n",
      "fslmaths /media/forest/wd_1/data_CLMS/functional/7T_func/4_MC/aaw_047_m00_STC_MC.nii.gz -mul /media/forest/wd_1/data_CLMS/functional/7T_func/5_mid_volume_SS/aaw_047_m00_func_middle_volume_skullstripped_mask.nii.gz /media/forest/wd_1/data_CLMS/functional/7T_func/6_SS/aaw_047_m00_func_skullstripped &&\n",
      "fslmaths /media/forest/wd_1/data_CLMS/functional/7T_func/4_MC/aay_049_m00_STC_MC.nii.gz -mul /media/forest/wd_1/data_CLMS/functional/7T_func/5_mid_volume_SS/aay_049_m00_func_middle_volume_skullstripped_mask.nii.gz /media/forest/wd_1/data_CLMS/functional/7T_func/6_SS/aay_049_m00_func_skullstripped &&\n",
      "fslmaths /media/forest/wd_1/data_CLMS/functional/7T_func/4_MC/abc_001_m24_STC_MC.nii.gz -mul /media/forest/wd_1/data_CLMS/functional/7T_func/5_mid_volume_SS/abc_001_m24_func_middle_volume_skullstripped_mask.nii.gz /media/forest/wd_1/data_CLMS/functional/7T_func/6_SS/abc_001_m24_func_skullstripped &&\n",
      "fslmaths /media/forest/wd_1/data_CLMS/functional/7T_func/4_MC/bbb_052_m00_STC_MC.nii.gz -mul /media/forest/wd_1/data_CLMS/functional/7T_func/5_mid_volume_SS/bbb_052_m00_func_middle_volume_skullstripped_mask.nii.gz /media/forest/wd_1/data_CLMS/functional/7T_func/6_SS/bbb_052_m00_func_skullstripped &&\n",
      "fslmaths /media/forest/wd_1/data_CLMS/functional/7T_func/4_MC/bbc_053_m00_STC_MC.nii.gz -mul /media/forest/wd_1/data_CLMS/functional/7T_func/5_mid_volume_SS/bbc_053_m00_func_middle_volume_skullstripped_mask.nii.gz /media/forest/wd_1/data_CLMS/functional/7T_func/6_SS/bbc_053_m00_func_skullstripped &&\n",
      "fslmaths /media/forest/wd_1/data_CLMS/functional/7T_func/4_MC/bbd_054_m00_STC_MC.nii.gz -mul /media/forest/wd_1/data_CLMS/functional/7T_func/5_mid_volume_SS/bbd_054_m00_func_middle_volume_skullstripped_mask.nii.gz /media/forest/wd_1/data_CLMS/functional/7T_func/6_SS/bbd_054_m00_func_skullstripped &&\n",
      "fslmaths /media/forest/wd_1/data_CLMS/functional/7T_func/4_MC/bbe_055_m00_STC_MC.nii.gz -mul /media/forest/wd_1/data_CLMS/functional/7T_func/5_mid_volume_SS/bbe_055_m00_func_middle_volume_skullstripped_mask.nii.gz /media/forest/wd_1/data_CLMS/functional/7T_func/6_SS/bbe_055_m00_func_skullstripped &&\n",
      "fslmaths /media/forest/wd_1/data_CLMS/functional/7T_func/4_MC/bbf_056_m00_STC_MC.nii.gz -mul /media/forest/wd_1/data_CLMS/functional/7T_func/5_mid_volume_SS/bbf_056_m00_func_middle_volume_skullstripped_mask.nii.gz /media/forest/wd_1/data_CLMS/functional/7T_func/6_SS/bbf_056_m00_func_skullstripped &&\n",
      "fslmaths /media/forest/wd_1/data_CLMS/functional/7T_func/4_MC/bbk_061_m00_STC_MC.nii.gz -mul /media/forest/wd_1/data_CLMS/functional/7T_func/5_mid_volume_SS/bbk_061_m00_func_middle_volume_skullstripped_mask.nii.gz /media/forest/wd_1/data_CLMS/functional/7T_func/6_SS/bbk_061_m00_func_skullstripped &&\n",
      "fslmaths /media/forest/wd_1/data_CLMS/functional/7T_func/4_MC/bbl_062_m00_STC_MC.nii.gz -mul /media/forest/wd_1/data_CLMS/functional/7T_func/5_mid_volume_SS/bbl_062_m00_func_middle_volume_skullstripped_mask.nii.gz /media/forest/wd_1/data_CLMS/functional/7T_func/6_SS/bbl_062_m00_func_skullstripped &&\n",
      "fslmaths /media/forest/wd_1/data_CLMS/functional/7T_func/4_MC/bcd_002_m24_STC_MC.nii.gz -mul /media/forest/wd_1/data_CLMS/functional/7T_func/5_mid_volume_SS/bcd_002_m24_func_middle_volume_skullstripped_mask.nii.gz /media/forest/wd_1/data_CLMS/functional/7T_func/6_SS/bcd_002_m24_func_skullstripped &&\n",
      "fslmaths /media/forest/wd_1/data_CLMS/functional/7T_func/4_MC/cde_003_m24_STC_MC.nii.gz -mul /media/forest/wd_1/data_CLMS/functional/7T_func/5_mid_volume_SS/cde_003_m24_func_middle_volume_skullstripped_mask.nii.gz /media/forest/wd_1/data_CLMS/functional/7T_func/6_SS/cde_003_m24_func_skullstripped &&\n",
      "fslmaths /media/forest/wd_1/data_CLMS/functional/7T_func/4_MC/def_004_m00_STC_MC.nii.gz -mul /media/forest/wd_1/data_CLMS/functional/7T_func/5_mid_volume_SS/def_004_m00_func_middle_volume_skullstripped_mask.nii.gz /media/forest/wd_1/data_CLMS/functional/7T_func/6_SS/def_004_m00_func_skullstripped &&\n",
      "fslmaths /media/forest/wd_1/data_CLMS/functional/7T_func/4_MC/def_004_m24_STC_MC.nii.gz -mul /media/forest/wd_1/data_CLMS/functional/7T_func/5_mid_volume_SS/def_004_m24_func_middle_volume_skullstripped_mask.nii.gz /media/forest/wd_1/data_CLMS/functional/7T_func/6_SS/def_004_m24_func_skullstripped &&\n",
      "fslmaths /media/forest/wd_1/data_CLMS/functional/7T_func/4_MC/efg_005_m00_STC_MC.nii.gz -mul /media/forest/wd_1/data_CLMS/functional/7T_func/5_mid_volume_SS/efg_005_m00_func_middle_volume_skullstripped_mask.nii.gz /media/forest/wd_1/data_CLMS/functional/7T_func/6_SS/efg_005_m00_func_skullstripped &&\n",
      "fslmaths /media/forest/wd_1/data_CLMS/functional/7T_func/4_MC/efg_005_m24_STC_MC.nii.gz -mul /media/forest/wd_1/data_CLMS/functional/7T_func/5_mid_volume_SS/efg_005_m24_func_middle_volume_skullstripped_mask.nii.gz /media/forest/wd_1/data_CLMS/functional/7T_func/6_SS/efg_005_m24_func_skullstripped &&\n",
      "fslmaths /media/forest/wd_1/data_CLMS/functional/7T_func/4_MC/fgh_006_m00_STC_MC.nii.gz -mul /media/forest/wd_1/data_CLMS/functional/7T_func/5_mid_volume_SS/fgh_006_m00_func_middle_volume_skullstripped_mask.nii.gz /media/forest/wd_1/data_CLMS/functional/7T_func/6_SS/fgh_006_m00_func_skullstripped &&\n",
      "fslmaths /media/forest/wd_1/data_CLMS/functional/7T_func/4_MC/ghi_007_m00_STC_MC.nii.gz -mul /media/forest/wd_1/data_CLMS/functional/7T_func/5_mid_volume_SS/ghi_007_m00_func_middle_volume_skullstripped_mask.nii.gz /media/forest/wd_1/data_CLMS/functional/7T_func/6_SS/ghi_007_m00_func_skullstripped &&\n",
      "fslmaths /media/forest/wd_1/data_CLMS/functional/7T_func/4_MC/ghi_007_m24_STC_MC.nii.gz -mul /media/forest/wd_1/data_CLMS/functional/7T_func/5_mid_volume_SS/ghi_007_m24_func_middle_volume_skullstripped_mask.nii.gz /media/forest/wd_1/data_CLMS/functional/7T_func/6_SS/ghi_007_m24_func_skullstripped &&\n",
      "fslmaths /media/forest/wd_1/data_CLMS/functional/7T_func/4_MC/ijk_009_m24_STC_MC.nii.gz -mul /media/forest/wd_1/data_CLMS/functional/7T_func/5_mid_volume_SS/ijk_009_m24_func_middle_volume_skullstripped_mask.nii.gz /media/forest/wd_1/data_CLMS/functional/7T_func/6_SS/ijk_009_m24_func_skullstripped &&\n",
      "fslmaths /media/forest/wd_1/data_CLMS/functional/7T_func/4_MC/klm_011_m24_STC_MC.nii.gz -mul /media/forest/wd_1/data_CLMS/functional/7T_func/5_mid_volume_SS/klm_011_m24_func_middle_volume_skullstripped_mask.nii.gz /media/forest/wd_1/data_CLMS/functional/7T_func/6_SS/klm_011_m24_func_skullstripped &&\n",
      "fslmaths /media/forest/wd_1/data_CLMS/functional/7T_func/4_MC/lmn_012_m00_STC_MC.nii.gz -mul /media/forest/wd_1/data_CLMS/functional/7T_func/5_mid_volume_SS/lmn_012_m00_func_middle_volume_skullstripped_mask.nii.gz /media/forest/wd_1/data_CLMS/functional/7T_func/6_SS/lmn_012_m00_func_skullstripped &&\n",
      "fslmaths /media/forest/wd_1/data_CLMS/functional/7T_func/4_MC/mno_013_m00_STC_MC.nii.gz -mul /media/forest/wd_1/data_CLMS/functional/7T_func/5_mid_volume_SS/mno_013_m00_func_middle_volume_skullstripped_mask.nii.gz /media/forest/wd_1/data_CLMS/functional/7T_func/6_SS/mno_013_m00_func_skullstripped &&\n",
      "fslmaths /media/forest/wd_1/data_CLMS/functional/7T_func/4_MC/opq_015_m00_STC_MC.nii.gz -mul /media/forest/wd_1/data_CLMS/functional/7T_func/5_mid_volume_SS/opq_015_m00_func_middle_volume_skullstripped_mask.nii.gz /media/forest/wd_1/data_CLMS/functional/7T_func/6_SS/opq_015_m00_func_skullstripped &&\n",
      "fslmaths /media/forest/wd_1/data_CLMS/functional/7T_func/4_MC/opq_015_m24_STC_MC.nii.gz -mul /media/forest/wd_1/data_CLMS/functional/7T_func/5_mid_volume_SS/opq_015_m24_func_middle_volume_skullstripped_mask.nii.gz /media/forest/wd_1/data_CLMS/functional/7T_func/6_SS/opq_015_m24_func_skullstripped &&\n",
      "fslmaths /media/forest/wd_1/data_CLMS/functional/7T_func/4_MC/pqr_016_m00_STC_MC.nii.gz -mul /media/forest/wd_1/data_CLMS/functional/7T_func/5_mid_volume_SS/pqr_016_m00_func_middle_volume_skullstripped_mask.nii.gz /media/forest/wd_1/data_CLMS/functional/7T_func/6_SS/pqr_016_m00_func_skullstripped &&\n",
      "fslmaths /media/forest/wd_1/data_CLMS/functional/7T_func/4_MC/pqr_016_m24_STC_MC.nii.gz -mul /media/forest/wd_1/data_CLMS/functional/7T_func/5_mid_volume_SS/pqr_016_m24_func_middle_volume_skullstripped_mask.nii.gz /media/forest/wd_1/data_CLMS/functional/7T_func/6_SS/pqr_016_m24_func_skullstripped &&\n",
      "fslmaths /media/forest/wd_1/data_CLMS/functional/7T_func/4_MC/rst_018_m00_STC_MC.nii.gz -mul /media/forest/wd_1/data_CLMS/functional/7T_func/5_mid_volume_SS/rst_018_m00_func_middle_volume_skullstripped_mask.nii.gz /media/forest/wd_1/data_CLMS/functional/7T_func/6_SS/rst_018_m00_func_skullstripped &&\n",
      "fslmaths /media/forest/wd_1/data_CLMS/functional/7T_func/4_MC/rst_018_m24_STC_MC.nii.gz -mul /media/forest/wd_1/data_CLMS/functional/7T_func/5_mid_volume_SS/rst_018_m24_func_middle_volume_skullstripped_mask.nii.gz /media/forest/wd_1/data_CLMS/functional/7T_func/6_SS/rst_018_m24_func_skullstripped &&\n",
      "fslmaths /media/forest/wd_1/data_CLMS/functional/7T_func/4_MC/stu_019_m00_STC_MC.nii.gz -mul /media/forest/wd_1/data_CLMS/functional/7T_func/5_mid_volume_SS/stu_019_m00_func_middle_volume_skullstripped_mask.nii.gz /media/forest/wd_1/data_CLMS/functional/7T_func/6_SS/stu_019_m00_func_skullstripped &&\n",
      "fslmaths /media/forest/wd_1/data_CLMS/functional/7T_func/4_MC/stu_019_m24_STC_MC.nii.gz -mul /media/forest/wd_1/data_CLMS/functional/7T_func/5_mid_volume_SS/stu_019_m24_func_middle_volume_skullstripped_mask.nii.gz /media/forest/wd_1/data_CLMS/functional/7T_func/6_SS/stu_019_m24_func_skullstripped &&\n",
      "fslmaths /media/forest/wd_1/data_CLMS/functional/7T_func/4_MC/tuv_020_m00_STC_MC.nii.gz -mul /media/forest/wd_1/data_CLMS/functional/7T_func/5_mid_volume_SS/tuv_020_m00_func_middle_volume_skullstripped_mask.nii.gz /media/forest/wd_1/data_CLMS/functional/7T_func/6_SS/tuv_020_m00_func_skullstripped &&\n",
      "fslmaths /media/forest/wd_1/data_CLMS/functional/7T_func/4_MC/tuv_020_m24_STC_MC.nii.gz -mul /media/forest/wd_1/data_CLMS/functional/7T_func/5_mid_volume_SS/tuv_020_m24_func_middle_volume_skullstripped_mask.nii.gz /media/forest/wd_1/data_CLMS/functional/7T_func/6_SS/tuv_020_m24_func_skullstripped &&\n",
      "fslmaths /media/forest/wd_1/data_CLMS/functional/7T_func/4_MC/uvw_021_m00_STC_MC.nii.gz -mul /media/forest/wd_1/data_CLMS/functional/7T_func/5_mid_volume_SS/uvw_021_m00_func_middle_volume_skullstripped_mask.nii.gz /media/forest/wd_1/data_CLMS/functional/7T_func/6_SS/uvw_021_m00_func_skullstripped &&\n",
      "fslmaths /media/forest/wd_1/data_CLMS/functional/7T_func/4_MC/uvw_021_m24_STC_MC.nii.gz -mul /media/forest/wd_1/data_CLMS/functional/7T_func/5_mid_volume_SS/uvw_021_m24_func_middle_volume_skullstripped_mask.nii.gz /media/forest/wd_1/data_CLMS/functional/7T_func/6_SS/uvw_021_m24_func_skullstripped &&\n",
      "fslmaths /media/forest/wd_1/data_CLMS/functional/7T_func/4_MC/vwx_022_m00_STC_MC.nii.gz -mul /media/forest/wd_1/data_CLMS/functional/7T_func/5_mid_volume_SS/vwx_022_m00_func_middle_volume_skullstripped_mask.nii.gz /media/forest/wd_1/data_CLMS/functional/7T_func/6_SS/vwx_022_m00_func_skullstripped &&\n",
      "fslmaths /media/forest/wd_1/data_CLMS/functional/7T_func/4_MC/wxy_023_m00_STC_MC.nii.gz -mul /media/forest/wd_1/data_CLMS/functional/7T_func/5_mid_volume_SS/wxy_023_m00_func_middle_volume_skullstripped_mask.nii.gz /media/forest/wd_1/data_CLMS/functional/7T_func/6_SS/wxy_023_m00_func_skullstripped &&\n",
      "fslmaths /media/forest/wd_1/data_CLMS/functional/7T_func/4_MC/xyz_024_m00_STC_MC.nii.gz -mul /media/forest/wd_1/data_CLMS/functional/7T_func/5_mid_volume_SS/xyz_024_m00_func_middle_volume_skullstripped_mask.nii.gz /media/forest/wd_1/data_CLMS/functional/7T_func/6_SS/xyz_024_m00_func_skullstripped &&\n",
      "fslmaths /media/forest/wd_1/data_CLMS/functional/7T_func/4_MC/xyz_024_m24_STC_MC.nii.gz -mul /media/forest/wd_1/data_CLMS/functional/7T_func/5_mid_volume_SS/xyz_024_m24_func_middle_volume_skullstripped_mask.nii.gz /media/forest/wd_1/data_CLMS/functional/7T_func/6_SS/xyz_024_m24_func_skullstripped &&\n",
      "fslmaths /media/forest/wd_1/data_CLMS/functional/7T_func/4_MC/aal_036_m00_STC_MC.nii.gz -mul /media/forest/wd_1/data_CLMS/functional/7T_func/5_mid_volume_SS/aal_036_m00_func_middle_volume_skullstripped_mask.nii.gz /media/forest/wd_1/data_CLMS/functional/7T_func/6_SS/aal_036_m00_func_skullstripped &&\n",
      "fslmaths /media/forest/wd_1/data_CLMS/functional/7T_func/4_MC/bbi_059_m00_STC_MC.nii.gz -mul /media/forest/wd_1/data_CLMS/functional/7T_func/5_mid_volume_SS/bbi_059_m00_func_middle_volume_skullstripped_mask.nii.gz /media/forest/wd_1/data_CLMS/functional/7T_func/6_SS/bbi_059_m00_func_skullstripped &&\n",
      "fslmaths /media/forest/wd_1/data_CLMS/functional/7T_func/4_MC/lmn_012_m24_STC_MC.nii.gz -mul /media/forest/wd_1/data_CLMS/functional/7T_func/5_mid_volume_SS/lmn_012_m24_func_middle_volume_skullstripped_mask.nii.gz /media/forest/wd_1/data_CLMS/functional/7T_func/6_SS/lmn_012_m24_func_skullstripped &&\n"
     ]
    }
   ],
   "source": [
    "for subject, func_image, mask in zip(df_pp_fmri['subject_id'], df_pp_fmri['func_STC_MC'], df_pp_fmri['func_SS_mask']):\n",
    "    print(f'fslmaths {func_image} -mul {mask} {fmri_dir}/6_SS/{subject}_func_skullstripped &&')"
   ]
  },
  {
   "cell_type": "code",
   "execution_count": null,
   "metadata": {},
   "outputs": [],
   "source": [
    "# append output to dataframe"
   ]
  },
  {
   "cell_type": "code",
   "execution_count": null,
   "metadata": {},
   "outputs": [],
   "source": []
  },
  {
   "cell_type": "markdown",
   "metadata": {},
   "source": [
    "# Functional to Atlas Combined Registration Pipeline"
   ]
  },
  {
   "cell_type": "code",
   "execution_count": null,
   "metadata": {},
   "outputs": [],
   "source": [
    "# "
   ]
  },
  {
   "cell_type": "code",
   "execution_count": null,
   "metadata": {},
   "outputs": [],
   "source": []
  },
  {
   "cell_type": "code",
   "execution_count": null,
   "metadata": {},
   "outputs": [],
   "source": []
  },
  {
   "cell_type": "code",
   "execution_count": null,
   "metadata": {},
   "outputs": [],
   "source": []
  },
  {
   "cell_type": "code",
   "execution_count": null,
   "metadata": {},
   "outputs": [],
   "source": []
  },
  {
   "cell_type": "markdown",
   "metadata": {},
   "source": [
    "## Atlas to Functional Combined Registration\n",
    "- same thing as previous, but in reverse\n",
    "- use this on atlases formatted with integer labels for each ROI\n",
    "- may need additional steps to ensure labels are still integer values after\n",
    "- Additional Requirements:\n",
    "    - ITK-Snap and Convert3D (C3D) tools must be installed to convert between FSL and ANTs' .mat files if registration is to be done in a single step\n",
    "    - "
   ]
  },
  {
   "cell_type": "code",
   "execution_count": null,
   "metadata": {},
   "outputs": [],
   "source": [
    "# convert the fmri2anat.mat file from BBR to ants format"
   ]
  }
 ],
 "metadata": {
  "interpreter": {
   "hash": "930b200f1af79f20b3a875e38b61a82feb6b2752947827a756d2daf92a053478"
  },
  "kernelspec": {
   "display_name": "Python 3.9.12 ('MRI_env')",
   "language": "python",
   "name": "python3"
  },
  "language_info": {
   "codemirror_mode": {
    "name": "ipython",
    "version": 3
   },
   "file_extension": ".py",
   "mimetype": "text/x-python",
   "name": "python",
   "nbconvert_exporter": "python",
   "pygments_lexer": "ipython3",
   "version": "3.9.12"
  },
  "orig_nbformat": 4
 },
 "nbformat": 4,
 "nbformat_minor": 2
}
