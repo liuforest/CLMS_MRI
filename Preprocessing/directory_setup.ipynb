{
 "cells": [
  {
   "cell_type": "markdown",
   "metadata": {},
   "source": [
    "# Functional MRI Preprocessing Pipeline"
   ]
  },
  {
   "cell_type": "code",
   "execution_count": 1,
   "metadata": {},
   "outputs": [],
   "source": [
    "# import required packages\n",
    "import os\n",
    "import numpy as np\n",
    "import pandas as pd"
   ]
  },
  {
   "cell_type": "code",
   "execution_count": 2,
   "metadata": {},
   "outputs": [],
   "source": [
    "# function for viewing full dataframes\n",
    "\n",
    "def print_full_df(x):\n",
    "    pd.set_option('display.max_rows', None)\n",
    "    pd.set_option('display.max_columns', None)\n",
    "    pd.set_option('display.width', 2000)\n",
    "    pd.set_option('display.float_format', '{:20,.2f}'.format)\n",
    "    pd.set_option('display.max_colwidth', None)\n",
    "    print(x)\n",
    "    pd.reset_option('display.max_rows')\n",
    "    pd.reset_option('display.max_columns')\n",
    "    pd.reset_option('display.width')\n",
    "    pd.reset_option('display.float_format')\n",
    "    pd.reset_option('display.max_colwidth')\n"
   ]
  },
  {
   "cell_type": "markdown",
   "metadata": {},
   "source": [
    "## Set up Directory Structures & Convert File Formats"
   ]
  },
  {
   "cell_type": "code",
   "execution_count": 3,
   "metadata": {},
   "outputs": [],
   "source": [
    "# main directory for raw 7 T data (READ ONLY)\n",
    "raw_data_dir = '/media/forest/wd_1/data_CLMS/0_7T_RAW'\n",
    "\n",
    "# main directory for preprocessing fmri data\n",
    "fmri_dir = '/media/forest/wd_1/data_CLMS/functional/7T_func'\n",
    "\n",
    "# main directory for preprocessing anatomical\n",
    "anat_dir = '/media/forest/wd_1/data_CLMS/anatomical/7T_T1_MPR_uniden' "
   ]
  },
  {
   "cell_type": "markdown",
   "metadata": {},
   "source": [
    "Create directory to store the raw minc files. "
   ]
  },
  {
   "cell_type": "code",
   "execution_count": 4,
   "metadata": {},
   "outputs": [],
   "source": [
    "# create directory to copy over raw minc files\n",
    "\n",
    "# find all files in raw_data_dir containing string \"fmri-FA40\"\n",
    "fp_fmri_minc = !find {raw_data_dir} ~+ -type f -name \"*fmri-FA40*\"\n",
    "\n",
    "# create dataframe to store the list of file paths\n",
    "df_preproc_filepaths = pd.DataFrame({'subject_id':\"\", 'fmri_minc_filepath':fp_fmri_minc})\n",
    "\n",
    "# fill in subject ids from mnc filepaths, where ids are formatted w/regex\n",
    "df_preproc_filepaths['subject_id'] = df_preproc_filepaths['fmri_minc_filepath'].str.extract(r'(\\w{3}_\\d{3}_m\\d{2})')\n",
    "\n",
    "# print_full_df(df_preproc_filepaths)"
   ]
  },
  {
   "cell_type": "markdown",
   "metadata": {},
   "source": [
    "**Manual Cleanup:** delete rows 25, 42 and 45 & reset indices ~ double check if more data added/removed"
   ]
  },
  {
   "cell_type": "code",
   "execution_count": 5,
   "metadata": {},
   "outputs": [
    {
     "name": "stdout",
     "output_type": "stream",
     "text": [
      "    index   subject_id                                                                                               fmri_minc_filepath\n",
      "0       0  bbb_052_m00           /media/forest/wd_1/data_CLMS/0_7T_RAW/bbb_052/m00/CLMS-LONDON-7_002-LON-7_bbb_052_m00_fmri-FA40.mnc.gz\n",
      "1       1  aab_026_m00           /media/forest/wd_1/data_CLMS/0_7T_RAW/aab_026/m00/CLMS-LONDON-7_002-LON-7_aab_026_m00_fmri-FA40.mnc.gz\n",
      "2       2  aac_027_m00           /media/forest/wd_1/data_CLMS/0_7T_RAW/aac_027/m00/CLMS-LONDON-7_002-LON-7_aac_027_m00_fmri-FA40.mnc.gz\n",
      "3       3  aac_027_m24           /media/forest/wd_1/data_CLMS/0_7T_RAW/aac_027/m24/CLMS-LONDON-7_002-LON-7_aac_027_m24_fmri-FA40.mnc.gz\n",
      "4       4  aad_028_m00           /media/forest/wd_1/data_CLMS/0_7T_RAW/aad_028/m00/CLMS-LONDON-7_002-LON-7_aad_028_m00_fmri-FA40.mnc.gz\n",
      "5       5  aad_028_m24           /media/forest/wd_1/data_CLMS/0_7T_RAW/aad_028/m24/CLMS-LONDON-7_002-LON-7_aad_028_m24_fmri-FA40.mnc.gz\n",
      "6       6  aae_029_m00           /media/forest/wd_1/data_CLMS/0_7T_RAW/aae_029/m00/CLMS-LONDON-7_002-LON-7_aae_029_m00_fmri-FA40.mnc.gz\n",
      "7       7  aaf_030_m00           /media/forest/wd_1/data_CLMS/0_7T_RAW/aaf_030/m00/CLMS-LONDON-7_002-LON-7_aaf_030_m00_fmri-FA40.mnc.gz\n",
      "8       8  aaf_030_m24           /media/forest/wd_1/data_CLMS/0_7T_RAW/aaf_030/m24/CLMS-LONDON-7_002-LON-7_aaf_030_m24_fmri-FA40.mnc.gz\n",
      "9       9  aah_032_m00           /media/forest/wd_1/data_CLMS/0_7T_RAW/aah_032/m00/CLMS-LONDON-7_002-LON-7_aah_032_m00_fmri-FA40.mnc.gz\n",
      "10     10  aah_032_m24           /media/forest/wd_1/data_CLMS/0_7T_RAW/aah_032/m24/CLMS-LONDON-7_002-LON-7_aah_032_m24_fmri-FA40.mnc.gz\n",
      "11     11  aai_033_m00           /media/forest/wd_1/data_CLMS/0_7T_RAW/aai_033/m00/CLMS-LONDON-7_002-LON-7_aai_033_m00_fmri-FA40.mnc.gz\n",
      "12     12  aai_033_m24           /media/forest/wd_1/data_CLMS/0_7T_RAW/aai_033/m24/CLMS-LONDON-7_002-LON-7_aai_033_m24_fmri-FA40.mnc.gz\n",
      "13     13  aaj_034_m00           /media/forest/wd_1/data_CLMS/0_7T_RAW/aaj_034/m00/CLMS-LONDON-7_002-LON-7_aaj_034_m00_fmri-FA40.mnc.gz\n",
      "14     14  aaj_034_m24           /media/forest/wd_1/data_CLMS/0_7T_RAW/aaj_034/m24/CLMS-LONDON-7_002-LON-7_aaj_034_m24_fmri-FA40.mnc.gz\n",
      "15     15  aal_036_m00           /media/forest/wd_1/data_CLMS/0_7T_RAW/aal_036/m00/CLMS-LONDON-7_002-LON-7_aal_036_m00_fmri-FA40.mnc.gz\n",
      "16     16  aal_036_m24           /media/forest/wd_1/data_CLMS/0_7T_RAW/aal_036/m24/CLMS-LONDON-7_002-LON-7_aal_036_m24_fmri-FA40.mnc.gz\n",
      "17     17  aam_037_m00           /media/forest/wd_1/data_CLMS/0_7T_RAW/aam_037/m00/CLMS-LONDON-7_002-LON-7_aam_037_m00_fmri-FA40.mnc.gz\n",
      "18     18  aan_038_m24           /media/forest/wd_1/data_CLMS/0_7T_RAW/aan_038/m24/CLMS-LONDON-7_002-LON-7_aan_038_m24_fmri-FA40.nii.gz\n",
      "19     19  aao_039_m00           /media/forest/wd_1/data_CLMS/0_7T_RAW/aao_039/m00/CLMS-LONDON-7_002-LON-7_aao_039_m00_fmri-FA40.mnc.gz\n",
      "20     20  aao_039_m24           /media/forest/wd_1/data_CLMS/0_7T_RAW/aao_039/m24/CLMS-LONDON-7_002-LON-7_aao_039_m24_fmri-FA40.mnc.gz\n",
      "21     21  aar_042_m00           /media/forest/wd_1/data_CLMS/0_7T_RAW/aar_042/m00/CLMS-LONDON-7_002-LON-7_aar_042_m00_fmri-FA40.mnc.gz\n",
      "22     22  aas_043_m00           /media/forest/wd_1/data_CLMS/0_7T_RAW/aas_043/m00/CLMS-LONDON-7_002-LON-7_aas_043_m00_fmri-FA40.mnc.gz\n",
      "23     23  aat_044_m24           /media/forest/wd_1/data_CLMS/0_7T_RAW/aat_044/m24/CLMS-LONDON-7_002-LON-7_aat_044_m24_fmri-FA40.nii.gz\n",
      "24     24  aaw_047_m00           /media/forest/wd_1/data_CLMS/0_7T_RAW/aaw_047/m00/CLMS-LONDON-7_002-LON-7_aaw_047_m00_fmri-FA40.mnc.gz\n",
      "25     25  aay_049_m00           /media/forest/wd_1/data_CLMS/0_7T_RAW/aay_049/m00/CLMS-LONDON-7_002-LON-7_aay_049_m00_fmri-FA40.mnc.gz\n",
      "26     26  abc_001_m24           /media/forest/wd_1/data_CLMS/0_7T_RAW/abc_001/m24/CLMS-LONDON-7_002-LON-7_abc_001_m24_fmri-FA40.mnc.gz\n",
      "27     28  bbc_053_m00           /media/forest/wd_1/data_CLMS/0_7T_RAW/bbc_053/m00/CLMS-LONDON-7_002-LON-7_bbc_053_m00_fmri-FA40.mnc.gz\n",
      "28     29  bbd_054_m00           /media/forest/wd_1/data_CLMS/0_7T_RAW/bbd_054/m00/CLMS-LONDON-7_002-LON-7_bbd_054_m00_fmri-FA40.mnc.gz\n",
      "29     30  bbe_055_m00           /media/forest/wd_1/data_CLMS/0_7T_RAW/bbe_055/m00/CLMS-LONDON-7_002-LON-7_bbe_055_m00_fmri-FA40.mnc.gz\n",
      "30     31  bbf_056_m00           /media/forest/wd_1/data_CLMS/0_7T_RAW/bbf_056/m00/CLMS-LONDON-7_002-LON-7_bbf_056_m00_fmri-FA40.mnc.gz\n",
      "31     32  bbi_059_m00           /media/forest/wd_1/data_CLMS/0_7T_RAW/bbi_059/m00/CLMS-LONDON-7_002-LON-7_bbi_059_m00_fmri-FA40.mnc.gz\n",
      "32     33  bbk_061_m00           /media/forest/wd_1/data_CLMS/0_7T_RAW/bbk_061/m00/CLMS-LONDON-7_002-LON-7_bbk_061_m00_fmri-FA40.mnc.gz\n",
      "33     34  bbl_062_m00           /media/forest/wd_1/data_CLMS/0_7T_RAW/bbl_062/m00/CLMS-LONDON-7_002-LON-7_bbl_062_m00_fmri-FA40.mnc.gz\n",
      "34     35  bcd_002_m24           /media/forest/wd_1/data_CLMS/0_7T_RAW/bcd_002/m24/CLMS-LONDON-7_002-LON-7_bcd_002_m24_fmri-FA40.mnc.gz\n",
      "35     36  cde_003_m24           /media/forest/wd_1/data_CLMS/0_7T_RAW/cde_003/m24/CLMS-LONDON-7_002-LON-7_cde_003_m24_fmri-FA40.mnc.gz\n",
      "36     37  def_004_m00           /media/forest/wd_1/data_CLMS/0_7T_RAW/def_004/m00/CLMS-LONDON-7_002-LON-7_def_004_m00_fmri-FA40.mnc.gz\n",
      "37     38  def_004_m24           /media/forest/wd_1/data_CLMS/0_7T_RAW/def_004/m24/CLMS-LONDON-7_002-LON-7_def_004_m24_fmri-FA40.mnc.gz\n",
      "38     39  efg_005_m00           /media/forest/wd_1/data_CLMS/0_7T_RAW/efg_005/m00/CLMS-LONDON-7_002-LON-7_efg_005_m00_fmri-FA40.mnc.gz\n",
      "39     40  efg_005_m24           /media/forest/wd_1/data_CLMS/0_7T_RAW/efg_005/m24/CLMS-LONDON-7_002-LON-7_efg_005_m24_fmri-FA40.mnc.gz\n",
      "40     41  fgh_006_m00           /media/forest/wd_1/data_CLMS/0_7T_RAW/fgh_006/m00/CLMS-LONDON-7_002-LON-7_fgh_006_m00_fmri-FA40.mnc.gz\n",
      "41     42  ghi_007_m00           /media/forest/wd_1/data_CLMS/0_7T_RAW/ghi_007/m00/CLMS-LONDON-7_002-LON-7_ghi_007_m00_fmri-FA40.mnc.gz\n",
      "42     43  ghi_007_m24           /media/forest/wd_1/data_CLMS/0_7T_RAW/ghi_007/m24/CLMS-LONDON-7_002-LON-7_ghi_007_m24_fmri-FA40.mnc.gz\n",
      "43     45  ijk_009_m24           /media/forest/wd_1/data_CLMS/0_7T_RAW/ijk_009/m24/CLMS-LONDON-7_002-LON-7_ijk_009_m24_fmri-FA40.mnc.gz\n",
      "44     46  klm_011_m24  /media/forest/wd_1/data_CLMS/0_7T_RAW/klm_011/m24/CLMS-LONDON-7_002-LON-7_klm_011_m24_fmri-FA40-repeat-1.mnc.gz\n",
      "45     48  lmn_012_m00           /media/forest/wd_1/data_CLMS/0_7T_RAW/lmn_012/m00/CLMS-LONDON-7_002-LON-7_lmn_012_m00_fmri-FA40.mnc.gz\n",
      "46     49  lmn_012_m24           /media/forest/wd_1/data_CLMS/0_7T_RAW/lmn_012/m24/CLMS-LONDON-7_002-LON-7_lmn_012_m24_fmri-FA40.mnc.gz\n",
      "47     50  mno_013_m00           /media/forest/wd_1/data_CLMS/0_7T_RAW/mno_013/m00/CLMS-LONDON-7_002-LON-7_mno_013_m00_fmri-FA40.mnc.gz\n",
      "48     51  opq_015_m00           /media/forest/wd_1/data_CLMS/0_7T_RAW/opq_015/m00/CLMS-LONDON-7_002-LON-7_opq_015_m00_fmri-FA40.mnc.gz\n",
      "49     52  opq_015_m24           /media/forest/wd_1/data_CLMS/0_7T_RAW/opq_015/m24/CLMS-LONDON-7_002-LON-7_opq_015_m24_fmri-FA40.mnc.gz\n",
      "50     53  pqr_016_m00           /media/forest/wd_1/data_CLMS/0_7T_RAW/pqr_016/m00/CLMS-LONDON-7_002-LON-7_pqr_016_m00_fmri-FA40.mnc.gz\n",
      "51     54  pqr_016_m24           /media/forest/wd_1/data_CLMS/0_7T_RAW/pqr_016/m24/CLMS-LONDON-7_002-LON-7_pqr_016_m24_fmri-FA40.mnc.gz\n",
      "52     55  rst_018_m00           /media/forest/wd_1/data_CLMS/0_7T_RAW/rst_018/m00/CLMS-LONDON-7_002-LON-7_rst_018_m00_fmri-FA40.mnc.gz\n",
      "53     56  rst_018_m24           /media/forest/wd_1/data_CLMS/0_7T_RAW/rst_018/m24/CLMS-LONDON-7_002-LON-7_rst_018_m24_fmri-FA40.mnc.gz\n",
      "54     57  stu_019_m00           /media/forest/wd_1/data_CLMS/0_7T_RAW/stu_019/m00/CLMS-LONDON-7_002-LON-7_stu_019_m00_fmri-FA40.mnc.gz\n",
      "55     58  stu_019_m24           /media/forest/wd_1/data_CLMS/0_7T_RAW/stu_019/m24/CLMS-LONDON-7_002-LON-7_stu_019_m24_fmri-FA40.mnc.gz\n",
      "56     59  tuv_020_m00           /media/forest/wd_1/data_CLMS/0_7T_RAW/tuv_020/m00/CLMS-LONDON-7_002-LON-7_tuv_020_m00_fmri-FA40.mnc.gz\n",
      "57     60  tuv_020_m24           /media/forest/wd_1/data_CLMS/0_7T_RAW/tuv_020/m24/CLMS-LONDON-7_002-LON-7_tuv_020_m24_fmri-FA40.mnc.gz\n",
      "58     61  uvw_021_m00           /media/forest/wd_1/data_CLMS/0_7T_RAW/uvw_021/m00/CLMS-LONDON-7_002-LON-7_uvw_021_m00_fmri-FA40.mnc.gz\n",
      "59     62  uvw_021_m24           /media/forest/wd_1/data_CLMS/0_7T_RAW/uvw_021/m24/CLMS-LONDON-7_002-LON-7_uvw_021_m24_fmri-FA40.mnc.gz\n",
      "60     63  vwx_022_m00           /media/forest/wd_1/data_CLMS/0_7T_RAW/vwx_022/m00/CLMS-LONDON-7_002-LON-7_vwx_022_m00_fmri-FA40.mnc.gz\n",
      "61     64  wxy_023_m00           /media/forest/wd_1/data_CLMS/0_7T_RAW/wxy_023/m00/CLMS-LONDON-7_002-LON-7_wxy_023_m00_fmri-FA40.mnc.gz\n",
      "62     65  xyz_024_m00           /media/forest/wd_1/data_CLMS/0_7T_RAW/xyz_024/m00/CLMS-LONDON-7_002-LON-7_xyz_024_m00_fmri-FA40.mnc.gz\n",
      "63     66  xyz_024_m24           /media/forest/wd_1/data_CLMS/0_7T_RAW/xyz_024/m24/CLMS-LONDON-7_002-LON-7_xyz_024_m24_fmri-FA40.mnc.gz\n"
     ]
    }
   ],
   "source": [
    "df_preproc_filepaths = df_preproc_filepaths.drop([27, 44, 47])\n",
    "df_preproc_filepaths = df_preproc_filepaths.reset_index()\n",
    "\n",
    "print_full_df(df_preproc_filepaths)"
   ]
  },
  {
   "cell_type": "code",
   "execution_count": 6,
   "metadata": {},
   "outputs": [
    {
     "name": "stdout",
     "output_type": "stream",
     "text": [
      "     subject_id                                 anat_minc_filepath\n",
      "0   bbb_052_m00  /media/forest/wd_1/data_CLMS/0_7T_RAW/bbb_052/...\n",
      "1   aab_026_m00  /media/forest/wd_1/data_CLMS/0_7T_RAW/aab_026/...\n",
      "2   aac_027_m00  /media/forest/wd_1/data_CLMS/0_7T_RAW/aac_027/...\n",
      "3   aac_027_m24  /media/forest/wd_1/data_CLMS/0_7T_RAW/aac_027/...\n",
      "4   aad_028_m00  /media/forest/wd_1/data_CLMS/0_7T_RAW/aad_028/...\n",
      "..          ...                                                ...\n",
      "70  uvw_021_m24  /media/forest/wd_1/data_CLMS/0_7T_RAW/uvw_021/...\n",
      "71  vwx_022_m00  /media/forest/wd_1/data_CLMS/0_7T_RAW/vwx_022/...\n",
      "72  wxy_023_m00  /media/forest/wd_1/data_CLMS/0_7T_RAW/wxy_023/...\n",
      "73  xyz_024_m00  /media/forest/wd_1/data_CLMS/0_7T_RAW/xyz_024/...\n",
      "74  xyz_024_m24  /media/forest/wd_1/data_CLMS/0_7T_RAW/xyz_024/...\n",
      "\n",
      "[75 rows x 2 columns]\n"
     ]
    }
   ],
   "source": [
    "# find all MP2RAGE uni-den files\n",
    "fp_uniden_minc = !find {raw_data_dir} ~+ -type f -name \"*t1gMPR-uni-den.*\"\n",
    "\n",
    "# create dataframe to store list of anatomical uni-den file paths\n",
    "df_anat_uniden_filepaths = pd.DataFrame({'subject_id':\"\",'anat_minc_filepath':fp_uniden_minc})\n",
    "\n",
    "# fill in subject ids from filepaths with regex, like above\n",
    "df_anat_uniden_filepaths['subject_id'] = df_anat_uniden_filepaths['anat_minc_filepath'].str.extract(r'(\\w{3}_\\d{3}_m\\d{2})')\n",
    "\n",
    "print(df_anat_uniden_filepaths)"
   ]
  },
  {
   "cell_type": "code",
   "execution_count": 7,
   "metadata": {},
   "outputs": [],
   "source": [
    "# Manual deletion: row 32\n",
    "df_anat_uniden_filepaths = df_anat_uniden_filepaths.drop([32])\n",
    "df_anat_uniden_filepaths = df_anat_uniden_filepaths.reset_index()"
   ]
  },
  {
   "cell_type": "code",
   "execution_count": 8,
   "metadata": {},
   "outputs": [
    {
     "data": {
      "text/plain": [
       "Index(['index', 'subject_id', 'anat_minc_filepath'], dtype='object')"
      ]
     },
     "execution_count": 8,
     "metadata": {},
     "output_type": "execute_result"
    }
   ],
   "source": [
    "df_anat_uniden_filepaths.columns"
   ]
  },
  {
   "cell_type": "code",
   "execution_count": 9,
   "metadata": {},
   "outputs": [
    {
     "data": {
      "text/plain": [
       "0"
      ]
     },
     "execution_count": 9,
     "metadata": {},
     "output_type": "execute_result"
    }
   ],
   "source": [
    "# check for duplicates in subject_id column\n",
    "df_anat_uniden_filepaths.duplicated().sum()"
   ]
  },
  {
   "cell_type": "markdown",
   "metadata": {},
   "source": [
    "- Merge the fmri and mp2rage dataframes based on subject_id\n",
    "- use outer join method so that any files with unmatched fmri/anat will have an NA entry\n",
    "- double check NA entries to ensure file is present or not--if not delete the row and proceed"
   ]
  },
  {
   "cell_type": "code",
   "execution_count": 10,
   "metadata": {},
   "outputs": [],
   "source": [
    "df_filepaths = pd.merge(df_preproc_filepaths, df_anat_uniden_filepaths, on='subject_id', how='outer')"
   ]
  },
  {
   "cell_type": "code",
   "execution_count": 11,
   "metadata": {},
   "outputs": [],
   "source": [
    "# Create new column for subject (minus timepoint code)\n",
    "df_filepaths['subject'] = df_filepaths['subject_id'].str.extract(r'(\\w{3}_\\d{3})')"
   ]
  },
  {
   "cell_type": "code",
   "execution_count": 12,
   "metadata": {},
   "outputs": [],
   "source": [
    "# delete rows with no fMRI data\n",
    "df_filepaths = df_filepaths[df_filepaths['fmri_minc_filepath'].notna()]"
   ]
  },
  {
   "cell_type": "code",
   "execution_count": 13,
   "metadata": {},
   "outputs": [
    {
     "data": {
      "text/plain": [
       "45"
      ]
     },
     "execution_count": 13,
     "metadata": {},
     "output_type": "execute_result"
    }
   ],
   "source": [
    "# count number of unique subjects\n",
    "df_filepaths['subject'].nunique()\n"
   ]
  },
  {
   "cell_type": "markdown",
   "metadata": {},
   "source": [
    "Copy/convert anatomical files. "
   ]
  },
  {
   "cell_type": "code",
   "execution_count": 14,
   "metadata": {},
   "outputs": [
    {
     "name": "stdout",
     "output_type": "stream",
     "text": [
      "Directory Already Exists\n"
     ]
    }
   ],
   "source": [
    "# directory to store raw nifti files\n",
    "raw_anat_dir = anat_dir + '/0_raw'\n",
    "\n",
    "# create directory if it does not exist\n",
    "!if [[ -d \"$raw_anat_dir\" ]]; \\\n",
    "    then echo \"Directory Already Exists\"; \\\n",
    "    else mkdir $raw_anat_dir && echo \"Created Directory: {raw_anat_dir}\"; \\\n",
    "    fi"
   ]
  },
  {
   "cell_type": "code",
   "execution_count": 15,
   "metadata": {},
   "outputs": [
    {
     "name": "stdout",
     "output_type": "stream",
     "text": [
      "Converting minc file...\n",
      "Complete.\n",
      "...\n",
      "Converting minc file...\n",
      "Complete.\n",
      "...\n",
      "Converting minc file...\n",
      "Complete.\n",
      "...\n",
      "Converting minc file...\n",
      "Complete.\n",
      "...\n",
      "Converting minc file...\n",
      "Complete.\n",
      "...\n",
      "Converting minc file...\n",
      "Complete.\n",
      "...\n",
      "Converting minc file...\n",
      "Complete.\n",
      "...\n",
      "Converting minc file...\n",
      "Complete.\n",
      "...\n",
      "Converting minc file...\n",
      "Complete.\n",
      "...\n",
      "Converting minc file...\n",
      "Complete.\n",
      "...\n",
      "Converting minc file...\n",
      "Complete.\n",
      "...\n",
      "Converting minc file...\n",
      "Complete.\n",
      "...\n",
      "Converting minc file...\n",
      "Complete.\n",
      "...\n",
      "Converting minc file...\n",
      "Complete.\n",
      "...\n",
      "Converting minc file...\n",
      "Complete.\n",
      "...\n",
      "Converting minc file...\n",
      "Complete.\n",
      "...\n",
      "Converting minc file...\n",
      "Complete.\n",
      "...\n",
      "Converting minc file...\n",
      "Complete.\n",
      "...\n",
      "Copying nifti file\n",
      "Complete.\n",
      "...\n",
      "Converting minc file...\n",
      "Complete.\n",
      "...\n",
      "Converting minc file...\n",
      "Complete.\n",
      "...\n",
      "Converting minc file...\n",
      "Complete.\n",
      "...\n",
      "Converting minc file...\n",
      "Complete.\n",
      "...\n",
      "Copying nifti file\n",
      "Complete.\n",
      "...\n",
      "Converting minc file...\n",
      "Complete.\n",
      "...\n",
      "Converting minc file...\n",
      "Complete.\n",
      "...\n",
      "Converting minc file...\n",
      "Complete.\n",
      "...\n",
      "Converting minc file...\n",
      "Complete.\n",
      "...\n",
      "Converting minc file...\n",
      "Complete.\n",
      "...\n",
      "Converting minc file...\n",
      "Complete.\n",
      "...\n",
      "Converting minc file...\n",
      "Complete.\n",
      "...\n",
      "Converting minc file...\n",
      "Complete.\n",
      "...\n",
      "Converting minc file...\n",
      "Complete.\n",
      "...\n",
      "Converting minc file...\n",
      "Complete.\n",
      "...\n",
      "Converting minc file...\n",
      "Complete.\n",
      "...\n",
      "Converting minc file...\n",
      "Complete.\n",
      "...\n",
      "Converting minc file...\n",
      "Complete.\n",
      "...\n",
      "Converting minc file...\n",
      "Complete.\n",
      "...\n",
      "Converting minc file...\n",
      "Complete.\n",
      "...\n",
      "Converting minc file...\n",
      "Complete.\n",
      "...\n",
      "Converting minc file...\n",
      "Complete.\n",
      "...\n",
      "Converting minc file...\n",
      "Complete.\n",
      "...\n",
      "Converting minc file...\n",
      "Complete.\n",
      "...\n",
      "Converting minc file...\n",
      "Complete.\n",
      "...\n",
      "Converting minc file...\n",
      "Complete.\n",
      "...\n",
      "Converting minc file...\n",
      "Complete.\n",
      "...\n",
      "Converting minc file...\n",
      "Complete.\n",
      "...\n",
      "Converting minc file...\n",
      "Complete.\n",
      "...\n",
      "Converting minc file...\n",
      "Complete.\n",
      "...\n",
      "Converting minc file...\n",
      "Complete.\n",
      "...\n",
      "Converting minc file...\n",
      "Complete.\n",
      "...\n",
      "Converting minc file...\n",
      "Complete.\n",
      "...\n",
      "Converting minc file...\n",
      "Complete.\n",
      "...\n",
      "Converting minc file...\n",
      "Complete.\n",
      "...\n",
      "Converting minc file...\n",
      "Complete.\n",
      "...\n",
      "Converting minc file...\n",
      "Complete.\n",
      "...\n",
      "Converting minc file...\n",
      "Complete.\n",
      "...\n",
      "Converting minc file...\n",
      "Complete.\n",
      "...\n",
      "Converting minc file...\n",
      "Complete.\n",
      "...\n",
      "Converting minc file...\n",
      "Complete.\n",
      "...\n",
      "Converting minc file...\n",
      "Complete.\n",
      "...\n",
      "Converting minc file...\n",
      "Complete.\n",
      "...\n",
      "Converting minc file...\n",
      "Complete.\n",
      "...\n",
      "Converting minc file...\n",
      "Complete.\n",
      "...\n"
     ]
    }
   ],
   "source": [
    "# convert mnc files to nifti and move to the new directory\n",
    "for file, subject in zip(df_filepaths['anat_minc_filepath'], df_filepaths['subject_id']):\n",
    "\n",
    "    output_filename = subject + '_7T_mprage_uniden_raw'\n",
    "\n",
    "    # if file extension is .nii or .nii.gz, copy file to new directory\n",
    "    if file.endswith('.nii') or file.endswith('.nii.gz'):\n",
    "        print('Copying nifti file')\n",
    "        !cp $file $raw_anat_dir/{output_filename}\n",
    "        print('Complete.')\n",
    "        print('...')\n",
    "\n",
    "\n",
    "    # if file extension is .mnc or .mnc.gz, convert to nifti and move to new directory\n",
    "    else:\n",
    "        print('Converting minc file...')\n",
    "        !mnc2nii $file $raw_anat_dir/{output_filename}.nii\n",
    "        print('Complete.')\n",
    "        print('...')"
   ]
  },
  {
   "cell_type": "markdown",
   "metadata": {},
   "source": [
    "Copy/Convert fMRI data."
   ]
  },
  {
   "cell_type": "code",
   "execution_count": null,
   "metadata": {},
   "outputs": [],
   "source": [
    "# directory to store raw nifti files\n",
    "raw_fmri_dir = fmri_dir + '/0_raw'\n",
    "\n",
    "# create directory if it does not exist\n",
    "!if [[ -d \"$raw_fmri_dir\" ]]; \\\n",
    "    then echo \"Directory Already Exists\"; \\\n",
    "    else mkdir $raw_anat_dir && echo \"Created Directory: {raw_anat_dir}\"; \\\n",
    "    fi"
   ]
  },
  {
   "cell_type": "code",
   "execution_count": 18,
   "metadata": {},
   "outputs": [
    {
     "name": "stdout",
     "output_type": "stream",
     "text": [
      "Converting minc file...\n",
      "Complete.\n",
      "...\n",
      "Converting minc file...\n",
      "Complete.\n",
      "...\n",
      "Converting minc file...\n",
      "Complete.\n",
      "...\n",
      "Converting minc file...\n",
      "Complete.\n",
      "...\n",
      "Converting minc file...\n",
      "Complete.\n",
      "...\n",
      "Converting minc file...\n",
      "Complete.\n",
      "...\n",
      "Converting minc file...\n",
      "Complete.\n",
      "...\n",
      "Converting minc file...\n",
      "Complete.\n",
      "...\n",
      "Converting minc file...\n",
      "Complete.\n",
      "...\n",
      "Converting minc file...\n",
      "Complete.\n",
      "...\n",
      "Converting minc file...\n",
      "Complete.\n",
      "...\n",
      "Converting minc file...\n",
      "Complete.\n",
      "...\n",
      "Converting minc file...\n",
      "Complete.\n",
      "...\n",
      "Converting minc file...\n",
      "Complete.\n",
      "...\n",
      "Converting minc file...\n",
      "Complete.\n",
      "...\n",
      "Converting minc file...\n",
      "Complete.\n",
      "...\n",
      "Converting minc file...\n",
      "Complete.\n",
      "...\n",
      "Converting minc file...\n",
      "Complete.\n",
      "...\n",
      "Copying nifti file\n",
      "Complete.\n",
      "...\n",
      "Converting minc file...\n",
      "Complete.\n",
      "...\n",
      "Converting minc file...\n",
      "Complete.\n",
      "...\n",
      "Converting minc file...\n",
      "Complete.\n",
      "...\n",
      "Converting minc file...\n",
      "Complete.\n",
      "...\n",
      "Copying nifti file\n",
      "Complete.\n",
      "...\n",
      "Converting minc file...\n",
      "Complete.\n",
      "...\n",
      "Converting minc file...\n",
      "Complete.\n",
      "...\n",
      "Converting minc file...\n",
      "Complete.\n",
      "...\n",
      "Converting minc file...\n",
      "Complete.\n",
      "...\n",
      "Converting minc file...\n",
      "Complete.\n",
      "...\n",
      "Converting minc file...\n",
      "Complete.\n",
      "...\n",
      "Converting minc file...\n",
      "Complete.\n",
      "...\n",
      "Converting minc file...\n",
      "Complete.\n",
      "...\n",
      "Converting minc file...\n",
      "Complete.\n",
      "...\n",
      "Converting minc file...\n",
      "Complete.\n",
      "...\n",
      "Converting minc file...\n",
      "Complete.\n",
      "...\n",
      "Converting minc file...\n",
      "Complete.\n",
      "...\n",
      "Converting minc file...\n",
      "Complete.\n",
      "...\n",
      "Converting minc file...\n",
      "Complete.\n",
      "...\n",
      "Converting minc file...\n",
      "Complete.\n",
      "...\n",
      "Converting minc file...\n",
      "Complete.\n",
      "...\n",
      "Converting minc file...\n",
      "Complete.\n",
      "...\n",
      "Converting minc file...\n",
      "Complete.\n",
      "...\n",
      "Converting minc file...\n",
      "Complete.\n",
      "...\n",
      "Converting minc file...\n",
      "Complete.\n",
      "...\n",
      "Converting minc file...\n",
      "Complete.\n",
      "...\n",
      "Converting minc file...\n",
      "Complete.\n",
      "...\n",
      "Converting minc file...\n",
      "Complete.\n",
      "...\n",
      "Converting minc file...\n",
      "Complete.\n",
      "...\n",
      "Converting minc file...\n",
      "Complete.\n",
      "...\n",
      "Converting minc file...\n",
      "Complete.\n",
      "...\n",
      "Converting minc file...\n",
      "Complete.\n",
      "...\n",
      "Converting minc file...\n",
      "Complete.\n",
      "...\n",
      "Converting minc file...\n",
      "Complete.\n",
      "...\n",
      "Converting minc file...\n",
      "Complete.\n",
      "...\n",
      "Converting minc file...\n",
      "Complete.\n",
      "...\n",
      "Converting minc file...\n",
      "Complete.\n",
      "...\n",
      "Converting minc file...\n",
      "Complete.\n",
      "...\n",
      "Converting minc file...\n",
      "Complete.\n",
      "...\n",
      "Converting minc file...\n",
      "Complete.\n",
      "...\n",
      "Converting minc file...\n",
      "Complete.\n",
      "...\n",
      "Converting minc file...\n",
      "Complete.\n",
      "...\n",
      "Converting minc file...\n",
      "Complete.\n",
      "...\n",
      "Converting minc file...\n",
      "Complete.\n",
      "...\n",
      "Converting minc file...\n",
      "Complete.\n",
      "...\n"
     ]
    }
   ],
   "source": [
    "# convert mnc files to nifti and move to the new directory\n",
    "for file, subject in zip(df_filepaths['fmri_minc_filepath'], df_filepaths['subject_id']):\n",
    "\n",
    "    output_filename = subject + '_7T_FMRI_raw'\n",
    "\n",
    "    # if file extension is .nii or .nii.gz, copy file to new directory\n",
    "    if file.endswith('.nii') or file.endswith('.nii.gz'):\n",
    "        print('Copying nifti file')\n",
    "        !cp $file $raw_fmri_dir/{output_filename}.nii.gz\n",
    "        print('Complete.')\n",
    "        print('...')\n",
    "\n",
    "\n",
    "    # if file extension is .mnc or .mnc.gz, convert to nifti and move to new directory\n",
    "    else:\n",
    "        print('Converting minc file...')\n",
    "        !mnc2nii $file $raw_fmri\n",
    "        print('...')"
   ]
  },
  {
   "cell_type": "markdown",
   "metadata": {},
   "source": [
    "## Part 1: Functional Data Preprocessing"
   ]
  },
  {
   "cell_type": "markdown",
   "metadata": {},
   "source": [
    "via: https://en.wikibooks.org/wiki/Neuroimaging_Data_Processing/Processing/Steps/Slice_Timing\n",
    "\n",
    "- first steps: \n",
    "    - realignment\n",
    "    - motion correction\n",
    "    - slice timing correction via temporal derivatives\n",
    "- notes: \n",
    "    - data characteristics: short TR, interleaved slice order, potentially severe head motion among SPMS group\n",
    "    - slice acquisition order was Siemens interleaved\n",
    "    - slice timing correction method chosen based on above characteristics of our data"
   ]
  },
  {
   "cell_type": "code",
   "execution_count": null,
   "metadata": {},
   "outputs": [],
   "source": [
    "# 1.1 realignment to middle volume (#239)\n",
    "\n"
   ]
  },
  {
   "cell_type": "code",
   "execution_count": null,
   "metadata": {},
   "outputs": [],
   "source": [
    "# 1.2 motion correction & identifying outliers\n",
    "\n"
   ]
  },
  {
   "cell_type": "code",
   "execution_count": null,
   "metadata": {},
   "outputs": [],
   "source": [
    "# 1.3 slice timing correction via temporal derivatives\n",
    " "
   ]
  },
  {
   "cell_type": "markdown",
   "metadata": {},
   "source": [
    "## Part 3: Registration & Normalization\n",
    "- registration of fmri to high resolution t1w mp2rage anatomical data via boundary-based registration\n",
    "- followed by normalization to template (MNI152 2mm)"
   ]
  },
  {
   "cell_type": "code",
   "execution_count": null,
   "metadata": {},
   "outputs": [],
   "source": []
  },
  {
   "cell_type": "code",
   "execution_count": null,
   "metadata": {},
   "outputs": [],
   "source": []
  },
  {
   "cell_type": "code",
   "execution_count": null,
   "metadata": {},
   "outputs": [],
   "source": []
  },
  {
   "cell_type": "markdown",
   "metadata": {},
   "source": [
    "## Part 4: Smoothing"
   ]
  },
  {
   "cell_type": "markdown",
   "metadata": {},
   "source": []
  }
 ],
 "metadata": {
  "interpreter": {
   "hash": "930b200f1af79f20b3a875e38b61a82feb6b2752947827a756d2daf92a053478"
  },
  "kernelspec": {
   "display_name": "Python 3.9.7 ('MRI_env')",
   "language": "python",
   "name": "python3"
  },
  "language_info": {
   "codemirror_mode": {
    "name": "ipython",
    "version": 3
   },
   "file_extension": ".py",
   "mimetype": "text/x-python",
   "name": "python",
   "nbconvert_exporter": "python",
   "pygments_lexer": "ipython3",
   "version": "3.9.12"
  },
  "orig_nbformat": 4
 },
 "nbformat": 4,
 "nbformat_minor": 2
}
