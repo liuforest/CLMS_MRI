{
 "cells": [
  {
   "cell_type": "markdown",
   "metadata": {},
   "source": [
    "# MRTrix Preprocessing Pipeline\n",
    "- via: https://andysbrainbook.readthedocs.io/en/latest/MRtrix/MRtrix_Course/MRtrix_04_Preprocessing.html\n",
    "- General approach in this notebook: \n",
    "    - build an initial dataframe containing the subject ids\n",
    "    - apply preprocessing steps, where each step creates a new subdirectory and/or file\n",
    "    - store the filepaths in new columns with"
   ]
  },
  {
   "cell_type": "code",
   "execution_count": 22,
   "metadata": {},
   "outputs": [],
   "source": [
    "import numpy as np\n",
    "import pandas as pd\n",
    "\n",
    "from nipype.interfaces.dcm2nii import Dcm2nii"
   ]
  },
  {
   "cell_type": "code",
   "execution_count": 17,
   "metadata": {},
   "outputs": [],
   "source": [
    "# specify project directory\n",
    "main_dir = '/media/forest/wd_1/data_CLMS/diffusion'"
   ]
  },
  {
   "cell_type": "markdown",
   "metadata": {},
   "source": [
    "## Prep Data for Preprocessing\n",
    "- specified `home_dir` should contain subdirectories, 1 for each subject at one timepoint (m00 or m24)\n",
    "- each subdirectory should contain files with extension `.mif`"
   ]
  },
  {
   "cell_type": "markdown",
   "metadata": {},
   "source": [
    "### dcm to nifti+bval+bvec\n",
    "-  dcm2nii: https://www.nitrc.org/plugins/mwiki/index.php/dcm2nii:MainPage\n",
    "    - prereq: `sudo apt install mricron`\n",
    "    - alternatively, can use the wrapper in nipype\n",
    "        - https://nipype.readthedocs.io/en/latest/api/generated/nipype.interfaces.dcm2nii.html\n",
    "- dcm files for each subject are stored inside the subdirectory: `1_dcm`\n"
   ]
  },
  {
   "cell_type": "code",
   "execution_count": 40,
   "metadata": {},
   "outputs": [
    {
     "data": {
      "text/html": [
       "<div>\n",
       "<style scoped>\n",
       "    .dataframe tbody tr th:only-of-type {\n",
       "        vertical-align: middle;\n",
       "    }\n",
       "\n",
       "    .dataframe tbody tr th {\n",
       "        vertical-align: top;\n",
       "    }\n",
       "\n",
       "    .dataframe thead th {\n",
       "        text-align: right;\n",
       "    }\n",
       "</style>\n",
       "<table border=\"1\" class=\"dataframe\">\n",
       "  <thead>\n",
       "    <tr style=\"text-align: right;\">\n",
       "      <th></th>\n",
       "      <th>subject_names</th>\n",
       "      <th>dcm_path</th>\n",
       "    </tr>\n",
       "  </thead>\n",
       "  <tbody>\n",
       "    <tr>\n",
       "      <th>0</th>\n",
       "      <td>aah_032_m00</td>\n",
       "      <td>/media/forest/wd_1/data_CLMS/diffusion/1.1_dcm...</td>\n",
       "    </tr>\n",
       "    <tr>\n",
       "      <th>1</th>\n",
       "      <td>aaj_034_m00</td>\n",
       "      <td>/media/forest/wd_1/data_CLMS/diffusion/1.1_dcm...</td>\n",
       "    </tr>\n",
       "    <tr>\n",
       "      <th>2</th>\n",
       "      <td>aao_039_m00</td>\n",
       "      <td>/media/forest/wd_1/data_CLMS/diffusion/1.1_dcm...</td>\n",
       "    </tr>\n",
       "    <tr>\n",
       "      <th>3</th>\n",
       "      <td>bbe_055_m00</td>\n",
       "      <td>/media/forest/wd_1/data_CLMS/diffusion/1.1_dcm...</td>\n",
       "    </tr>\n",
       "    <tr>\n",
       "      <th>4</th>\n",
       "      <td>ghi_007_m00</td>\n",
       "      <td>/media/forest/wd_1/data_CLMS/diffusion/1.1_dcm...</td>\n",
       "    </tr>\n",
       "    <tr>\n",
       "      <th>5</th>\n",
       "      <td>ijk_009_m00</td>\n",
       "      <td>/media/forest/wd_1/data_CLMS/diffusion/1.1_dcm...</td>\n",
       "    </tr>\n",
       "    <tr>\n",
       "      <th>6</th>\n",
       "      <td>mno_013_m00</td>\n",
       "      <td>/media/forest/wd_1/data_CLMS/diffusion/1.1_dcm...</td>\n",
       "    </tr>\n",
       "    <tr>\n",
       "      <th>7</th>\n",
       "      <td>pqr_016_m00</td>\n",
       "      <td>/media/forest/wd_1/data_CLMS/diffusion/1.1_dcm...</td>\n",
       "    </tr>\n",
       "    <tr>\n",
       "      <th>8</th>\n",
       "      <td>vwx_022_m00</td>\n",
       "      <td>/media/forest/wd_1/data_CLMS/diffusion/1.1_dcm...</td>\n",
       "    </tr>\n",
       "    <tr>\n",
       "      <th>9</th>\n",
       "      <td>xyz_024_m00</td>\n",
       "      <td>/media/forest/wd_1/data_CLMS/diffusion/1.1_dcm...</td>\n",
       "    </tr>\n",
       "  </tbody>\n",
       "</table>\n",
       "</div>"
      ],
      "text/plain": [
       "  subject_names                                           dcm_path\n",
       "0   aah_032_m00  /media/forest/wd_1/data_CLMS/diffusion/1.1_dcm...\n",
       "1   aaj_034_m00  /media/forest/wd_1/data_CLMS/diffusion/1.1_dcm...\n",
       "2   aao_039_m00  /media/forest/wd_1/data_CLMS/diffusion/1.1_dcm...\n",
       "3   bbe_055_m00  /media/forest/wd_1/data_CLMS/diffusion/1.1_dcm...\n",
       "4   ghi_007_m00  /media/forest/wd_1/data_CLMS/diffusion/1.1_dcm...\n",
       "5   ijk_009_m00  /media/forest/wd_1/data_CLMS/diffusion/1.1_dcm...\n",
       "6   mno_013_m00  /media/forest/wd_1/data_CLMS/diffusion/1.1_dcm...\n",
       "7   pqr_016_m00  /media/forest/wd_1/data_CLMS/diffusion/1.1_dcm...\n",
       "8   vwx_022_m00  /media/forest/wd_1/data_CLMS/diffusion/1.1_dcm...\n",
       "9   xyz_024_m00  /media/forest/wd_1/data_CLMS/diffusion/1.1_dcm..."
      ]
     },
     "execution_count": 40,
     "metadata": {},
     "output_type": "execute_result"
    }
   ],
   "source": [
    "# specify subdirectory storing dcm files\n",
    "dcm_dir = main_dir + '/1.1_dcm'\n",
    "\n",
    "# create new dataframe to store file paths; subj id format: \\w{3}_\\d{3}_m\\d{2}\n",
    "subject_names = !ls $dcm_dir # dcm data should be stored in subdirectories named by subject\n",
    "subject_dcm_dir = !ls -d $dcm_dir/* \n",
    "\n",
    "df_filepaths = pd.DataFrame({'subject_names': subject_names, 'dcm_path': subject_dcm_dir})\n",
    "df_filepaths"
   ]
  },
  {
   "cell_type": "code",
   "execution_count": 111,
   "metadata": {},
   "outputs": [
    {
     "name": "stdout",
     "output_type": "stream",
     "text": [
      "Creating Subdirectory: /media/forest/wd_1/data_CLMS/diffusion/1.2_nifti/aah_032_m00\n",
      "Running dcm2nii...\n",
      "Chris Rorden's dcm2nii :: 4AUGUST2014 (Debian) 64bit BSD License\n",
      "reading preferences file /home/forest/.dcm2nii/dcm2nii.ini\n",
      "Data will be exported to /media/forest/wd_1/data_CLMS/diffusion/1.2_nifti/aah_032_m00/\n",
      "Validating 140 potential DICOM images.\n",
      "Found 140 DICOM images.\n",
      "Converting 140/140  volumes: 140\n",
      "002155.dcm->20160926_112437diffmb3140b2000APs015a001.nii\n",
      " Warning: Siemens interleaved acquisition with an even number of slices. Assume even slices acquired PRIOR to odd slices. https://wiki.cimec.unitn.it/tiki-index.php?page=MRIBOLDfMRI\n",
      "  MosaicRefAcqTimes (72 values for Slice Time Correction) \t0\t1275\t2547.5\t1042.5\t2317.5\t810\t2085\t580\t1852.5\t347.5\t1622.5\t115\t1390\t2665\t1157.5\t2432.5\t927.5\t2200\t695\t1970\t462.5\t1737.5\t232.5\t1505\t0\t1275\t2547.5\t1042.5\t2317.5\t810\t2085\t580\t1852.5\t347.5\t1622.5\t115\t1390\t2665\t1157.5\t2432.5\t927.5\t2200\t695\t1970\t462.5\t1737.5\t232.5\t1505\t0\t1275\t2547.5\t1042.5\t2317.5\t810\t2085\t580\t1852.5\t347.5\t1622.5\t115\t1390\t2665\t1157.5\t2432.5\t927.5\t2200\t695\t1970\t462.5\t1737.5\t232.5\t1505\n",
      " These values suggest a multiband factor of 3\n",
      "For slice timing correction: the slice order is Siemens-even interleaved ascending (2,4..,1,3...)\n",
      "Effective echo spacing: 0.3500027955ms, BandwidthPerPixelPhaseEncode: 25.51000023\n",
      " brightest voxel was 21680: data will be saved as 16-bit signed integer.\n",
      "GZip...20160926_112437diffmb3140b2000APs015a001.nii.gz\n",
      "* Warning: diffusion acquisition does not have b-0 image\n",
      "*  Potential partial acquisition or improper segmentation of files\n",
      "*  Possible solution: use -c Y and use folder containing subdirectories as input\n",
      "*            or change .ini file to read: CollapseFolders=1\n",
      "Number of diffusion directions = 140\n",
      "Creating Subdirectory: /media/forest/wd_1/data_CLMS/diffusion/1.2_nifti/aaj_034_m00\n",
      "Running dcm2nii...\n",
      "Chris Rorden's dcm2nii :: 4AUGUST2014 (Debian) 64bit BSD License\n",
      "reading preferences file /home/forest/.dcm2nii/dcm2nii.ini\n",
      "Data will be exported to /media/forest/wd_1/data_CLMS/diffusion/1.2_nifti/aaj_034_m00/\n",
      "Validating 140 potential DICOM images.\n",
      "Found 140 DICOM images.\n",
      "Converting 140/140  volumes: 140\n",
      "002155.dcm->20161003_120403diffmb3140b2000APs015a001.nii\n",
      " Warning: Siemens interleaved acquisition with an even number of slices. Assume even slices acquired PRIOR to odd slices. https://wiki.cimec.unitn.it/tiki-index.php?page=MRIBOLDfMRI\n",
      "  MosaicRefAcqTimes (72 values for Slice Time Correction) \t0\t1275\t2550\t1042.5\t2317.5\t812.5\t2085\t580\t1855\t347.5\t1622.5\t117.5\t1390\t2665\t1160\t2432.5\t927.5\t2202.5\t695\t1970\t465\t1737.5\t232.5\t1507.5\t0\t1275\t2550\t1042.5\t2317.5\t812.5\t2085\t580\t1855\t347.5\t1622.5\t117.5\t1390\t2665\t1160\t2432.5\t927.5\t2202.5\t695\t1970\t465\t1737.5\t232.5\t1507.5\t0\t1275\t2550\t1042.5\t2317.5\t812.5\t2085\t580\t1855\t347.5\t1622.5\t117.5\t1390\t2665\t1160\t2432.5\t927.5\t2202.5\t695\t1970\t465\t1737.5\t232.5\t1507.5\n",
      " These values suggest a multiband factor of 3\n",
      "For slice timing correction: the slice order is Siemens-even interleaved ascending (2,4..,1,3...)\n",
      "Effective echo spacing: 0.3500027955ms, BandwidthPerPixelPhaseEncode: 25.51000023\n",
      " brightest voxel was 20645: data will be saved as 16-bit signed integer.\n",
      "GZip...20161003_120403diffmb3140b2000APs015a001.nii.gz\n",
      "* Warning: diffusion acquisition does not have b-0 image\n",
      "*  Potential partial acquisition or improper segmentation of files\n",
      "*  Possible solution: use -c Y and use folder containing subdirectories as input\n",
      "*            or change .ini file to read: CollapseFolders=1\n",
      "Number of diffusion directions = 140\n",
      "Creating Subdirectory: /media/forest/wd_1/data_CLMS/diffusion/1.2_nifti/aao_039_m00\n",
      "Running dcm2nii...\n",
      "Chris Rorden's dcm2nii :: 4AUGUST2014 (Debian) 64bit BSD License\n",
      "reading preferences file /home/forest/.dcm2nii/dcm2nii.ini\n",
      "Data will be exported to /media/forest/wd_1/data_CLMS/diffusion/1.2_nifti/aao_039_m00/\n",
      "Validating 140 potential DICOM images.\n",
      "Found 140 DICOM images.\n",
      "Converting 140/140  volumes: 140\n",
      "002155.dcm->20161128_114742diffmb3140b2000APs015a001.nii\n",
      " Warning: Siemens interleaved acquisition with an even number of slices. Assume even slices acquired PRIOR to odd slices. https://wiki.cimec.unitn.it/tiki-index.php?page=MRIBOLDfMRI\n",
      "  MosaicRefAcqTimes (72 values for Slice Time Correction) \t0\t1275\t2550\t1042.5\t2317.5\t812.5\t2085\t580\t1855\t347.5\t1622.5\t117.5\t1390\t2665\t1160\t2432.5\t927.5\t2202.5\t695\t1970\t465\t1737.5\t232.5\t1507.5\t0\t1275\t2550\t1042.5\t2317.5\t812.5\t2085\t580\t1855\t347.5\t1622.5\t117.5\t1390\t2665\t1160\t2432.5\t927.5\t2202.5\t695\t1970\t465\t1737.5\t232.5\t1507.5\t0\t1275\t2550\t1042.5\t2317.5\t812.5\t2085\t580\t1855\t347.5\t1622.5\t117.5\t1390\t2665\t1160\t2432.5\t927.5\t2202.5\t695\t1970\t465\t1737.5\t232.5\t1507.5\n",
      " These values suggest a multiband factor of 3\n",
      "For slice timing correction: the slice order is Siemens-even interleaved ascending (2,4..,1,3...)\n",
      "Effective echo spacing: 0.3500027955ms, BandwidthPerPixelPhaseEncode: 25.51000023\n",
      " brightest voxel was 20675: data will be saved as 16-bit signed integer.\n",
      "GZip...20161128_114742diffmb3140b2000APs015a001.nii.gz\n",
      "* Warning: diffusion acquisition does not have b-0 image\n",
      "*  Potential partial acquisition or improper segmentation of files\n",
      "*  Possible solution: use -c Y and use folder containing subdirectories as input\n",
      "*            or change .ini file to read: CollapseFolders=1\n",
      "Number of diffusion directions = 140\n",
      "Creating Subdirectory: /media/forest/wd_1/data_CLMS/diffusion/1.2_nifti/bbe_055_m00\n",
      "Running dcm2nii...\n",
      "Chris Rorden's dcm2nii :: 4AUGUST2014 (Debian) 64bit BSD License\n",
      "reading preferences file /home/forest/.dcm2nii/dcm2nii.ini\n",
      "Data will be exported to /media/forest/wd_1/data_CLMS/diffusion/1.2_nifti/bbe_055_m00/\n",
      "Validating 140 potential DICOM images.\n",
      "Found 140 DICOM images.\n",
      "Converting 140/140  volumes: 140\n",
      "001979.dcm->20180130_120411diffmb3140b2000APs014a001.nii\n",
      " Warning: Siemens interleaved acquisition with an even number of slices. Assume even slices acquired PRIOR to odd slices. https://wiki.cimec.unitn.it/tiki-index.php?page=MRIBOLDfMRI\n",
      "  MosaicRefAcqTimes (72 values for Slice Time Correction) \t0\t1272.5\t2547.5\t1042.5\t2315\t810\t2085\t577.5\t1852.5\t347.5\t1620\t115\t1390\t2662.5\t1157.5\t2432.5\t925\t2200\t695\t1967.5\t462.5\t1737.5\t230\t1505\t0\t1272.5\t2547.5\t1042.5\t2315\t810\t2085\t577.5\t1852.5\t347.5\t1620\t115\t1390\t2662.5\t1157.5\t2432.5\t925\t2200\t695\t1967.5\t462.5\t1737.5\t230\t1505\t0\t1272.5\t2547.5\t1042.5\t2315\t810\t2085\t577.5\t1852.5\t347.5\t1620\t115\t1390\t2662.5\t1157.5\t2432.5\t925\t2200\t695\t1967.5\t462.5\t1737.5\t230\t1505\n",
      " These values suggest a multiband factor of 3\n",
      "For slice timing correction: the slice order is Siemens-even interleaved ascending (2,4..,1,3...)\n",
      "Effective echo spacing: 0.3500027955ms, BandwidthPerPixelPhaseEncode: 25.51000023\n",
      " brightest voxel was 20844: data will be saved as 16-bit signed integer.\n",
      "GZip...20180130_120411diffmb3140b2000APs014a001.nii.gz\n",
      "* Warning: diffusion acquisition does not have b-0 image\n",
      "*  Potential partial acquisition or improper segmentation of files\n",
      "*  Possible solution: use -c Y and use folder containing subdirectories as input\n",
      "*            or change .ini file to read: CollapseFolders=1\n",
      "Number of diffusion directions = 140\n",
      "Creating Subdirectory: /media/forest/wd_1/data_CLMS/diffusion/1.2_nifti/ghi_007_m00\n",
      "Running dcm2nii...\n",
      "Chris Rorden's dcm2nii :: 4AUGUST2014 (Debian) 64bit BSD License\n",
      "reading preferences file /home/forest/.dcm2nii/dcm2nii.ini\n",
      "Data will be exported to /media/forest/wd_1/data_CLMS/diffusion/1.2_nifti/ghi_007_m00/\n",
      "Validating 140 potential DICOM images.\n",
      "Found 140 DICOM images.\n",
      "Converting 140/140  volumes: 140\n",
      "001771.dcm->20151214_130722diffmb3140b2000APs013a001.nii\n",
      " Warning: Siemens interleaved acquisition with an even number of slices. Assume even slices acquired PRIOR to odd slices. https://wiki.cimec.unitn.it/tiki-index.php?page=MRIBOLDfMRI\n",
      "  MosaicRefAcqTimes (72 values for Slice Time Correction) \t0\t1272.5\t2547.5\t1042.5\t2315\t810\t2082.5\t577.5\t1852.5\t347.5\t1620\t115\t1387.5\t2662.5\t1157.5\t2430\t925\t2200\t695\t1967.5\t462.5\t1735\t230\t1505\t0\t1272.5\t2547.5\t1042.5\t2315\t810\t2082.5\t577.5\t1852.5\t347.5\t1620\t115\t1387.5\t2662.5\t1157.5\t2430\t925\t2200\t695\t1967.5\t462.5\t1735\t230\t1505\t0\t1272.5\t2547.5\t1042.5\t2315\t810\t2082.5\t577.5\t1852.5\t347.5\t1620\t115\t1387.5\t2662.5\t1157.5\t2430\t925\t2200\t695\t1967.5\t462.5\t1735\t230\t1505\n",
      " These values suggest a multiband factor of 3\n",
      "For slice timing correction: the slice order is Siemens-even interleaved ascending (2,4..,1,3...)\n",
      "Effective echo spacing: 0.3500027955ms, BandwidthPerPixelPhaseEncode: 25.51000023\n",
      " brightest voxel was 21255: data will be saved as 16-bit signed integer.\n",
      "GZip...20151214_130722diffmb3140b2000APs013a001.nii.gz\n",
      "* Warning: diffusion acquisition does not have b-0 image\n",
      "*  Potential partial acquisition or improper segmentation of files\n",
      "*  Possible solution: use -c Y and use folder containing subdirectories as input\n",
      "*            or change .ini file to read: CollapseFolders=1\n",
      "Number of diffusion directions = 140\n",
      "Creating Subdirectory: /media/forest/wd_1/data_CLMS/diffusion/1.2_nifti/ijk_009_m00\n",
      "Running dcm2nii...\n",
      "Chris Rorden's dcm2nii :: 4AUGUST2014 (Debian) 64bit BSD License\n",
      "reading preferences file /home/forest/.dcm2nii/dcm2nii.ini\n",
      "Data will be exported to /media/forest/wd_1/data_CLMS/diffusion/1.2_nifti/ijk_009_m00/\n",
      "Validating 140 potential DICOM images.\n",
      "Found 140 DICOM images.\n",
      "Converting 140/140  volumes: 140\n",
      "001801.dcm->20160208_112110diffmb3140b2000APs014a001.nii\n",
      " Warning: Siemens interleaved acquisition with an even number of slices. Assume even slices acquired PRIOR to odd slices. https://wiki.cimec.unitn.it/tiki-index.php?page=MRIBOLDfMRI\n",
      "  MosaicRefAcqTimes (72 values for Slice Time Correction) \t0\t1275\t2547.5\t1042.5\t2317.5\t810\t2085\t580\t1852.5\t347.5\t1622.5\t115\t1390\t2665\t1157.5\t2432.5\t927.5\t2200\t695\t1970\t462.5\t1737.5\t232.5\t1505\t0\t1275\t2547.5\t1042.5\t2317.5\t810\t2085\t580\t1852.5\t347.5\t1622.5\t115\t1390\t2665\t1157.5\t2432.5\t927.5\t2200\t695\t1970\t462.5\t1737.5\t232.5\t1505\t0\t1275\t2547.5\t1042.5\t2317.5\t810\t2085\t580\t1852.5\t347.5\t1622.5\t115\t1390\t2665\t1157.5\t2432.5\t927.5\t2200\t695\t1970\t462.5\t1737.5\t232.5\t1505\n",
      " These values suggest a multiband factor of 3\n",
      "For slice timing correction: the slice order is Siemens-even interleaved ascending (2,4..,1,3...)\n",
      "Effective echo spacing: 0.3500027955ms, BandwidthPerPixelPhaseEncode: 25.51000023\n",
      " brightest voxel was 28650: data will be saved as 16-bit signed integer.\n",
      "GZip...20160208_112110diffmb3140b2000APs014a001.nii.gz\n",
      "* Warning: diffusion acquisition does not have b-0 image\n",
      "*  Potential partial acquisition or improper segmentation of files\n",
      "*  Possible solution: use -c Y and use folder containing subdirectories as input\n",
      "*            or change .ini file to read: CollapseFolders=1\n",
      "Number of diffusion directions = 140\n",
      "Creating Subdirectory: /media/forest/wd_1/data_CLMS/diffusion/1.2_nifti/mno_013_m00\n",
      "Running dcm2nii...\n",
      "Chris Rorden's dcm2nii :: 4AUGUST2014 (Debian) 64bit BSD License\n",
      "reading preferences file /home/forest/.dcm2nii/dcm2nii.ini\n",
      "Data will be exported to /media/forest/wd_1/data_CLMS/diffusion/1.2_nifti/mno_013_m00/\n",
      "Validating 140 potential DICOM images.\n",
      "Found 140 DICOM images.\n",
      "Converting 140/140  volumes: 140\n",
      "001771.dcm->20160211_114544diffmb3140b2000APs013a001.nii\n",
      " Warning: Siemens interleaved acquisition with an even number of slices. Assume even slices acquired PRIOR to odd slices. https://wiki.cimec.unitn.it/tiki-index.php?page=MRIBOLDfMRI\n",
      "  MosaicRefAcqTimes (72 values for Slice Time Correction) \t0\t1275\t2550\t1042.5\t2317.5\t812.5\t2085\t580\t1855\t347.5\t1622.5\t117.5\t1390\t2665\t1160\t2432.5\t927.5\t2202.5\t695\t1970\t465\t1737.5\t232.5\t1507.5\t0\t1275\t2550\t1042.5\t2317.5\t812.5\t2085\t580\t1855\t347.5\t1622.5\t117.5\t1390\t2665\t1160\t2432.5\t927.5\t2202.5\t695\t1970\t465\t1737.5\t232.5\t1507.5\t0\t1275\t2550\t1042.5\t2317.5\t812.5\t2085\t580\t1855\t347.5\t1622.5\t117.5\t1390\t2665\t1160\t2432.5\t927.5\t2202.5\t695\t1970\t465\t1737.5\t232.5\t1507.5\n",
      " These values suggest a multiband factor of 3\n",
      "For slice timing correction: the slice order is Siemens-even interleaved ascending (2,4..,1,3...)\n",
      "Effective echo spacing: 0.3500027955ms, BandwidthPerPixelPhaseEncode: 25.51000023\n",
      " brightest voxel was 27975: data will be saved as 16-bit signed integer.\n",
      "GZip...20160211_114544diffmb3140b2000APs013a001.nii.gz\n",
      "* Warning: diffusion acquisition does not have b-0 image\n",
      "*  Potential partial acquisition or improper segmentation of files\n",
      "*  Possible solution: use -c Y and use folder containing subdirectories as input\n",
      "*            or change .ini file to read: CollapseFolders=1\n",
      "Number of diffusion directions = 140\n",
      "Creating Subdirectory: /media/forest/wd_1/data_CLMS/diffusion/1.2_nifti/pqr_016_m00\n",
      "Running dcm2nii...\n",
      "Chris Rorden's dcm2nii :: 4AUGUST2014 (Debian) 64bit BSD License\n",
      "reading preferences file /home/forest/.dcm2nii/dcm2nii.ini\n",
      "Data will be exported to /media/forest/wd_1/data_CLMS/diffusion/1.2_nifti/pqr_016_m00/\n",
      "Validating 140 potential DICOM images.\n",
      "Found 140 DICOM images.\n",
      "Converting 140/140  volumes: 140\n",
      "001801.dcm->20160225_110503diffmb3140b2000APs014a001.nii\n",
      " Warning: Siemens interleaved acquisition with an even number of slices. Assume even slices acquired PRIOR to odd slices. https://wiki.cimec.unitn.it/tiki-index.php?page=MRIBOLDfMRI\n",
      "  MosaicRefAcqTimes (72 values for Slice Time Correction) \t0\t1275\t2547.5\t1042.5\t2315\t810\t2085\t580\t1852.5\t347.5\t1622.5\t115\t1390\t2662.5\t1157.5\t2432.5\t927.5\t2200\t695\t1967.5\t462.5\t1737.5\t232.5\t1505\t0\t1275\t2547.5\t1042.5\t2315\t810\t2085\t580\t1852.5\t347.5\t1622.5\t115\t1390\t2662.5\t1157.5\t2432.5\t927.5\t2200\t695\t1967.5\t462.5\t1737.5\t232.5\t1505\t0\t1275\t2547.5\t1042.5\t2315\t810\t2085\t580\t1852.5\t347.5\t1622.5\t115\t1390\t2662.5\t1157.5\t2432.5\t927.5\t2200\t695\t1967.5\t462.5\t1737.5\t232.5\t1505\n",
      " These values suggest a multiband factor of 3\n",
      "For slice timing correction: the slice order is Siemens-even interleaved ascending (2,4..,1,3...)\n",
      "Effective echo spacing: 0.3500027955ms, BandwidthPerPixelPhaseEncode: 25.51000023\n",
      " brightest voxel was 29255: data will be saved as 16-bit signed integer.\n",
      "GZip...20160225_110503diffmb3140b2000APs014a001.nii.gz\n",
      "* Warning: diffusion acquisition does not have b-0 image\n",
      "*  Potential partial acquisition or improper segmentation of files\n",
      "*  Possible solution: use -c Y and use folder containing subdirectories as input\n",
      "*            or change .ini file to read: CollapseFolders=1\n",
      "Number of diffusion directions = 140\n",
      "Creating Subdirectory: /media/forest/wd_1/data_CLMS/diffusion/1.2_nifti/vwx_022_m00\n",
      "Running dcm2nii...\n",
      "Chris Rorden's dcm2nii :: 4AUGUST2014 (Debian) 64bit BSD License\n",
      "reading preferences file /home/forest/.dcm2nii/dcm2nii.ini\n",
      "Data will be exported to /media/forest/wd_1/data_CLMS/diffusion/1.2_nifti/vwx_022_m00/\n",
      "Validating 140 potential DICOM images.\n",
      "Found 140 DICOM images.\n",
      "Converting 140/140  volumes: 140\n",
      "002155.dcm->20160321_120451diffmb3140b2000APs015a001.nii\n",
      " Warning: Siemens interleaved acquisition with an even number of slices. Assume even slices acquired PRIOR to odd slices. https://wiki.cimec.unitn.it/tiki-index.php?page=MRIBOLDfMRI\n",
      "  MosaicRefAcqTimes (72 values for Slice Time Correction) \t0\t1272.5\t2547.5\t1042.5\t2315\t810\t2085\t577.5\t1852.5\t347.5\t1620\t115\t1390\t2662.5\t1157.5\t2432.5\t925\t2200\t695\t1967.5\t462.5\t1737.5\t230\t1505\t0\t1272.5\t2547.5\t1042.5\t2315\t810\t2085\t577.5\t1852.5\t347.5\t1620\t115\t1390\t2662.5\t1157.5\t2432.5\t925\t2200\t695\t1967.5\t462.5\t1737.5\t230\t1505\t0\t1272.5\t2547.5\t1042.5\t2315\t810\t2085\t577.5\t1852.5\t347.5\t1620\t115\t1390\t2662.5\t1157.5\t2432.5\t925\t2200\t695\t1967.5\t462.5\t1737.5\t230\t1505\n",
      " These values suggest a multiband factor of 3\n",
      "For slice timing correction: the slice order is Siemens-even interleaved ascending (2,4..,1,3...)\n",
      "Effective echo spacing: 0.3500027955ms, BandwidthPerPixelPhaseEncode: 25.51000023\n",
      " brightest voxel was 22657: data will be saved as 16-bit signed integer.\n",
      "GZip...20160321_120451diffmb3140b2000APs015a001.nii.gz\n",
      "* Warning: diffusion acquisition does not have b-0 image\n",
      "*  Potential partial acquisition or improper segmentation of files\n",
      "*  Possible solution: use -c Y and use folder containing subdirectories as input\n",
      "*            or change .ini file to read: CollapseFolders=1\n",
      "Number of diffusion directions = 140\n",
      "Creating Subdirectory: /media/forest/wd_1/data_CLMS/diffusion/1.2_nifti/xyz_024_m00\n",
      "Running dcm2nii...\n",
      "Chris Rorden's dcm2nii :: 4AUGUST2014 (Debian) 64bit BSD License\n",
      "reading preferences file /home/forest/.dcm2nii/dcm2nii.ini\n",
      "Data will be exported to /media/forest/wd_1/data_CLMS/diffusion/1.2_nifti/xyz_024_m00/\n",
      "Validating 140 potential DICOM images.\n",
      "Found 140 DICOM images.\n",
      "Converting 140/140  volumes: 140\n",
      "002155.dcm->20160428_115323diffmb3140b2000APs015a001.nii\n",
      " Warning: Siemens interleaved acquisition with an even number of slices. Assume even slices acquired PRIOR to odd slices. https://wiki.cimec.unitn.it/tiki-index.php?page=MRIBOLDfMRI\n",
      "  MosaicRefAcqTimes (72 values for Slice Time Correction) \t0\t1275\t2550\t1042.5\t2317.5\t812.5\t2085\t580\t1855\t347.5\t1622.5\t117.5\t1390\t2665\t1160\t2432.5\t927.5\t2202.5\t695\t1970\t465\t1737.5\t232.5\t1507.5\t0\t1275\t2550\t1042.5\t2317.5\t812.5\t2085\t580\t1855\t347.5\t1622.5\t117.5\t1390\t2665\t1160\t2432.5\t927.5\t2202.5\t695\t1970\t465\t1737.5\t232.5\t1507.5\t0\t1275\t2550\t1042.5\t2317.5\t812.5\t2085\t580\t1855\t347.5\t1622.5\t117.5\t1390\t2665\t1160\t2432.5\t927.5\t2202.5\t695\t1970\t465\t1737.5\t232.5\t1507.5\n",
      " These values suggest a multiband factor of 3\n",
      "For slice timing correction: the slice order is Siemens-even interleaved ascending (2,4..,1,3...)\n",
      "Effective echo spacing: 0.3500027955ms, BandwidthPerPixelPhaseEncode: 25.51000023\n",
      " brightest voxel was 19966: data will be saved as 16-bit signed integer.\n",
      "GZip...20160428_115323diffmb3140b2000APs015a001.nii.gz\n",
      "* Warning: diffusion acquisition does not have b-0 image\n",
      "*  Potential partial acquisition or improper segmentation of files\n",
      "*  Possible solution: use -c Y and use folder containing subdirectories as input\n",
      "*            or change .ini file to read: CollapseFolders=1\n",
      "Number of diffusion directions = 140\n"
     ]
    }
   ],
   "source": [
    "# Process dcm files into nifti\n",
    "\n",
    "# check each row of the subject_dcm_dir column\n",
    "# pass to dcm2nii to convert data to nifti\n",
    "for subject, dcm in zip(df_filepaths['subject_names'], df_filepaths['dcm_path']):\n",
    "\n",
    "    nifti_dir_exists = ![ -d \"{main_dir}/1.2_nifti/{subject}\" ] && echo 'True';\n",
    "    if nifti_dir_exists == ['True']:\n",
    "        print('Directory already exists!')\n",
    "    else:\n",
    "        !echo \"Creating Subdirectory: {main_dir}/1.2_nifti/{subject}\"\n",
    "        !mkdir \"{main_dir}/1.2_nifti/{subject}\"\n",
    "        !echo \"Running dcm2nii...\"\n",
    "        # run command\n",
    "        !dcm2nii -o {main_dir}/1.2_nifti/{subject} {dcm_dir}/{subject}"
   ]
  },
  {
   "cell_type": "code",
   "execution_count": 112,
   "metadata": {},
   "outputs": [
    {
     "name": "stdout",
     "output_type": "stream",
     "text": [
      "Subject name: aah_032_m00...\n",
      "Files renamed.\n",
      "Subject name: aaj_034_m00...\n",
      "Files renamed.\n",
      "Subject name: aao_039_m00...\n",
      "Files renamed.\n",
      "Subject name: bbe_055_m00...\n",
      "Files renamed.\n",
      "Subject name: ghi_007_m00...\n",
      "Files renamed.\n",
      "Subject name: ijk_009_m00...\n",
      "Files renamed.\n",
      "Subject name: mno_013_m00...\n",
      "Files renamed.\n",
      "Subject name: pqr_016_m00...\n",
      "Files renamed.\n",
      "Subject name: vwx_022_m00...\n",
      "Files renamed.\n",
      "Subject name: xyz_024_m00...\n",
      "Files renamed.\n"
     ]
    }
   ],
   "source": [
    "# rename nifti, bval, bvec files to subject name only, then add columns to the dataframe \n",
    "for subject in df_filepaths['subject_names']:\n",
    "    print(f'Subject name: {subject}...')\n",
    "    nifti_file = !ls {main_dir}/1.2_nifti/{subject}/*.nii.gz\n",
    "    bval_filepath = !ls {main_dir}/1.2_nifti/{subject}/*.bval\n",
    "    bvec_filepath = !ls {main_dir}/1.2_nifti/{subject}/*.bvec\n",
    "    !mv {nifti_file[0]} {main_dir}/1.2_nifti/{subject}/{subject}_dwi.nii.gz\n",
    "    !mv {bval_filepath[0]} {main_dir}/1.2_nifti/{subject}/{subject}_dwi.bval\n",
    "    !mv {bvec_filepath[0]} {main_dir}/1.2_nifti/{subject}/{subject}_dwi.bvec\n",
    "    print(\"Files renamed.\")"
   ]
  },
  {
   "cell_type": "code",
   "execution_count": 125,
   "metadata": {},
   "outputs": [],
   "source": [
    "# append filepaths to dataframe\n",
    "niftis, bvals, bvecs = [], [], []\n",
    "\n",
    "for subject in df_filepaths['subject_names']:\n",
    "    tmp1 = !ls {main_dir}/1.2_nifti/{subject}/*.nii.gz\n",
    "    tmp2 = !ls {main_dir}/1.2_nifti/{subject}/*.bval\n",
    "    tmp3 = !ls {main_dir}/1.2_nifti/{subject}/*.bvec\n",
    "\n",
    "    niftis.append(tmp1[0])\n",
    "    bvals.append(tmp2[0])\n",
    "    bvecs.append(tmp3[0])"
   ]
  },
  {
   "cell_type": "code",
   "execution_count": 128,
   "metadata": {},
   "outputs": [],
   "source": [
    "df_filepaths['1.2_niftis'] = niftis\n",
    "df_filepaths['1.2_bvals'] = bvals\n",
    "df_filepaths['1.2_bvecs'] = bvecs"
   ]
  },
  {
   "cell_type": "markdown",
   "metadata": {},
   "source": [
    "### Validation & QC"
   ]
  },
  {
   "cell_type": "code",
   "execution_count": null,
   "metadata": {},
   "outputs": [],
   "source": [
    "# Ensure number of volumes matches with bval/bvec for all subjects\n",
    "\n"
   ]
  },
  {
   "cell_type": "code",
   "execution_count": null,
   "metadata": {},
   "outputs": [],
   "source": [
    "# "
   ]
  },
  {
   "cell_type": "code",
   "execution_count": null,
   "metadata": {},
   "outputs": [],
   "source": [
    "## "
   ]
  },
  {
   "cell_type": "markdown",
   "metadata": {},
   "source": [
    "### Convert files to .mif"
   ]
  },
  {
   "cell_type": "code",
   "execution_count": null,
   "metadata": {},
   "outputs": [],
   "source": []
  },
  {
   "cell_type": "code",
   "execution_count": null,
   "metadata": {},
   "outputs": [],
   "source": [
    "# visual inspection--use ipywidgets & matplotlib"
   ]
  },
  {
   "cell_type": "markdown",
   "metadata": {},
   "source": [
    "## Preprocessing"
   ]
  },
  {
   "cell_type": "markdown",
   "metadata": {},
   "source": [
    "### Denoising"
   ]
  },
  {
   "cell_type": "code",
   "execution_count": null,
   "metadata": {},
   "outputs": [],
   "source": []
  },
  {
   "cell_type": "code",
   "execution_count": null,
   "metadata": {},
   "outputs": [],
   "source": []
  },
  {
   "cell_type": "code",
   "execution_count": null,
   "metadata": {},
   "outputs": [],
   "source": []
  },
  {
   "cell_type": "markdown",
   "metadata": {},
   "source": [
    "### Remove Gibbs Artifacts"
   ]
  },
  {
   "cell_type": "code",
   "execution_count": null,
   "metadata": {},
   "outputs": [],
   "source": []
  },
  {
   "cell_type": "code",
   "execution_count": null,
   "metadata": {},
   "outputs": [],
   "source": []
  },
  {
   "cell_type": "code",
   "execution_count": null,
   "metadata": {},
   "outputs": [],
   "source": [
    "### Final "
   ]
  }
 ],
 "metadata": {
  "interpreter": {
   "hash": "b96aa57241b80cdbb1e771fbd3e4b0885d33a16be11a66dca4b3a541a9bd08b2"
  },
  "kernelspec": {
   "display_name": "Python 3.8.12 ('diffusion_mri')",
   "language": "python",
   "name": "python3"
  },
  "language_info": {
   "codemirror_mode": {
    "name": "ipython",
    "version": 3
   },
   "file_extension": ".py",
   "mimetype": "text/x-python",
   "name": "python",
   "nbconvert_exporter": "python",
   "pygments_lexer": "ipython3",
   "version": "3.9.7"
  },
  "orig_nbformat": 4
 },
 "nbformat": 4,
 "nbformat_minor": 2
}
