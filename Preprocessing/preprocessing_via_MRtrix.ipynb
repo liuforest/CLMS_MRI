{
 "cells": [
  {
   "cell_type": "markdown",
   "metadata": {},
   "source": [
    "# MRTrix Preprocessing Pipeline\n",
    "- via: https://andysbrainbook.readthedocs.io/en/latest/MRtrix/MRtrix_Course/MRtrix_04_Preprocessing.html\n",
    "- General approach in this notebook: \n",
    "    - build an initial dataframe containing the subject ids\n",
    "    - apply preprocessing steps, where each step creates a new subdirectory and/or file\n",
    "    - store the filepaths in new columns with"
   ]
  },
  {
   "cell_type": "code",
   "execution_count": 2,
   "metadata": {},
   "outputs": [],
   "source": [
    "import numpy as np\n",
    "import pandas as pd\n",
    "\n",
    "from nipype.interfaces.dcm2nii import Dcm2nii"
   ]
  },
  {
   "cell_type": "code",
   "execution_count": 3,
   "metadata": {},
   "outputs": [],
   "source": [
    "# specify project directory\n",
    "main_dir = '/media/forest/wd_1/data_CLMS/diffusion'"
   ]
  },
  {
   "cell_type": "markdown",
   "metadata": {},
   "source": [
    "## Prep Data for Preprocessing\n",
    "- specified `home_dir` should contain subdirectories, 1 for each subject at one timepoint (m00 or m24)\n",
    "- each subdirectory should contain files with extension `.mif`"
   ]
  },
  {
   "cell_type": "markdown",
   "metadata": {},
   "source": [
    "### dcm to nifti+bval+bvec\n",
    "-  dcm2nii: https://www.nitrc.org/plugins/mwiki/index.php/dcm2nii:MainPage\n",
    "    - prereq: `sudo apt install mricron`\n",
    "    - alternatively, can use the wrapper in nipype\n",
    "        - https://nipype.readthedocs.io/en/latest/api/generated/nipype.interfaces.dcm2nii.html\n",
    "- dcm files for each subject are stored inside the subdirectory: `1_dcm`\n"
   ]
  },
  {
   "cell_type": "code",
   "execution_count": 4,
   "metadata": {},
   "outputs": [
    {
     "data": {
      "text/html": [
       "<div>\n",
       "<style scoped>\n",
       "    .dataframe tbody tr th:only-of-type {\n",
       "        vertical-align: middle;\n",
       "    }\n",
       "\n",
       "    .dataframe tbody tr th {\n",
       "        vertical-align: top;\n",
       "    }\n",
       "\n",
       "    .dataframe thead th {\n",
       "        text-align: right;\n",
       "    }\n",
       "</style>\n",
       "<table border=\"1\" class=\"dataframe\">\n",
       "  <thead>\n",
       "    <tr style=\"text-align: right;\">\n",
       "      <th></th>\n",
       "      <th>subject_names</th>\n",
       "      <th>dcm_path</th>\n",
       "    </tr>\n",
       "  </thead>\n",
       "  <tbody>\n",
       "    <tr>\n",
       "      <th>0</th>\n",
       "      <td>aah_032_m00</td>\n",
       "      <td>/media/forest/wd_1/data_CLMS/diffusion/1.1_dcm...</td>\n",
       "    </tr>\n",
       "    <tr>\n",
       "      <th>1</th>\n",
       "      <td>aaj_034_m00</td>\n",
       "      <td>/media/forest/wd_1/data_CLMS/diffusion/1.1_dcm...</td>\n",
       "    </tr>\n",
       "    <tr>\n",
       "      <th>2</th>\n",
       "      <td>aao_039_m00</td>\n",
       "      <td>/media/forest/wd_1/data_CLMS/diffusion/1.1_dcm...</td>\n",
       "    </tr>\n",
       "    <tr>\n",
       "      <th>3</th>\n",
       "      <td>bbe_055_m00</td>\n",
       "      <td>/media/forest/wd_1/data_CLMS/diffusion/1.1_dcm...</td>\n",
       "    </tr>\n",
       "    <tr>\n",
       "      <th>4</th>\n",
       "      <td>ghi_007_m00</td>\n",
       "      <td>/media/forest/wd_1/data_CLMS/diffusion/1.1_dcm...</td>\n",
       "    </tr>\n",
       "    <tr>\n",
       "      <th>5</th>\n",
       "      <td>ijk_009_m00</td>\n",
       "      <td>/media/forest/wd_1/data_CLMS/diffusion/1.1_dcm...</td>\n",
       "    </tr>\n",
       "    <tr>\n",
       "      <th>6</th>\n",
       "      <td>mno_013_m00</td>\n",
       "      <td>/media/forest/wd_1/data_CLMS/diffusion/1.1_dcm...</td>\n",
       "    </tr>\n",
       "    <tr>\n",
       "      <th>7</th>\n",
       "      <td>pqr_016_m00</td>\n",
       "      <td>/media/forest/wd_1/data_CLMS/diffusion/1.1_dcm...</td>\n",
       "    </tr>\n",
       "    <tr>\n",
       "      <th>8</th>\n",
       "      <td>vwx_022_m00</td>\n",
       "      <td>/media/forest/wd_1/data_CLMS/diffusion/1.1_dcm...</td>\n",
       "    </tr>\n",
       "    <tr>\n",
       "      <th>9</th>\n",
       "      <td>xyz_024_m00</td>\n",
       "      <td>/media/forest/wd_1/data_CLMS/diffusion/1.1_dcm...</td>\n",
       "    </tr>\n",
       "  </tbody>\n",
       "</table>\n",
       "</div>"
      ],
      "text/plain": [
       "  subject_names                                           dcm_path\n",
       "0   aah_032_m00  /media/forest/wd_1/data_CLMS/diffusion/1.1_dcm...\n",
       "1   aaj_034_m00  /media/forest/wd_1/data_CLMS/diffusion/1.1_dcm...\n",
       "2   aao_039_m00  /media/forest/wd_1/data_CLMS/diffusion/1.1_dcm...\n",
       "3   bbe_055_m00  /media/forest/wd_1/data_CLMS/diffusion/1.1_dcm...\n",
       "4   ghi_007_m00  /media/forest/wd_1/data_CLMS/diffusion/1.1_dcm...\n",
       "5   ijk_009_m00  /media/forest/wd_1/data_CLMS/diffusion/1.1_dcm...\n",
       "6   mno_013_m00  /media/forest/wd_1/data_CLMS/diffusion/1.1_dcm...\n",
       "7   pqr_016_m00  /media/forest/wd_1/data_CLMS/diffusion/1.1_dcm...\n",
       "8   vwx_022_m00  /media/forest/wd_1/data_CLMS/diffusion/1.1_dcm...\n",
       "9   xyz_024_m00  /media/forest/wd_1/data_CLMS/diffusion/1.1_dcm..."
      ]
     },
     "execution_count": 4,
     "metadata": {},
     "output_type": "execute_result"
    }
   ],
   "source": [
    "# specify subdirectory storing dcm files\n",
    "dcm_dir = main_dir + '/1.1_dcm'\n",
    "\n",
    "# create new dataframe to store file paths; subj id format: \\w{3}_\\d{3}_m\\d{2}\n",
    "subject_names = !ls $dcm_dir # dcm data should be stored in subdirectories named by subject\n",
    "subject_dcm_dir = !ls -d $dcm_dir/* \n",
    "\n",
    "df_filepaths = pd.DataFrame({'subject_names': subject_names, 'dcm_path': subject_dcm_dir})\n",
    "df_filepaths"
   ]
  },
  {
   "cell_type": "code",
   "execution_count": 5,
   "metadata": {},
   "outputs": [
    {
     "name": "stdout",
     "output_type": "stream",
     "text": [
      "Directory already exists!\n",
      "Directory already exists!\n",
      "Directory already exists!\n",
      "Directory already exists!\n",
      "Directory already exists!\n",
      "Directory already exists!\n",
      "Directory already exists!\n",
      "Directory already exists!\n",
      "Directory already exists!\n",
      "Directory already exists!\n"
     ]
    }
   ],
   "source": [
    "# Process dcm files into nifti\n",
    "\n",
    "# check each row of the subject_dcm_dir column\n",
    "# pass to dcm2nii to convert data to nifti\n",
    "for subject, dcm in zip(df_filepaths['subject_names'], df_filepaths['dcm_path']):\n",
    "\n",
    "    nifti_dir_exists = ![ -d \"{main_dir}/1.2_nifti/{subject}\" ] && echo 'True';\n",
    "    if nifti_dir_exists == ['True']:\n",
    "        print('Directory already exists!')\n",
    "    else:\n",
    "        !echo \"Creating Subdirectory: {main_dir}/1.2_nifti/{subject}\"\n",
    "        !mkdir \"{main_dir}/1.2_nifti/{subject}\"\n",
    "        !echo \"Running dcm2nii...\"\n",
    "        # run command\n",
    "        !dcm2nii -o {main_dir}/1.2_nifti/{subject} {dcm_dir}/{subject}"
   ]
  },
  {
   "cell_type": "code",
   "execution_count": 6,
   "metadata": {},
   "outputs": [
    {
     "name": "stdout",
     "output_type": "stream",
     "text": [
      "Subject name: aah_032_m00...\n",
      "mv: '/media/forest/wd_1/data_CLMS/diffusion/1.2_nifti/aah_032_m00/aah_032_m00_dwi.nii.gz' and '/media/forest/wd_1/data_CLMS/diffusion/1.2_nifti/aah_032_m00/aah_032_m00_dwi.nii.gz' are the same file\n",
      "mv: '/media/forest/wd_1/data_CLMS/diffusion/1.2_nifti/aah_032_m00/aah_032_m00_dwi.bval' and '/media/forest/wd_1/data_CLMS/diffusion/1.2_nifti/aah_032_m00/aah_032_m00_dwi.bval' are the same file\n",
      "mv: '/media/forest/wd_1/data_CLMS/diffusion/1.2_nifti/aah_032_m00/aah_032_m00_dwi.bvec' and '/media/forest/wd_1/data_CLMS/diffusion/1.2_nifti/aah_032_m00/aah_032_m00_dwi.bvec' are the same file\n",
      "Files renamed.\n",
      "Subject name: aaj_034_m00...\n",
      "mv: '/media/forest/wd_1/data_CLMS/diffusion/1.2_nifti/aaj_034_m00/aaj_034_m00_dwi.nii.gz' and '/media/forest/wd_1/data_CLMS/diffusion/1.2_nifti/aaj_034_m00/aaj_034_m00_dwi.nii.gz' are the same file\n",
      "mv: '/media/forest/wd_1/data_CLMS/diffusion/1.2_nifti/aaj_034_m00/aaj_034_m00_dwi.bval' and '/media/forest/wd_1/data_CLMS/diffusion/1.2_nifti/aaj_034_m00/aaj_034_m00_dwi.bval' are the same file\n",
      "mv: '/media/forest/wd_1/data_CLMS/diffusion/1.2_nifti/aaj_034_m00/aaj_034_m00_dwi.bvec' and '/media/forest/wd_1/data_CLMS/diffusion/1.2_nifti/aaj_034_m00/aaj_034_m00_dwi.bvec' are the same file\n",
      "Files renamed.\n",
      "Subject name: aao_039_m00...\n",
      "mv: '/media/forest/wd_1/data_CLMS/diffusion/1.2_nifti/aao_039_m00/aao_039_m00_dwi.nii.gz' and '/media/forest/wd_1/data_CLMS/diffusion/1.2_nifti/aao_039_m00/aao_039_m00_dwi.nii.gz' are the same file\n",
      "mv: '/media/forest/wd_1/data_CLMS/diffusion/1.2_nifti/aao_039_m00/aao_039_m00_dwi.bval' and '/media/forest/wd_1/data_CLMS/diffusion/1.2_nifti/aao_039_m00/aao_039_m00_dwi.bval' are the same file\n",
      "mv: '/media/forest/wd_1/data_CLMS/diffusion/1.2_nifti/aao_039_m00/aao_039_m00_dwi.bvec' and '/media/forest/wd_1/data_CLMS/diffusion/1.2_nifti/aao_039_m00/aao_039_m00_dwi.bvec' are the same file\n",
      "Files renamed.\n",
      "Subject name: bbe_055_m00...\n",
      "mv: '/media/forest/wd_1/data_CLMS/diffusion/1.2_nifti/bbe_055_m00/bbe_055_m00_dwi.nii.gz' and '/media/forest/wd_1/data_CLMS/diffusion/1.2_nifti/bbe_055_m00/bbe_055_m00_dwi.nii.gz' are the same file\n",
      "mv: '/media/forest/wd_1/data_CLMS/diffusion/1.2_nifti/bbe_055_m00/bbe_055_m00_dwi.bval' and '/media/forest/wd_1/data_CLMS/diffusion/1.2_nifti/bbe_055_m00/bbe_055_m00_dwi.bval' are the same file\n",
      "mv: '/media/forest/wd_1/data_CLMS/diffusion/1.2_nifti/bbe_055_m00/bbe_055_m00_dwi.bvec' and '/media/forest/wd_1/data_CLMS/diffusion/1.2_nifti/bbe_055_m00/bbe_055_m00_dwi.bvec' are the same file\n",
      "Files renamed.\n",
      "Subject name: ghi_007_m00...\n",
      "mv: '/media/forest/wd_1/data_CLMS/diffusion/1.2_nifti/ghi_007_m00/ghi_007_m00_dwi.nii.gz' and '/media/forest/wd_1/data_CLMS/diffusion/1.2_nifti/ghi_007_m00/ghi_007_m00_dwi.nii.gz' are the same file\n",
      "mv: '/media/forest/wd_1/data_CLMS/diffusion/1.2_nifti/ghi_007_m00/ghi_007_m00_dwi.bval' and '/media/forest/wd_1/data_CLMS/diffusion/1.2_nifti/ghi_007_m00/ghi_007_m00_dwi.bval' are the same file\n",
      "mv: '/media/forest/wd_1/data_CLMS/diffusion/1.2_nifti/ghi_007_m00/ghi_007_m00_dwi.bvec' and '/media/forest/wd_1/data_CLMS/diffusion/1.2_nifti/ghi_007_m00/ghi_007_m00_dwi.bvec' are the same file\n",
      "Files renamed.\n",
      "Subject name: ijk_009_m00...\n",
      "mv: '/media/forest/wd_1/data_CLMS/diffusion/1.2_nifti/ijk_009_m00/ijk_009_m00_dwi.nii.gz' and '/media/forest/wd_1/data_CLMS/diffusion/1.2_nifti/ijk_009_m00/ijk_009_m00_dwi.nii.gz' are the same file\n",
      "mv: '/media/forest/wd_1/data_CLMS/diffusion/1.2_nifti/ijk_009_m00/ijk_009_m00_dwi.bval' and '/media/forest/wd_1/data_CLMS/diffusion/1.2_nifti/ijk_009_m00/ijk_009_m00_dwi.bval' are the same file\n",
      "mv: '/media/forest/wd_1/data_CLMS/diffusion/1.2_nifti/ijk_009_m00/ijk_009_m00_dwi.bvec' and '/media/forest/wd_1/data_CLMS/diffusion/1.2_nifti/ijk_009_m00/ijk_009_m00_dwi.bvec' are the same file\n",
      "Files renamed.\n",
      "Subject name: mno_013_m00...\n",
      "mv: '/media/forest/wd_1/data_CLMS/diffusion/1.2_nifti/mno_013_m00/mno_013_m00_dwi.nii.gz' and '/media/forest/wd_1/data_CLMS/diffusion/1.2_nifti/mno_013_m00/mno_013_m00_dwi.nii.gz' are the same file\n",
      "mv: '/media/forest/wd_1/data_CLMS/diffusion/1.2_nifti/mno_013_m00/mno_013_m00_dwi.bval' and '/media/forest/wd_1/data_CLMS/diffusion/1.2_nifti/mno_013_m00/mno_013_m00_dwi.bval' are the same file\n",
      "mv: '/media/forest/wd_1/data_CLMS/diffusion/1.2_nifti/mno_013_m00/mno_013_m00_dwi.bvec' and '/media/forest/wd_1/data_CLMS/diffusion/1.2_nifti/mno_013_m00/mno_013_m00_dwi.bvec' are the same file\n",
      "Files renamed.\n",
      "Subject name: pqr_016_m00...\n",
      "mv: '/media/forest/wd_1/data_CLMS/diffusion/1.2_nifti/pqr_016_m00/pqr_016_m00_dwi.nii.gz' and '/media/forest/wd_1/data_CLMS/diffusion/1.2_nifti/pqr_016_m00/pqr_016_m00_dwi.nii.gz' are the same file\n",
      "mv: '/media/forest/wd_1/data_CLMS/diffusion/1.2_nifti/pqr_016_m00/pqr_016_m00_dwi.bval' and '/media/forest/wd_1/data_CLMS/diffusion/1.2_nifti/pqr_016_m00/pqr_016_m00_dwi.bval' are the same file\n",
      "mv: '/media/forest/wd_1/data_CLMS/diffusion/1.2_nifti/pqr_016_m00/pqr_016_m00_dwi.bvec' and '/media/forest/wd_1/data_CLMS/diffusion/1.2_nifti/pqr_016_m00/pqr_016_m00_dwi.bvec' are the same file\n",
      "Files renamed.\n",
      "Subject name: vwx_022_m00...\n",
      "mv: '/media/forest/wd_1/data_CLMS/diffusion/1.2_nifti/vwx_022_m00/vwx_022_m00_dwi.nii.gz' and '/media/forest/wd_1/data_CLMS/diffusion/1.2_nifti/vwx_022_m00/vwx_022_m00_dwi.nii.gz' are the same file\n",
      "mv: '/media/forest/wd_1/data_CLMS/diffusion/1.2_nifti/vwx_022_m00/vwx_022_m00_dwi.bval' and '/media/forest/wd_1/data_CLMS/diffusion/1.2_nifti/vwx_022_m00/vwx_022_m00_dwi.bval' are the same file\n",
      "mv: '/media/forest/wd_1/data_CLMS/diffusion/1.2_nifti/vwx_022_m00/vwx_022_m00_dwi.bvec' and '/media/forest/wd_1/data_CLMS/diffusion/1.2_nifti/vwx_022_m00/vwx_022_m00_dwi.bvec' are the same file\n",
      "Files renamed.\n",
      "Subject name: xyz_024_m00...\n",
      "mv: '/media/forest/wd_1/data_CLMS/diffusion/1.2_nifti/xyz_024_m00/xyz_024_m00_dwi.nii.gz' and '/media/forest/wd_1/data_CLMS/diffusion/1.2_nifti/xyz_024_m00/xyz_024_m00_dwi.nii.gz' are the same file\n",
      "mv: '/media/forest/wd_1/data_CLMS/diffusion/1.2_nifti/xyz_024_m00/xyz_024_m00_dwi.bval' and '/media/forest/wd_1/data_CLMS/diffusion/1.2_nifti/xyz_024_m00/xyz_024_m00_dwi.bval' are the same file\n",
      "mv: '/media/forest/wd_1/data_CLMS/diffusion/1.2_nifti/xyz_024_m00/xyz_024_m00_dwi.bvec' and '/media/forest/wd_1/data_CLMS/diffusion/1.2_nifti/xyz_024_m00/xyz_024_m00_dwi.bvec' are the same file\n",
      "Files renamed.\n"
     ]
    }
   ],
   "source": [
    "# rename nifti, bval, bvec files to subject name only, then add columns to the dataframe \n",
    "for subject in df_filepaths['subject_names']:\n",
    "    print(f'Subject name: {subject}...')\n",
    "    nifti_file = !ls {main_dir}/1.2_nifti/{subject}/*.nii.gz\n",
    "    bval_filepath = !ls {main_dir}/1.2_nifti/{subject}/*.bval\n",
    "    bvec_filepath = !ls {main_dir}/1.2_nifti/{subject}/*.bvec\n",
    "    !mv {nifti_file[0]} {main_dir}/1.2_nifti/{subject}/{subject}_dwi.nii.gz\n",
    "    !mv {bval_filepath[0]} {main_dir}/1.2_nifti/{subject}/{subject}_dwi.bval\n",
    "    !mv {bvec_filepath[0]} {main_dir}/1.2_nifti/{subject}/{subject}_dwi.bvec\n",
    "    print(\"Files renamed.\")"
   ]
  },
  {
   "cell_type": "code",
   "execution_count": 7,
   "metadata": {},
   "outputs": [],
   "source": [
    "# append filepaths to dataframe\n",
    "niftis, bvals, bvecs = [], [], []\n",
    "\n",
    "for subject in df_filepaths['subject_names']:\n",
    "    tmp1 = !ls {main_dir}/1.2_nifti/{subject}/*.nii.gz\n",
    "    tmp2 = !ls {main_dir}/1.2_nifti/{subject}/*.bval\n",
    "    tmp3 = !ls {main_dir}/1.2_nifti/{subject}/*.bvec\n",
    "\n",
    "    niftis.append(tmp1[0])\n",
    "    bvals.append(tmp2[0])\n",
    "    bvecs.append(tmp3[0])"
   ]
  },
  {
   "cell_type": "code",
   "execution_count": 8,
   "metadata": {},
   "outputs": [],
   "source": [
    "df_filepaths['1.2_niftis'] = niftis\n",
    "df_filepaths['1.2_bvals'] = bvals\n",
    "df_filepaths['1.2_bvecs'] = bvecs"
   ]
  },
  {
   "cell_type": "markdown",
   "metadata": {},
   "source": [
    "### Convert files to .mif"
   ]
  },
  {
   "cell_type": "code",
   "execution_count": 9,
   "metadata": {},
   "outputs": [
    {
     "name": "stdout",
     "output_type": "stream",
     "text": [
      "Converting subject: aah_032_m00...\n",
      "Creating Subdirectory: /media/forest/wd_1/data_CLMS/diffusion/1.3_mif/aah_032_m00\n",
      "Running nifti to mif conversion...\n",
      "mrconvert: [100%] uncompressing image \"/media/forest/wd_1/data_CLMS/diffusion/1.2_nifti/aah_032_m00/aah_032_m00_dwi.nii.gz\"\u001b[0K[0K\u001b[?7h\u001b[?7l\u001b[?7l\u001b[?7l\u001b[?7l\u001b[?7l\u001b[?7l\u001b[?7l\u001b[?7l\u001b[?7l\u001b[?7l\u001b[?7l\u001b[?7l\u001b[?7l\u001b[?7l\u001b[?7l\u001b[?7l\u001b[?7l\u001b[?7l\u001b[?7l\u001b[?7l\u001b[?7l\n",
      "mrconvert: [100%] copying from \"/media/for..._m00/aah_032_m00_dwi.nii.gz\" to \"/media/for...032_m00/aah_032_m00_dwi.mif\"\u001b[0K[0K\u001b[?7h\u001b[?7l\u001b[?7l\u001b[?7l\n",
      "Converting subject: aaj_034_m00...\n",
      "Creating Subdirectory: /media/forest/wd_1/data_CLMS/diffusion/1.3_mif/aaj_034_m00\n",
      "Running nifti to mif conversion...\n",
      "mrconvert: [100%] uncompressing image \"/media/forest/wd_1/data_CLMS/diffusion/1.2_nifti/aaj_034_m00/aaj_034_m00_dwi.nii.gz\"\u001b[0K[0K\u001b[?7h\u001b[?7l\u001b[?7l\u001b[?7l\u001b[?7l\u001b[?7l\u001b[?7l\u001b[?7l\u001b[?7l\u001b[?7l\u001b[?7l\u001b[?7l\u001b[?7l\u001b[?7l\u001b[?7l\u001b[?7l\u001b[?7l\u001b[?7l\u001b[?7l\u001b[?7l\u001b[?7l\u001b[?7l\n",
      "mrconvert: [100%] copying from \"/media/for..._m00/aaj_034_m00_dwi.nii.gz\" to \"/media/for...034_m00/aaj_034_m00_dwi.mif\"\u001b[0K[0K\u001b[?7h\u001b[?7l\u001b[?7l\u001b[?7l\n",
      "Converting subject: aao_039_m00...\n",
      "Creating Subdirectory: /media/forest/wd_1/data_CLMS/diffusion/1.3_mif/aao_039_m00\n",
      "Running nifti to mif conversion...\n",
      "mrconvert: [100%] uncompressing image \"/media/forest/wd_1/data_CLMS/diffusion/1.2_nifti/aao_039_m00/aao_039_m00_dwi.nii.gz\"\u001b[0K[0K\u001b[?7h\u001b[?7l\u001b[?7l\u001b[?7l\u001b[?7l\u001b[?7l\u001b[?7l\u001b[?7l\u001b[?7l\u001b[?7l\u001b[?7l\u001b[?7l\u001b[?7l\u001b[?7l\u001b[?7l\u001b[?7l\u001b[?7l\u001b[?7l\u001b[?7l\u001b[?7l\u001b[?7l\u001b[?7l\n",
      "mrconvert: [100%] copying from \"/media/for..._m00/aao_039_m00_dwi.nii.gz\" to \"/media/for...039_m00/aao_039_m00_dwi.mif\"\u001b[0K[0K\u001b[?7h\u001b[?7l\u001b[?7l\u001b[?7l\n",
      "Converting subject: bbe_055_m00...\n",
      "Creating Subdirectory: /media/forest/wd_1/data_CLMS/diffusion/1.3_mif/bbe_055_m00\n",
      "Running nifti to mif conversion...\n",
      "mrconvert: [100%] uncompressing image \"/media/forest/wd_1/data_CLMS/diffusion/1.2_nifti/bbe_055_m00/bbe_055_m00_dwi.nii.gz\"\u001b[0K[0K\u001b[?7h\u001b[?7l\u001b[?7l\u001b[?7l\u001b[?7l\u001b[?7l\u001b[?7l\u001b[?7l\u001b[?7l\u001b[?7l\u001b[?7l\u001b[?7l\u001b[?7l\u001b[?7l\u001b[?7l\u001b[?7l\u001b[?7l\u001b[?7l\u001b[?7l\u001b[?7l\u001b[?7l\u001b[?7l\n",
      "mrconvert: [100%] copying from \"/media/for..._m00/bbe_055_m00_dwi.nii.gz\" to \"/media/for...055_m00/bbe_055_m00_dwi.mif\"\u001b[0K[0K\u001b[?7h\u001b[?7l\u001b[?7l\u001b[?7l\n",
      "Converting subject: ghi_007_m00...\n",
      "Creating Subdirectory: /media/forest/wd_1/data_CLMS/diffusion/1.3_mif/ghi_007_m00\n",
      "Running nifti to mif conversion...\n",
      "mrconvert: [100%] uncompressing image \"/media/forest/wd_1/data_CLMS/diffusion/1.2_nifti/ghi_007_m00/ghi_007_m00_dwi.nii.gz\"\u001b[0K[0K\u001b[?7h\u001b[?7l\u001b[?7l\u001b[?7l\u001b[?7l\u001b[?7l\u001b[?7l\u001b[?7l\u001b[?7l\u001b[?7l\u001b[?7l\u001b[?7l\u001b[?7l\u001b[?7l\u001b[?7l\u001b[?7l\u001b[?7l\u001b[?7l\u001b[?7l\u001b[?7l\u001b[?7l\u001b[?7l\u001b[?7l\n",
      "mrconvert: [100%] copying from \"/media/for..._m00/ghi_007_m00_dwi.nii.gz\" to \"/media/for...007_m00/ghi_007_m00_dwi.mif\"\u001b[0K[0K\u001b[?7h\u001b[?7l\u001b[?7l\u001b[?7l\n",
      "Converting subject: ijk_009_m00...\n",
      "Creating Subdirectory: /media/forest/wd_1/data_CLMS/diffusion/1.3_mif/ijk_009_m00\n",
      "Running nifti to mif conversion...\n",
      "mrconvert: [100%] uncompressing image \"/media/forest/wd_1/data_CLMS/diffusion/1.2_nifti/ijk_009_m00/ijk_009_m00_dwi.nii.gz\"\u001b[0K[0K\u001b[?7h\u001b[?7l\u001b[?7l\u001b[?7l\u001b[?7l\u001b[?7l\u001b[?7l\u001b[?7l\u001b[?7l\u001b[?7l\u001b[?7l\u001b[?7l\u001b[?7l\u001b[?7l\u001b[?7l\u001b[?7l\u001b[?7l\u001b[?7l\u001b[?7l\u001b[?7l\u001b[?7l\u001b[?7l\n",
      "mrconvert: [100%] copying from \"/media/for..._m00/ijk_009_m00_dwi.nii.gz\" to \"/media/for...009_m00/ijk_009_m00_dwi.mif\"\u001b[0K[0K\u001b[?7h\u001b[?7l\u001b[?7l\u001b[?7l\n",
      "Converting subject: mno_013_m00...\n",
      "Creating Subdirectory: /media/forest/wd_1/data_CLMS/diffusion/1.3_mif/mno_013_m00\n",
      "Running nifti to mif conversion...\n",
      "mrconvert: [100%] uncompressing image \"/media/forest/wd_1/data_CLMS/diffusion/1.2_nifti/mno_013_m00/mno_013_m00_dwi.nii.gz\"\u001b[0K[0K\u001b[?7h\u001b[?7l\u001b[?7l\u001b[?7l\u001b[?7l\u001b[?7l\u001b[?7l\u001b[?7l\u001b[?7l\u001b[?7l\u001b[?7l\u001b[?7l\u001b[?7l\u001b[?7l\u001b[?7l\u001b[?7l\u001b[?7l\u001b[?7l\u001b[?7l\u001b[?7l\u001b[?7l\u001b[?7l\n",
      "mrconvert: [100%] copying from \"/media/for..._m00/mno_013_m00_dwi.nii.gz\" to \"/media/for...013_m00/mno_013_m00_dwi.mif\"\u001b[0K[0K\u001b[?7h\u001b[?7l\u001b[?7l\u001b[?7l\n",
      "Converting subject: pqr_016_m00...\n",
      "Creating Subdirectory: /media/forest/wd_1/data_CLMS/diffusion/1.3_mif/pqr_016_m00\n",
      "Running nifti to mif conversion...\n",
      "mrconvert: [100%] uncompressing image \"/media/forest/wd_1/data_CLMS/diffusion/1.2_nifti/pqr_016_m00/pqr_016_m00_dwi.nii.gz\"\u001b[0K[0K\u001b[?7h\u001b[?7l\u001b[?7l\u001b[?7l\u001b[?7l\u001b[?7l\u001b[?7l\u001b[?7l\u001b[?7l\u001b[?7l\u001b[?7l\u001b[?7l\u001b[?7l\u001b[?7l\u001b[?7l\u001b[?7l\u001b[?7l\u001b[?7l\u001b[?7l\u001b[?7l\u001b[?7l\u001b[?7l\u001b[?7l\n",
      "mrconvert: [100%] copying from \"/media/for..._m00/pqr_016_m00_dwi.nii.gz\" to \"/media/for...016_m00/pqr_016_m00_dwi.mif\"\u001b[0K[0K\u001b[?7h\u001b[?7l\u001b[?7l\u001b[?7l\n",
      "Converting subject: vwx_022_m00...\n",
      "Creating Subdirectory: /media/forest/wd_1/data_CLMS/diffusion/1.3_mif/vwx_022_m00\n",
      "Running nifti to mif conversion...\n",
      "mrconvert: [100%] uncompressing image \"/media/forest/wd_1/data_CLMS/diffusion/1.2_nifti/vwx_022_m00/vwx_022_m00_dwi.nii.gz\"\u001b[0K[0K\u001b[?7h\u001b[?7l\u001b[?7l\u001b[?7l\u001b[?7l\u001b[?7l\u001b[?7l\u001b[?7l\u001b[?7l\u001b[?7l\u001b[?7l\u001b[?7l\u001b[?7l\u001b[?7l\u001b[?7l\u001b[?7l\u001b[?7l\u001b[?7l\u001b[?7l\u001b[?7l\u001b[?7l\u001b[?7l\n",
      "mrconvert: [100%] copying from \"/media/for..._m00/vwx_022_m00_dwi.nii.gz\" to \"/media/for...022_m00/vwx_022_m00_dwi.mif\"\u001b[0K[0K\u001b[?7h\u001b[?7l\u001b[?7l\u001b[?7l\n",
      "Converting subject: xyz_024_m00...\n",
      "Creating Subdirectory: /media/forest/wd_1/data_CLMS/diffusion/1.3_mif/xyz_024_m00\n",
      "Running nifti to mif conversion...\n",
      "mrconvert: [100%] uncompressing image \"/media/forest/wd_1/data_CLMS/diffusion/1.2_nifti/xyz_024_m00/xyz_024_m00_dwi.nii.gz\"\u001b[0K[0K\u001b[?7h\u001b[?7l\u001b[?7l\u001b[?7l\u001b[?7l\u001b[?7l\u001b[?7l\u001b[?7l\u001b[?7l\u001b[?7l\u001b[?7l\u001b[?7l\u001b[?7l\u001b[?7l\u001b[?7l\u001b[?7l\u001b[?7l\u001b[?7l\u001b[?7l\u001b[?7l\u001b[?7l\n",
      "mrconvert: [100%] copying from \"/media/for..._m00/xyz_024_m00_dwi.nii.gz\" to \"/media/for...024_m00/xyz_024_m00_dwi.mif\"\u001b[0K[0K\u001b[?7h\u001b[?7l\u001b[?7l\u001b[?7l\n"
     ]
    }
   ],
   "source": [
    "for subject, nifti, bval, bvec in zip(df_filepaths['subject_names'], df_filepaths['1.2_niftis'], df_filepaths['1.2_bvals'], df_filepaths['1.2_bvecs']):\n",
    "    print(f'Converting subject: {subject}...')\n",
    "\n",
    "    mif_dir_exists = ![ -d \"{main_dir}/1.3_mif/{subject}\" ] && echo 'True';\n",
    "    if mif_dir_exists == ['True']:\n",
    "        print('Directory already exists!')\n",
    "    else:\n",
    "        !echo \"Creating Subdirectory: {main_dir}/1.3_mif/{subject}\"\n",
    "        !mkdir \"{main_dir}/1.3_mif/{subject}\"\n",
    "        !echo \"Running nifti to mif conversion...\"\n",
    "        # run command\n",
    "        !mrconvert {nifti} {main_dir}/1.3_mif/{subject}/{subject}_dwi.mif -fslgrad {bvec} {bval}"
   ]
  },
  {
   "cell_type": "code",
   "execution_count": 15,
   "metadata": {},
   "outputs": [],
   "source": [
    "# append .mif files to the dataframe\n",
    "mifs = []\n",
    "\n",
    "for subject in df_filepaths['subject_names']:\n",
    "    tmp = !ls {main_dir}/1.3_mif/{subject}/*.mif\n",
    "    mifs.append(tmp)\n",
    "\n",
    "df_filepaths['1.3_mif'] = mifs"
   ]
  },
  {
   "cell_type": "markdown",
   "metadata": {},
   "source": [
    "### Validation & QC"
   ]
  },
  {
   "cell_type": "code",
   "execution_count": 36,
   "metadata": {},
   "outputs": [
    {
     "name": "stdout",
     "output_type": "stream",
     "text": [
      "Validation for aah_032_m00...\n",
      "Number of volumes in mif:\n",
      "140\n",
      "Number of columns in bval:\n",
      "140\n",
      "Number of columns in bvec:\n",
      "140\n",
      "\n",
      "Validation for aaj_034_m00...\n",
      "Number of volumes in mif:\n",
      "140\n",
      "Number of columns in bval:\n",
      "140\n",
      "Number of columns in bvec:\n",
      "140\n",
      "\n",
      "Validation for aao_039_m00...\n",
      "Number of volumes in mif:\n",
      "140\n",
      "Number of columns in bval:\n",
      "140\n",
      "Number of columns in bvec:\n",
      "140\n",
      "\n",
      "Validation for bbe_055_m00...\n",
      "Number of volumes in mif:\n",
      "140\n",
      "Number of columns in bval:\n",
      "140\n",
      "Number of columns in bvec:\n",
      "140\n",
      "\n",
      "Validation for ghi_007_m00...\n",
      "Number of volumes in mif:\n",
      "140\n",
      "Number of columns in bval:\n",
      "140\n",
      "Number of columns in bvec:\n",
      "140\n",
      "\n",
      "Validation for ijk_009_m00...\n",
      "Number of volumes in mif:\n",
      "140\n",
      "Number of columns in bval:\n",
      "140\n",
      "Number of columns in bvec:\n",
      "140\n",
      "\n",
      "Validation for mno_013_m00...\n",
      "Number of volumes in mif:\n",
      "140\n",
      "Number of columns in bval:\n",
      "140\n",
      "Number of columns in bvec:\n",
      "140\n",
      "\n",
      "Validation for pqr_016_m00...\n",
      "Number of volumes in mif:\n",
      "140\n",
      "Number of columns in bval:\n",
      "140\n",
      "Number of columns in bvec:\n",
      "140\n",
      "\n",
      "Validation for vwx_022_m00...\n",
      "Number of volumes in mif:\n",
      "140\n",
      "Number of columns in bval:\n",
      "140\n",
      "Number of columns in bvec:\n",
      "140\n",
      "\n",
      "Validation for xyz_024_m00...\n",
      "Number of volumes in mif:\n",
      "140\n",
      "Number of columns in bval:\n",
      "140\n",
      "Number of columns in bvec:\n",
      "140\n",
      "\n"
     ]
    }
   ],
   "source": [
    "# Ensure number of volumes matches with bval/bvec for all subjects\n",
    "for subject, mif, bval, bvec in zip(df_filepaths['subject_names'], df_filepaths['1.3_mif'], df_filepaths['1.2_bvals'], df_filepaths['1.2_bvecs']):\n",
    "    print(f'Validation for {subject}...')\n",
    "    !echo 'Number of volumes in mif:'\n",
    "    !mrinfo -size {mif[0]} | awk '{{print $$4}}'\n",
    "    !echo 'Number of columns in bval:'\n",
    "    !awk '{{print NF; exit}}' {bval}\n",
    "    !echo 'Number of columns in bvec:'\n",
    "    !awk '{{print NF; exit}}' {bvec}\n",
    "    print()\n",
    "\n",
    "    # write if statement to print out error indication if they don't match\n"
   ]
  },
  {
   "cell_type": "markdown",
   "metadata": {},
   "source": []
  },
  {
   "cell_type": "code",
   "execution_count": null,
   "metadata": {},
   "outputs": [],
   "source": [
    "# visual inspection--load data using ipywidgets & matplotlib"
   ]
  },
  {
   "cell_type": "code",
   "execution_count": null,
   "metadata": {},
   "outputs": [],
   "source": []
  },
  {
   "cell_type": "markdown",
   "metadata": {},
   "source": [
    "## Preprocessing"
   ]
  },
  {
   "cell_type": "markdown",
   "metadata": {},
   "source": [
    "### Denoising"
   ]
  },
  {
   "cell_type": "code",
   "execution_count": null,
   "metadata": {},
   "outputs": [],
   "source": []
  },
  {
   "cell_type": "code",
   "execution_count": null,
   "metadata": {},
   "outputs": [],
   "source": []
  },
  {
   "cell_type": "code",
   "execution_count": null,
   "metadata": {},
   "outputs": [],
   "source": []
  },
  {
   "cell_type": "markdown",
   "metadata": {},
   "source": [
    "### Remove Gibbs Artifacts"
   ]
  },
  {
   "cell_type": "code",
   "execution_count": null,
   "metadata": {},
   "outputs": [],
   "source": []
  },
  {
   "cell_type": "code",
   "execution_count": null,
   "metadata": {},
   "outputs": [],
   "source": []
  },
  {
   "cell_type": "code",
   "execution_count": null,
   "metadata": {},
   "outputs": [],
   "source": [
    "### Final "
   ]
  }
 ],
 "metadata": {
  "interpreter": {
   "hash": "b96aa57241b80cdbb1e771fbd3e4b0885d33a16be11a66dca4b3a541a9bd08b2"
  },
  "kernelspec": {
   "display_name": "Python 3.8.12 ('diffusion_mri')",
   "language": "python",
   "name": "python3"
  },
  "language_info": {
   "codemirror_mode": {
    "name": "ipython",
    "version": 3
   },
   "file_extension": ".py",
   "mimetype": "text/x-python",
   "name": "python",
   "nbconvert_exporter": "python",
   "pygments_lexer": "ipython3",
   "version": "3.9.7"
  },
  "orig_nbformat": 4
 },
 "nbformat": 4,
 "nbformat_minor": 2
}
