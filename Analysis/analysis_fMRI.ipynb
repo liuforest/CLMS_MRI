{
 "cells": [
  {
   "cell_type": "markdown",
   "metadata": {},
   "source": [
    "# Set up: Load Libraries, Images, Atlases, Patient Data"
   ]
  },
  {
   "cell_type": "code",
   "execution_count": 1,
   "metadata": {},
   "outputs": [],
   "source": [
    "# import required packages\n",
    "import pandas as pd\n",
    "import numpy as np\n",
    "import matplotlib.pyplot as plt\n",
    "import seaborn as sns\n",
    "import scipy as sk\n",
    "\n",
    "import nibabel as nib\n",
    "from sklearn.preprocessing import StandardScaler\n",
    "from sklearn.cluster import KMeans\n",
    "from sklearn.decomposition import PCA\n"
   ]
  },
  {
   "cell_type": "code",
   "execution_count": 2,
   "metadata": {},
   "outputs": [],
   "source": [
    "# load packag"
   ]
  },
  {
   "cell_type": "code",
   "execution_count": 3,
   "metadata": {},
   "outputs": [],
   "source": [
    "# load csv file containing neuropsych data\n",
    "df_neuropsych = pd.read_csv('/home/forest/OneDrive/CLMS_OTHER_DATA/CLMS_Neuropsych_rev1_20220404.csv')"
   ]
  },
  {
   "cell_type": "code",
   "execution_count": 4,
   "metadata": {},
   "outputs": [
    {
     "data": {
      "text/plain": [
       "Index(['Unnamed: 0', 'CASE$', 'COG_DATE', 'SUBJECT_ID$', 'SEX$', 'BIRTH_DATE',\n",
       "       'GROUP$', 'MS_TYPE$', 'ONSET_DATE', 'CLIN_DATE',\n",
       "       ...\n",
       "       'PAS2_Z_SD', 'PAS2_Z_SCO', 'EDSS', 'FSS_VISUAL', 'FSS_BRSTEM',\n",
       "       'FSS_PYRAMID', 'FSS_CEREBELL', 'FSS_SENSORY', 'FSS_BOWBLAD',\n",
       "       'FSS_CEREBRAL'],\n",
       "      dtype='object', length=111)"
      ]
     },
     "execution_count": 4,
     "metadata": {},
     "output_type": "execute_result"
    }
   ],
   "source": [
    "df_neuropsych.columns"
   ]
  },
  {
   "cell_type": "code",
   "execution_count": 5,
   "metadata": {},
   "outputs": [
    {
     "data": {
      "text/plain": [
       "(44, 111)"
      ]
     },
     "execution_count": 5,
     "metadata": {},
     "output_type": "execute_result"
    }
   ],
   "source": [
    "df_neuropsych.shape"
   ]
  },
  {
   "cell_type": "code",
   "execution_count": 6,
   "metadata": {},
   "outputs": [],
   "source": [
    "# load freesurfer cortical thickness data\n"
   ]
  },
  {
   "cell_type": "code",
   "execution_count": 7,
   "metadata": {},
   "outputs": [],
   "source": [
    "# load preprocessed fMRI data (final nifti files, filepath only)"
   ]
  },
  {
   "cell_type": "code",
   "execution_count": 8,
   "metadata": {},
   "outputs": [],
   "source": [
    "# combine everything into one dataframe"
   ]
  },
  {
   "cell_type": "code",
   "execution_count": 9,
   "metadata": {},
   "outputs": [],
   "source": [
    "# load regions of interest from atlas"
   ]
  },
  {
   "cell_type": "code",
   "execution_count": 10,
   "metadata": {},
   "outputs": [
    {
     "data": {
      "text/html": [
       "<div>\n",
       "<style scoped>\n",
       "    .dataframe tbody tr th:only-of-type {\n",
       "        vertical-align: middle;\n",
       "    }\n",
       "\n",
       "    .dataframe tbody tr th {\n",
       "        vertical-align: top;\n",
       "    }\n",
       "\n",
       "    .dataframe thead th {\n",
       "        text-align: right;\n",
       "    }\n",
       "</style>\n",
       "<table border=\"1\" class=\"dataframe\">\n",
       "  <thead>\n",
       "    <tr style=\"text-align: right;\">\n",
       "      <th></th>\n",
       "      <th>Unnamed: 0</th>\n",
       "      <th>CASE$</th>\n",
       "      <th>COG_DATE</th>\n",
       "      <th>SUBJECT_ID$</th>\n",
       "      <th>SEX$</th>\n",
       "      <th>BIRTH_DATE</th>\n",
       "      <th>GROUP$</th>\n",
       "      <th>MS_TYPE$</th>\n",
       "      <th>ONSET_DATE</th>\n",
       "      <th>CLIN_DATE</th>\n",
       "      <th>BIRTHDATE</th>\n",
       "      <th>AGE_YRS</th>\n",
       "      <th>EDU_YRS</th>\n",
       "      <th>HEIGHT_CM</th>\n",
       "      <th>WEIGHT_KG</th>\n",
       "      <th>HANDED$</th>\n",
       "      <th>DEGREE$</th>\n",
       "      <th>HAND_SCORE</th>\n",
       "      <th>DOM_SEQ_TOT1</th>\n",
       "      <th>DOM_SEQ_ERR1</th>\n",
       "      <th>DOM_SEQ_COR1</th>\n",
       "      <th>NON_SEQ_TOT1</th>\n",
       "      <th>NON_SEQ_ERR1</th>\n",
       "      <th>NON_SEQ_COR1</th>\n",
       "      <th>BI_IN_TOT1</th>\n",
       "      <th>BI_IN_TOT1.1</th>\n",
       "      <th>BI_IN_COR1</th>\n",
       "      <th>BI_OUT_TOT1</th>\n",
       "      <th>BI_OUT_TOT1.1</th>\n",
       "      <th>BI_OUT_COR1</th>\n",
       "      <th>NON_SEQ_TOT2</th>\n",
       "      <th>NON_SEQ_ERR2</th>\n",
       "      <th>NON_SEQ_COR2</th>\n",
       "      <th>DOM_SEQ_TOT2</th>\n",
       "      <th>DOM_SEQ_ERR2</th>\n",
       "      <th>DOM_SEQ_COR2</th>\n",
       "      <th>BI_IN_TOT2</th>\n",
       "      <th>BI_IN_ERR2</th>\n",
       "      <th>BI_IN_COR2</th>\n",
       "      <th>BI_OUT_TOT2</th>\n",
       "      <th>BI_OUT_ERR2</th>\n",
       "      <th>BI_OUT_COR2</th>\n",
       "      <th>SING_RT_TOT</th>\n",
       "      <th>SING_LT_TOT</th>\n",
       "      <th>LT_MEA_COR</th>\n",
       "      <th>LT_TOT_ERR</th>\n",
       "      <th>RT_MEA_COR</th>\n",
       "      <th>RT_TOT_ERR</th>\n",
       "      <th>IN_MEA_COR</th>\n",
       "      <th>OUT_MEA_COR</th>\n",
       "      <th>SDM_COR</th>\n",
       "      <th>SDM_Z_MEA</th>\n",
       "      <th>SDM_Z_SD</th>\n",
       "      <th>SDM_Z_SCO</th>\n",
       "      <th>DSC_TOT_COR</th>\n",
       "      <th>DSC_TOT_ERR</th>\n",
       "      <th>DSC_TOT_SCO</th>\n",
       "      <th>DSC_SS</th>\n",
       "      <th>SYS_TOT_COR</th>\n",
       "      <th>SYS_TOT_ERR</th>\n",
       "      <th>SYS_TOT_SCO</th>\n",
       "      <th>SYS_SS</th>\n",
       "      <th>DSC_SYS_SS</th>\n",
       "      <th>PSI_SCO</th>\n",
       "      <th>PSI_PCT</th>\n",
       "      <th>MFIS_TEST</th>\n",
       "      <th>MFIS_TOT</th>\n",
       "      <th>MFIS_PHY</th>\n",
       "      <th>MFIS_COG</th>\n",
       "      <th>MFIS_PSY</th>\n",
       "      <th>MAR_STATUS$</th>\n",
       "      <th>OCCUPATION$</th>\n",
       "      <th>BDI_TOT_SCO</th>\n",
       "      <th>BDI_CLASS$</th>\n",
       "      <th>TOL_COR_SCO</th>\n",
       "      <th>TOL_MOV_SCO</th>\n",
       "      <th>TOL_INI_TIM</th>\n",
       "      <th>TOL_EXE_TIM</th>\n",
       "      <th>TOL_TOT_TIM</th>\n",
       "      <th>TOL_TIM_VIO</th>\n",
       "      <th>TOL_TY1_VIO</th>\n",
       "      <th>TOL_TY2_VIO</th>\n",
       "      <th>TOL_TOT_VIO</th>\n",
       "      <th>TOL_STB_VIO</th>\n",
       "      <th>TOL_MOV_SS</th>\n",
       "      <th>TOL_COR_SS</th>\n",
       "      <th>TOL_RUV_SS</th>\n",
       "      <th>TOL_TIV_SS</th>\n",
       "      <th>TOL_INT_SS</th>\n",
       "      <th>TOL_EXT_SS</th>\n",
       "      <th>TOL_PRS_SS</th>\n",
       "      <th>AVERAGE</th>\n",
       "      <th>PAS_FORM$</th>\n",
       "      <th>PAS3_TOT_COR</th>\n",
       "      <th>PAS3_PCT_COR</th>\n",
       "      <th>PAS3_Z_MEA</th>\n",
       "      <th>PAS3_Z_SD</th>\n",
       "      <th>PAS3_Z_SCO</th>\n",
       "      <th>PAS2_TOT_COR</th>\n",
       "      <th>PAS2_PCT_COR</th>\n",
       "      <th>PAS2_Z_MEA</th>\n",
       "      <th>PAS2_Z_SD</th>\n",
       "      <th>PAS2_Z_SCO</th>\n",
       "      <th>EDSS</th>\n",
       "      <th>FSS_VISUAL</th>\n",
       "      <th>FSS_BRSTEM</th>\n",
       "      <th>FSS_PYRAMID</th>\n",
       "      <th>FSS_CEREBELL</th>\n",
       "      <th>FSS_SENSORY</th>\n",
       "      <th>FSS_BOWBLAD</th>\n",
       "      <th>FSS_CEREBRAL</th>\n",
       "    </tr>\n",
       "  </thead>\n",
       "  <tbody>\n",
       "    <tr>\n",
       "      <th>0</th>\n",
       "      <td>0</td>\n",
       "      <td>ABC-001</td>\n",
       "      <td>2015-11-04 0:00</td>\n",
       "      <td>abc_001</td>\n",
       "      <td>Male</td>\n",
       "      <td>1967-03-08 0:00</td>\n",
       "      <td>MS</td>\n",
       "      <td>SPMS</td>\n",
       "      <td>2017-08-01 0:00</td>\n",
       "      <td>2015-11-04 0:00</td>\n",
       "      <td>1967-03-08 0:00</td>\n",
       "      <td>48.659822</td>\n",
       "      <td>14</td>\n",
       "      <td>177</td>\n",
       "      <td>79</td>\n",
       "      <td>Left</td>\n",
       "      <td>Strongly</td>\n",
       "      <td>77</td>\n",
       "      <td>145</td>\n",
       "      <td>1</td>\n",
       "      <td>144</td>\n",
       "      <td>106</td>\n",
       "      <td>5</td>\n",
       "      <td>101</td>\n",
       "      <td>96</td>\n",
       "      <td>69</td>\n",
       "      <td>27</td>\n",
       "      <td>28</td>\n",
       "      <td>3</td>\n",
       "      <td>25</td>\n",
       "      <td>115</td>\n",
       "      <td>1</td>\n",
       "      <td>114</td>\n",
       "      <td>77</td>\n",
       "      <td>0</td>\n",
       "      <td>77</td>\n",
       "      <td>91</td>\n",
       "      <td>56</td>\n",
       "      <td>35</td>\n",
       "      <td>42</td>\n",
       "      <td>3</td>\n",
       "      <td>39</td>\n",
       "      <td>214</td>\n",
       "      <td>199</td>\n",
       "      <td>111.0</td>\n",
       "      <td>1</td>\n",
       "      <td>110.5</td>\n",
       "      <td>6</td>\n",
       "      <td>31.0</td>\n",
       "      <td>32.0</td>\n",
       "      <td>56</td>\n",
       "      <td>58.31</td>\n",
       "      <td>8.67</td>\n",
       "      <td>-0.266436</td>\n",
       "      <td>68</td>\n",
       "      <td>0</td>\n",
       "      <td>68</td>\n",
       "      <td>10</td>\n",
       "      <td>29</td>\n",
       "      <td>1</td>\n",
       "      <td>28</td>\n",
       "      <td>9</td>\n",
       "      <td>19</td>\n",
       "      <td>96</td>\n",
       "      <td>39</td>\n",
       "      <td>1</td>\n",
       "      <td>41</td>\n",
       "      <td>27</td>\n",
       "      <td>11</td>\n",
       "      <td>3</td>\n",
       "      <td>Engaged</td>\n",
       "      <td>Fire Chief</td>\n",
       "      <td>14</td>\n",
       "      <td>Mild</td>\n",
       "      <td>5</td>\n",
       "      <td>30</td>\n",
       "      <td>144</td>\n",
       "      <td>215</td>\n",
       "      <td>359</td>\n",
       "      <td>2</td>\n",
       "      <td>0</td>\n",
       "      <td>0</td>\n",
       "      <td>0</td>\n",
       "      <td>0</td>\n",
       "      <td>100</td>\n",
       "      <td>106</td>\n",
       "      <td>104</td>\n",
       "      <td>78</td>\n",
       "      <td>134</td>\n",
       "      <td>100</td>\n",
       "      <td>90</td>\n",
       "      <td>101.714286</td>\n",
       "      <td>A</td>\n",
       "      <td>47</td>\n",
       "      <td>78.333333</td>\n",
       "      <td>50.4</td>\n",
       "      <td>9.7</td>\n",
       "      <td>-0.350515</td>\n",
       "      <td>37.0</td>\n",
       "      <td>61.666667</td>\n",
       "      <td>39.4</td>\n",
       "      <td>10.2</td>\n",
       "      <td>-0.235294</td>\n",
       "      <td>3.0</td>\n",
       "      <td>1.0</td>\n",
       "      <td>0.0</td>\n",
       "      <td>2.0</td>\n",
       "      <td>1</td>\n",
       "      <td>2.0</td>\n",
       "      <td>1.0</td>\n",
       "      <td>0.0</td>\n",
       "    </tr>\n",
       "    <tr>\n",
       "      <th>1</th>\n",
       "      <td>1</td>\n",
       "      <td>BCD-002</td>\n",
       "      <td>2015-11-23 0:00</td>\n",
       "      <td>bcd_002</td>\n",
       "      <td>Female</td>\n",
       "      <td>1969-10-09 0:00</td>\n",
       "      <td>MS</td>\n",
       "      <td>SPMS</td>\n",
       "      <td>1995-07-01 0:00</td>\n",
       "      <td>2015-11-23 0:00</td>\n",
       "      <td>1969-10-09 0:00</td>\n",
       "      <td>46.121834</td>\n",
       "      <td>16</td>\n",
       "      <td>152</td>\n",
       "      <td>62</td>\n",
       "      <td>Right</td>\n",
       "      <td>Strongly</td>\n",
       "      <td>18</td>\n",
       "      <td>128</td>\n",
       "      <td>5</td>\n",
       "      <td>123</td>\n",
       "      <td>118</td>\n",
       "      <td>0</td>\n",
       "      <td>118</td>\n",
       "      <td>87</td>\n",
       "      <td>3</td>\n",
       "      <td>84</td>\n",
       "      <td>29</td>\n",
       "      <td>0</td>\n",
       "      <td>29</td>\n",
       "      <td>122</td>\n",
       "      <td>0</td>\n",
       "      <td>122</td>\n",
       "      <td>136</td>\n",
       "      <td>0</td>\n",
       "      <td>136</td>\n",
       "      <td>88</td>\n",
       "      <td>7</td>\n",
       "      <td>81</td>\n",
       "      <td>33</td>\n",
       "      <td>1</td>\n",
       "      <td>32</td>\n",
       "      <td>89</td>\n",
       "      <td>79</td>\n",
       "      <td>120.0</td>\n",
       "      <td>0</td>\n",
       "      <td>132.0</td>\n",
       "      <td>5</td>\n",
       "      <td>82.5</td>\n",
       "      <td>30.5</td>\n",
       "      <td>68</td>\n",
       "      <td>58.31</td>\n",
       "      <td>8.67</td>\n",
       "      <td>1.117647</td>\n",
       "      <td>88</td>\n",
       "      <td>0</td>\n",
       "      <td>88</td>\n",
       "      <td>14</td>\n",
       "      <td>48</td>\n",
       "      <td>0</td>\n",
       "      <td>48</td>\n",
       "      <td>17</td>\n",
       "      <td>31</td>\n",
       "      <td>131</td>\n",
       "      <td>98</td>\n",
       "      <td>1</td>\n",
       "      <td>41</td>\n",
       "      <td>25</td>\n",
       "      <td>11</td>\n",
       "      <td>5</td>\n",
       "      <td>Married</td>\n",
       "      <td>Housemaker</td>\n",
       "      <td>6</td>\n",
       "      <td>Minimal</td>\n",
       "      <td>4</td>\n",
       "      <td>25</td>\n",
       "      <td>25</td>\n",
       "      <td>199</td>\n",
       "      <td>224</td>\n",
       "      <td>1</td>\n",
       "      <td>0</td>\n",
       "      <td>0</td>\n",
       "      <td>0</td>\n",
       "      <td>0</td>\n",
       "      <td>106</td>\n",
       "      <td>100</td>\n",
       "      <td>104</td>\n",
       "      <td>92</td>\n",
       "      <td>92</td>\n",
       "      <td>102</td>\n",
       "      <td>104</td>\n",
       "      <td>100.000000</td>\n",
       "      <td>A</td>\n",
       "      <td>54</td>\n",
       "      <td>90.000000</td>\n",
       "      <td>50.4</td>\n",
       "      <td>9.7</td>\n",
       "      <td>0.371134</td>\n",
       "      <td>33.0</td>\n",
       "      <td>55.000000</td>\n",
       "      <td>39.4</td>\n",
       "      <td>10.2</td>\n",
       "      <td>-0.627451</td>\n",
       "      <td>5.5</td>\n",
       "      <td>1.0</td>\n",
       "      <td>1.0</td>\n",
       "      <td>4.0</td>\n",
       "      <td>3</td>\n",
       "      <td>3.0</td>\n",
       "      <td>2.0</td>\n",
       "      <td>1.0</td>\n",
       "    </tr>\n",
       "    <tr>\n",
       "      <th>2</th>\n",
       "      <td>2</td>\n",
       "      <td>CDE-003</td>\n",
       "      <td>2015-11-30 0:00</td>\n",
       "      <td>cde_003</td>\n",
       "      <td>Female</td>\n",
       "      <td>1977-09-12 0:00</td>\n",
       "      <td>MS</td>\n",
       "      <td>RRMS</td>\n",
       "      <td>2009-07-01 0:00</td>\n",
       "      <td>2015-11-30 0:00</td>\n",
       "      <td>1977-09-12 0:00</td>\n",
       "      <td>38.214921</td>\n",
       "      <td>15</td>\n",
       "      <td>165</td>\n",
       "      <td>102</td>\n",
       "      <td>Right</td>\n",
       "      <td>Strongly</td>\n",
       "      <td>18</td>\n",
       "      <td>141</td>\n",
       "      <td>6</td>\n",
       "      <td>135</td>\n",
       "      <td>119</td>\n",
       "      <td>1</td>\n",
       "      <td>118</td>\n",
       "      <td>101</td>\n",
       "      <td>9</td>\n",
       "      <td>92</td>\n",
       "      <td>29</td>\n",
       "      <td>2</td>\n",
       "      <td>27</td>\n",
       "      <td>108</td>\n",
       "      <td>0</td>\n",
       "      <td>108</td>\n",
       "      <td>144</td>\n",
       "      <td>0</td>\n",
       "      <td>144</td>\n",
       "      <td>108</td>\n",
       "      <td>21</td>\n",
       "      <td>87</td>\n",
       "      <td>42</td>\n",
       "      <td>4</td>\n",
       "      <td>38</td>\n",
       "      <td>93</td>\n",
       "      <td>86</td>\n",
       "      <td>113.5</td>\n",
       "      <td>1</td>\n",
       "      <td>142.5</td>\n",
       "      <td>6</td>\n",
       "      <td>89.5</td>\n",
       "      <td>32.5</td>\n",
       "      <td>61</td>\n",
       "      <td>60.95</td>\n",
       "      <td>11.32</td>\n",
       "      <td>0.004417</td>\n",
       "      <td>84</td>\n",
       "      <td>0</td>\n",
       "      <td>84</td>\n",
       "      <td>12</td>\n",
       "      <td>45</td>\n",
       "      <td>0</td>\n",
       "      <td>45</td>\n",
       "      <td>15</td>\n",
       "      <td>27</td>\n",
       "      <td>120</td>\n",
       "      <td>91</td>\n",
       "      <td>1</td>\n",
       "      <td>21</td>\n",
       "      <td>13</td>\n",
       "      <td>7</td>\n",
       "      <td>1</td>\n",
       "      <td>Blank</td>\n",
       "      <td>Blank</td>\n",
       "      <td>11</td>\n",
       "      <td>Minimal</td>\n",
       "      <td>6</td>\n",
       "      <td>21</td>\n",
       "      <td>65</td>\n",
       "      <td>150</td>\n",
       "      <td>215</td>\n",
       "      <td>0</td>\n",
       "      <td>0</td>\n",
       "      <td>0</td>\n",
       "      <td>0</td>\n",
       "      <td>0</td>\n",
       "      <td>106</td>\n",
       "      <td>108</td>\n",
       "      <td>104</td>\n",
       "      <td>108</td>\n",
       "      <td>104</td>\n",
       "      <td>108</td>\n",
       "      <td>104</td>\n",
       "      <td>106.000000</td>\n",
       "      <td>A</td>\n",
       "      <td>59</td>\n",
       "      <td>98.333333</td>\n",
       "      <td>50.4</td>\n",
       "      <td>9.7</td>\n",
       "      <td>0.886598</td>\n",
       "      <td>50.0</td>\n",
       "      <td>83.333333</td>\n",
       "      <td>39.4</td>\n",
       "      <td>10.2</td>\n",
       "      <td>1.039216</td>\n",
       "      <td>1.0</td>\n",
       "      <td>0.0</td>\n",
       "      <td>0.0</td>\n",
       "      <td>0.0</td>\n",
       "      <td>0</td>\n",
       "      <td>1.0</td>\n",
       "      <td>0.0</td>\n",
       "      <td>0.0</td>\n",
       "    </tr>\n",
       "    <tr>\n",
       "      <th>3</th>\n",
       "      <td>3</td>\n",
       "      <td>DEF-004</td>\n",
       "      <td>2015-11-19 0:00</td>\n",
       "      <td>def_004</td>\n",
       "      <td>Male</td>\n",
       "      <td>1966-02-05 0:00</td>\n",
       "      <td>MS</td>\n",
       "      <td>SPMS</td>\n",
       "      <td>1996-08-15 0:00</td>\n",
       "      <td>2015-11-19 0:00</td>\n",
       "      <td>1966-02-05 0:00</td>\n",
       "      <td>49.785079</td>\n",
       "      <td>14</td>\n",
       "      <td>185</td>\n",
       "      <td>90</td>\n",
       "      <td>Right</td>\n",
       "      <td>Strongly</td>\n",
       "      <td>20</td>\n",
       "      <td>87</td>\n",
       "      <td>0</td>\n",
       "      <td>87</td>\n",
       "      <td>74</td>\n",
       "      <td>0</td>\n",
       "      <td>74</td>\n",
       "      <td>46</td>\n",
       "      <td>0</td>\n",
       "      <td>46</td>\n",
       "      <td>17</td>\n",
       "      <td>0</td>\n",
       "      <td>17</td>\n",
       "      <td>79</td>\n",
       "      <td>0</td>\n",
       "      <td>79</td>\n",
       "      <td>92</td>\n",
       "      <td>0</td>\n",
       "      <td>92</td>\n",
       "      <td>41</td>\n",
       "      <td>1</td>\n",
       "      <td>40</td>\n",
       "      <td>23</td>\n",
       "      <td>0</td>\n",
       "      <td>23</td>\n",
       "      <td>69</td>\n",
       "      <td>62</td>\n",
       "      <td>76.5</td>\n",
       "      <td>0</td>\n",
       "      <td>89.5</td>\n",
       "      <td>0</td>\n",
       "      <td>43.0</td>\n",
       "      <td>20.0</td>\n",
       "      <td>48</td>\n",
       "      <td>58.31</td>\n",
       "      <td>8.67</td>\n",
       "      <td>-1.189158</td>\n",
       "      <td>47</td>\n",
       "      <td>0</td>\n",
       "      <td>47</td>\n",
       "      <td>6</td>\n",
       "      <td>25</td>\n",
       "      <td>0</td>\n",
       "      <td>25</td>\n",
       "      <td>9</td>\n",
       "      <td>15</td>\n",
       "      <td>86</td>\n",
       "      <td>18</td>\n",
       "      <td>1</td>\n",
       "      <td>50</td>\n",
       "      <td>25</td>\n",
       "      <td>21</td>\n",
       "      <td>4</td>\n",
       "      <td>Blank</td>\n",
       "      <td>Blank</td>\n",
       "      <td>8</td>\n",
       "      <td>Minimal</td>\n",
       "      <td>2</td>\n",
       "      <td>47</td>\n",
       "      <td>36</td>\n",
       "      <td>271</td>\n",
       "      <td>307</td>\n",
       "      <td>0</td>\n",
       "      <td>0</td>\n",
       "      <td>0</td>\n",
       "      <td>0</td>\n",
       "      <td>0</td>\n",
       "      <td>86</td>\n",
       "      <td>88</td>\n",
       "      <td>104</td>\n",
       "      <td>108</td>\n",
       "      <td>96</td>\n",
       "      <td>94</td>\n",
       "      <td>96</td>\n",
       "      <td>96.000000</td>\n",
       "      <td>A</td>\n",
       "      <td>54</td>\n",
       "      <td>90.000000</td>\n",
       "      <td>50.4</td>\n",
       "      <td>9.7</td>\n",
       "      <td>0.371134</td>\n",
       "      <td>46.0</td>\n",
       "      <td>76.666667</td>\n",
       "      <td>39.4</td>\n",
       "      <td>10.2</td>\n",
       "      <td>0.647059</td>\n",
       "      <td>6.5</td>\n",
       "      <td>1.0</td>\n",
       "      <td>2.0</td>\n",
       "      <td>5.0</td>\n",
       "      <td>3</td>\n",
       "      <td>3.0</td>\n",
       "      <td>1.0</td>\n",
       "      <td>1.0</td>\n",
       "    </tr>\n",
       "    <tr>\n",
       "      <th>4</th>\n",
       "      <td>4</td>\n",
       "      <td>EFG-005</td>\n",
       "      <td>2015-11-26 0:00</td>\n",
       "      <td>efg_005</td>\n",
       "      <td>Male</td>\n",
       "      <td>1975-06-13 0:00</td>\n",
       "      <td>MS</td>\n",
       "      <td>SPMS</td>\n",
       "      <td>2010-07-01 0:00</td>\n",
       "      <td>2015-11-26 0:00</td>\n",
       "      <td>1975-06-13 0:00</td>\n",
       "      <td>40.454483</td>\n",
       "      <td>12</td>\n",
       "      <td>185</td>\n",
       "      <td>88</td>\n",
       "      <td>Left</td>\n",
       "      <td>Moderately</td>\n",
       "      <td>50</td>\n",
       "      <td>81</td>\n",
       "      <td>3</td>\n",
       "      <td>78</td>\n",
       "      <td>55</td>\n",
       "      <td>1</td>\n",
       "      <td>54</td>\n",
       "      <td>41</td>\n",
       "      <td>4</td>\n",
       "      <td>37</td>\n",
       "      <td>26</td>\n",
       "      <td>4</td>\n",
       "      <td>22</td>\n",
       "      <td>50</td>\n",
       "      <td>0</td>\n",
       "      <td>50</td>\n",
       "      <td>78</td>\n",
       "      <td>1</td>\n",
       "      <td>77</td>\n",
       "      <td>40</td>\n",
       "      <td>8</td>\n",
       "      <td>32</td>\n",
       "      <td>29</td>\n",
       "      <td>1</td>\n",
       "      <td>28</td>\n",
       "      <td>57</td>\n",
       "      <td>76</td>\n",
       "      <td>79.5</td>\n",
       "      <td>4</td>\n",
       "      <td>52.5</td>\n",
       "      <td>1</td>\n",
       "      <td>34.5</td>\n",
       "      <td>25.0</td>\n",
       "      <td>46</td>\n",
       "      <td>59.87</td>\n",
       "      <td>10.49</td>\n",
       "      <td>-1.322212</td>\n",
       "      <td>45</td>\n",
       "      <td>0</td>\n",
       "      <td>45</td>\n",
       "      <td>5</td>\n",
       "      <td>30</td>\n",
       "      <td>1</td>\n",
       "      <td>29</td>\n",
       "      <td>9</td>\n",
       "      <td>14</td>\n",
       "      <td>84</td>\n",
       "      <td>14</td>\n",
       "      <td>1</td>\n",
       "      <td>45</td>\n",
       "      <td>23</td>\n",
       "      <td>17</td>\n",
       "      <td>5</td>\n",
       "      <td>Married</td>\n",
       "      <td>Sheet Metal?</td>\n",
       "      <td>12</td>\n",
       "      <td>Minimal</td>\n",
       "      <td>2</td>\n",
       "      <td>26</td>\n",
       "      <td>46</td>\n",
       "      <td>177</td>\n",
       "      <td>223</td>\n",
       "      <td>0</td>\n",
       "      <td>0</td>\n",
       "      <td>0</td>\n",
       "      <td>0</td>\n",
       "      <td>0</td>\n",
       "      <td>104</td>\n",
       "      <td>88</td>\n",
       "      <td>104</td>\n",
       "      <td>108</td>\n",
       "      <td>98</td>\n",
       "      <td>106</td>\n",
       "      <td>106</td>\n",
       "      <td>102.000000</td>\n",
       "      <td>A</td>\n",
       "      <td>16</td>\n",
       "      <td>26.666667</td>\n",
       "      <td>46.7</td>\n",
       "      <td>9.1</td>\n",
       "      <td>-3.373626</td>\n",
       "      <td>0.0</td>\n",
       "      <td>0.000000</td>\n",
       "      <td>35.1</td>\n",
       "      <td>9.6</td>\n",
       "      <td>-3.656250</td>\n",
       "      <td>4.0</td>\n",
       "      <td>0.0</td>\n",
       "      <td>1.0</td>\n",
       "      <td>3.0</td>\n",
       "      <td>2</td>\n",
       "      <td>2.0</td>\n",
       "      <td>1.0</td>\n",
       "      <td>0.0</td>\n",
       "    </tr>\n",
       "  </tbody>\n",
       "</table>\n",
       "</div>"
      ],
      "text/plain": [
       "   Unnamed: 0    CASE$         COG_DATE SUBJECT_ID$    SEX$       BIRTH_DATE  \\\n",
       "0           0  ABC-001  2015-11-04 0:00     abc_001    Male  1967-03-08 0:00   \n",
       "1           1  BCD-002  2015-11-23 0:00     bcd_002  Female  1969-10-09 0:00   \n",
       "2           2  CDE-003  2015-11-30 0:00     cde_003  Female  1977-09-12 0:00   \n",
       "3           3  DEF-004  2015-11-19 0:00     def_004    Male  1966-02-05 0:00   \n",
       "4           4  EFG-005  2015-11-26 0:00     efg_005    Male  1975-06-13 0:00   \n",
       "\n",
       "  GROUP$ MS_TYPE$       ONSET_DATE        CLIN_DATE        BIRTHDATE  \\\n",
       "0     MS     SPMS  2017-08-01 0:00  2015-11-04 0:00  1967-03-08 0:00   \n",
       "1     MS     SPMS  1995-07-01 0:00  2015-11-23 0:00  1969-10-09 0:00   \n",
       "2     MS     RRMS  2009-07-01 0:00  2015-11-30 0:00  1977-09-12 0:00   \n",
       "3     MS     SPMS  1996-08-15 0:00  2015-11-19 0:00  1966-02-05 0:00   \n",
       "4     MS     SPMS  2010-07-01 0:00  2015-11-26 0:00  1975-06-13 0:00   \n",
       "\n",
       "     AGE_YRS  EDU_YRS  HEIGHT_CM  WEIGHT_KG HANDED$     DEGREE$  HAND_SCORE  \\\n",
       "0  48.659822       14        177         79    Left    Strongly          77   \n",
       "1  46.121834       16        152         62   Right    Strongly          18   \n",
       "2  38.214921       15        165        102   Right    Strongly          18   \n",
       "3  49.785079       14        185         90   Right    Strongly          20   \n",
       "4  40.454483       12        185         88    Left  Moderately          50   \n",
       "\n",
       "   DOM_SEQ_TOT1  DOM_SEQ_ERR1  DOM_SEQ_COR1  NON_SEQ_TOT1  NON_SEQ_ERR1  \\\n",
       "0           145             1           144           106             5   \n",
       "1           128             5           123           118             0   \n",
       "2           141             6           135           119             1   \n",
       "3            87             0            87            74             0   \n",
       "4            81             3            78            55             1   \n",
       "\n",
       "   NON_SEQ_COR1  BI_IN_TOT1  BI_IN_TOT1.1  BI_IN_COR1  BI_OUT_TOT1  \\\n",
       "0           101          96            69          27           28   \n",
       "1           118          87             3          84           29   \n",
       "2           118         101             9          92           29   \n",
       "3            74          46             0          46           17   \n",
       "4            54          41             4          37           26   \n",
       "\n",
       "   BI_OUT_TOT1.1  BI_OUT_COR1  NON_SEQ_TOT2  NON_SEQ_ERR2  NON_SEQ_COR2  \\\n",
       "0              3           25           115             1           114   \n",
       "1              0           29           122             0           122   \n",
       "2              2           27           108             0           108   \n",
       "3              0           17            79             0            79   \n",
       "4              4           22            50             0            50   \n",
       "\n",
       "   DOM_SEQ_TOT2  DOM_SEQ_ERR2  DOM_SEQ_COR2  BI_IN_TOT2  BI_IN_ERR2  \\\n",
       "0            77             0            77          91          56   \n",
       "1           136             0           136          88           7   \n",
       "2           144             0           144         108          21   \n",
       "3            92             0            92          41           1   \n",
       "4            78             1            77          40           8   \n",
       "\n",
       "   BI_IN_COR2  BI_OUT_TOT2  BI_OUT_ERR2  BI_OUT_COR2  SING_RT_TOT  \\\n",
       "0          35           42            3           39          214   \n",
       "1          81           33            1           32           89   \n",
       "2          87           42            4           38           93   \n",
       "3          40           23            0           23           69   \n",
       "4          32           29            1           28           57   \n",
       "\n",
       "   SING_LT_TOT  LT_MEA_COR  LT_TOT_ERR  RT_MEA_COR  RT_TOT_ERR  IN_MEA_COR  \\\n",
       "0          199       111.0           1       110.5           6        31.0   \n",
       "1           79       120.0           0       132.0           5        82.5   \n",
       "2           86       113.5           1       142.5           6        89.5   \n",
       "3           62        76.5           0        89.5           0        43.0   \n",
       "4           76        79.5           4        52.5           1        34.5   \n",
       "\n",
       "   OUT_MEA_COR  SDM_COR  SDM_Z_MEA  SDM_Z_SD  SDM_Z_SCO  DSC_TOT_COR  \\\n",
       "0         32.0       56      58.31      8.67  -0.266436           68   \n",
       "1         30.5       68      58.31      8.67   1.117647           88   \n",
       "2         32.5       61      60.95     11.32   0.004417           84   \n",
       "3         20.0       48      58.31      8.67  -1.189158           47   \n",
       "4         25.0       46      59.87     10.49  -1.322212           45   \n",
       "\n",
       "   DSC_TOT_ERR  DSC_TOT_SCO  DSC_SS  SYS_TOT_COR  SYS_TOT_ERR  SYS_TOT_SCO  \\\n",
       "0            0           68      10           29            1           28   \n",
       "1            0           88      14           48            0           48   \n",
       "2            0           84      12           45            0           45   \n",
       "3            0           47       6           25            0           25   \n",
       "4            0           45       5           30            1           29   \n",
       "\n",
       "   SYS_SS  DSC_SYS_SS  PSI_SCO  PSI_PCT  MFIS_TEST  MFIS_TOT  MFIS_PHY  \\\n",
       "0       9          19       96       39          1        41        27   \n",
       "1      17          31      131       98          1        41        25   \n",
       "2      15          27      120       91          1        21        13   \n",
       "3       9          15       86       18          1        50        25   \n",
       "4       9          14       84       14          1        45        23   \n",
       "\n",
       "   MFIS_COG  MFIS_PSY MAR_STATUS$   OCCUPATION$  BDI_TOT_SCO BDI_CLASS$  \\\n",
       "0        11         3     Engaged    Fire Chief           14       Mild   \n",
       "1        11         5     Married    Housemaker            6    Minimal   \n",
       "2         7         1       Blank         Blank           11    Minimal   \n",
       "3        21         4       Blank         Blank            8    Minimal   \n",
       "4        17         5     Married  Sheet Metal?           12    Minimal   \n",
       "\n",
       "   TOL_COR_SCO  TOL_MOV_SCO  TOL_INI_TIM  TOL_EXE_TIM  TOL_TOT_TIM  \\\n",
       "0            5           30          144          215          359   \n",
       "1            4           25           25          199          224   \n",
       "2            6           21           65          150          215   \n",
       "3            2           47           36          271          307   \n",
       "4            2           26           46          177          223   \n",
       "\n",
       "   TOL_TIM_VIO  TOL_TY1_VIO  TOL_TY2_VIO  TOL_TOT_VIO  TOL_STB_VIO  \\\n",
       "0            2            0            0            0            0   \n",
       "1            1            0            0            0            0   \n",
       "2            0            0            0            0            0   \n",
       "3            0            0            0            0            0   \n",
       "4            0            0            0            0            0   \n",
       "\n",
       "   TOL_MOV_SS  TOL_COR_SS  TOL_RUV_SS  TOL_TIV_SS  TOL_INT_SS  TOL_EXT_SS  \\\n",
       "0         100         106         104          78         134         100   \n",
       "1         106         100         104          92          92         102   \n",
       "2         106         108         104         108         104         108   \n",
       "3          86          88         104         108          96          94   \n",
       "4         104          88         104         108          98         106   \n",
       "\n",
       "   TOL_PRS_SS     AVERAGE PAS_FORM$  PAS3_TOT_COR  PAS3_PCT_COR  PAS3_Z_MEA  \\\n",
       "0          90  101.714286         A            47     78.333333        50.4   \n",
       "1         104  100.000000         A            54     90.000000        50.4   \n",
       "2         104  106.000000         A            59     98.333333        50.4   \n",
       "3          96   96.000000         A            54     90.000000        50.4   \n",
       "4         106  102.000000         A            16     26.666667        46.7   \n",
       "\n",
       "   PAS3_Z_SD  PAS3_Z_SCO  PAS2_TOT_COR  PAS2_PCT_COR  PAS2_Z_MEA  PAS2_Z_SD  \\\n",
       "0        9.7   -0.350515          37.0     61.666667        39.4       10.2   \n",
       "1        9.7    0.371134          33.0     55.000000        39.4       10.2   \n",
       "2        9.7    0.886598          50.0     83.333333        39.4       10.2   \n",
       "3        9.7    0.371134          46.0     76.666667        39.4       10.2   \n",
       "4        9.1   -3.373626           0.0      0.000000        35.1        9.6   \n",
       "\n",
       "   PAS2_Z_SCO  EDSS  FSS_VISUAL  FSS_BRSTEM  FSS_PYRAMID FSS_CEREBELL  \\\n",
       "0   -0.235294   3.0         1.0         0.0          2.0            1   \n",
       "1   -0.627451   5.5         1.0         1.0          4.0            3   \n",
       "2    1.039216   1.0         0.0         0.0          0.0            0   \n",
       "3    0.647059   6.5         1.0         2.0          5.0            3   \n",
       "4   -3.656250   4.0         0.0         1.0          3.0            2   \n",
       "\n",
       "   FSS_SENSORY  FSS_BOWBLAD  FSS_CEREBRAL  \n",
       "0          2.0          1.0           0.0  \n",
       "1          3.0          2.0           1.0  \n",
       "2          1.0          0.0           0.0  \n",
       "3          3.0          1.0           1.0  \n",
       "4          2.0          1.0           0.0  "
      ]
     },
     "execution_count": 10,
     "metadata": {},
     "output_type": "execute_result"
    }
   ],
   "source": [
    "pd.set_option('display.max_columns', None)\n",
    "df_neuropsych.head(5)"
   ]
  },
  {
   "cell_type": "markdown",
   "metadata": {},
   "source": [
    "# Neuropsych & Structural Data Statistics"
   ]
  },
  {
   "cell_type": "code",
   "execution_count": 11,
   "metadata": {},
   "outputs": [],
   "source": [
    "# all-group metrics\n",
    "order=['HC', 'RRMS', 'SPMS']\n",
    "palette = ['#009ADE', '#FFC61E', '#E9002D']\n",
    "data=df_neuropsych"
   ]
  },
  {
   "cell_type": "code",
   "execution_count": 12,
   "metadata": {},
   "outputs": [
    {
     "data": {
      "image/png": "[encoded data removed]",
      "text/plain": [
       "<Figure size 1080x1008 with 9 Axes>"
      ]
     },
     "metadata": {
      "needs_background": "light"
     },
     "output_type": "display_data"
    }
   ],
   "source": [
    "# define columns to be plotted\n",
    "metrics = ['AGE_YRS', 'EDU_YRS', 'SDM_Z_SD', 'PSI_PCT', 'MFIS_TOT', 'BDI_TOT_SCO', 'AVERAGE', 'PAS3_Z_SCO', 'PAS2_Z_SCO']\n",
    "\n",
    "fig, ax = plt.subplots(3, 3, figsize=(15, 14))\n",
    "fig.tight_layout(pad=5)\n",
    "fig.suptitle('Demographics & Neuropsychological Test Scores Overview', fontsize=25, fontweight='bold', y=1.01)\n",
    "ax = ax.ravel()\n",
    "\n",
    "for i in range(len(metrics)):\n",
    "    sns.boxplot(ax=ax[i], x='MS_TYPE$', y=metrics[i], data=data, order=order, palette=palette)\n",
    "    ax[i].set_title(metrics[i])\n",
    "    ax[i].set_xlabel('Phenotype')\n"
   ]
  },
  {
   "cell_type": "code",
   "execution_count": 13,
   "metadata": {},
   "outputs": [
    {
     "data": {
      "image/png": "[encoded data removed]",
      "text/plain": [
       "<Figure size 1080x1008 with 9 Axes>"
      ]
     },
     "metadata": {
      "needs_background": "light"
     },
     "output_type": "display_data"
    }
   ],
   "source": [
    "# define columns to be plotted\n",
    "metrics = ['AGE_YRS', 'EDU_YRS', 'SDM_Z_SD', 'PSI_PCT', 'MFIS_TOT', 'BDI_TOT_SCO', 'AVERAGE', 'PAS3_Z_SCO', 'PAS2_Z_SCO']\n",
    "\n",
    "fig, ax = plt.subplots(3, 3, figsize=(15, 14))\n",
    "fig.tight_layout(pad=5)\n",
    "fig.suptitle('Demographics & Neuropsychological Test Scores Overview', fontsize=25, fontweight='bold', y=1.01)\n",
    "ax = ax.ravel()\n",
    "\n",
    "for i in range(len(metrics)):\n",
    "    sns.barplot(ax=ax[i], x='MS_TYPE$', y=metrics[i], data=data, order=order, palette=palette)\n",
    "    ax[i].set_title(metrics[i])\n",
    "    ax[i].set_xlabel('Phenotype')\n"
   ]
  },
  {
   "cell_type": "code",
   "execution_count": 14,
   "metadata": {},
   "outputs": [],
   "source": [
    "# handedness scores\n",
    "handedness_metrics = [\n",
    "'HANDED$',\n",
    "'DEGREE$',\n",
    "'HAND_SCORE',\n",
    "'DOM_SEQ_TOT1',\n",
    "'DOM_SEQ_ERR1',\n",
    "'DOM_SEQ_COR1',\n",
    "'NON_SEQ_TOT1',\n",
    "'NON_SEQ_ERR1',\n",
    "'NON_SEQ_COR1',\n",
    "'BI_IN_TOT1',\n",
    "'BI_IN_TOT1.1',\n",
    "'BI_IN_COR1',\n",
    "'BI_OUT_TOT1',\n",
    "'BI_OUT_TOT1.1',\n",
    "'BI_OUT_COR1',\n",
    "'NON_SEQ_TOT2',\n",
    "'NON_SEQ_ERR2',\n",
    "'NON_SEQ_COR2',\n",
    "'DOM_SEQ_TOT2',\n",
    "'DOM_SEQ_ERR2',\n",
    "'DOM_SEQ_COR2',\n",
    "'BI_IN_TOT2',\n",
    "'BI_IN_ERR2',\n",
    "'BI_IN_COR2',\n",
    "'BI_OUT_TOT2',\n",
    "'BI_OUT_ERR2',\n",
    "'BI_OUT_COR2',\n",
    "'SING_RT_TOT',\n",
    "'SING_LT_TOT',\n",
    "'LT_MEA_COR',\n",
    "'LT_TOT_ERR',\n",
    "'RT_MEA_COR',\n",
    "'RT_TOT_ERR',\n",
    "'IN_MEA_COR',\n",
    "'OUT_MEA_COR']"
   ]
  },
  {
   "cell_type": "code",
   "execution_count": 15,
   "metadata": {},
   "outputs": [
    {
     "data": {
      "text/plain": [
       "dtype('int64')"
      ]
     },
     "execution_count": 15,
     "metadata": {},
     "output_type": "execute_result"
    }
   ],
   "source": [
    "df_neuropsych[handedness_metrics[2]].dtype"
   ]
  },
  {
   "cell_type": "code",
   "execution_count": 16,
   "metadata": {},
   "outputs": [
    {
     "name": "stdout",
     "output_type": "stream",
     "text": [
      "object\n",
      "object\n",
      "int64\n",
      "int64\n",
      "int64\n",
      "int64\n",
      "int64\n",
      "int64\n",
      "int64\n",
      "int64\n",
      "int64\n",
      "int64\n",
      "int64\n",
      "int64\n",
      "int64\n",
      "int64\n",
      "int64\n",
      "int64\n",
      "int64\n",
      "int64\n",
      "int64\n",
      "int64\n",
      "int64\n",
      "int64\n",
      "int64\n",
      "int64\n",
      "int64\n",
      "int64\n",
      "int64\n",
      "float64\n",
      "int64\n",
      "float64\n",
      "int64\n",
      "float64\n",
      "float64\n"
     ]
    }
   ],
   "source": [
    "# get data types for each of these columns\n",
    "for col in handedness_metrics:\n",
    "    print(df_neuropsych[col].dtypes)"
   ]
  },
  {
   "cell_type": "code",
   "execution_count": 17,
   "metadata": {},
   "outputs": [
    {
     "name": "stdout",
     "output_type": "stream",
     "text": [
      "Plot for HANDED$ TBD...\n",
      "Plot for DEGREE$ TBD...\n"
     ]
    },
    {
     "data": {
      "image/png": "[encoded data removed]",
      "text/plain": [
       "<Figure size 2160x3600 with 35 Axes>"
      ]
     },
     "metadata": {
      "needs_background": "light"
     },
     "output_type": "display_data"
    }
   ],
   "source": [
    "fig, ax = plt.subplots(7,5, figsize=(30, 50))\n",
    "fig.tight_layout(pad=5)\n",
    "fig.suptitle('Handedness Scores Overview', fontsize=25, fontweight='bold', y=1.01)\n",
    "ax = ax.ravel()\n",
    "\n",
    "for i in range(len(handedness_metrics)):\n",
    "\n",
    "       # if column is categorical, use bar chart\n",
    "       if df_neuropsych[handedness_metrics[i]].dtypes == 'object':\n",
    "              #sns.boxplot(ax=ax[i], x='MS_TYPE$', y=handedness_metrics[i], data=df_neuropsych, order=order, palette=palette)\n",
    "              print(f'Plot for {handedness_metrics[i]} TBD...')\n",
    "\n",
    "       # else, use barplot\n",
    "       else: \n",
    "              sns.barplot(ax=ax[i], x='MS_TYPE$', y=handedness_metrics[i], data=df_neuropsych, order=order, palette=palette)\n",
    "              ax[i].set_title(handedness_metrics[i])\n",
    "              ax[i].set_xlabel('Phenotype')\n"
   ]
  },
  {
   "cell_type": "code",
   "execution_count": 18,
   "metadata": {},
   "outputs": [
    {
     "data": {
      "image/png": "[encoded data removed]",
      "text/plain": [
       "<Figure size 1728x1296 with 12 Axes>"
      ]
     },
     "metadata": {
      "needs_background": "light"
     },
     "output_type": "display_data"
    }
   ],
   "source": [
    "# WAIS3 subscores\n",
    "wais3_metrics = ['DSC_TOT_COR',\n",
    "'DSC_TOT_ERR',\n",
    "'DSC_TOT_SCO',\n",
    "'DSC_SS',\n",
    "'SYS_TOT_COR',\n",
    "'SYS_TOT_ERR',\n",
    "'SYS_TOT_SCO',\n",
    "'SYS_SS',\n",
    "'DSC_SYS_SS',\n",
    "'PSI_SCO',\n",
    "'PSI_PCT'] \n",
    "\n",
    "fig, ax = plt.subplots(3, 4, figsize=(24, 18))\n",
    "fig.tight_layout(pad=5)\n",
    "fig.suptitle('Wechsler Adult Intelligence Scaler (WAIS-III) Test Scores Overview', fontsize=25, fontweight='bold', y=1.01)\n",
    "ax = ax.ravel()\n",
    "\n",
    "for i in range(len(wais3_metrics)):\n",
    "    sns.barplot(ax=ax[i], x='MS_TYPE$', y=wais3_metrics[i], data=data, order=order, palette=palette)\n",
    "    ax[i].set_title(wais3_metrics[i])\n",
    "    ax[i].set_xlabel('Phenotype')\n"
   ]
  },
  {
   "cell_type": "code",
   "execution_count": 19,
   "metadata": {},
   "outputs": [
    {
     "data": {
      "image/png": "[encoded data removed]",
      "text/plain": [
       "<Figure size 1728x576 with 4 Axes>"
      ]
     },
     "metadata": {
      "needs_background": "light"
     },
     "output_type": "display_data"
    }
   ],
   "source": [
    "# MFIS subscores\n",
    "MFIS_metrics = ['MFIS_TOT','MFIS_PHY','MFIS_COG','MFIS_PSY']\n",
    "\n",
    "fig, ax = plt.subplots(1,4, figsize=(24,8))\n",
    "fig.tight_layout(pad=5)\n",
    "fig.suptitle('MFIS & Subscores Overview', fontsize=25, fontweight='bold', y=1.01)\n",
    "ax = ax.ravel()\n",
    "\n",
    "for i in range(len(MFIS_metrics)):\n",
    "    sns.barplot(ax=ax[i], x='MS_TYPE$', y=MFIS_metrics[i], data=data, order=order, palette=palette)\n",
    "    ax[i].set_title(MFIS_metrics[i])\n",
    "    ax[i].set_xlabel('Phenotype')"
   ]
  },
  {
   "cell_type": "code",
   "execution_count": 20,
   "metadata": {},
   "outputs": [
    {
     "data": {
      "image/png": "[encoded data removed]",
      "text/plain": [
       "<Figure size 2160x1440 with 18 Axes>"
      ]
     },
     "metadata": {
      "needs_background": "light"
     },
     "output_type": "display_data"
    }
   ],
   "source": [
    "# TOL-2 subscores\n",
    "TOL2_subscores = [\n",
    "'TOL_COR_SCO',\n",
    "'TOL_MOV_SCO',\n",
    "'TOL_INI_TIM',\n",
    "'TOL_EXE_TIM',\n",
    "'TOL_TOT_TIM',\n",
    "'TOL_TIM_VIO',\n",
    "'TOL_TY1_VIO',\n",
    "'TOL_TY2_VIO',\n",
    "'TOL_TOT_VIO',\n",
    "'TOL_STB_VIO',\n",
    "'TOL_MOV_SS',\n",
    "'TOL_COR_SS',\n",
    "'TOL_RUV_SS',\n",
    "'TOL_TIV_SS',\n",
    "'TOL_INT_SS',\n",
    "'TOL_EXT_SS',\n",
    "'TOL_PRS_SS',\n",
    "'AVERAGE']\n",
    "\n",
    "\n",
    "fig, ax = plt.subplots(3,6, figsize=(30, 20))\n",
    "fig.tight_layout(pad=5)\n",
    "fig.suptitle('Tower of London Test & Subscores', fontsize=25, fontweight='bold', y=1.01)\n",
    "ax = ax.ravel()\n",
    "\n",
    "for i in range(len(TOL2_subscores)):\n",
    "    sns.barplot(ax=ax[i], x='MS_TYPE$', y=TOL2_subscores[i], data=data, order=order, palette=palette)\n",
    "    ax[i].set_title(TOL2_subscores[i])\n",
    "    ax[i].set_xlabel('Phenotype')"
   ]
  },
  {
   "cell_type": "code",
   "execution_count": 21,
   "metadata": {},
   "outputs": [],
   "source": [
    "# EDSS and subscores\n",
    "filter_ms = ['MS_TYPE$', 'EDSS', 'FSS_VISUAL',\n",
    "       'FSS_BRSTEM', 'FSS_PYRAMID', 'FSS_CEREBELL', 'FSS_SENSORY',\n",
    "       'FSS_BOWBLAD', 'FSS_CEREBRAL']\n",
    "\n",
    "EDSS_subscores = ['EDSS', 'FSS_VISUAL',\n",
    "       'FSS_BRSTEM', 'FSS_PYRAMID', 'FSS_CEREBELL', 'FSS_SENSORY',\n",
    "       'FSS_BOWBLAD', 'FSS_CEREBRAL']"
   ]
  },
  {
   "cell_type": "code",
   "execution_count": 22,
   "metadata": {},
   "outputs": [
    {
     "data": {
      "text/html": [
       "<div>\n",
       "<style scoped>\n",
       "    .dataframe tbody tr th:only-of-type {\n",
       "        vertical-align: middle;\n",
       "    }\n",
       "\n",
       "    .dataframe tbody tr th {\n",
       "        vertical-align: top;\n",
       "    }\n",
       "\n",
       "    .dataframe thead th {\n",
       "        text-align: right;\n",
       "    }\n",
       "</style>\n",
       "<table border=\"1\" class=\"dataframe\">\n",
       "  <thead>\n",
       "    <tr style=\"text-align: right;\">\n",
       "      <th></th>\n",
       "      <th>MS_TYPE$</th>\n",
       "      <th>EDSS</th>\n",
       "      <th>FSS_VISUAL</th>\n",
       "      <th>FSS_BRSTEM</th>\n",
       "      <th>FSS_PYRAMID</th>\n",
       "      <th>FSS_CEREBELL</th>\n",
       "      <th>FSS_SENSORY</th>\n",
       "      <th>FSS_BOWBLAD</th>\n",
       "      <th>FSS_CEREBRAL</th>\n",
       "    </tr>\n",
       "  </thead>\n",
       "  <tbody>\n",
       "    <tr>\n",
       "      <th>0</th>\n",
       "      <td>SPMS</td>\n",
       "      <td>3.0</td>\n",
       "      <td>1.000000</td>\n",
       "      <td>0.000000</td>\n",
       "      <td>2.000000</td>\n",
       "      <td>1.000000</td>\n",
       "      <td>2.000000</td>\n",
       "      <td>1.000000</td>\n",
       "      <td>0.000000</td>\n",
       "    </tr>\n",
       "    <tr>\n",
       "      <th>1</th>\n",
       "      <td>SPMS</td>\n",
       "      <td>5.5</td>\n",
       "      <td>1.000000</td>\n",
       "      <td>1.000000</td>\n",
       "      <td>4.000000</td>\n",
       "      <td>3.000000</td>\n",
       "      <td>3.000000</td>\n",
       "      <td>2.000000</td>\n",
       "      <td>1.000000</td>\n",
       "    </tr>\n",
       "    <tr>\n",
       "      <th>2</th>\n",
       "      <td>RRMS</td>\n",
       "      <td>1.0</td>\n",
       "      <td>0.000000</td>\n",
       "      <td>0.000000</td>\n",
       "      <td>0.000000</td>\n",
       "      <td>0.000000</td>\n",
       "      <td>1.000000</td>\n",
       "      <td>0.000000</td>\n",
       "      <td>0.000000</td>\n",
       "    </tr>\n",
       "    <tr>\n",
       "      <th>3</th>\n",
       "      <td>SPMS</td>\n",
       "      <td>6.5</td>\n",
       "      <td>1.000000</td>\n",
       "      <td>2.000000</td>\n",
       "      <td>5.000000</td>\n",
       "      <td>3.000000</td>\n",
       "      <td>3.000000</td>\n",
       "      <td>1.000000</td>\n",
       "      <td>1.000000</td>\n",
       "    </tr>\n",
       "    <tr>\n",
       "      <th>4</th>\n",
       "      <td>SPMS</td>\n",
       "      <td>4.0</td>\n",
       "      <td>0.000000</td>\n",
       "      <td>1.000000</td>\n",
       "      <td>3.000000</td>\n",
       "      <td>2.000000</td>\n",
       "      <td>2.000000</td>\n",
       "      <td>1.000000</td>\n",
       "      <td>0.000000</td>\n",
       "    </tr>\n",
       "    <tr>\n",
       "      <th>7</th>\n",
       "      <td>RRMS</td>\n",
       "      <td>1.5</td>\n",
       "      <td>0.000000</td>\n",
       "      <td>0.000000</td>\n",
       "      <td>1.000000</td>\n",
       "      <td>0.000000</td>\n",
       "      <td>1.000000</td>\n",
       "      <td>0.000000</td>\n",
       "      <td>0.000000</td>\n",
       "    </tr>\n",
       "    <tr>\n",
       "      <th>8</th>\n",
       "      <td>RRMS</td>\n",
       "      <td>2.0</td>\n",
       "      <td>0.000000</td>\n",
       "      <td>1.000000</td>\n",
       "      <td>1.000000</td>\n",
       "      <td>2.000000</td>\n",
       "      <td>0.000000</td>\n",
       "      <td>1.000000</td>\n",
       "      <td>0.000000</td>\n",
       "    </tr>\n",
       "    <tr>\n",
       "      <th>9</th>\n",
       "      <td>RRMS</td>\n",
       "      <td>3.0</td>\n",
       "      <td>0.000000</td>\n",
       "      <td>1.000000</td>\n",
       "      <td>3.000000</td>\n",
       "      <td>0.000000</td>\n",
       "      <td>1.000000</td>\n",
       "      <td>0.000000</td>\n",
       "      <td>0.000000</td>\n",
       "    </tr>\n",
       "    <tr>\n",
       "      <th>11</th>\n",
       "      <td>RRMS</td>\n",
       "      <td>1.0</td>\n",
       "      <td>0.142857</td>\n",
       "      <td>0.142857</td>\n",
       "      <td>0.142857</td>\n",
       "      <td>0.142857</td>\n",
       "      <td>0.142857</td>\n",
       "      <td>0.142857</td>\n",
       "      <td>0.142857</td>\n",
       "    </tr>\n",
       "    <tr>\n",
       "      <th>12</th>\n",
       "      <td>RRMS</td>\n",
       "      <td>1.0</td>\n",
       "      <td>0.000000</td>\n",
       "      <td>0.000000</td>\n",
       "      <td>1.000000</td>\n",
       "      <td>0.000000</td>\n",
       "      <td>0.000000</td>\n",
       "      <td>0.000000</td>\n",
       "      <td>0.000000</td>\n",
       "    </tr>\n",
       "    <tr>\n",
       "      <th>14</th>\n",
       "      <td>RRMS</td>\n",
       "      <td>1.5</td>\n",
       "      <td>1.000000</td>\n",
       "      <td>1.000000</td>\n",
       "      <td>1.000000</td>\n",
       "      <td>1.000000</td>\n",
       "      <td>0.000000</td>\n",
       "      <td>0.000000</td>\n",
       "      <td>0.000000</td>\n",
       "    </tr>\n",
       "    <tr>\n",
       "      <th>15</th>\n",
       "      <td>RRMS</td>\n",
       "      <td>1.5</td>\n",
       "      <td>0.000000</td>\n",
       "      <td>0.000000</td>\n",
       "      <td>1.000000</td>\n",
       "      <td>0.000000</td>\n",
       "      <td>1.000000</td>\n",
       "      <td>0.000000</td>\n",
       "      <td>0.000000</td>\n",
       "    </tr>\n",
       "    <tr>\n",
       "      <th>16</th>\n",
       "      <td>RRMS</td>\n",
       "      <td>4.5</td>\n",
       "      <td>3.000000</td>\n",
       "      <td>1.000000</td>\n",
       "      <td>1.000000</td>\n",
       "      <td>1.000000</td>\n",
       "      <td>4.000000</td>\n",
       "      <td>1.000000</td>\n",
       "      <td>0.000000</td>\n",
       "    </tr>\n",
       "    <tr>\n",
       "      <th>17</th>\n",
       "      <td>RRMS</td>\n",
       "      <td>1.5</td>\n",
       "      <td>1.000000</td>\n",
       "      <td>1.000000</td>\n",
       "      <td>1.000000</td>\n",
       "      <td>1.000000</td>\n",
       "      <td>1.000000</td>\n",
       "      <td>0.000000</td>\n",
       "      <td>0.000000</td>\n",
       "    </tr>\n",
       "    <tr>\n",
       "      <th>19</th>\n",
       "      <td>RRMS</td>\n",
       "      <td>3.5</td>\n",
       "      <td>3.000000</td>\n",
       "      <td>1.000000</td>\n",
       "      <td>1.000000</td>\n",
       "      <td>1.000000</td>\n",
       "      <td>1.000000</td>\n",
       "      <td>0.000000</td>\n",
       "      <td>0.000000</td>\n",
       "    </tr>\n",
       "    <tr>\n",
       "      <th>20</th>\n",
       "      <td>RRMS</td>\n",
       "      <td>1.5</td>\n",
       "      <td>0.000000</td>\n",
       "      <td>0.000000</td>\n",
       "      <td>1.000000</td>\n",
       "      <td>0.000000</td>\n",
       "      <td>1.000000</td>\n",
       "      <td>0.000000</td>\n",
       "      <td>1.000000</td>\n",
       "    </tr>\n",
       "    <tr>\n",
       "      <th>21</th>\n",
       "      <td>SPMS</td>\n",
       "      <td>6.5</td>\n",
       "      <td>3.000000</td>\n",
       "      <td>2.000000</td>\n",
       "      <td>4.000000</td>\n",
       "      <td>2.000000</td>\n",
       "      <td>2.000000</td>\n",
       "      <td>1.000000</td>\n",
       "      <td>1.000000</td>\n",
       "    </tr>\n",
       "    <tr>\n",
       "      <th>23</th>\n",
       "      <td>SPMS</td>\n",
       "      <td>3.0</td>\n",
       "      <td>1.000000</td>\n",
       "      <td>0.000000</td>\n",
       "      <td>2.000000</td>\n",
       "      <td>2.000000</td>\n",
       "      <td>2.000000</td>\n",
       "      <td>2.000000</td>\n",
       "      <td>1.000000</td>\n",
       "    </tr>\n",
       "    <tr>\n",
       "      <th>24</th>\n",
       "      <td>RRMS</td>\n",
       "      <td>3.0</td>\n",
       "      <td>0.000000</td>\n",
       "      <td>0.000000</td>\n",
       "      <td>1.000000</td>\n",
       "      <td>3.000000</td>\n",
       "      <td>2.000000</td>\n",
       "      <td>1.000000</td>\n",
       "      <td>1.000000</td>\n",
       "    </tr>\n",
       "    <tr>\n",
       "      <th>25</th>\n",
       "      <td>SPMS</td>\n",
       "      <td>5.5</td>\n",
       "      <td>2.000000</td>\n",
       "      <td>0.000000</td>\n",
       "      <td>3.000000</td>\n",
       "      <td>1.000000</td>\n",
       "      <td>2.000000</td>\n",
       "      <td>1.000000</td>\n",
       "      <td>1.000000</td>\n",
       "    </tr>\n",
       "    <tr>\n",
       "      <th>30</th>\n",
       "      <td>SPMS</td>\n",
       "      <td>5.0</td>\n",
       "      <td>1.000000</td>\n",
       "      <td>0.000000</td>\n",
       "      <td>3.000000</td>\n",
       "      <td>2.000000</td>\n",
       "      <td>2.000000</td>\n",
       "      <td>1.000000</td>\n",
       "      <td>0.000000</td>\n",
       "    </tr>\n",
       "    <tr>\n",
       "      <th>31</th>\n",
       "      <td>RRMS</td>\n",
       "      <td>1.0</td>\n",
       "      <td>0.000000</td>\n",
       "      <td>0.000000</td>\n",
       "      <td>0.000000</td>\n",
       "      <td>0.000000</td>\n",
       "      <td>1.000000</td>\n",
       "      <td>0.000000</td>\n",
       "      <td>0.000000</td>\n",
       "    </tr>\n",
       "    <tr>\n",
       "      <th>33</th>\n",
       "      <td>RRMS</td>\n",
       "      <td>1.5</td>\n",
       "      <td>0.000000</td>\n",
       "      <td>0.000000</td>\n",
       "      <td>1.000000</td>\n",
       "      <td>0.000000</td>\n",
       "      <td>1.000000</td>\n",
       "      <td>0.000000</td>\n",
       "      <td>0.000000</td>\n",
       "    </tr>\n",
       "    <tr>\n",
       "      <th>34</th>\n",
       "      <td>RRMS</td>\n",
       "      <td>0.0</td>\n",
       "      <td>0.000000</td>\n",
       "      <td>0.000000</td>\n",
       "      <td>0.000000</td>\n",
       "      <td>0.000000</td>\n",
       "      <td>0.000000</td>\n",
       "      <td>0.000000</td>\n",
       "      <td>0.000000</td>\n",
       "    </tr>\n",
       "    <tr>\n",
       "      <th>36</th>\n",
       "      <td>SPMS</td>\n",
       "      <td>3.5</td>\n",
       "      <td>0.000000</td>\n",
       "      <td>0.000000</td>\n",
       "      <td>3.000000</td>\n",
       "      <td>3.000000</td>\n",
       "      <td>1.000000</td>\n",
       "      <td>1.000000</td>\n",
       "      <td>1.000000</td>\n",
       "    </tr>\n",
       "    <tr>\n",
       "      <th>37</th>\n",
       "      <td>SPMS</td>\n",
       "      <td>2.0</td>\n",
       "      <td>0.000000</td>\n",
       "      <td>1.000000</td>\n",
       "      <td>2.000000</td>\n",
       "      <td>0.000000</td>\n",
       "      <td>0.000000</td>\n",
       "      <td>1.000000</td>\n",
       "      <td>0.000000</td>\n",
       "    </tr>\n",
       "    <tr>\n",
       "      <th>40</th>\n",
       "      <td>SPMS</td>\n",
       "      <td>1.0</td>\n",
       "      <td>0.000000</td>\n",
       "      <td>0.000000</td>\n",
       "      <td>0.000000</td>\n",
       "      <td>1.000000</td>\n",
       "      <td>0.000000</td>\n",
       "      <td>0.000000</td>\n",
       "      <td>0.000000</td>\n",
       "    </tr>\n",
       "    <tr>\n",
       "      <th>43</th>\n",
       "      <td>RRMS</td>\n",
       "      <td>2.5</td>\n",
       "      <td>0.806000</td>\n",
       "      <td>0.806000</td>\n",
       "      <td>0.806000</td>\n",
       "      <td>0.806000</td>\n",
       "      <td>0.806000</td>\n",
       "      <td>0.806000</td>\n",
       "      <td>0.806000</td>\n",
       "    </tr>\n",
       "  </tbody>\n",
       "</table>\n",
       "</div>"
      ],
      "text/plain": [
       "   MS_TYPE$  EDSS  FSS_VISUAL  FSS_BRSTEM  FSS_PYRAMID  FSS_CEREBELL  \\\n",
       "0      SPMS   3.0    1.000000    0.000000     2.000000      1.000000   \n",
       "1      SPMS   5.5    1.000000    1.000000     4.000000      3.000000   \n",
       "2      RRMS   1.0    0.000000    0.000000     0.000000      0.000000   \n",
       "3      SPMS   6.5    1.000000    2.000000     5.000000      3.000000   \n",
       "4      SPMS   4.0    0.000000    1.000000     3.000000      2.000000   \n",
       "7      RRMS   1.5    0.000000    0.000000     1.000000      0.000000   \n",
       "8      RRMS   2.0    0.000000    1.000000     1.000000      2.000000   \n",
       "9      RRMS   3.0    0.000000    1.000000     3.000000      0.000000   \n",
       "11     RRMS   1.0    0.142857    0.142857     0.142857      0.142857   \n",
       "12     RRMS   1.0    0.000000    0.000000     1.000000      0.000000   \n",
       "14     RRMS   1.5    1.000000    1.000000     1.000000      1.000000   \n",
       "15     RRMS   1.5    0.000000    0.000000     1.000000      0.000000   \n",
       "16     RRMS   4.5    3.000000    1.000000     1.000000      1.000000   \n",
       "17     RRMS   1.5    1.000000    1.000000     1.000000      1.000000   \n",
       "19     RRMS   3.5    3.000000    1.000000     1.000000      1.000000   \n",
       "20     RRMS   1.5    0.000000    0.000000     1.000000      0.000000   \n",
       "21     SPMS   6.5    3.000000    2.000000     4.000000      2.000000   \n",
       "23     SPMS   3.0    1.000000    0.000000     2.000000      2.000000   \n",
       "24     RRMS   3.0    0.000000    0.000000     1.000000      3.000000   \n",
       "25     SPMS   5.5    2.000000    0.000000     3.000000      1.000000   \n",
       "30     SPMS   5.0    1.000000    0.000000     3.000000      2.000000   \n",
       "31     RRMS   1.0    0.000000    0.000000     0.000000      0.000000   \n",
       "33     RRMS   1.5    0.000000    0.000000     1.000000      0.000000   \n",
       "34     RRMS   0.0    0.000000    0.000000     0.000000      0.000000   \n",
       "36     SPMS   3.5    0.000000    0.000000     3.000000      3.000000   \n",
       "37     SPMS   2.0    0.000000    1.000000     2.000000      0.000000   \n",
       "40     SPMS   1.0    0.000000    0.000000     0.000000      1.000000   \n",
       "43     RRMS   2.5    0.806000    0.806000     0.806000      0.806000   \n",
       "\n",
       "    FSS_SENSORY  FSS_BOWBLAD  FSS_CEREBRAL  \n",
       "0      2.000000     1.000000      0.000000  \n",
       "1      3.000000     2.000000      1.000000  \n",
       "2      1.000000     0.000000      0.000000  \n",
       "3      3.000000     1.000000      1.000000  \n",
       "4      2.000000     1.000000      0.000000  \n",
       "7      1.000000     0.000000      0.000000  \n",
       "8      0.000000     1.000000      0.000000  \n",
       "9      1.000000     0.000000      0.000000  \n",
       "11     0.142857     0.142857      0.142857  \n",
       "12     0.000000     0.000000      0.000000  \n",
       "14     0.000000     0.000000      0.000000  \n",
       "15     1.000000     0.000000      0.000000  \n",
       "16     4.000000     1.000000      0.000000  \n",
       "17     1.000000     0.000000      0.000000  \n",
       "19     1.000000     0.000000      0.000000  \n",
       "20     1.000000     0.000000      1.000000  \n",
       "21     2.000000     1.000000      1.000000  \n",
       "23     2.000000     2.000000      1.000000  \n",
       "24     2.000000     1.000000      1.000000  \n",
       "25     2.000000     1.000000      1.000000  \n",
       "30     2.000000     1.000000      0.000000  \n",
       "31     1.000000     0.000000      0.000000  \n",
       "33     1.000000     0.000000      0.000000  \n",
       "34     0.000000     0.000000      0.000000  \n",
       "36     1.000000     1.000000      1.000000  \n",
       "37     0.000000     1.000000      0.000000  \n",
       "40     0.000000     0.000000      0.000000  \n",
       "43     0.806000     0.806000      0.806000  "
      ]
     },
     "execution_count": 22,
     "metadata": {},
     "output_type": "execute_result"
    }
   ],
   "source": [
    "df_MS_subgroup = df_neuropsych[df_neuropsych['GROUP$'] == \"MS\"]\n",
    "\n",
    "# filter edss subscores only and delete rows containing NaNs\n",
    "df_MS_subgroup = df_MS_subgroup[filter_ms]\n",
    "\n",
    "# force datatypes to numeric\n",
    "df_MS_subgroup[EDSS_subscores] = df_MS_subgroup[EDSS_subscores].apply(pd.to_numeric, errors='coerce')\n",
    "\n",
    "\n",
    "# drop rows with nan values\n",
    "df_MS_subgroup = df_MS_subgroup.dropna()\n",
    "df_MS_subgroup"
   ]
  },
  {
   "cell_type": "code",
   "execution_count": 23,
   "metadata": {},
   "outputs": [
    {
     "data": {
      "text/plain": [
       "RRMS    17\n",
       "SPMS    11\n",
       "Name: MS_TYPE$, dtype: int64"
      ]
     },
     "execution_count": 23,
     "metadata": {},
     "output_type": "execute_result"
    }
   ],
   "source": [
    "df_MS_subgroup['MS_TYPE$'].value_counts()"
   ]
  },
  {
   "cell_type": "code",
   "execution_count": 24,
   "metadata": {},
   "outputs": [
    {
     "data": {
      "image/png": "[encoded data removed]",
      "text/plain": [
       "<Figure size 864x864 with 9 Axes>"
      ]
     },
     "metadata": {
      "needs_background": "light"
     },
     "output_type": "display_data"
    }
   ],
   "source": [
    "fig, ax = plt.subplots(3,3, figsize=(12,12))\n",
    "fig.tight_layout(pad=5)\n",
    "fig.suptitle('EDSS & FSS Subscores', fontsize=25, fontweight='bold', y=1.01)\n",
    "ax = ax.ravel()\n",
    "\n",
    "for i in range(len(EDSS_subscores)):\n",
    "    sns.barplot(ax=ax[i], x='MS_TYPE$', y=EDSS_subscores[i], data=df_MS_subgroup, order=['RRMS', 'SPMS'], palette=['#FFC61E', '#E9002D'])\n",
    "    ax[i].set_title(EDSS_subscores[i])\n",
    "    ax[i].set_xlabel('Phenotype')"
   ]
  },
  {
   "cell_type": "markdown",
   "metadata": {},
   "source": [
    "## Principal Component Analysis"
   ]
  },
  {
   "cell_type": "markdown",
   "metadata": {},
   "source": [
    "### Format Dataframe for PCA"
   ]
  },
  {
   "cell_type": "code",
   "execution_count": 25,
   "metadata": {},
   "outputs": [],
   "source": [
    "# remove phenotype column to make it its own label\n",
    "df_PCA_labels = data.pop('MS_TYPE$')"
   ]
  },
  {
   "cell_type": "code",
   "execution_count": 26,
   "metadata": {},
   "outputs": [],
   "source": [
    "# filter out all numeric columns to perform PCA on\n",
    "df_PCA = data._get_numeric_data()\n",
    "df_PCA = df_PCA.drop(['Unnamed: 0'], axis=1)"
   ]
  },
  {
   "cell_type": "code",
   "execution_count": 27,
   "metadata": {},
   "outputs": [],
   "source": [
    "# standardize all columns\n",
    "scaler = StandardScaler()\n",
    "df_PCA_scaled = pd.DataFrame(scaler.fit_transform(df_PCA), columns = df_PCA.columns)"
   ]
  },
  {
   "cell_type": "code",
   "execution_count": 28,
   "metadata": {},
   "outputs": [],
   "source": [
    "# remove any rows with NAN values (temporary solution)\n",
    "df_PCA_scaled = df_PCA_scaled.dropna(axis=1)"
   ]
  },
  {
   "cell_type": "code",
   "execution_count": 29,
   "metadata": {},
   "outputs": [],
   "source": [
    "import plotly.express as px"
   ]
  },
  {
   "cell_type": "code",
   "execution_count": 35,
   "metadata": {},
   "outputs": [
    {
     "data": {
      "application/vnd.plotly.v1+json": {
       "config": {
        "plotlyServerURL": "https://plot.ly"
       },
       "data": [
        {
         "diagonal": {
          "visible": false
         },
         "dimensions": [
          {
           "axis": {
            "matches": true
           },
           "label": "PC 1",
           "values": [
            0.3411208470158516,
            -4.603461808344785,
            4.639196242780198,
            6.657840354230908,
            12.573307650322526,
            14.245367260299677,
            -1.5175015199492838,
            2.635469277418881,
            4.733231207000897,
            5.205452810222443,
            -6.078293116867366
           ]
          },
          {
           "axis": {
            "matches": true
           },
           "label": "PC 2",
           "values": [
            5.984296820010448,
            -0.2274373231463729,
            0.8363056812453243,
            3.6440725390024538,
            -5.066532308387966,
            -5.897332037190798,
            0.19357959592305032,
            -0.4638842483141234,
            2.492685707867503,
            0.09559338720609249,
            -0.6439844505084288
           ]
          },
          {
           "axis": {
            "matches": true
           },
           "label": "PC 3",
           "values": [
            6.3204830855949625,
            0.8193805119897304,
            -2.0614343432524374,
            -4.09439155687418,
            -3.2734533932233276,
            4.112292822368438,
            2.0659965840760988,
            -0.30752381623402125,
            -3.248301588050254,
            -1.0653813608486318,
            1.4525637673299965
           ]
          },
          {
           "axis": {
            "matches": true
           },
           "label": "PC 4",
           "values": [
            5.370135235294088,
            -1.5705939776260023,
            -1.14507399692187,
            -1.376094093727401,
            -0.4389599889649259,
            -2.6056374936230826,
            -1.5822264738256695,
            -2.37354577750704,
            2.771588857505241,
            1.0228255773662944,
            -1.6131226154010458
           ]
          },
          {
           "axis": {
            "matches": true
           },
           "label": "PC 5",
           "values": [
            -1.7311800661594068,
            -0.7239567949995249,
            -0.1893454118784308,
            -1.6391551132398672,
            2.485918027509446,
            -3.332433684075012,
            -1.3283754418727096,
            0.6100986604923018,
            -1.879179505885819,
            -1.284988837277901,
            0.6772410462773956
           ]
          }
         ],
         "hovertemplate": "Cohort=SPMS<br>%{xaxis.title.text}=%{x}<br>%{yaxis.title.text}=%{y}<extra></extra>",
         "legendgroup": "SPMS",
         "marker": {
          "color": "#636efa",
          "symbol": "circle"
         },
         "name": "SPMS",
         "showlegend": true,
         "type": "splom"
        },
        {
         "diagonal": {
          "visible": false
         },
         "dimensions": [
          {
           "axis": {
            "matches": true
           },
           "label": "PC 1",
           "values": [
            -5.7460784092149675,
            2.325460823707436,
            3.670656460566245,
            4.595185126154383,
            4.461957637732315,
            -4.156977461180831,
            -6.473300688892999,
            -7.050326035228283,
            -1.2266176171549987,
            5.343943949051795,
            -2.636633908227675,
            0.922461125293543,
            2.4385470954996933,
            4.471923020355943,
            1.5862050312057951,
            4.808268922785371,
            -0.09120606848526137,
            13.05491662124881
           ]
          },
          {
           "axis": {
            "matches": true
           },
           "label": "PC 2",
           "values": [
            1.5811096659004564,
            -0.10611211924676602,
            -0.15396138628615794,
            -0.3266747894519383,
            3.189993886423839,
            4.914555719259917,
            -1.5499988757322758,
            1.5082270094776218,
            -0.6887376524479881,
            -1.026322807948332,
            1.4628919567971197,
            5.397998259500074,
            0.09087718283346473,
            3.065252197397727,
            1.296555418342832,
            -1.2607131901399833,
            1.0453554681062487,
            1.075803040137275
           ]
          },
          {
           "axis": {
            "matches": true
           },
           "label": "PC 3",
           "values": [
            -0.46680264606291083,
            1.3927834214260475,
            0.5256186465839062,
            0.20855107305544293,
            -3.2901577057640954,
            0.9519034909364691,
            0.0002678385868504623,
            -0.537286271034171,
            -1.8459394036867909,
            1.4113385813333104,
            0.42184714691368685,
            -1.2207516479792901,
            0.050838833329268626,
            3.8337457462143574,
            -1.9007190187947247,
            -6.065141847242883,
            -1.206542071133798,
            6.098119420638677
           ]
          },
          {
           "axis": {
            "matches": true
           },
           "label": "PC 4",
           "values": [
            -0.3466202071896327,
            -1.4690343653529883,
            -0.37226957209244915,
            3.04841929171133,
            -2.2141977234552646,
            -1.7540588856550514,
            2.3308072386902348,
            0.04248383718719728,
            0.439886280382537,
            2.987986706734081,
            1.2054688982642314,
            -3.62877960681124,
            1.1280764537815264,
            0.6783839405853592,
            -2.6623401864867304,
            3.168624285436658,
            2.6446733925368355,
            -0.8904267816507011
           ]
          },
          {
           "axis": {
            "matches": true
           },
           "label": "PC 5",
           "values": [
            0.8953871502143627,
            -1.2575179262024716,
            -3.410981083395158,
            -1.7453501641520213,
            -1.663763104348785,
            1.1486245233497834,
            0.9936086314967246,
            2.1138952322770814,
            0.5427939728190678,
            -0.8468967005133752,
            3.582491904126037,
            -0.24937675858830224,
            -1.272264679888392,
            -2.8207024706399935,
            -0.13483981501039186,
            3.265467982427931,
            0.9538138782455768,
            8.757953834135197
           ]
          }
         ],
         "hovertemplate": "Cohort=RRMS<br>%{xaxis.title.text}=%{x}<br>%{yaxis.title.text}=%{y}<extra></extra>",
         "legendgroup": "RRMS",
         "marker": {
          "color": "#EF553B",
          "symbol": "circle"
         },
         "name": "RRMS",
         "showlegend": true,
         "type": "splom"
        },
        {
         "diagonal": {
          "visible": false
         },
         "dimensions": [
          {
           "axis": {
            "matches": true
           },
           "label": "PC 1",
           "values": [
            -5.98881154738241,
            -6.462203714229831,
            -2.9972580734780627,
            -7.220074282734103,
            -4.329075225499361,
            -6.237179488146984,
            -1.9991656470615522,
            -3.5646415225097408,
            -2.3969378918629327,
            1.0707369535253666,
            -3.4198668309854576,
            -7.9184737665775415,
            -7.218003696577112,
            2.611384609893323,
            -3.0605447057198574
           ]
          },
          {
           "axis": {
            "matches": true
           },
           "label": "PC 2",
           "values": [
            -0.4161429964876464,
            -1.6841068161523804,
            0.40077897644904503,
            -2.962563951428776,
            -2.0284151886746993,
            1.4874728357360079,
            1.3341107705191115,
            -0.2577301795067645,
            -1.2099471047816652,
            -3.2809916078195673,
            -1.182371100592151,
            -3.2819652406343236,
            -4.706365336093499,
            -0.57629623839182,
            -2.098929168771186
           ]
          },
          {
           "axis": {
            "matches": true
           },
           "label": "PC 3",
           "values": [
            0.12414634092060645,
            0.6891752320547299,
            0.788569948048388,
            -0.8530816132554371,
            -1.937960077663367,
            0.15923974056058537,
            -1.6393100507027198,
            -0.016832854356992607,
            -0.5659629558749916,
            0.9910463530100234,
            -1.1833959222022479,
            1.350409039250494,
            1.9027541629511502,
            0.07058800660024395,
            1.0387103504638082
           ]
          },
          {
           "axis": {
            "matches": true
           },
           "label": "PC 4",
           "values": [
            0.05451996962860336,
            -2.585295910896236,
            -2.8478227176700344,
            -0.22760608822268763,
            2.6335057013534695,
            -0.8749102907841686,
            2.1083235579645128,
            -1.614622318129145,
            0.014962694895532138,
            1.6304881311047803,
            0.15472752599235487,
            -1.537543460879864,
            -0.22233726291477057,
            -2.2623702554168257,
            4.779602474789951
           ]
          },
          {
           "axis": {
            "matches": true
           },
           "label": "PC 5",
           "values": [
            0.33208303667471606,
            0.4105531189897718,
            0.15082312588918312,
            -0.026050040014230336,
            -0.202957547816721,
            1.661941850277725,
            -0.39460862021824866,
            0.2752877905549419,
            -0.2322535076604997,
            1.1083729757747771,
            0.33121292829726895,
            -1.664323405344975,
            -0.7271912924939131,
            -0.8518352123838849,
            -0.6880424857692523
           ]
          }
         ],
         "hovertemplate": "Cohort=HC<br>%{xaxis.title.text}=%{x}<br>%{yaxis.title.text}=%{y}<extra></extra>",
         "legendgroup": "HC",
         "marker": {
          "color": "#00cc96",
          "symbol": "circle"
         },
         "name": "HC",
         "showlegend": true,
         "type": "splom"
        }
       ],
       "layout": {
        "dragmode": "select",
        "height": 800,
        "legend": {
         "title": {
          "text": "Cohort"
         },
         "tracegroupgap": 0
        },
        "template": {
         "data": {
          "bar": [
           {
            "error_x": {
             "color": "#2a3f5f"
            },
            "error_y": {
             "color": "#2a3f5f"
            },
            "marker": {
             "line": {
              "color": "#E5ECF6",
              "width": 0.5
             },
             "pattern": {
              "fillmode": "overlay",
              "size": 10,
              "solidity": 0.2
             }
            },
            "type": "bar"
           }
          ],
          "barpolar": [
           {
            "marker": {
             "line": {
              "color": "#E5ECF6",
              "width": 0.5
             },
             "pattern": {
              "fillmode": "overlay",
              "size": 10,
              "solidity": 0.2
             }
            },
            "type": "barpolar"
           }
          ],
          "carpet": [
           {
            "aaxis": {
             "endlinecolor": "#2a3f5f",
             "gridcolor": "white",
             "linecolor": "white",
             "minorgridcolor": "white",
             "startlinecolor": "#2a3f5f"
            },
            "baxis": {
             "endlinecolor": "#2a3f5f",
             "gridcolor": "white",
             "linecolor": "white",
             "minorgridcolor": "white",
             "startlinecolor": "#2a3f5f"
            },
            "type": "carpet"
           }
          ],
          "choropleth": [
           {
            "colorbar": {
             "outlinewidth": 0,
             "ticks": ""
            },
            "type": "choropleth"
           }
          ],
          "contour": [
           {
            "colorbar": {
             "outlinewidth": 0,
             "ticks": ""
            },
            "colorscale": [
             [
              0,
              "#0d0887"
             ],
             [
              0.1111111111111111,
              "#46039f"
             ],
             [
              0.2222222222222222,
              "#7201a8"
             ],
             [
              0.3333333333333333,
              "#9c179e"
             ],
             [
              0.4444444444444444,
              "#bd3786"
             ],
             [
              0.5555555555555556,
              "#d8576b"
             ],
             [
              0.6666666666666666,
              "#ed7953"
             ],
             [
              0.7777777777777778,
              "#fb9f3a"
             ],
             [
              0.8888888888888888,
              "#fdca26"
             ],
             [
              1,
              "#f0f921"
             ]
            ],
            "type": "contour"
           }
          ],
          "contourcarpet": [
           {
            "colorbar": {
             "outlinewidth": 0,
             "ticks": ""
            },
            "type": "contourcarpet"
           }
          ],
          "heatmap": [
           {
            "colorbar": {
             "outlinewidth": 0,
             "ticks": ""
            },
            "colorscale": [
             [
              0,
              "#0d0887"
             ],
             [
              0.1111111111111111,
              "#46039f"
             ],
             [
              0.2222222222222222,
              "#7201a8"
             ],
             [
              0.3333333333333333,
              "#9c179e"
             ],
             [
              0.4444444444444444,
              "#bd3786"
             ],
             [
              0.5555555555555556,
              "#d8576b"
             ],
             [
              0.6666666666666666,
              "#ed7953"
             ],
             [
              0.7777777777777778,
              "#fb9f3a"
             ],
             [
              0.8888888888888888,
              "#fdca26"
             ],
             [
              1,
              "#f0f921"
             ]
            ],
            "type": "heatmap"
           }
          ],
          "heatmapgl": [
           {
            "colorbar": {
             "outlinewidth": 0,
             "ticks": ""
            },
            "colorscale": [
             [
              0,
              "#0d0887"
             ],
             [
              0.1111111111111111,
              "#46039f"
             ],
             [
              0.2222222222222222,
              "#7201a8"
             ],
             [
              0.3333333333333333,
              "#9c179e"
             ],
             [
              0.4444444444444444,
              "#bd3786"
             ],
             [
              0.5555555555555556,
              "#d8576b"
             ],
             [
              0.6666666666666666,
              "#ed7953"
             ],
             [
              0.7777777777777778,
              "#fb9f3a"
             ],
             [
              0.8888888888888888,
              "#fdca26"
             ],
             [
              1,
              "#f0f921"
             ]
            ],
            "type": "heatmapgl"
           }
          ],
          "histogram": [
           {
            "marker": {
             "pattern": {
              "fillmode": "overlay",
              "size": 10,
              "solidity": 0.2
             }
            },
            "type": "histogram"
           }
          ],
          "histogram2d": [
           {
            "colorbar": {
             "outlinewidth": 0,
             "ticks": ""
            },
            "colorscale": [
             [
              0,
              "#0d0887"
             ],
             [
              0.1111111111111111,
              "#46039f"
             ],
             [
              0.2222222222222222,
              "#7201a8"
             ],
             [
              0.3333333333333333,
              "#9c179e"
             ],
             [
              0.4444444444444444,
              "#bd3786"
             ],
             [
              0.5555555555555556,
              "#d8576b"
             ],
             [
              0.6666666666666666,
              "#ed7953"
             ],
             [
              0.7777777777777778,
              "#fb9f3a"
             ],
             [
              0.8888888888888888,
              "#fdca26"
             ],
             [
              1,
              "#f0f921"
             ]
            ],
            "type": "histogram2d"
           }
          ],
          "histogram2dcontour": [
           {
            "colorbar": {
             "outlinewidth": 0,
             "ticks": ""
            },
            "colorscale": [
             [
              0,
              "#0d0887"
             ],
             [
              0.1111111111111111,
              "#46039f"
             ],
             [
              0.2222222222222222,
              "#7201a8"
             ],
             [
              0.3333333333333333,
              "#9c179e"
             ],
             [
              0.4444444444444444,
              "#bd3786"
             ],
             [
              0.5555555555555556,
              "#d8576b"
             ],
             [
              0.6666666666666666,
              "#ed7953"
             ],
             [
              0.7777777777777778,
              "#fb9f3a"
             ],
             [
              0.8888888888888888,
              "#fdca26"
             ],
             [
              1,
              "#f0f921"
             ]
            ],
            "type": "histogram2dcontour"
           }
          ],
          "mesh3d": [
           {
            "colorbar": {
             "outlinewidth": 0,
             "ticks": ""
            },
            "type": "mesh3d"
           }
          ],
          "parcoords": [
           {
            "line": {
             "colorbar": {
              "outlinewidth": 0,
              "ticks": ""
             }
            },
            "type": "parcoords"
           }
          ],
          "pie": [
           {
            "automargin": true,
            "type": "pie"
           }
          ],
          "scatter": [
           {
            "fillpattern": {
             "fillmode": "overlay",
             "size": 10,
             "solidity": 0.2
            },
            "type": "scatter"
           }
          ],
          "scatter3d": [
           {
            "line": {
             "colorbar": {
              "outlinewidth": 0,
              "ticks": ""
             }
            },
            "marker": {
             "colorbar": {
              "outlinewidth": 0,
              "ticks": ""
             }
            },
            "type": "scatter3d"
           }
          ],
          "scattercarpet": [
           {
            "marker": {
             "colorbar": {
              "outlinewidth": 0,
              "ticks": ""
             }
            },
            "type": "scattercarpet"
           }
          ],
          "scattergeo": [
           {
            "marker": {
             "colorbar": {
              "outlinewidth": 0,
              "ticks": ""
             }
            },
            "type": "scattergeo"
           }
          ],
          "scattergl": [
           {
            "marker": {
             "colorbar": {
              "outlinewidth": 0,
              "ticks": ""
             }
            },
            "type": "scattergl"
           }
          ],
          "scattermapbox": [
           {
            "marker": {
             "colorbar": {
              "outlinewidth": 0,
              "ticks": ""
             }
            },
            "type": "scattermapbox"
           }
          ],
          "scatterpolar": [
           {
            "marker": {
             "colorbar": {
              "outlinewidth": 0,
              "ticks": ""
             }
            },
            "type": "scatterpolar"
           }
          ],
          "scatterpolargl": [
           {
            "marker": {
             "colorbar": {
              "outlinewidth": 0,
              "ticks": ""
             }
            },
            "type": "scatterpolargl"
           }
          ],
          "scatterternary": [
           {
            "marker": {
             "colorbar": {
              "outlinewidth": 0,
              "ticks": ""
             }
            },
            "type": "scatterternary"
           }
          ],
          "surface": [
           {
            "colorbar": {
             "outlinewidth": 0,
             "ticks": ""
            },
            "colorscale": [
             [
              0,
              "#0d0887"
             ],
             [
              0.1111111111111111,
              "#46039f"
             ],
             [
              0.2222222222222222,
              "#7201a8"
             ],
             [
              0.3333333333333333,
              "#9c179e"
             ],
             [
              0.4444444444444444,
              "#bd3786"
             ],
             [
              0.5555555555555556,
              "#d8576b"
             ],
             [
              0.6666666666666666,
              "#ed7953"
             ],
             [
              0.7777777777777778,
              "#fb9f3a"
             ],
             [
              0.8888888888888888,
              "#fdca26"
             ],
             [
              1,
              "#f0f921"
             ]
            ],
            "type": "surface"
           }
          ],
          "table": [
           {
            "cells": {
             "fill": {
              "color": "#EBF0F8"
             },
             "line": {
              "color": "white"
             }
            },
            "header": {
             "fill": {
              "color": "#C8D4E3"
             },
             "line": {
              "color": "white"
             }
            },
            "type": "table"
           }
          ]
         },
         "layout": {
          "annotationdefaults": {
           "arrowcolor": "#2a3f5f",
           "arrowhead": 0,
           "arrowwidth": 1
          },
          "autotypenumbers": "strict",
          "coloraxis": {
           "colorbar": {
            "outlinewidth": 0,
            "ticks": ""
           }
          },
          "colorscale": {
           "diverging": [
            [
             0,
             "#8e0152"
            ],
            [
             0.1,
             "#c51b7d"
            ],
            [
             0.2,
             "#de77ae"
            ],
            [
             0.3,
             "#f1b6da"
            ],
            [
             0.4,
             "#fde0ef"
            ],
            [
             0.5,
             "#f7f7f7"
            ],
            [
             0.6,
             "#e6f5d0"
            ],
            [
             0.7,
             "#b8e186"
            ],
            [
             0.8,
             "#7fbc41"
            ],
            [
             0.9,
             "#4d9221"
            ],
            [
             1,
             "#276419"
            ]
           ],
           "sequential": [
            [
             0,
             "#0d0887"
            ],
            [
             0.1111111111111111,
             "#46039f"
            ],
            [
             0.2222222222222222,
             "#7201a8"
            ],
            [
             0.3333333333333333,
             "#9c179e"
            ],
            [
             0.4444444444444444,
             "#bd3786"
            ],
            [
             0.5555555555555556,
             "#d8576b"
            ],
            [
             0.6666666666666666,
             "#ed7953"
            ],
            [
             0.7777777777777778,
             "#fb9f3a"
            ],
            [
             0.8888888888888888,
             "#fdca26"
            ],
            [
             1,
             "#f0f921"
            ]
           ],
           "sequentialminus": [
            [
             0,
             "#0d0887"
            ],
            [
             0.1111111111111111,
             "#46039f"
            ],
            [
             0.2222222222222222,
             "#7201a8"
            ],
            [
             0.3333333333333333,
             "#9c179e"
            ],
            [
             0.4444444444444444,
             "#bd3786"
            ],
            [
             0.5555555555555556,
             "#d8576b"
            ],
            [
             0.6666666666666666,
             "#ed7953"
            ],
            [
             0.7777777777777778,
             "#fb9f3a"
            ],
            [
             0.8888888888888888,
             "#fdca26"
            ],
            [
             1,
             "#f0f921"
            ]
           ]
          },
          "colorway": [
           "#636efa",
           "#EF553B",
           "#00cc96",
           "#ab63fa",
           "#FFA15A",
           "#19d3f3",
           "#FF6692",
           "#B6E880",
           "#FF97FF",
           "#FECB52"
          ],
          "font": {
           "color": "#2a3f5f"
          },
          "geo": {
           "bgcolor": "white",
           "lakecolor": "white",
           "landcolor": "#E5ECF6",
           "showlakes": true,
           "showland": true,
           "subunitcolor": "white"
          },
          "hoverlabel": {
           "align": "left"
          },
          "hovermode": "closest",
          "mapbox": {
           "style": "light"
          },
          "paper_bgcolor": "white",
          "plot_bgcolor": "#E5ECF6",
          "polar": {
           "angularaxis": {
            "gridcolor": "white",
            "linecolor": "white",
            "ticks": ""
           },
           "bgcolor": "#E5ECF6",
           "radialaxis": {
            "gridcolor": "white",
            "linecolor": "white",
            "ticks": ""
           }
          },
          "scene": {
           "xaxis": {
            "backgroundcolor": "#E5ECF6",
            "gridcolor": "white",
            "gridwidth": 2,
            "linecolor": "white",
            "showbackground": true,
            "ticks": "",
            "zerolinecolor": "white"
           },
           "yaxis": {
            "backgroundcolor": "#E5ECF6",
            "gridcolor": "white",
            "gridwidth": 2,
            "linecolor": "white",
            "showbackground": true,
            "ticks": "",
            "zerolinecolor": "white"
           },
           "zaxis": {
            "backgroundcolor": "#E5ECF6",
            "gridcolor": "white",
            "gridwidth": 2,
            "linecolor": "white",
            "showbackground": true,
            "ticks": "",
            "zerolinecolor": "white"
           }
          },
          "shapedefaults": {
           "line": {
            "color": "#2a3f5f"
           }
          },
          "ternary": {
           "aaxis": {
            "gridcolor": "white",
            "linecolor": "white",
            "ticks": ""
           },
           "baxis": {
            "gridcolor": "white",
            "linecolor": "white",
            "ticks": ""
           },
           "bgcolor": "#E5ECF6",
           "caxis": {
            "gridcolor": "white",
            "linecolor": "white",
            "ticks": ""
           }
          },
          "title": {
           "x": 0.05
          },
          "xaxis": {
           "automargin": true,
           "gridcolor": "white",
           "linecolor": "white",
           "ticks": "",
           "title": {
            "standoff": 15
           },
           "zerolinecolor": "white",
           "zerolinewidth": 2
          },
          "yaxis": {
           "automargin": true,
           "gridcolor": "white",
           "linecolor": "white",
           "ticks": "",
           "title": {
            "standoff": 15
           },
           "zerolinecolor": "white",
           "zerolinewidth": 2
          }
         }
        },
        "title": {
         "text": "Total Explained Variance: 64.33%"
        },
        "width": 800
       }
      }
     },
     "metadata": {},
     "output_type": "display_data"
    }
   ],
   "source": [
    "\n",
    "# label each PCA component by number\n",
    "labels['color'] = 'Cohort'\n",
    "\n",
    "fig = px.scatter_matrix(\n",
    "    df_PCA_components,\n",
    "    color=df_PCA_labels,\n",
    "    dimensions=range(n_components),\n",
    "    labels=labels,\n",
    "    title=f'Total Explained Variance: {pct_var:.2f}%',\n",
    "    width=800, height=800\n",
    ")\n",
    "fig.update_traces(diagonal_visible=False)\n",
    "fig.show()"
   ]
  },
  {
   "cell_type": "code",
   "execution_count": 57,
   "metadata": {},
   "outputs": [
    {
     "data": {
      "text/plain": [
       "64.33272559590026"
      ]
     },
     "execution_count": 57,
     "metadata": {},
     "output_type": "execute_result"
    }
   ],
   "source": [
    "pct_var"
   ]
  },
  {
   "cell_type": "code",
   "execution_count": 47,
   "metadata": {},
   "outputs": [],
   "source": [
    "n_components = 5\n",
    "labels = {str(i): f\"PC {i+1}\" for i in range(n_components)}\n",
    "\n",
    "# perform PCA\n",
    "pca = PCA(n_components=n_components)\n",
    "df_PCA_components = pca.fit_transform(df_PCA_scaled)\n",
    "df_PCA_components = pd.DataFrame(df_PCA_components, columns = labels.values())\n",
    "\n",
    "# get variances in percentage\n",
    "pct_var = pca.explained_variance_ratio_.sum() * 100"
   ]
  },
  {
   "cell_type": "code",
   "execution_count": 52,
   "metadata": {},
   "outputs": [
    {
     "data": {
      "text/plain": [
       "array(['SPMS', 'SPMS', 'RRMS', 'SPMS', 'SPMS', 'HC', 'RRMS', 'RRMS',\n",
       "       'RRMS', 'RRMS', 'HC', 'RRMS', 'RRMS', 'HC', 'RRMS', 'RRMS', 'RRMS',\n",
       "       'RRMS', 'HC', 'RRMS', 'RRMS', 'SPMS', 'HC', 'SPMS', 'RRMS', 'SPMS',\n",
       "       'HC', 'HC', 'HC', 'HC', 'SPMS', 'RRMS', 'HC', 'RRMS', 'RRMS', 'HC',\n",
       "       'SPMS', 'SPMS', 'HC', 'HC', 'SPMS', 'HC', 'HC', 'RRMS'],\n",
       "      dtype=object)"
      ]
     },
     "execution_count": 52,
     "metadata": {},
     "output_type": "execute_result"
    }
   ],
   "source": [
    "df_PCA_labels.values"
   ]
  },
  {
   "cell_type": "code",
   "execution_count": 56,
   "metadata": {},
   "outputs": [
    {
     "data": {
      "text/html": [
       "<div>\n",
       "<style scoped>\n",
       "    .dataframe tbody tr th:only-of-type {\n",
       "        vertical-align: middle;\n",
       "    }\n",
       "\n",
       "    .dataframe tbody tr th {\n",
       "        vertical-align: top;\n",
       "    }\n",
       "\n",
       "    .dataframe thead th {\n",
       "        text-align: right;\n",
       "    }\n",
       "</style>\n",
       "<table border=\"1\" class=\"dataframe\">\n",
       "  <thead>\n",
       "    <tr style=\"text-align: right;\">\n",
       "      <th></th>\n",
       "      <th>PC 1</th>\n",
       "      <th>PC 2</th>\n",
       "      <th>PC 3</th>\n",
       "      <th>PC 4</th>\n",
       "      <th>PC 5</th>\n",
       "      <th>0</th>\n",
       "    </tr>\n",
       "  </thead>\n",
       "  <tbody>\n",
       "    <tr>\n",
       "      <th>0</th>\n",
       "      <td>0.341121</td>\n",
       "      <td>5.984297</td>\n",
       "      <td>6.320483</td>\n",
       "      <td>5.370135</td>\n",
       "      <td>-1.731180</td>\n",
       "      <td>NaN</td>\n",
       "    </tr>\n",
       "    <tr>\n",
       "      <th>1</th>\n",
       "      <td>-4.603462</td>\n",
       "      <td>-0.227437</td>\n",
       "      <td>0.819381</td>\n",
       "      <td>-1.570594</td>\n",
       "      <td>-0.723957</td>\n",
       "      <td>NaN</td>\n",
       "    </tr>\n",
       "    <tr>\n",
       "      <th>2</th>\n",
       "      <td>-5.746078</td>\n",
       "      <td>1.581110</td>\n",
       "      <td>-0.466803</td>\n",
       "      <td>-0.346620</td>\n",
       "      <td>0.895387</td>\n",
       "      <td>NaN</td>\n",
       "    </tr>\n",
       "    <tr>\n",
       "      <th>3</th>\n",
       "      <td>4.639196</td>\n",
       "      <td>0.836306</td>\n",
       "      <td>-2.061434</td>\n",
       "      <td>-1.145074</td>\n",
       "      <td>-0.189345</td>\n",
       "      <td>NaN</td>\n",
       "    </tr>\n",
       "    <tr>\n",
       "      <th>4</th>\n",
       "      <td>6.657840</td>\n",
       "      <td>3.644073</td>\n",
       "      <td>-4.094392</td>\n",
       "      <td>-1.376094</td>\n",
       "      <td>-1.639155</td>\n",
       "      <td>NaN</td>\n",
       "    </tr>\n",
       "    <tr>\n",
       "      <th>...</th>\n",
       "      <td>...</td>\n",
       "      <td>...</td>\n",
       "      <td>...</td>\n",
       "      <td>...</td>\n",
       "      <td>...</td>\n",
       "      <td>...</td>\n",
       "    </tr>\n",
       "    <tr>\n",
       "      <th>39</th>\n",
       "      <td>NaN</td>\n",
       "      <td>NaN</td>\n",
       "      <td>NaN</td>\n",
       "      <td>NaN</td>\n",
       "      <td>NaN</td>\n",
       "      <td>HC</td>\n",
       "    </tr>\n",
       "    <tr>\n",
       "      <th>40</th>\n",
       "      <td>NaN</td>\n",
       "      <td>NaN</td>\n",
       "      <td>NaN</td>\n",
       "      <td>NaN</td>\n",
       "      <td>NaN</td>\n",
       "      <td>SPMS</td>\n",
       "    </tr>\n",
       "    <tr>\n",
       "      <th>41</th>\n",
       "      <td>NaN</td>\n",
       "      <td>NaN</td>\n",
       "      <td>NaN</td>\n",
       "      <td>NaN</td>\n",
       "      <td>NaN</td>\n",
       "      <td>HC</td>\n",
       "    </tr>\n",
       "    <tr>\n",
       "      <th>42</th>\n",
       "      <td>NaN</td>\n",
       "      <td>NaN</td>\n",
       "      <td>NaN</td>\n",
       "      <td>NaN</td>\n",
       "      <td>NaN</td>\n",
       "      <td>HC</td>\n",
       "    </tr>\n",
       "    <tr>\n",
       "      <th>43</th>\n",
       "      <td>NaN</td>\n",
       "      <td>NaN</td>\n",
       "      <td>NaN</td>\n",
       "      <td>NaN</td>\n",
       "      <td>NaN</td>\n",
       "      <td>RRMS</td>\n",
       "    </tr>\n",
       "  </tbody>\n",
       "</table>\n",
       "<p>88 rows × 6 columns</p>\n",
       "</div>"
      ],
      "text/plain": [
       "        PC 1      PC 2      PC 3      PC 4      PC 5     0\n",
       "0   0.341121  5.984297  6.320483  5.370135 -1.731180   NaN\n",
       "1  -4.603462 -0.227437  0.819381 -1.570594 -0.723957   NaN\n",
       "2  -5.746078  1.581110 -0.466803 -0.346620  0.895387   NaN\n",
       "3   4.639196  0.836306 -2.061434 -1.145074 -0.189345   NaN\n",
       "4   6.657840  3.644073 -4.094392 -1.376094 -1.639155   NaN\n",
       "..       ...       ...       ...       ...       ...   ...\n",
       "39       NaN       NaN       NaN       NaN       NaN    HC\n",
       "40       NaN       NaN       NaN       NaN       NaN  SPMS\n",
       "41       NaN       NaN       NaN       NaN       NaN    HC\n",
       "42       NaN       NaN       NaN       NaN       NaN    HC\n",
       "43       NaN       NaN       NaN       NaN       NaN  RRMS\n",
       "\n",
       "[88 rows x 6 columns]"
      ]
     },
     "execution_count": 56,
     "metadata": {},
     "output_type": "execute_result"
    }
   ],
   "source": [
    "pd.concat([df_PCA_components, df_PCA_labels], "
   ]
  },
  {
   "cell_type": "code",
   "execution_count": 53,
   "metadata": {},
   "outputs": [
    {
     "ename": "ValueError",
     "evalue": "The truth value of an array with more than one element is ambiguous. Use a.any() or a.all()",
     "output_type": "error",
     "traceback": [
      "\u001b[0;31m---------------------------------------------------------------------------\u001b[0m",
      "\u001b[0;31mValueError\u001b[0m                                Traceback (most recent call last)",
      "\u001b[1;32m/home/forest/OneDrive/GitHub/CLMS_MRI/Analysis/analysis_fMRI.ipynb Cell 38\u001b[0m in \u001b[0;36m<cell line: 1>\u001b[0;34m()\u001b[0m\n\u001b[0;32m----> <a href='vscode-notebook-cell:/home/forest/OneDrive/GitHub/CLMS_MRI/Analysis/analysis_fMRI.ipynb#ch0000050?line=0'>1</a>\u001b[0m sns\u001b[39m.\u001b[39;49mpairplot(df_PCA_components, hue\u001b[39m=\u001b[39;49mdf_PCA_labels\u001b[39m.\u001b[39;49mvalues)\n",
      "File \u001b[0;32m~/anaconda3/envs/nipy/lib/python3.10/site-packages/seaborn/_decorators.py:46\u001b[0m, in \u001b[0;36m_deprecate_positional_args.<locals>.inner_f\u001b[0;34m(*args, **kwargs)\u001b[0m\n\u001b[1;32m     36\u001b[0m     warnings\u001b[39m.\u001b[39mwarn(\n\u001b[1;32m     37\u001b[0m         \u001b[39m\"\u001b[39m\u001b[39mPass the following variable\u001b[39m\u001b[39m{}\u001b[39;00m\u001b[39m as \u001b[39m\u001b[39m{}\u001b[39;00m\u001b[39mkeyword arg\u001b[39m\u001b[39m{}\u001b[39;00m\u001b[39m: \u001b[39m\u001b[39m{}\u001b[39;00m\u001b[39m. \u001b[39m\u001b[39m\"\u001b[39m\n\u001b[1;32m     38\u001b[0m         \u001b[39m\"\u001b[39m\u001b[39mFrom version 0.12, the only valid positional argument \u001b[39m\u001b[39m\"\u001b[39m\n\u001b[0;32m   (...)\u001b[0m\n\u001b[1;32m     43\u001b[0m         \u001b[39mFutureWarning\u001b[39;00m\n\u001b[1;32m     44\u001b[0m     )\n\u001b[1;32m     45\u001b[0m kwargs\u001b[39m.\u001b[39mupdate({k: arg \u001b[39mfor\u001b[39;00m k, arg \u001b[39min\u001b[39;00m \u001b[39mzip\u001b[39m(sig\u001b[39m.\u001b[39mparameters, args)})\n\u001b[0;32m---> 46\u001b[0m \u001b[39mreturn\u001b[39;00m f(\u001b[39m*\u001b[39;49m\u001b[39m*\u001b[39;49mkwargs)\n",
      "File \u001b[0;32m~/anaconda3/envs/nipy/lib/python3.10/site-packages/seaborn/axisgrid.py:2096\u001b[0m, in \u001b[0;36mpairplot\u001b[0;34m(data, hue, hue_order, palette, vars, x_vars, y_vars, kind, diag_kind, markers, height, aspect, corner, dropna, plot_kws, diag_kws, grid_kws, size)\u001b[0m\n\u001b[1;32m   2094\u001b[0m \u001b[39m# Set up the PairGrid\u001b[39;00m\n\u001b[1;32m   2095\u001b[0m grid_kws\u001b[39m.\u001b[39msetdefault(\u001b[39m\"\u001b[39m\u001b[39mdiag_sharey\u001b[39m\u001b[39m\"\u001b[39m, diag_kind \u001b[39m==\u001b[39m \u001b[39m\"\u001b[39m\u001b[39mhist\u001b[39m\u001b[39m\"\u001b[39m)\n\u001b[0;32m-> 2096\u001b[0m grid \u001b[39m=\u001b[39m PairGrid(data, \u001b[39mvars\u001b[39;49m\u001b[39m=\u001b[39;49m\u001b[39mvars\u001b[39;49m, x_vars\u001b[39m=\u001b[39;49mx_vars, y_vars\u001b[39m=\u001b[39;49my_vars, hue\u001b[39m=\u001b[39;49mhue,\n\u001b[1;32m   2097\u001b[0m                 hue_order\u001b[39m=\u001b[39;49mhue_order, palette\u001b[39m=\u001b[39;49mpalette, corner\u001b[39m=\u001b[39;49mcorner,\n\u001b[1;32m   2098\u001b[0m                 height\u001b[39m=\u001b[39;49mheight, aspect\u001b[39m=\u001b[39;49maspect, dropna\u001b[39m=\u001b[39;49mdropna, \u001b[39m*\u001b[39;49m\u001b[39m*\u001b[39;49mgrid_kws)\n\u001b[1;32m   2100\u001b[0m \u001b[39m# Add the markers here as PairGrid has figured out how many levels of the\u001b[39;00m\n\u001b[1;32m   2101\u001b[0m \u001b[39m# hue variable are needed and we don't want to duplicate that process\u001b[39;00m\n\u001b[1;32m   2102\u001b[0m \u001b[39mif\u001b[39;00m markers \u001b[39mis\u001b[39;00m \u001b[39mnot\u001b[39;00m \u001b[39mNone\u001b[39;00m:\n",
      "File \u001b[0;32m~/anaconda3/envs/nipy/lib/python3.10/site-packages/seaborn/_decorators.py:46\u001b[0m, in \u001b[0;36m_deprecate_positional_args.<locals>.inner_f\u001b[0;34m(*args, **kwargs)\u001b[0m\n\u001b[1;32m     36\u001b[0m     warnings\u001b[39m.\u001b[39mwarn(\n\u001b[1;32m     37\u001b[0m         \u001b[39m\"\u001b[39m\u001b[39mPass the following variable\u001b[39m\u001b[39m{}\u001b[39;00m\u001b[39m as \u001b[39m\u001b[39m{}\u001b[39;00m\u001b[39mkeyword arg\u001b[39m\u001b[39m{}\u001b[39;00m\u001b[39m: \u001b[39m\u001b[39m{}\u001b[39;00m\u001b[39m. \u001b[39m\u001b[39m\"\u001b[39m\n\u001b[1;32m     38\u001b[0m         \u001b[39m\"\u001b[39m\u001b[39mFrom version 0.12, the only valid positional argument \u001b[39m\u001b[39m\"\u001b[39m\n\u001b[0;32m   (...)\u001b[0m\n\u001b[1;32m     43\u001b[0m         \u001b[39mFutureWarning\u001b[39;00m\n\u001b[1;32m     44\u001b[0m     )\n\u001b[1;32m     45\u001b[0m kwargs\u001b[39m.\u001b[39mupdate({k: arg \u001b[39mfor\u001b[39;00m k, arg \u001b[39min\u001b[39;00m \u001b[39mzip\u001b[39m(sig\u001b[39m.\u001b[39mparameters, args)})\n\u001b[0;32m---> 46\u001b[0m \u001b[39mreturn\u001b[39;00m f(\u001b[39m*\u001b[39;49m\u001b[39m*\u001b[39;49mkwargs)\n",
      "File \u001b[0;32m~/anaconda3/envs/nipy/lib/python3.10/site-packages/seaborn/axisgrid.py:1213\u001b[0m, in \u001b[0;36mPairGrid.__init__\u001b[0;34m(self, data, hue, hue_order, palette, hue_kws, vars, x_vars, y_vars, corner, diag_sharey, height, aspect, layout_pad, despine, dropna, size)\u001b[0m\n\u001b[1;32m   1211\u001b[0m \u001b[39m# Sort out the variables that define the grid\u001b[39;00m\n\u001b[1;32m   1212\u001b[0m numeric_cols \u001b[39m=\u001b[39m \u001b[39mself\u001b[39m\u001b[39m.\u001b[39m_find_numeric_cols(data)\n\u001b[0;32m-> 1213\u001b[0m \u001b[39mif\u001b[39;00m hue \u001b[39min\u001b[39;49;00m numeric_cols:\n\u001b[1;32m   1214\u001b[0m     numeric_cols\u001b[39m.\u001b[39mremove(hue)\n\u001b[1;32m   1215\u001b[0m \u001b[39mif\u001b[39;00m \u001b[39mvars\u001b[39m \u001b[39mis\u001b[39;00m \u001b[39mnot\u001b[39;00m \u001b[39mNone\u001b[39;00m:\n",
      "\u001b[0;31mValueError\u001b[0m: The truth value of an array with more than one element is ambiguous. Use a.any() or a.all()"
     ]
    }
   ],
   "source": [
    "sns.pairplot(df_PCA_components, hue=df_PCA_labels.values)"
   ]
  },
  {
   "cell_type": "code",
   "execution_count": 31,
   "metadata": {},
   "outputs": [
    {
     "ename": "TypeError",
     "evalue": "TransformerMixin.fit_transform() missing 1 required positional argument: 'X'",
     "output_type": "error",
     "traceback": [
      "\u001b[0;31m---------------------------------------------------------------------------\u001b[0m",
      "\u001b[0;31mTypeError\u001b[0m                                 Traceback (most recent call last)",
      "\u001b[1;32m/home/forest/OneDrive/GitHub/CLMS_MRI/Analysis/analysis_fMRI.ipynb Cell 35\u001b[0m in \u001b[0;36m<cell line: 2>\u001b[0;34m()\u001b[0m\n\u001b[1;32m      <a href='vscode-notebook-cell:/home/forest/OneDrive/GitHub/CLMS_MRI/Analysis/analysis_fMRI.ipynb#ch0000045?line=0'>1</a>\u001b[0m \u001b[39m# scale data appropriately, try StandardScaler first\u001b[39;00m\n\u001b[0;32m----> <a href='vscode-notebook-cell:/home/forest/OneDrive/GitHub/CLMS_MRI/Analysis/analysis_fMRI.ipynb#ch0000045?line=1'>2</a>\u001b[0m df_PCA_scaled[df_PCA_scaled\u001b[39m.\u001b[39mcolumns] \u001b[39m=\u001b[39m StandardScaler()\u001b[39m.\u001b[39;49mfit_transform()\n",
      "\u001b[0;31mTypeError\u001b[0m: TransformerMixin.fit_transform() missing 1 required positional argument: 'X'"
     ]
    }
   ],
   "source": [
    "# scale data appropriately, try StandardScaler first\n",
    "df_PCA_scaled[df_PCA_scaled.columns] = StandardScaler().fit_transform()"
   ]
  },
  {
   "cell_type": "code",
   "execution_count": null,
   "metadata": {},
   "outputs": [
    {
     "data": {
      "text/html": [
       "<div>\n",
       "<style scoped>\n",
       "    .dataframe tbody tr th:only-of-type {\n",
       "        vertical-align: middle;\n",
       "    }\n",
       "\n",
       "    .dataframe tbody tr th {\n",
       "        vertical-align: top;\n",
       "    }\n",
       "\n",
       "    .dataframe thead th {\n",
       "        text-align: right;\n",
       "    }\n",
       "</style>\n",
       "<table border=\"1\" class=\"dataframe\">\n",
       "  <thead>\n",
       "    <tr style=\"text-align: right;\">\n",
       "      <th></th>\n",
       "      <th>AGE_YRS</th>\n",
       "      <th>EDU_YRS</th>\n",
       "      <th>HEIGHT_CM</th>\n",
       "      <th>WEIGHT_KG</th>\n",
       "      <th>HAND_SCORE</th>\n",
       "      <th>DOM_SEQ_TOT1</th>\n",
       "      <th>DOM_SEQ_ERR1</th>\n",
       "      <th>DOM_SEQ_COR1</th>\n",
       "      <th>NON_SEQ_TOT1</th>\n",
       "      <th>NON_SEQ_ERR1</th>\n",
       "      <th>NON_SEQ_COR1</th>\n",
       "      <th>BI_IN_TOT1</th>\n",
       "      <th>BI_IN_TOT1.1</th>\n",
       "      <th>BI_IN_COR1</th>\n",
       "      <th>BI_OUT_TOT1</th>\n",
       "      <th>BI_OUT_TOT1.1</th>\n",
       "      <th>BI_OUT_COR1</th>\n",
       "      <th>NON_SEQ_TOT2</th>\n",
       "      <th>NON_SEQ_ERR2</th>\n",
       "      <th>NON_SEQ_COR2</th>\n",
       "      <th>DOM_SEQ_TOT2</th>\n",
       "      <th>DOM_SEQ_ERR2</th>\n",
       "      <th>DOM_SEQ_COR2</th>\n",
       "      <th>BI_IN_TOT2</th>\n",
       "      <th>BI_IN_ERR2</th>\n",
       "      <th>BI_IN_COR2</th>\n",
       "      <th>BI_OUT_TOT2</th>\n",
       "      <th>BI_OUT_ERR2</th>\n",
       "      <th>BI_OUT_COR2</th>\n",
       "      <th>SING_RT_TOT</th>\n",
       "      <th>SING_LT_TOT</th>\n",
       "      <th>LT_MEA_COR</th>\n",
       "      <th>LT_TOT_ERR</th>\n",
       "      <th>RT_MEA_COR</th>\n",
       "      <th>RT_TOT_ERR</th>\n",
       "      <th>IN_MEA_COR</th>\n",
       "      <th>OUT_MEA_COR</th>\n",
       "      <th>SDM_COR</th>\n",
       "      <th>SDM_Z_MEA</th>\n",
       "      <th>SDM_Z_SD</th>\n",
       "      <th>SDM_Z_SCO</th>\n",
       "      <th>DSC_TOT_COR</th>\n",
       "      <th>DSC_TOT_ERR</th>\n",
       "      <th>DSC_TOT_SCO</th>\n",
       "      <th>DSC_SS</th>\n",
       "      <th>SYS_TOT_COR</th>\n",
       "      <th>SYS_TOT_ERR</th>\n",
       "      <th>SYS_TOT_SCO</th>\n",
       "      <th>SYS_SS</th>\n",
       "      <th>DSC_SYS_SS</th>\n",
       "      <th>PSI_SCO</th>\n",
       "      <th>PSI_PCT</th>\n",
       "      <th>MFIS_TEST</th>\n",
       "      <th>MFIS_TOT</th>\n",
       "      <th>MFIS_PHY</th>\n",
       "      <th>MFIS_COG</th>\n",
       "      <th>MFIS_PSY</th>\n",
       "      <th>BDI_TOT_SCO</th>\n",
       "      <th>TOL_COR_SCO</th>\n",
       "      <th>TOL_MOV_SCO</th>\n",
       "      <th>TOL_INI_TIM</th>\n",
       "      <th>TOL_EXE_TIM</th>\n",
       "      <th>TOL_TOT_TIM</th>\n",
       "      <th>TOL_TIM_VIO</th>\n",
       "      <th>TOL_TY1_VIO</th>\n",
       "      <th>TOL_TY2_VIO</th>\n",
       "      <th>TOL_TOT_VIO</th>\n",
       "      <th>TOL_STB_VIO</th>\n",
       "      <th>TOL_MOV_SS</th>\n",
       "      <th>TOL_COR_SS</th>\n",
       "      <th>TOL_RUV_SS</th>\n",
       "      <th>TOL_TIV_SS</th>\n",
       "      <th>TOL_INT_SS</th>\n",
       "      <th>TOL_EXT_SS</th>\n",
       "      <th>TOL_PRS_SS</th>\n",
       "      <th>AVERAGE</th>\n",
       "      <th>PAS3_TOT_COR</th>\n",
       "      <th>PAS3_PCT_COR</th>\n",
       "      <th>PAS3_Z_MEA</th>\n",
       "      <th>PAS3_Z_SD</th>\n",
       "      <th>PAS3_Z_SCO</th>\n",
       "      <th>PAS2_TOT_COR</th>\n",
       "      <th>PAS2_PCT_COR</th>\n",
       "      <th>PAS2_Z_MEA</th>\n",
       "      <th>PAS2_Z_SD</th>\n",
       "      <th>PAS2_Z_SCO</th>\n",
       "      <th>EDSS</th>\n",
       "      <th>FSS_VISUAL</th>\n",
       "      <th>FSS_BRSTEM</th>\n",
       "      <th>FSS_PYRAMID</th>\n",
       "      <th>FSS_SENSORY</th>\n",
       "      <th>FSS_BOWBLAD</th>\n",
       "      <th>FSS_CEREBRAL</th>\n",
       "      <th>SEX$_Female</th>\n",
       "      <th>SEX$_Male</th>\n",
       "      <th>MS_TYPE$_HC</th>\n",
       "      <th>MS_TYPE$_RRMS</th>\n",
       "      <th>MS_TYPE$_SPMS</th>\n",
       "    </tr>\n",
       "  </thead>\n",
       "  <tbody>\n",
       "    <tr>\n",
       "      <th>0</th>\n",
       "      <td>48.659822</td>\n",
       "      <td>14</td>\n",
       "      <td>177</td>\n",
       "      <td>79</td>\n",
       "      <td>77</td>\n",
       "      <td>145</td>\n",
       "      <td>1</td>\n",
       "      <td>144</td>\n",
       "      <td>106</td>\n",
       "      <td>5</td>\n",
       "      <td>101</td>\n",
       "      <td>96</td>\n",
       "      <td>69</td>\n",
       "      <td>27</td>\n",
       "      <td>28</td>\n",
       "      <td>3</td>\n",
       "      <td>25</td>\n",
       "      <td>115</td>\n",
       "      <td>1</td>\n",
       "      <td>114</td>\n",
       "      <td>77</td>\n",
       "      <td>0</td>\n",
       "      <td>77</td>\n",
       "      <td>91</td>\n",
       "      <td>56</td>\n",
       "      <td>35</td>\n",
       "      <td>42</td>\n",
       "      <td>3</td>\n",
       "      <td>39</td>\n",
       "      <td>214</td>\n",
       "      <td>199</td>\n",
       "      <td>111.0</td>\n",
       "      <td>1</td>\n",
       "      <td>110.5</td>\n",
       "      <td>6</td>\n",
       "      <td>31.0</td>\n",
       "      <td>32.0</td>\n",
       "      <td>56</td>\n",
       "      <td>58.31</td>\n",
       "      <td>8.67</td>\n",
       "      <td>-0.266436</td>\n",
       "      <td>68</td>\n",
       "      <td>0</td>\n",
       "      <td>68</td>\n",
       "      <td>10</td>\n",
       "      <td>29</td>\n",
       "      <td>1</td>\n",
       "      <td>28</td>\n",
       "      <td>9</td>\n",
       "      <td>19</td>\n",
       "      <td>96</td>\n",
       "      <td>39</td>\n",
       "      <td>1</td>\n",
       "      <td>41</td>\n",
       "      <td>27</td>\n",
       "      <td>11</td>\n",
       "      <td>3</td>\n",
       "      <td>14</td>\n",
       "      <td>5</td>\n",
       "      <td>30</td>\n",
       "      <td>144</td>\n",
       "      <td>215</td>\n",
       "      <td>359</td>\n",
       "      <td>2</td>\n",
       "      <td>0</td>\n",
       "      <td>0</td>\n",
       "      <td>0</td>\n",
       "      <td>0</td>\n",
       "      <td>100</td>\n",
       "      <td>106</td>\n",
       "      <td>104</td>\n",
       "      <td>78</td>\n",
       "      <td>134</td>\n",
       "      <td>100</td>\n",
       "      <td>90</td>\n",
       "      <td>101.714286</td>\n",
       "      <td>47</td>\n",
       "      <td>78.333333</td>\n",
       "      <td>50.4</td>\n",
       "      <td>9.7</td>\n",
       "      <td>-0.350515</td>\n",
       "      <td>37.0</td>\n",
       "      <td>61.666667</td>\n",
       "      <td>39.4</td>\n",
       "      <td>10.2</td>\n",
       "      <td>-0.235294</td>\n",
       "      <td>3.0</td>\n",
       "      <td>1.0</td>\n",
       "      <td>0.0</td>\n",
       "      <td>2.0</td>\n",
       "      <td>2.0</td>\n",
       "      <td>1.0</td>\n",
       "      <td>0.0</td>\n",
       "      <td>0</td>\n",
       "      <td>1</td>\n",
       "      <td>0</td>\n",
       "      <td>0</td>\n",
       "      <td>1</td>\n",
       "    </tr>\n",
       "    <tr>\n",
       "      <th>1</th>\n",
       "      <td>46.121834</td>\n",
       "      <td>16</td>\n",
       "      <td>152</td>\n",
       "      <td>62</td>\n",
       "      <td>18</td>\n",
       "      <td>128</td>\n",
       "      <td>5</td>\n",
       "      <td>123</td>\n",
       "      <td>118</td>\n",
       "      <td>0</td>\n",
       "      <td>118</td>\n",
       "      <td>87</td>\n",
       "      <td>3</td>\n",
       "      <td>84</td>\n",
       "      <td>29</td>\n",
       "      <td>0</td>\n",
       "      <td>29</td>\n",
       "      <td>122</td>\n",
       "      <td>0</td>\n",
       "      <td>122</td>\n",
       "      <td>136</td>\n",
       "      <td>0</td>\n",
       "      <td>136</td>\n",
       "      <td>88</td>\n",
       "      <td>7</td>\n",
       "      <td>81</td>\n",
       "      <td>33</td>\n",
       "      <td>1</td>\n",
       "      <td>32</td>\n",
       "      <td>89</td>\n",
       "      <td>79</td>\n",
       "      <td>120.0</td>\n",
       "      <td>0</td>\n",
       "      <td>132.0</td>\n",
       "      <td>5</td>\n",
       "      <td>82.5</td>\n",
       "      <td>30.5</td>\n",
       "      <td>68</td>\n",
       "      <td>58.31</td>\n",
       "      <td>8.67</td>\n",
       "      <td>1.117647</td>\n",
       "      <td>88</td>\n",
       "      <td>0</td>\n",
       "      <td>88</td>\n",
       "      <td>14</td>\n",
       "      <td>48</td>\n",
       "      <td>0</td>\n",
       "      <td>48</td>\n",
       "      <td>17</td>\n",
       "      <td>31</td>\n",
       "      <td>131</td>\n",
       "      <td>98</td>\n",
       "      <td>1</td>\n",
       "      <td>41</td>\n",
       "      <td>25</td>\n",
       "      <td>11</td>\n",
       "      <td>5</td>\n",
       "      <td>6</td>\n",
       "      <td>4</td>\n",
       "      <td>25</td>\n",
       "      <td>25</td>\n",
       "      <td>199</td>\n",
       "      <td>224</td>\n",
       "      <td>1</td>\n",
       "      <td>0</td>\n",
       "      <td>0</td>\n",
       "      <td>0</td>\n",
       "      <td>0</td>\n",
       "      <td>106</td>\n",
       "      <td>100</td>\n",
       "      <td>104</td>\n",
       "      <td>92</td>\n",
       "      <td>92</td>\n",
       "      <td>102</td>\n",
       "      <td>104</td>\n",
       "      <td>100.000000</td>\n",
       "      <td>54</td>\n",
       "      <td>90.000000</td>\n",
       "      <td>50.4</td>\n",
       "      <td>9.7</td>\n",
       "      <td>0.371134</td>\n",
       "      <td>33.0</td>\n",
       "      <td>55.000000</td>\n",
       "      <td>39.4</td>\n",
       "      <td>10.2</td>\n",
       "      <td>-0.627451</td>\n",
       "      <td>5.5</td>\n",
       "      <td>1.0</td>\n",
       "      <td>1.0</td>\n",
       "      <td>4.0</td>\n",
       "      <td>3.0</td>\n",
       "      <td>2.0</td>\n",
       "      <td>1.0</td>\n",
       "      <td>1</td>\n",
       "      <td>0</td>\n",
       "      <td>0</td>\n",
       "      <td>0</td>\n",
       "      <td>1</td>\n",
       "    </tr>\n",
       "    <tr>\n",
       "      <th>2</th>\n",
       "      <td>38.214921</td>\n",
       "      <td>15</td>\n",
       "      <td>165</td>\n",
       "      <td>102</td>\n",
       "      <td>18</td>\n",
       "      <td>141</td>\n",
       "      <td>6</td>\n",
       "      <td>135</td>\n",
       "      <td>119</td>\n",
       "      <td>1</td>\n",
       "      <td>118</td>\n",
       "      <td>101</td>\n",
       "      <td>9</td>\n",
       "      <td>92</td>\n",
       "      <td>29</td>\n",
       "      <td>2</td>\n",
       "      <td>27</td>\n",
       "      <td>108</td>\n",
       "      <td>0</td>\n",
       "      <td>108</td>\n",
       "      <td>144</td>\n",
       "      <td>0</td>\n",
       "      <td>144</td>\n",
       "      <td>108</td>\n",
       "      <td>21</td>\n",
       "      <td>87</td>\n",
       "      <td>42</td>\n",
       "      <td>4</td>\n",
       "      <td>38</td>\n",
       "      <td>93</td>\n",
       "      <td>86</td>\n",
       "      <td>113.5</td>\n",
       "      <td>1</td>\n",
       "      <td>142.5</td>\n",
       "      <td>6</td>\n",
       "      <td>89.5</td>\n",
       "      <td>32.5</td>\n",
       "      <td>61</td>\n",
       "      <td>60.95</td>\n",
       "      <td>11.32</td>\n",
       "      <td>0.004417</td>\n",
       "      <td>84</td>\n",
       "      <td>0</td>\n",
       "      <td>84</td>\n",
       "      <td>12</td>\n",
       "      <td>45</td>\n",
       "      <td>0</td>\n",
       "      <td>45</td>\n",
       "      <td>15</td>\n",
       "      <td>27</td>\n",
       "      <td>120</td>\n",
       "      <td>91</td>\n",
       "      <td>1</td>\n",
       "      <td>21</td>\n",
       "      <td>13</td>\n",
       "      <td>7</td>\n",
       "      <td>1</td>\n",
       "      <td>11</td>\n",
       "      <td>6</td>\n",
       "      <td>21</td>\n",
       "      <td>65</td>\n",
       "      <td>150</td>\n",
       "      <td>215</td>\n",
       "      <td>0</td>\n",
       "      <td>0</td>\n",
       "      <td>0</td>\n",
       "      <td>0</td>\n",
       "      <td>0</td>\n",
       "      <td>106</td>\n",
       "      <td>108</td>\n",
       "      <td>104</td>\n",
       "      <td>108</td>\n",
       "      <td>104</td>\n",
       "      <td>108</td>\n",
       "      <td>104</td>\n",
       "      <td>106.000000</td>\n",
       "      <td>59</td>\n",
       "      <td>98.333333</td>\n",
       "      <td>50.4</td>\n",
       "      <td>9.7</td>\n",
       "      <td>0.886598</td>\n",
       "      <td>50.0</td>\n",
       "      <td>83.333333</td>\n",
       "      <td>39.4</td>\n",
       "      <td>10.2</td>\n",
       "      <td>1.039216</td>\n",
       "      <td>1.0</td>\n",
       "      <td>0.0</td>\n",
       "      <td>0.0</td>\n",
       "      <td>0.0</td>\n",
       "      <td>1.0</td>\n",
       "      <td>0.0</td>\n",
       "      <td>0.0</td>\n",
       "      <td>1</td>\n",
       "      <td>0</td>\n",
       "      <td>0</td>\n",
       "      <td>1</td>\n",
       "      <td>0</td>\n",
       "    </tr>\n",
       "    <tr>\n",
       "      <th>3</th>\n",
       "      <td>49.785079</td>\n",
       "      <td>14</td>\n",
       "      <td>185</td>\n",
       "      <td>90</td>\n",
       "      <td>20</td>\n",
       "      <td>87</td>\n",
       "      <td>0</td>\n",
       "      <td>87</td>\n",
       "      <td>74</td>\n",
       "      <td>0</td>\n",
       "      <td>74</td>\n",
       "      <td>46</td>\n",
       "      <td>0</td>\n",
       "      <td>46</td>\n",
       "      <td>17</td>\n",
       "      <td>0</td>\n",
       "      <td>17</td>\n",
       "      <td>79</td>\n",
       "      <td>0</td>\n",
       "      <td>79</td>\n",
       "      <td>92</td>\n",
       "      <td>0</td>\n",
       "      <td>92</td>\n",
       "      <td>41</td>\n",
       "      <td>1</td>\n",
       "      <td>40</td>\n",
       "      <td>23</td>\n",
       "      <td>0</td>\n",
       "      <td>23</td>\n",
       "      <td>69</td>\n",
       "      <td>62</td>\n",
       "      <td>76.5</td>\n",
       "      <td>0</td>\n",
       "      <td>89.5</td>\n",
       "      <td>0</td>\n",
       "      <td>43.0</td>\n",
       "      <td>20.0</td>\n",
       "      <td>48</td>\n",
       "      <td>58.31</td>\n",
       "      <td>8.67</td>\n",
       "      <td>-1.189158</td>\n",
       "      <td>47</td>\n",
       "      <td>0</td>\n",
       "      <td>47</td>\n",
       "      <td>6</td>\n",
       "      <td>25</td>\n",
       "      <td>0</td>\n",
       "      <td>25</td>\n",
       "      <td>9</td>\n",
       "      <td>15</td>\n",
       "      <td>86</td>\n",
       "      <td>18</td>\n",
       "      <td>1</td>\n",
       "      <td>50</td>\n",
       "      <td>25</td>\n",
       "      <td>21</td>\n",
       "      <td>4</td>\n",
       "      <td>8</td>\n",
       "      <td>2</td>\n",
       "      <td>47</td>\n",
       "      <td>36</td>\n",
       "      <td>271</td>\n",
       "      <td>307</td>\n",
       "      <td>0</td>\n",
       "      <td>0</td>\n",
       "      <td>0</td>\n",
       "      <td>0</td>\n",
       "      <td>0</td>\n",
       "      <td>86</td>\n",
       "      <td>88</td>\n",
       "      <td>104</td>\n",
       "      <td>108</td>\n",
       "      <td>96</td>\n",
       "      <td>94</td>\n",
       "      <td>96</td>\n",
       "      <td>96.000000</td>\n",
       "      <td>54</td>\n",
       "      <td>90.000000</td>\n",
       "      <td>50.4</td>\n",
       "      <td>9.7</td>\n",
       "      <td>0.371134</td>\n",
       "      <td>46.0</td>\n",
       "      <td>76.666667</td>\n",
       "      <td>39.4</td>\n",
       "      <td>10.2</td>\n",
       "      <td>0.647059</td>\n",
       "      <td>6.5</td>\n",
       "      <td>1.0</td>\n",
       "      <td>2.0</td>\n",
       "      <td>5.0</td>\n",
       "      <td>3.0</td>\n",
       "      <td>1.0</td>\n",
       "      <td>1.0</td>\n",
       "      <td>0</td>\n",
       "      <td>1</td>\n",
       "      <td>0</td>\n",
       "      <td>0</td>\n",
       "      <td>1</td>\n",
       "    </tr>\n",
       "    <tr>\n",
       "      <th>4</th>\n",
       "      <td>40.454483</td>\n",
       "      <td>12</td>\n",
       "      <td>185</td>\n",
       "      <td>88</td>\n",
       "      <td>50</td>\n",
       "      <td>81</td>\n",
       "      <td>3</td>\n",
       "      <td>78</td>\n",
       "      <td>55</td>\n",
       "      <td>1</td>\n",
       "      <td>54</td>\n",
       "      <td>41</td>\n",
       "      <td>4</td>\n",
       "      <td>37</td>\n",
       "      <td>26</td>\n",
       "      <td>4</td>\n",
       "      <td>22</td>\n",
       "      <td>50</td>\n",
       "      <td>0</td>\n",
       "      <td>50</td>\n",
       "      <td>78</td>\n",
       "      <td>1</td>\n",
       "      <td>77</td>\n",
       "      <td>40</td>\n",
       "      <td>8</td>\n",
       "      <td>32</td>\n",
       "      <td>29</td>\n",
       "      <td>1</td>\n",
       "      <td>28</td>\n",
       "      <td>57</td>\n",
       "      <td>76</td>\n",
       "      <td>79.5</td>\n",
       "      <td>4</td>\n",
       "      <td>52.5</td>\n",
       "      <td>1</td>\n",
       "      <td>34.5</td>\n",
       "      <td>25.0</td>\n",
       "      <td>46</td>\n",
       "      <td>59.87</td>\n",
       "      <td>10.49</td>\n",
       "      <td>-1.322212</td>\n",
       "      <td>45</td>\n",
       "      <td>0</td>\n",
       "      <td>45</td>\n",
       "      <td>5</td>\n",
       "      <td>30</td>\n",
       "      <td>1</td>\n",
       "      <td>29</td>\n",
       "      <td>9</td>\n",
       "      <td>14</td>\n",
       "      <td>84</td>\n",
       "      <td>14</td>\n",
       "      <td>1</td>\n",
       "      <td>45</td>\n",
       "      <td>23</td>\n",
       "      <td>17</td>\n",
       "      <td>5</td>\n",
       "      <td>12</td>\n",
       "      <td>2</td>\n",
       "      <td>26</td>\n",
       "      <td>46</td>\n",
       "      <td>177</td>\n",
       "      <td>223</td>\n",
       "      <td>0</td>\n",
       "      <td>0</td>\n",
       "      <td>0</td>\n",
       "      <td>0</td>\n",
       "      <td>0</td>\n",
       "      <td>104</td>\n",
       "      <td>88</td>\n",
       "      <td>104</td>\n",
       "      <td>108</td>\n",
       "      <td>98</td>\n",
       "      <td>106</td>\n",
       "      <td>106</td>\n",
       "      <td>102.000000</td>\n",
       "      <td>16</td>\n",
       "      <td>26.666667</td>\n",
       "      <td>46.7</td>\n",
       "      <td>9.1</td>\n",
       "      <td>-3.373626</td>\n",
       "      <td>0.0</td>\n",
       "      <td>0.000000</td>\n",
       "      <td>35.1</td>\n",
       "      <td>9.6</td>\n",
       "      <td>-3.656250</td>\n",
       "      <td>4.0</td>\n",
       "      <td>0.0</td>\n",
       "      <td>1.0</td>\n",
       "      <td>3.0</td>\n",
       "      <td>2.0</td>\n",
       "      <td>1.0</td>\n",
       "      <td>0.0</td>\n",
       "      <td>0</td>\n",
       "      <td>1</td>\n",
       "      <td>0</td>\n",
       "      <td>0</td>\n",
       "      <td>1</td>\n",
       "    </tr>\n",
       "  </tbody>\n",
       "</table>\n",
       "</div>"
      ],
      "text/plain": [
       "     AGE_YRS  EDU_YRS  HEIGHT_CM  WEIGHT_KG  HAND_SCORE  DOM_SEQ_TOT1  \\\n",
       "0  48.659822       14        177         79          77           145   \n",
       "1  46.121834       16        152         62          18           128   \n",
       "2  38.214921       15        165        102          18           141   \n",
       "3  49.785079       14        185         90          20            87   \n",
       "4  40.454483       12        185         88          50            81   \n",
       "\n",
       "   DOM_SEQ_ERR1  DOM_SEQ_COR1  NON_SEQ_TOT1  NON_SEQ_ERR1  NON_SEQ_COR1  \\\n",
       "0             1           144           106             5           101   \n",
       "1             5           123           118             0           118   \n",
       "2             6           135           119             1           118   \n",
       "3             0            87            74             0            74   \n",
       "4             3            78            55             1            54   \n",
       "\n",
       "   BI_IN_TOT1  BI_IN_TOT1.1  BI_IN_COR1  BI_OUT_TOT1  BI_OUT_TOT1.1  \\\n",
       "0          96            69          27           28              3   \n",
       "1          87             3          84           29              0   \n",
       "2         101             9          92           29              2   \n",
       "3          46             0          46           17              0   \n",
       "4          41             4          37           26              4   \n",
       "\n",
       "   BI_OUT_COR1  NON_SEQ_TOT2  NON_SEQ_ERR2  NON_SEQ_COR2  DOM_SEQ_TOT2  \\\n",
       "0           25           115             1           114            77   \n",
       "1           29           122             0           122           136   \n",
       "2           27           108             0           108           144   \n",
       "3           17            79             0            79            92   \n",
       "4           22            50             0            50            78   \n",
       "\n",
       "   DOM_SEQ_ERR2  DOM_SEQ_COR2  BI_IN_TOT2  BI_IN_ERR2  BI_IN_COR2  \\\n",
       "0             0            77          91          56          35   \n",
       "1             0           136          88           7          81   \n",
       "2             0           144         108          21          87   \n",
       "3             0            92          41           1          40   \n",
       "4             1            77          40           8          32   \n",
       "\n",
       "   BI_OUT_TOT2  BI_OUT_ERR2  BI_OUT_COR2  SING_RT_TOT  SING_LT_TOT  \\\n",
       "0           42            3           39          214          199   \n",
       "1           33            1           32           89           79   \n",
       "2           42            4           38           93           86   \n",
       "3           23            0           23           69           62   \n",
       "4           29            1           28           57           76   \n",
       "\n",
       "   LT_MEA_COR  LT_TOT_ERR  RT_MEA_COR  RT_TOT_ERR  IN_MEA_COR  OUT_MEA_COR  \\\n",
       "0       111.0           1       110.5           6        31.0         32.0   \n",
       "1       120.0           0       132.0           5        82.5         30.5   \n",
       "2       113.5           1       142.5           6        89.5         32.5   \n",
       "3        76.5           0        89.5           0        43.0         20.0   \n",
       "4        79.5           4        52.5           1        34.5         25.0   \n",
       "\n",
       "   SDM_COR  SDM_Z_MEA  SDM_Z_SD  SDM_Z_SCO  DSC_TOT_COR  DSC_TOT_ERR  \\\n",
       "0       56      58.31      8.67  -0.266436           68            0   \n",
       "1       68      58.31      8.67   1.117647           88            0   \n",
       "2       61      60.95     11.32   0.004417           84            0   \n",
       "3       48      58.31      8.67  -1.189158           47            0   \n",
       "4       46      59.87     10.49  -1.322212           45            0   \n",
       "\n",
       "   DSC_TOT_SCO  DSC_SS  SYS_TOT_COR  SYS_TOT_ERR  SYS_TOT_SCO  SYS_SS  \\\n",
       "0           68      10           29            1           28       9   \n",
       "1           88      14           48            0           48      17   \n",
       "2           84      12           45            0           45      15   \n",
       "3           47       6           25            0           25       9   \n",
       "4           45       5           30            1           29       9   \n",
       "\n",
       "   DSC_SYS_SS  PSI_SCO  PSI_PCT  MFIS_TEST  MFIS_TOT  MFIS_PHY  MFIS_COG  \\\n",
       "0          19       96       39          1        41        27        11   \n",
       "1          31      131       98          1        41        25        11   \n",
       "2          27      120       91          1        21        13         7   \n",
       "3          15       86       18          1        50        25        21   \n",
       "4          14       84       14          1        45        23        17   \n",
       "\n",
       "   MFIS_PSY  BDI_TOT_SCO  TOL_COR_SCO  TOL_MOV_SCO  TOL_INI_TIM  TOL_EXE_TIM  \\\n",
       "0         3           14            5           30          144          215   \n",
       "1         5            6            4           25           25          199   \n",
       "2         1           11            6           21           65          150   \n",
       "3         4            8            2           47           36          271   \n",
       "4         5           12            2           26           46          177   \n",
       "\n",
       "   TOL_TOT_TIM  TOL_TIM_VIO  TOL_TY1_VIO  TOL_TY2_VIO  TOL_TOT_VIO  \\\n",
       "0          359            2            0            0            0   \n",
       "1          224            1            0            0            0   \n",
       "2          215            0            0            0            0   \n",
       "3          307            0            0            0            0   \n",
       "4          223            0            0            0            0   \n",
       "\n",
       "   TOL_STB_VIO  TOL_MOV_SS  TOL_COR_SS  TOL_RUV_SS  TOL_TIV_SS  TOL_INT_SS  \\\n",
       "0            0         100         106         104          78         134   \n",
       "1            0         106         100         104          92          92   \n",
       "2            0         106         108         104         108         104   \n",
       "3            0          86          88         104         108          96   \n",
       "4            0         104          88         104         108          98   \n",
       "\n",
       "   TOL_EXT_SS  TOL_PRS_SS     AVERAGE  PAS3_TOT_COR  PAS3_PCT_COR  PAS3_Z_MEA  \\\n",
       "0         100          90  101.714286            47     78.333333        50.4   \n",
       "1         102         104  100.000000            54     90.000000        50.4   \n",
       "2         108         104  106.000000            59     98.333333        50.4   \n",
       "3          94          96   96.000000            54     90.000000        50.4   \n",
       "4         106         106  102.000000            16     26.666667        46.7   \n",
       "\n",
       "   PAS3_Z_SD  PAS3_Z_SCO  PAS2_TOT_COR  PAS2_PCT_COR  PAS2_Z_MEA  PAS2_Z_SD  \\\n",
       "0        9.7   -0.350515          37.0     61.666667        39.4       10.2   \n",
       "1        9.7    0.371134          33.0     55.000000        39.4       10.2   \n",
       "2        9.7    0.886598          50.0     83.333333        39.4       10.2   \n",
       "3        9.7    0.371134          46.0     76.666667        39.4       10.2   \n",
       "4        9.1   -3.373626           0.0      0.000000        35.1        9.6   \n",
       "\n",
       "   PAS2_Z_SCO  EDSS  FSS_VISUAL  FSS_BRSTEM  FSS_PYRAMID  FSS_SENSORY  \\\n",
       "0   -0.235294   3.0         1.0         0.0          2.0          2.0   \n",
       "1   -0.627451   5.5         1.0         1.0          4.0          3.0   \n",
       "2    1.039216   1.0         0.0         0.0          0.0          1.0   \n",
       "3    0.647059   6.5         1.0         2.0          5.0          3.0   \n",
       "4   -3.656250   4.0         0.0         1.0          3.0          2.0   \n",
       "\n",
       "   FSS_BOWBLAD  FSS_CEREBRAL  SEX$_Female  SEX$_Male  MS_TYPE$_HC  \\\n",
       "0          1.0           0.0            0          1            0   \n",
       "1          2.0           1.0            1          0            0   \n",
       "2          0.0           0.0            1          0            0   \n",
       "3          1.0           1.0            0          1            0   \n",
       "4          1.0           0.0            0          1            0   \n",
       "\n",
       "   MS_TYPE$_RRMS  MS_TYPE$_SPMS  \n",
       "0              0              1  \n",
       "1              0              1  \n",
       "2              1              0  \n",
       "3              0              1  \n",
       "4              0              1  "
      ]
     },
     "execution_count": 24,
     "metadata": {},
     "output_type": "execute_result"
    }
   ],
   "source": [
    "# one-hot encode the categorical columns for gender and MS type\n",
    "df_neuropsych_for_PCA = pd.get_dummies(df_neuropsych, columns = ['SEX$', 'MS_TYPE$'])\n",
    "\n",
    "# drop non-numeric columns\n",
    "df_neuropsych_for_PCA = df_neuropsych_for_PCA._get_numeric_data()\n",
    "\n",
    "# drop the unnamed columns\n",
    "df_neuropsych_for_PCA = df_neuropsych_for_PCA.drop(['Unnamed: 0'], axis=1)\n",
    "\n",
    "df_neuropsych_for_PCA.head(5)"
   ]
  },
  {
   "cell_type": "code",
   "execution_count": null,
   "metadata": {},
   "outputs": [
    {
     "data": {
      "text/plain": [
       "(44, 98)"
      ]
     },
     "execution_count": 35,
     "metadata": {},
     "output_type": "execute_result"
    }
   ],
   "source": [
    "df_neuropsych_for_PCA.shape"
   ]
  },
  {
   "cell_type": "code",
   "execution_count": null,
   "metadata": {},
   "outputs": [],
   "source": [
    "### Scale & Perform PCA\n"
   ]
  },
  {
   "cell_type": "code",
   "execution_count": null,
   "metadata": {},
   "outputs": [],
   "source": []
  },
  {
   "cell_type": "code",
   "execution_count": null,
   "metadata": {},
   "outputs": [],
   "source": []
  },
  {
   "cell_type": "markdown",
   "metadata": {},
   "source": [
    "# Functional Image Data - PLS Cross Validation"
   ]
  },
  {
   "cell_type": "code",
   "execution_count": null,
   "metadata": {},
   "outputs": [],
   "source": [
    "from sys import stdout\n",
    "import numpy as np\n",
    "import pandas as pd\n",
    "import matplotlib.pyplot as plt\n",
    "\n",
    "from sklearn.cross_decomposition import PLSRegression\n",
    "from sklearn.model_selection import cross_val_predict\n",
    "from sklearn.metrics import mean_squared_error, r2_score\n"
   ]
  },
  {
   "cell_type": "code",
   "execution_count": null,
   "metadata": {},
   "outputs": [],
   "source": [
    "\n",
    "#datamat = pd.read_csv('../datamat.csv', sep='\\t', header=None)\n",
    "#behavmat = pd.read_csv('../behavmat.csv', sep='\\t', header=None)\n",
    "#behav_names = pd.read_csv('../behavnames.csv', sep='\\t', header=None)"
   ]
  },
  {
   "cell_type": "code",
   "execution_count": null,
   "metadata": {},
   "outputs": [],
   "source": [
    "# load data exported from MATLAB\n",
    "x = np.genfromtxt('../datamat.csv', delimiter='\\t')\n",
    "y = np.genfromtxt('../behavmat.csv', delimiter='\\t')\n",
    "behav_names = pd.read_csv('../behavnames.csv', sep='\\t', header=None)"
   ]
  },
  {
   "cell_type": "code",
   "execution_count": null,
   "metadata": {},
   "outputs": [
    {
     "name": "stdout",
     "output_type": "stream",
     "text": [
      "(42, 8646)\n",
      "(42, 13)\n"
     ]
    }
   ],
   "source": [
    "print(x.shape)\n",
    "print(y.shape)"
   ]
  },
  {
   "cell_type": "code",
   "execution_count": null,
   "metadata": {},
   "outputs": [],
   "source": [
    "# Define PLS object\n",
    "pls = PLSRegression(n_components=5)\n",
    " \n",
    "# Fit\n",
    "pls.fit(x, y)\n",
    "\n",
    "# Cross-validation\n",
    "y_cv = cross_val_predict(pls, x, y, cv=10)\n",
    " \n",
    "# Calculate scores\n",
    "score = r2_score(y, y_cv)\n",
    "mse = mean_squared_error(y, y_cv)"
   ]
  },
  {
   "cell_type": "code",
   "execution_count": null,
   "metadata": {},
   "outputs": [],
   "source": [
    "def optimise_pls_cv(X, y, n_comp, plot_components=True):\n",
    " \n",
    "    '''Run PLS including a variable number of components, up to n_comp,\n",
    "       and calculate MSE '''\n",
    " \n",
    "    mse = []\n",
    "    component = np.arange(1, n_comp)\n",
    " \n",
    "    for i in component:\n",
    "        pls = PLSRegression(n_components=i)\n",
    " \n",
    "        # Cross-validation\n",
    "        y_cv = cross_val_predict(pls, X, y, cv=10)\n",
    " \n",
    "        mse.append(mean_squared_error(y, y_cv))\n",
    " \n",
    "        comp = 100*(i+1)/40\n",
    "        # Trick to update status on the same line\n",
    "        stdout.write(\"\\r%d%% completed\" % comp)\n",
    "        stdout.flush()\n",
    "    stdout.write(\"\\n\")\n",
    " \n",
    "    # Calculate and print the position of minimum in MSE\n",
    "    msemin = np.argmin(mse)\n",
    "    print(\"Suggested number of components: \", msemin+1)\n",
    "    stdout.write(\"\\n\")\n",
    " \n",
    "    if plot_components is True:\n",
    "        with plt.style.context(('ggplot')):\n",
    "            plt.plot(component, np.array(mse), '-v', color = 'blue', mfc='blue')\n",
    "            plt.plot(component[msemin], np.array(mse)[msemin], 'P', ms=10, mfc='red')\n",
    "            plt.xlabel('Number of PLS components')\n",
    "            plt.ylabel('MSE')\n",
    "            plt.title('PLS')\n",
    "            plt.xlim(left=-1)\n",
    " \n",
    "        plt.show()\n",
    " \n",
    "    # Define PLS object with optimal number of components\n",
    "    pls_opt = PLSRegression(n_components=msemin+1)\n",
    " \n",
    "    # Fir to the entire dataset\n",
    "    pls_opt.fit(X, y)\n",
    "    y_c = pls_opt.predict(X)\n",
    " \n",
    "    # Cross-validation\n",
    "    y_cv = cross_val_predict(pls_opt, X, y, cv=10)\n",
    " \n",
    "    # Calculate scores for calibration and cross-validation\n",
    "    score_c = r2_score(y, y_c)\n",
    "    score_cv = r2_score(y, y_cv)\n",
    " \n",
    "    # Calculate mean squared error for calibration and cross validation\n",
    "    mse_c = mean_squared_error(y, y_c)\n",
    "    mse_cv = mean_squared_error(y, y_cv)\n",
    " \n",
    "    print('R2 calib: %5.3f'  % score_c)\n",
    "    print('R2 CV: %5.3f'  % score_cv)\n",
    "    print('MSE calib: %5.3f' % mse_c)\n",
    "    print('MSE CV: %5.3f' % mse_cv)\n",
    " \n",
    "    # Plot regression and figures of merit\n",
    "    rangey = max(y) - min(y)\n",
    "    rangex = max(y_c) - min(y_c)\n",
    " \n",
    "    # Fit a line to the CV vs response\n",
    "    z = np.polyfit(y, y_c, 1)\n",
    "    with plt.style.context(('ggplot')):\n",
    "        fig, ax = plt.subplots(figsize=(9, 5))\n",
    "        ax.scatter(y_c, y, c='red', edgecolors='k')\n",
    "        #Plot the best fit line\n",
    "        ax.plot(np.polyval(z,y), y, c='blue', linewidth=1)\n",
    "        #Plot the ideal 1:1 line\n",
    "        ax.plot(y, y, color='green', linewidth=1)\n",
    "        plt.title('$R^{2}$ (CV): '+str(score_cv))\n",
    "        plt.xlabel('Predicted $^{\\circ}$Brix')\n",
    "        plt.ylabel('Measured $^{\\circ}$Brix')\n",
    " \n",
    "        plt.show()\n",
    " \n",
    "    return\n"
   ]
  },
  {
   "cell_type": "code",
   "execution_count": null,
   "metadata": {},
   "outputs": [
    {
     "name": "stdout",
     "output_type": "stream",
     "text": [
      "92% completed"
     ]
    },
    {
     "name": "stderr",
     "output_type": "stream",
     "text": [
      "/home/forest/anaconda3/envs/nipy/lib/python3.10/site-packages/sklearn/cross_decomposition/_pls.py:304: UserWarning: Y residual is constant at iteration 36\n",
      "  warnings.warn(f\"Y residual is constant at iteration {k}\")\n",
      "/home/forest/anaconda3/envs/nipy/lib/python3.10/site-packages/sklearn/cross_decomposition/_pls.py:304: UserWarning: Y residual is constant at iteration 36\n",
      "  warnings.warn(f\"Y residual is constant at iteration {k}\")\n"
     ]
    },
    {
     "name": "stdout",
     "output_type": "stream",
     "text": [
      "95% completed"
     ]
    },
    {
     "name": "stderr",
     "output_type": "stream",
     "text": [
      "/home/forest/anaconda3/envs/nipy/lib/python3.10/site-packages/sklearn/cross_decomposition/_pls.py:304: UserWarning: Y residual is constant at iteration 36\n",
      "  warnings.warn(f\"Y residual is constant at iteration {k}\")\n",
      "/home/forest/anaconda3/envs/nipy/lib/python3.10/site-packages/sklearn/cross_decomposition/_pls.py:304: UserWarning: Y residual is constant at iteration 36\n",
      "  warnings.warn(f\"Y residual is constant at iteration {k}\")\n",
      "/home/forest/anaconda3/envs/nipy/lib/python3.10/site-packages/sklearn/cross_decomposition/_pls.py:304: UserWarning: Y residual is constant at iteration 37\n",
      "  warnings.warn(f\"Y residual is constant at iteration {k}\")\n",
      "/home/forest/anaconda3/envs/nipy/lib/python3.10/site-packages/sklearn/cross_decomposition/_pls.py:304: UserWarning: Y residual is constant at iteration 37\n",
      "  warnings.warn(f\"Y residual is constant at iteration {k}\")\n",
      "/home/forest/anaconda3/envs/nipy/lib/python3.10/site-packages/sklearn/cross_decomposition/_pls.py:304: UserWarning: Y residual is constant at iteration 37\n",
      "  warnings.warn(f\"Y residual is constant at iteration {k}\")\n",
      "/home/forest/anaconda3/envs/nipy/lib/python3.10/site-packages/sklearn/cross_decomposition/_pls.py:304: UserWarning: Y residual is constant at iteration 37\n",
      "  warnings.warn(f\"Y residual is constant at iteration {k}\")\n",
      "/home/forest/anaconda3/envs/nipy/lib/python3.10/site-packages/sklearn/cross_decomposition/_pls.py:304: UserWarning: Y residual is constant at iteration 37\n",
      "  warnings.warn(f\"Y residual is constant at iteration {k}\")\n",
      "/home/forest/anaconda3/envs/nipy/lib/python3.10/site-packages/sklearn/cross_decomposition/_pls.py:304: UserWarning: Y residual is constant at iteration 37\n",
      "  warnings.warn(f\"Y residual is constant at iteration {k}\")\n"
     ]
    },
    {
     "name": "stdout",
     "output_type": "stream",
     "text": [
      "97% completed"
     ]
    },
    {
     "name": "stderr",
     "output_type": "stream",
     "text": [
      "/home/forest/anaconda3/envs/nipy/lib/python3.10/site-packages/sklearn/cross_decomposition/_pls.py:304: UserWarning: Y residual is constant at iteration 37\n",
      "  warnings.warn(f\"Y residual is constant at iteration {k}\")\n",
      "/home/forest/anaconda3/envs/nipy/lib/python3.10/site-packages/sklearn/cross_decomposition/_pls.py:304: UserWarning: Y residual is constant at iteration 37\n",
      "  warnings.warn(f\"Y residual is constant at iteration {k}\")\n",
      "/home/forest/anaconda3/envs/nipy/lib/python3.10/site-packages/sklearn/cross_decomposition/_pls.py:304: UserWarning: Y residual is constant at iteration 36\n",
      "  warnings.warn(f\"Y residual is constant at iteration {k}\")\n",
      "/home/forest/anaconda3/envs/nipy/lib/python3.10/site-packages/sklearn/cross_decomposition/_pls.py:304: UserWarning: Y residual is constant at iteration 36\n",
      "  warnings.warn(f\"Y residual is constant at iteration {k}\")\n",
      "/home/forest/anaconda3/envs/nipy/lib/python3.10/site-packages/sklearn/cross_decomposition/_pls.py:304: UserWarning: Y residual is constant at iteration 37\n",
      "  warnings.warn(f\"Y residual is constant at iteration {k}\")\n",
      "/home/forest/anaconda3/envs/nipy/lib/python3.10/site-packages/sklearn/cross_decomposition/_pls.py:304: UserWarning: Y residual is constant at iteration 37\n",
      "  warnings.warn(f\"Y residual is constant at iteration {k}\")\n",
      "/home/forest/anaconda3/envs/nipy/lib/python3.10/site-packages/sklearn/cross_decomposition/_pls.py:304: UserWarning: Y residual is constant at iteration 37\n",
      "  warnings.warn(f\"Y residual is constant at iteration {k}\")\n",
      "/home/forest/anaconda3/envs/nipy/lib/python3.10/site-packages/sklearn/cross_decomposition/_pls.py:304: UserWarning: Y residual is constant at iteration 37\n",
      "  warnings.warn(f\"Y residual is constant at iteration {k}\")\n",
      "/home/forest/anaconda3/envs/nipy/lib/python3.10/site-packages/sklearn/cross_decomposition/_pls.py:304: UserWarning: Y residual is constant at iteration 37\n",
      "  warnings.warn(f\"Y residual is constant at iteration {k}\")\n",
      "/home/forest/anaconda3/envs/nipy/lib/python3.10/site-packages/sklearn/cross_decomposition/_pls.py:304: UserWarning: Y residual is constant at iteration 37\n",
      "  warnings.warn(f\"Y residual is constant at iteration {k}\")\n",
      "/home/forest/anaconda3/envs/nipy/lib/python3.10/site-packages/sklearn/cross_decomposition/_pls.py:304: UserWarning: Y residual is constant at iteration 37\n",
      "  warnings.warn(f\"Y residual is constant at iteration {k}\")\n"
     ]
    },
    {
     "name": "stdout",
     "output_type": "stream",
     "text": [
      "100% completed\n",
      "Suggested number of components:  1\n",
      "\n"
     ]
    },
    {
     "name": "stderr",
     "output_type": "stream",
     "text": [
      "/home/forest/anaconda3/envs/nipy/lib/python3.10/site-packages/sklearn/cross_decomposition/_pls.py:304: UserWarning: Y residual is constant at iteration 37\n",
      "  warnings.warn(f\"Y residual is constant at iteration {k}\")\n"
     ]
    },
    {
     "data": {
      "image/png": "[encoded data removed]",
      "text/plain": [
       "<Figure size 432x288 with 1 Axes>"
      ]
     },
     "metadata": {},
     "output_type": "display_data"
    },
    {
     "name": "stdout",
     "output_type": "stream",
     "text": [
      "R2 calib: 0.195\n",
      "R2 CV: -0.044\n",
      "MSE calib: 0.786\n",
      "MSE CV: 1.019\n"
     ]
    },
    {
     "ename": "ValueError",
     "evalue": "The truth value of an array with more than one element is ambiguous. Use a.any() or a.all()",
     "output_type": "error",
     "traceback": [
      "\u001b[0;31m---------------------------------------------------------------------------\u001b[0m",
      "\u001b[0;31mValueError\u001b[0m                                Traceback (most recent call last)",
      "\u001b[1;32m/home/forest/OneDrive/GitHub/CLMS_MRI/Analysis/analysis_fMRI.ipynb Cell 39\u001b[0m in \u001b[0;36m<cell line: 1>\u001b[0;34m()\u001b[0m\n\u001b[0;32m----> <a href='vscode-notebook-cell:/home/forest/OneDrive/GitHub/CLMS_MRI/Analysis/analysis_fMRI.ipynb#ch0000038?line=0'>1</a>\u001b[0m optimise_pls_cv(x,y, \u001b[39m40\u001b[39;49m, plot_components\u001b[39m=\u001b[39;49m\u001b[39mTrue\u001b[39;49;00m)\n",
      "\u001b[1;32m/home/forest/OneDrive/GitHub/CLMS_MRI/Analysis/analysis_fMRI.ipynb Cell 39\u001b[0m in \u001b[0;36moptimise_pls_cv\u001b[0;34m(X, y, n_comp, plot_components)\u001b[0m\n\u001b[1;32m     <a href='vscode-notebook-cell:/home/forest/OneDrive/GitHub/CLMS_MRI/Analysis/analysis_fMRI.ipynb#ch0000038?line=59'>60</a>\u001b[0m \u001b[39mprint\u001b[39m(\u001b[39m'\u001b[39m\u001b[39mMSE CV: \u001b[39m\u001b[39m%5.3f\u001b[39;00m\u001b[39m'\u001b[39m \u001b[39m%\u001b[39m mse_cv)\n\u001b[1;32m     <a href='vscode-notebook-cell:/home/forest/OneDrive/GitHub/CLMS_MRI/Analysis/analysis_fMRI.ipynb#ch0000038?line=61'>62</a>\u001b[0m \u001b[39m# Plot regression and figures of merit\u001b[39;00m\n\u001b[0;32m---> <a href='vscode-notebook-cell:/home/forest/OneDrive/GitHub/CLMS_MRI/Analysis/analysis_fMRI.ipynb#ch0000038?line=62'>63</a>\u001b[0m rangey \u001b[39m=\u001b[39m \u001b[39mmax\u001b[39;49m(y) \u001b[39m-\u001b[39m \u001b[39mmin\u001b[39m(y)\n\u001b[1;32m     <a href='vscode-notebook-cell:/home/forest/OneDrive/GitHub/CLMS_MRI/Analysis/analysis_fMRI.ipynb#ch0000038?line=63'>64</a>\u001b[0m rangex \u001b[39m=\u001b[39m \u001b[39mmax\u001b[39m(y_c) \u001b[39m-\u001b[39m \u001b[39mmin\u001b[39m(y_c)\n\u001b[1;32m     <a href='vscode-notebook-cell:/home/forest/OneDrive/GitHub/CLMS_MRI/Analysis/analysis_fMRI.ipynb#ch0000038?line=65'>66</a>\u001b[0m \u001b[39m# Fit a line to the CV vs response\u001b[39;00m\n",
      "\u001b[0;31mValueError\u001b[0m: The truth value of an array with more than one element is ambiguous. Use a.any() or a.all()"
     ]
    }
   ],
   "source": [
    "optimise_pls_cv(x,y, 40, plot_components=True)\n"
   ]
  },
  {
   "cell_type": "code",
   "execution_count": null,
   "metadata": {},
   "outputs": [],
   "source": []
  }
 ],
 "metadata": {
  "kernelspec": {
   "display_name": "Python 3.10.4 ('nipy')",
   "language": "python",
   "name": "python3"
  },
  "language_info": {
   "codemirror_mode": {
    "name": "ipython",
    "version": 3
   },
   "file_extension": ".py",
   "mimetype": "text/x-python",
   "name": "python",
   "nbconvert_exporter": "python",
   "pygments_lexer": "ipython3",
   "version": "3.10.4"
  },
  "orig_nbformat": 4,
  "vscode": {
   "interpreter": {
    "hash": "23523a722653173d2bfb6e8c396c89deae59f6dda60bbe859c8a52b09e8ed76c"
   }
  }
 },
 "nbformat": 4,
 "nbformat_minor": 2
}
